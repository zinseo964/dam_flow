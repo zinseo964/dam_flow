{
  "nbformat": 4,
  "nbformat_minor": 0,
  "metadata": {
    "colab": {
      "provenance": []
    },
    "kernelspec": {
      "name": "python3",
      "display_name": "Python 3"
    },
    "language_info": {
      "name": "python"
    }
  },
  "cells": [
    {
      "cell_type": "code",
      "execution_count": null,
      "metadata": {
        "id": "eh9FG4N_F9vS"
      },
      "outputs": [],
      "source": [
        "import pandas as pd\n",
        "import numpy as np\n",
        "import matplotlib.pyplot as plt\n",
        "import tensorflow as tf\n",
        "import os"
      ]
    },
    {
      "cell_type": "code",
      "source": [
        "from google.colab import drive\n",
        "drive.mount('/content/drive')"
      ],
      "metadata": {
        "colab": {
          "base_uri": "https://localhost:8080/"
        },
        "id": "dIQ5esK-hRjj",
        "outputId": "8aec7792-d404-47fc-c50d-edddd6424fe2"
      },
      "execution_count": null,
      "outputs": [
        {
          "output_type": "stream",
          "name": "stdout",
          "text": [
            "Drive already mounted at /content/drive; to attempt to forcibly remount, call drive.mount(\"/content/drive\", force_remount=True).\n"
          ]
        }
      ]
    },
    {
      "cell_type": "code",
      "source": [
        "rain_data211 = pd.read_csv('/content/drive/MyDrive/Colab Notebooks/dam_flow_csv/rn_20240130172151.csv',encoding='cp949')\n",
        "rain_data101 = pd.read_csv('/content/drive/MyDrive/Colab Notebooks/dam_flow_csv/rn_20240130172202.csv',encoding='cp949')\n",
        "rain_data100 = pd.read_csv('/content/drive/MyDrive/Colab Notebooks/dam_flow_csv/rn_20240130172215.csv',encoding='cp949')\n",
        "rain_data212 = pd.read_csv('/content/drive/MyDrive/Colab Notebooks/dam_flow_csv/rn_20240130172236.csv',encoding='cp949')\n",
        "rain_data90 = pd.read_csv('/content/drive/MyDrive/Colab Notebooks/dam_flow_csv/rn_20240130172245.csv',encoding='cp949')"
      ],
      "metadata": {
        "id": "sTCa--h7JmNi"
      },
      "execution_count": null,
      "outputs": []
    },
    {
      "cell_type": "code",
      "source": [
        "# rain_data = pd.merge(rain_data211, rain_data101, how='outer')\n",
        "from functools import reduce\n",
        "\n",
        "rain_data = reduce(lambda x,y : pd.merge(x,y, on='날짜', how='outer'),[rain_data211, rain_data101, rain_data100, rain_data212, rain_data90])"
      ],
      "metadata": {
        "id": "DprPaZgXh3BR"
      },
      "execution_count": null,
      "outputs": []
    },
    {
      "cell_type": "code",
      "source": [
        "print(rain_data)"
      ],
      "metadata": {
        "colab": {
          "base_uri": "https://localhost:8080/"
        },
        "id": "waugWhK5jpk0",
        "outputId": "98ad634c-f9b6-47ce-d917-3dd5837ec26b"
      },
      "execution_count": null,
      "outputs": [
        {
          "output_type": "stream",
          "name": "stdout",
          "text": [
            "              날짜  211강수량(mm)  101강수량(mm)  100강수량(mm)  212강수량(mm)  90강수량(mm)\n",
            "0     2009-01-01         NaN         NaN         NaN         NaN        NaN\n",
            "1     2009-01-02         NaN         NaN         NaN         NaN        NaN\n",
            "2     2009-01-03         NaN         NaN         NaN         NaN        NaN\n",
            "3     2009-01-04         NaN         NaN         NaN         NaN        NaN\n",
            "4     2009-01-05         NaN         NaN         NaN         NaN        NaN\n",
            "...          ...         ...         ...         ...         ...        ...\n",
            "5473  2023-12-27         NaN         NaN         NaN         NaN        NaN\n",
            "5474  2023-12-28         NaN         NaN         NaN         NaN        NaN\n",
            "5475  2023-12-29         NaN         NaN         NaN         NaN        NaN\n",
            "5476  2023-12-30         6.8         9.9         2.3         8.5        0.7\n",
            "5477  2023-12-31         3.1         5.3         6.0         4.9       26.8\n",
            "\n",
            "[5478 rows x 6 columns]\n"
          ]
        }
      ]
    },
    {
      "cell_type": "code",
      "source": [
        "rain_col = [i for i in rain_data.columns if '강수' in i]\n",
        "rain_data[rain_col] = rain_data[rain_col].fillna(0)"
      ],
      "metadata": {
        "id": "4k7gESlaGIju"
      },
      "execution_count": null,
      "outputs": []
    },
    {
      "cell_type": "code",
      "source": [
        "print(rain_data.isna().sum().sum())\n",
        "print(rain_data)"
      ],
      "metadata": {
        "colab": {
          "base_uri": "https://localhost:8080/"
        },
        "id": "GBzXaW-6jr8I",
        "outputId": "89db0682-437b-4da1-9b85-1343604a2780"
      },
      "execution_count": null,
      "outputs": [
        {
          "output_type": "stream",
          "name": "stdout",
          "text": [
            "0\n",
            "              날짜  211강수량(mm)  101강수량(mm)  100강수량(mm)  212강수량(mm)  90강수량(mm)\n",
            "0     2009-01-01         0.0         0.0         0.0         0.0        0.0\n",
            "1     2009-01-02         0.0         0.0         0.0         0.0        0.0\n",
            "2     2009-01-03         0.0         0.0         0.0         0.0        0.0\n",
            "3     2009-01-04         0.0         0.0         0.0         0.0        0.0\n",
            "4     2009-01-05         0.0         0.0         0.0         0.0        0.0\n",
            "...          ...         ...         ...         ...         ...        ...\n",
            "5473  2023-12-27         0.0         0.0         0.0         0.0        0.0\n",
            "5474  2023-12-28         0.0         0.0         0.0         0.0        0.0\n",
            "5475  2023-12-29         0.0         0.0         0.0         0.0        0.0\n",
            "5476  2023-12-30         6.8         9.9         2.3         8.5        0.7\n",
            "5477  2023-12-31         3.1         5.3         6.0         4.9       26.8\n",
            "\n",
            "[5478 rows x 6 columns]\n"
          ]
        }
      ]
    },
    {
      "cell_type": "code",
      "source": [
        "dam_flow = pd.read_csv('/content/drive/MyDrive/Colab Notebooks/dam_flow_csv/only_dam_flow.csv',encoding='utf-8')\n",
        "\n",
        "print(dam_flow)"
      ],
      "metadata": {
        "colab": {
          "base_uri": "https://localhost:8080/"
        },
        "id": "tQH3R_pfSahE",
        "outputId": "fc57203b-e232-4171-fb43-00490529f9b0"
      },
      "execution_count": null,
      "outputs": [
        {
          "output_type": "stream",
          "name": "stdout",
          "text": [
            "              날짜  유입량(㎥/s)\n",
            "0     2009-01-01     0.000\n",
            "1     2009-01-02     0.825\n",
            "2     2009-01-03     3.904\n",
            "3     2009-01-04     0.000\n",
            "4     2009-01-05     0.000\n",
            "...          ...       ...\n",
            "5473  2023-12-27    25.873\n",
            "5474  2023-12-28    21.186\n",
            "5475  2023-12-29    20.887\n",
            "5476  2023-12-30    29.183\n",
            "5477  2023-12-31    25.803\n",
            "\n",
            "[5478 rows x 2 columns]\n"
          ]
        }
      ]
    },
    {
      "cell_type": "code",
      "source": [
        "data = reduce(lambda x,y : pd.merge(x,y, on='날짜', how='outer'),[rain_data, dam_flow])"
      ],
      "metadata": {
        "id": "Fwa1qTrISbHS"
      },
      "execution_count": null,
      "outputs": []
    },
    {
      "cell_type": "code",
      "source": [
        "print(max(data['유입량(㎥/s)']))"
      ],
      "metadata": {
        "colab": {
          "base_uri": "https://localhost:8080/"
        },
        "id": "QxdBO2OwZnlQ",
        "outputId": "537ae64a-9bd2-47b8-cfea-a9114f206625"
      },
      "execution_count": null,
      "outputs": [
        {
          "output_type": "stream",
          "name": "stdout",
          "text": [
            "3918.5\n"
          ]
        }
      ]
    },
    {
      "cell_type": "code",
      "source": [
        "data.index = pd.to_datetime(data['날짜'])\n",
        "\n",
        "dam_flow = data['유입량(㎥/s)']\n",
        "dam_flow.plot()"
      ],
      "metadata": {
        "colab": {
          "base_uri": "https://localhost:8080/",
          "height": 614
        },
        "id": "9gfzXmBUcDWP",
        "outputId": "73a4f951-ada5-4ab3-b070-7bf1e2a8d06e"
      },
      "execution_count": null,
      "outputs": [
        {
          "output_type": "execute_result",
          "data": {
            "text/plain": [
              "<Axes: xlabel='날짜'>"
            ]
          },
          "metadata": {},
          "execution_count": 11
        },
        {
          "output_type": "stream",
          "name": "stderr",
          "text": [
            "/usr/local/lib/python3.10/dist-packages/IPython/core/events.py:89: UserWarning: Glyph 45216 (\\N{HANGUL SYLLABLE NAL}) missing from current font.\n",
            "  func(*args, **kwargs)\n",
            "/usr/local/lib/python3.10/dist-packages/IPython/core/events.py:89: UserWarning: Glyph 51676 (\\N{HANGUL SYLLABLE JJA}) missing from current font.\n",
            "  func(*args, **kwargs)\n",
            "/usr/local/lib/python3.10/dist-packages/IPython/core/pylabtools.py:151: UserWarning: Glyph 45216 (\\N{HANGUL SYLLABLE NAL}) missing from current font.\n",
            "  fig.canvas.print_figure(bytes_io, **kw)\n",
            "/usr/local/lib/python3.10/dist-packages/IPython/core/pylabtools.py:151: UserWarning: Glyph 51676 (\\N{HANGUL SYLLABLE JJA}) missing from current font.\n",
            "  fig.canvas.print_figure(bytes_io, **kw)\n"
          ]
        },
        {
          "output_type": "display_data",
          "data": {
            "text/plain": [
              "<Figure size 640x480 with 1 Axes>"
            ],
            "image/png": "[encoded data removed]"
          },
          "metadata": {}
        }
      ]
    },
    {
      "cell_type": "code",
      "source": [
        "data['Y'] = data['유입량(㎥/s)'].shift(-2)\n",
        "data = data.dropna()\n",
        "\n",
        "train = data[data['날짜']<'2018-01-01']\n",
        "valid = data[data['날짜']>='2018-01-01']\n",
        "valid = valid[valid['날짜']<'2023-01-01']\n",
        "test = data[data['날짜']>='2023-01-01']\n",
        "print('train set : ', len(train),\"\\n\",\n",
        "      'valid set : ', len(valid), \"\\n\",\n",
        "      'test set : ', len(test), \"\\n\")\n",
        "\n",
        "trainX, trainY = train.drop(['날짜', 'Y'], axis = 1), train['Y']\n",
        "validX, validY = valid.drop(['날짜', 'Y'], axis = 1), valid['Y']\n",
        "testX, testY = test.drop(['날짜', 'Y'], axis = 1), test['Y']"
      ],
      "metadata": {
        "colab": {
          "base_uri": "https://localhost:8080/"
        },
        "id": "SXCFT5roZt-x",
        "outputId": "fd2498b8-361b-4ce8-dc8c-4c507907cf36"
      },
      "execution_count": null,
      "outputs": [
        {
          "output_type": "stream",
          "name": "stdout",
          "text": [
            "train set :  3287 \n",
            " valid set :  1826 \n",
            " test set :  363 \n",
            "\n"
          ]
        }
      ]
    },
    {
      "cell_type": "code",
      "source": [
        "# ## Parameter Setting For Training\n",
        "# TRAIN_SPLIT = 3285\n",
        "# BATCH_SIZE = 64\n",
        "# BUFFER_SIZE = 10000\n",
        "\n",
        "# ## Parameter in Training\n",
        "# EVALUATION_INTERVAL = 200\n",
        "# EPOCHS = 10\n",
        "\n",
        "# tf.random.set_seed(13)"
      ],
      "metadata": {
        "id": "59MP-G6QcM-Y"
      },
      "execution_count": null,
      "outputs": []
    },
    {
      "cell_type": "code",
      "source": [
        "len(trainX.columns)\n"
      ],
      "metadata": {
        "colab": {
          "base_uri": "https://localhost:8080/"
        },
        "id": "_NasIIN5cMrq",
        "outputId": "c3c2af9f-45a2-4d25-850f-dec2d5dee3ac"
      },
      "execution_count": null,
      "outputs": [
        {
          "output_type": "execute_result",
          "data": {
            "text/plain": [
              "6"
            ]
          },
          "metadata": {},
          "execution_count": 14
        }
      ]
    },
    {
      "cell_type": "code",
      "source": [
        "import tensorflow as tf\n",
        "from tensorflow import keras\n",
        "from tensorflow.keras import layers\n",
        "from keras.callbacks import ModelCheckpoint, EarlyStopping, ReduceLROnPlateau"
      ],
      "metadata": {
        "id": "vmqdghl2KSv3"
      },
      "execution_count": null,
      "outputs": []
    },
    {
      "cell_type": "code",
      "source": [
        "inputs_1 = tf.keras.Input(shape=6)\n",
        "dense = tf.keras.layers.Dense(50)(inputs_1)\n",
        "dense = tf.keras.layers.Dense(50)(dense)\n",
        "dense = tf.keras.layers.Dense(50)(dense)\n",
        "dense = tf.keras.layers.Dense(50)(dense)\n",
        "output = tf.keras.layers.Dense(1)(dense)\n",
        "\n",
        "model = tf.keras.Model(inputs = [inputs_1], outputs = output)\n",
        "\n",
        "optimizer = tf.keras.optimizers.Adam(learning_rate = 0.001)\n",
        "model.compile(loss='mse', optimizer=optimizer)\n",
        "model.summary()"
      ],
      "metadata": {
        "colab": {
          "base_uri": "https://localhost:8080/"
        },
        "id": "SEmZKUvuKStf",
        "outputId": "228486a8-de31-4661-d036-9e3be1eb32f5"
      },
      "execution_count": null,
      "outputs": [
        {
          "output_type": "stream",
          "name": "stdout",
          "text": [
            "Model: \"model\"\n",
            "_________________________________________________________________\n",
            " Layer (type)                Output Shape              Param #   \n",
            "=================================================================\n",
            " input_1 (InputLayer)        [(None, 6)]               0         \n",
            "                                                                 \n",
            " dense (Dense)               (None, 50)                350       \n",
            "                                                                 \n",
            " dense_1 (Dense)             (None, 50)                2550      \n",
            "                                                                 \n",
            " dense_2 (Dense)             (None, 50)                2550      \n",
            "                                                                 \n",
            " dense_3 (Dense)             (None, 50)                2550      \n",
            "                                                                 \n",
            " dense_4 (Dense)             (None, 1)                 51        \n",
            "                                                                 \n",
            "=================================================================\n",
            "Total params: 8051 (31.45 KB)\n",
            "Trainable params: 8051 (31.45 KB)\n",
            "Non-trainable params: 0 (0.00 Byte)\n",
            "_________________________________________________________________\n"
          ]
        }
      ]
    },
    {
      "cell_type": "code",
      "source": [
        "path_checkpoint = 'checkpoint.keras'\n",
        "\n",
        "callback_checkpoint = ModelCheckpoint (filepath = path_checkpoint, monitor = 'val_loss',verbose = 1,save_weights_only = True, save_best_only = True)\n",
        "callback_early_stopping = EarlyStopping(monitor='val_loss', patience = 10, verbose = 0)\n",
        "callback_reduce_lr = ReduceLROnPlateau(monitor='loss', factor = 0.1, patience = 1, verbose = 1)\n",
        "\n",
        "callbacks = [callback_early_stopping,\n",
        "             callback_checkpoint,\n",
        "             callback_reduce_lr]\n",
        "\n",
        "hist = model.fit(trainX, trainY, validation_data=(validX, validY), epochs = 200, batch_size=1, callbacks=callbacks, verbose=1)\n",
        "\n",
        "fig, loss_ax = plt.subplots()\n",
        "\n",
        "loss_ax.plot(hist.history['loss'], 'y', label='train loss')\n",
        "loss_ax.plot(hist.history['val_loss'], 'r', label='val loss')\n",
        "\n",
        "loss_ax.set_xlabel('epoch')\n",
        "loss_ax.set_ylabel('loss')\n",
        "\n",
        "loss_ax.legend(loc='upper left')\n",
        "\n",
        "plt.show()"
      ],
      "metadata": {
        "colab": {
          "base_uri": "https://localhost:8080/"
        },
        "id": "hH1L-P6AKSrH",
        "outputId": "fa35157f-9c15-4c7b-de2c-862625969545"
      },
      "execution_count": null,
      "outputs": [
        {
          "output_type": "stream",
          "name": "stdout",
          "text": [
            "Epoch 1/200\n",
            "1241/3287 [==========>...................] - ETA: 12s - loss: 58199.6133"
          ]
        }
      ]
    },
    {
      "cell_type": "code",
      "source": [
        "test['날짜'].iloc[0]"
      ],
      "metadata": {
        "id": "T04IM1RhKSnt"
      },
      "execution_count": null,
      "outputs": []
    },
    {
      "cell_type": "code",
      "source": [
        "time = pd.to_datetime(test['날짜'])"
      ],
      "metadata": {
        "id": "wEguZs51KSg7"
      },
      "execution_count": null,
      "outputs": []
    },
    {
      "cell_type": "code",
      "source": [
        "pred = model.predict(testX)\n",
        "plt.figure(figsize = (15,3))\n",
        "plt.plot(time, testY.reset_index()['Y'])\n",
        "plt.plot(time, pred)\n",
        "plt.ylabel('유입량')\n",
        "plt.legend(['real', 'predict'])"
      ],
      "metadata": {
        "id": "xQFdo1pWKSZS"
      },
      "execution_count": null,
      "outputs": []
    },
    {
      "cell_type": "code",
      "source": [
        "print('RMSE = ',round((((testY.values-[i[0] for i in pred])**2).sum()/len(pred))**0.5,4))"
      ],
      "metadata": {
        "id": "RvVXQOCIKSIA"
      },
      "execution_count": null,
      "outputs": []
    }
  ]
}