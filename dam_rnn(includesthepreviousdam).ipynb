{
  "nbformat": 4,
  "nbformat_minor": 0,
  "metadata": {
    "colab": {
      "provenance": [],
      "authorship_tag": "ABX9TyNVJ5QctW7aQTwyfJIYZM/O",
      "include_colab_link": true
    },
    "kernelspec": {
      "name": "python3",
      "display_name": "Python 3"
    },
    "language_info": {
      "name": "python"
    }
  },
  "cells": [
    {
      "cell_type": "markdown",
      "metadata": {
        "id": "view-in-github",
        "colab_type": "text"
      },
      "source": [
        "<a href=\"https://colab.research.google.com/github/zinseo964/dam_flow/blob/main/dam_rnn(includesthepreviousdam).ipynb\" target=\"_parent\"><img src=\"https://colab.research.google.com/assets/colab-badge.svg\" alt=\"Open In Colab\"/></a>"
      ]
    },
    {
      "cell_type": "code",
      "execution_count": 1,
      "metadata": {
        "colab": {
          "base_uri": "https://localhost:8080/"
        },
        "id": "GQo1Ioqzm9dq",
        "outputId": "ee5bac53-224e-475f-d898-3be8951573cb"
      },
      "outputs": [
        {
          "output_type": "stream",
          "name": "stdout",
          "text": [
            "Mounted at /content/drive\n"
          ]
        }
      ],
      "source": [
        "\"\"\" RNN dam flow prediction: stacked RNN \"\"\"\n",
        "\n",
        "# import libraries\n",
        "import numpy as np\n",
        "import pandas as pd\n",
        "from tensorflow.keras.models import Sequential\n",
        "from tensorflow.keras.layers import LSTM, Dense, Flatten\n",
        "from tensorflow.keras.optimizers import Adam\n",
        "from sklearn.preprocessing import StandardScaler, MinMaxScaler\n",
        "import matplotlib.pyplot as plt\n",
        "\n",
        "from google.colab import drive\n",
        "drive.mount('/content/drive')"
      ]
    },
    {
      "cell_type": "code",
      "source": [
        "rain_data = pd.read_csv('/content/drive/MyDrive/240410/rain_day.csv', encoding='utf-8')\n",
        "dam_data = pd.read_csv('/content/drive/MyDrive/240410/total_dam.csv', encoding='utf-8')"
      ],
      "metadata": {
        "id": "NHfpFZhV1KrZ"
      },
      "execution_count": 2,
      "outputs": []
    },
    {
      "cell_type": "code",
      "source": [
        "data = []"
      ],
      "metadata": {
        "id": "ZOSc9aW_NTX_"
      },
      "execution_count": 3,
      "outputs": []
    },
    {
      "cell_type": "code",
      "source": [
        "dam_data = dam_data.drop('Unnamed: 0', axis = 1)"
      ],
      "metadata": {
        "id": "pqbh4uMo27f3"
      },
      "execution_count": 4,
      "outputs": []
    },
    {
      "cell_type": "code",
      "source": [],
      "metadata": {
        "colab": {
          "base_uri": "https://localhost:8080/",
          "height": 263
        },
        "id": "dxpKYS2Fi-uw",
        "outputId": "481e5baf-9493-4cf8-d95f-5d396285f964"
      },
      "execution_count": 48,
      "outputs": [
        {
          "output_type": "error",
          "ename": "AttributeError",
          "evalue": "'Series' object has no attribute 'concat'",
          "traceback": [
            "\u001b[0;31m---------------------------------------------------------------------------\u001b[0m",
            "\u001b[0;31mAttributeError\u001b[0m                            Traceback (most recent call last)",
            "\u001b[0;32m<ipython-input-48-b933cc4584a1>\u001b[0m in \u001b[0;36m<cell line: 1>\u001b[0;34m()\u001b[0m\n\u001b[0;32m----> 1\u001b[0;31m \u001b[0mdam_data\u001b[0m\u001b[0;34m[\u001b[0m\u001b[0;34m'dam'\u001b[0m\u001b[0;34m]\u001b[0m\u001b[0;34m.\u001b[0m\u001b[0mconcat\u001b[0m\u001b[0;34m(\u001b[0m\u001b[0;36m0\u001b[0m\u001b[0;34m)\u001b[0m\u001b[0;34m\u001b[0m\u001b[0;34m\u001b[0m\u001b[0m\n\u001b[0m",
            "\u001b[0;32m/usr/local/lib/python3.10/dist-packages/pandas/core/generic.py\u001b[0m in \u001b[0;36m__getattr__\u001b[0;34m(self, name)\u001b[0m\n\u001b[1;32m   5987\u001b[0m         ):\n\u001b[1;32m   5988\u001b[0m             \u001b[0;32mreturn\u001b[0m \u001b[0mself\u001b[0m\u001b[0;34m[\u001b[0m\u001b[0mname\u001b[0m\u001b[0;34m]\u001b[0m\u001b[0;34m\u001b[0m\u001b[0;34m\u001b[0m\u001b[0m\n\u001b[0;32m-> 5989\u001b[0;31m         \u001b[0;32mreturn\u001b[0m \u001b[0mobject\u001b[0m\u001b[0;34m.\u001b[0m\u001b[0m__getattribute__\u001b[0m\u001b[0;34m(\u001b[0m\u001b[0mself\u001b[0m\u001b[0;34m,\u001b[0m \u001b[0mname\u001b[0m\u001b[0;34m)\u001b[0m\u001b[0;34m\u001b[0m\u001b[0;34m\u001b[0m\u001b[0m\n\u001b[0m\u001b[1;32m   5990\u001b[0m \u001b[0;34m\u001b[0m\u001b[0m\n\u001b[1;32m   5991\u001b[0m     \u001b[0;32mdef\u001b[0m \u001b[0m__setattr__\u001b[0m\u001b[0;34m(\u001b[0m\u001b[0mself\u001b[0m\u001b[0;34m,\u001b[0m \u001b[0mname\u001b[0m\u001b[0;34m:\u001b[0m \u001b[0mstr\u001b[0m\u001b[0;34m,\u001b[0m \u001b[0mvalue\u001b[0m\u001b[0;34m)\u001b[0m \u001b[0;34m->\u001b[0m \u001b[0;32mNone\u001b[0m\u001b[0;34m:\u001b[0m\u001b[0;34m\u001b[0m\u001b[0;34m\u001b[0m\u001b[0m\n",
            "\u001b[0;31mAttributeError\u001b[0m: 'Series' object has no attribute 'concat'"
          ]
        }
      ]
    },
    {
      "cell_type": "code",
      "source": [
        "data = pd.merge( dam_data,rain_data, on='date', how='inner')"
      ],
      "metadata": {
        "id": "cdLeO4e24q26"
      },
      "execution_count": 5,
      "outputs": []
    },
    {
      "cell_type": "code",
      "source": [
        "data = data.fillna(0)"
      ],
      "metadata": {
        "id": "_dHIpEd22O2E"
      },
      "execution_count": 6,
      "outputs": []
    },
    {
      "cell_type": "code",
      "source": [
        "print(data)"
      ],
      "metadata": {
        "colab": {
          "base_uri": "https://localhost:8080/"
        },
        "id": "8LCkdpxW4q0W",
        "outputId": "5de472ea-2c6d-4339-e0be-0feb38504206"
      },
      "execution_count": 7,
      "outputs": [
        {
          "output_type": "stream",
          "name": "stdout",
          "text": [
            "             date     dam    90  100  101  211  212\n",
            "0      1974-01-01  10.000   0.0  0.0  0.0  0.0  0.0\n",
            "1      1974-01-02   9.000   0.0  0.0  0.0  0.0  0.0\n",
            "2      1974-01-03   4.800   0.0  0.0  0.0  0.0  0.0\n",
            "3      1974-01-04   6.100   0.0  0.0  0.0  0.0  0.0\n",
            "4      1974-01-05   5.800   0.0  0.0  0.0  0.0  0.0\n",
            "...           ...     ...   ...  ...  ...  ...  ...\n",
            "18257  2023-12-27  25.873   0.0  0.0  0.0  0.0  0.0\n",
            "18258  2023-12-28  21.186   0.0  0.0  0.0  0.0  0.0\n",
            "18259  2023-12-29  20.887   0.0  0.0  0.0  0.0  0.0\n",
            "18260  2023-12-30  29.183   0.7  2.3  9.9  6.8  8.5\n",
            "18261  2023-12-31  25.803  26.8  6.0  5.3  3.1  4.9\n",
            "\n",
            "[18262 rows x 7 columns]\n"
          ]
        }
      ]
    },
    {
      "cell_type": "code",
      "source": [],
      "metadata": {
        "id": "PgHrzxos-42s"
      },
      "execution_count": 7,
      "outputs": []
    },
    {
      "cell_type": "code",
      "source": [
        "print(dam_data)"
      ],
      "metadata": {
        "colab": {
          "base_uri": "https://localhost:8080/"
        },
        "id": "KZQFqaNs1Ko9",
        "outputId": "f7c8527b-e8f3-4dc5-d4e1-85d02500912a"
      },
      "execution_count": 8,
      "outputs": [
        {
          "output_type": "stream",
          "name": "stdout",
          "text": [
            "             date     dam\n",
            "0      1974-01-01  10.000\n",
            "1      1974-01-02   9.000\n",
            "2      1974-01-03   4.800\n",
            "3      1974-01-04   6.100\n",
            "4      1974-01-05   5.800\n",
            "...           ...     ...\n",
            "18257  2023-12-27  25.873\n",
            "18258  2023-12-28  21.186\n",
            "18259  2023-12-29  20.887\n",
            "18260  2023-12-30  29.183\n",
            "18261  2023-12-31  25.803\n",
            "\n",
            "[18262 rows x 2 columns]\n"
          ]
        }
      ]
    },
    {
      "cell_type": "code",
      "source": [
        "dam = dam_data.drop('date', axis= 1)"
      ],
      "metadata": {
        "id": "gAMWMiiZ_I3c"
      },
      "execution_count": 9,
      "outputs": []
    },
    {
      "cell_type": "code",
      "source": [
        "print(rain_data)"
      ],
      "metadata": {
        "colab": {
          "base_uri": "https://localhost:8080/"
        },
        "id": "wd50aIWU1Kml",
        "outputId": "bd583302-2084-47bd-f023-99dde81184c1"
      },
      "execution_count": 10,
      "outputs": [
        {
          "output_type": "stream",
          "name": "stdout",
          "text": [
            "             date    90  100  101  211  212\n",
            "0      1974-01-01   0.0  0.0  0.0  0.0  0.0\n",
            "1      1974-01-02   0.0  0.0  0.0  0.0  0.0\n",
            "2      1974-01-03   0.0  0.0  0.0  0.0  0.0\n",
            "3      1974-01-04   0.0  0.0  0.0  0.0  0.0\n",
            "4      1974-01-05   0.0  0.0  0.0  0.0  0.0\n",
            "...           ...   ...  ...  ...  ...  ...\n",
            "18257  2023-12-27   0.0  0.0  0.0  0.0  0.0\n",
            "18258  2023-12-28   0.0  0.0  0.0  0.0  0.0\n",
            "18259  2023-12-29   0.0  0.0  0.0  0.0  0.0\n",
            "18260  2023-12-30   0.7  2.3  9.9  6.8  8.5\n",
            "18261  2023-12-31  26.8  6.0  5.3  3.1  4.9\n",
            "\n",
            "[18262 rows x 6 columns]\n"
          ]
        }
      ]
    },
    {
      "cell_type": "code",
      "source": [],
      "metadata": {
        "id": "bXv8dcE91KhZ"
      },
      "execution_count": 10,
      "outputs": []
    },
    {
      "cell_type": "code",
      "source": [],
      "metadata": {
        "id": "36Yl3EaL1KfB"
      },
      "execution_count": 10,
      "outputs": []
    },
    {
      "cell_type": "code",
      "source": [
        "# save original 'Open' prices for later\n",
        "original_dam = data['dam'].values"
      ],
      "metadata": {
        "id": "p39VaDNvnlIh"
      },
      "execution_count": 11,
      "outputs": []
    },
    {
      "cell_type": "code",
      "source": [
        "# separate dates for future plotting\n",
        "dates = pd.to_datetime(data['date'])"
      ],
      "metadata": {
        "id": "bT8kYSbbnl3d"
      },
      "execution_count": 12,
      "outputs": []
    },
    {
      "cell_type": "code",
      "source": [
        "print(data)"
      ],
      "metadata": {
        "colab": {
          "base_uri": "https://localhost:8080/"
        },
        "id": "Y6ekq36NsaOh",
        "outputId": "3988266b-2d2e-4b58-cc42-1210a610bbf5"
      },
      "execution_count": 13,
      "outputs": [
        {
          "output_type": "stream",
          "name": "stdout",
          "text": [
            "             date     dam    90  100  101  211  212\n",
            "0      1974-01-01  10.000   0.0  0.0  0.0  0.0  0.0\n",
            "1      1974-01-02   9.000   0.0  0.0  0.0  0.0  0.0\n",
            "2      1974-01-03   4.800   0.0  0.0  0.0  0.0  0.0\n",
            "3      1974-01-04   6.100   0.0  0.0  0.0  0.0  0.0\n",
            "4      1974-01-05   5.800   0.0  0.0  0.0  0.0  0.0\n",
            "...           ...     ...   ...  ...  ...  ...  ...\n",
            "18257  2023-12-27  25.873   0.0  0.0  0.0  0.0  0.0\n",
            "18258  2023-12-28  21.186   0.0  0.0  0.0  0.0  0.0\n",
            "18259  2023-12-29  20.887   0.0  0.0  0.0  0.0  0.0\n",
            "18260  2023-12-30  29.183   0.7  2.3  9.9  6.8  8.5\n",
            "18261  2023-12-31  25.803  26.8  6.0  5.3  3.1  4.9\n",
            "\n",
            "[18262 rows x 7 columns]\n"
          ]
        }
      ]
    },
    {
      "cell_type": "code",
      "source": [
        "# variables for training\n",
        "cols = list(data)[1:7]"
      ],
      "metadata": {
        "id": "ogA_xIwDnnZH"
      },
      "execution_count": 14,
      "outputs": []
    },
    {
      "cell_type": "code",
      "source": [
        "print(cols)"
      ],
      "metadata": {
        "colab": {
          "base_uri": "https://localhost:8080/"
        },
        "id": "UAxYrWfg_32w",
        "outputId": "1dd7b57a-bc17-4115-eae1-391a7366a3ba"
      },
      "execution_count": 15,
      "outputs": [
        {
          "output_type": "stream",
          "name": "stdout",
          "text": [
            "['dam', '90', '100', '101', '211', '212']\n"
          ]
        }
      ]
    },
    {
      "cell_type": "code",
      "source": [
        "# new dataframe with only training data - 5 columns\n",
        "data = data[cols].astype(float)"
      ],
      "metadata": {
        "id": "8Din6kzRnoen"
      },
      "execution_count": 16,
      "outputs": []
    },
    {
      "cell_type": "code",
      "source": [
        "# normalize the dataset\n",
        "scaler = MinMaxScaler(feature_range = (0,1))\n",
        "scaler = scaler.fit(data)\n",
        "dam_data_scaled = scaler.transform(data)"
      ],
      "metadata": {
        "id": "HRrDFZ_Gnpko"
      },
      "execution_count": 41,
      "outputs": []
    },
    {
      "cell_type": "code",
      "source": [
        "print(dam_data_scaled)"
      ],
      "metadata": {
        "colab": {
          "base_uri": "https://localhost:8080/"
        },
        "id": "oszHWO0UEAiO",
        "outputId": "ba103135-eda6-43e0-8861-41ed81dc1bf3"
      },
      "execution_count": 18,
      "outputs": [
        {
          "output_type": "stream",
          "name": "stdout",
          "text": [
            "[[0.0012153  0.         0.         0.         0.         0.        ]\n",
            " [0.00109377 0.         0.         0.         0.         0.        ]\n",
            " [0.00058334 0.         0.         0.         0.         0.        ]\n",
            " ...\n",
            " [0.00253839 0.         0.         0.         0.         0.        ]\n",
            " [0.0035466  0.00170871 0.00290526 0.02888169 0.02218999 0.02771739]\n",
            " [0.00313583 0.06541904 0.00757895 0.01546191 0.01011603 0.01597826]]\n"
          ]
        }
      ]
    },
    {
      "cell_type": "code",
      "source": [
        "# split to train data and test data\n",
        "n_train = int(0.9*dam_data_scaled.shape[0])\n",
        "train_data_scaled = dam_data_scaled[0: n_train]\n",
        "train_dates = dates[0: n_train]\n",
        "\n",
        "test_data_scaled = dam_data_scaled[n_train:]\n",
        "test_dates = dates[n_train:]\n",
        "print(test_dates.head(5))"
      ],
      "metadata": {
        "id": "1xSw2podnqir",
        "colab": {
          "base_uri": "https://localhost:8080/"
        },
        "outputId": "263f0ba6-6386-46ce-a6c2-992f7a4c7235"
      },
      "execution_count": 42,
      "outputs": [
        {
          "output_type": "stream",
          "name": "stdout",
          "text": [
            "16435   2018-12-31\n",
            "16436   2019-01-01\n",
            "16437   2019-01-02\n",
            "16438   2019-01-03\n",
            "16439   2019-01-04\n",
            "Name: date, dtype: datetime64[ns]\n"
          ]
        }
      ]
    },
    {
      "cell_type": "code",
      "source": [
        "print(train_data_scaled)"
      ],
      "metadata": {
        "colab": {
          "base_uri": "https://localhost:8080/"
        },
        "id": "ZUFo-ljhIzIm",
        "outputId": "a6c6049d-3e31-41bc-d274-8cab6d11e671"
      },
      "execution_count": 20,
      "outputs": [
        {
          "output_type": "stream",
          "name": "stdout",
          "text": [
            "[[0.0012153  0.         0.         0.         0.         0.        ]\n",
            " [0.00109377 0.         0.         0.         0.         0.        ]\n",
            " [0.00058334 0.         0.         0.         0.         0.        ]\n",
            " ...\n",
            " [0.00068834 0.         0.         0.         0.         0.        ]\n",
            " [0.00069819 0.         0.         0.         0.         0.        ]\n",
            " [0.00142688 0.         0.         0.         0.         0.        ]]\n"
          ]
        }
      ]
    },
    {
      "cell_type": "code",
      "source": [
        "data"
      ],
      "metadata": {
        "colab": {
          "base_uri": "https://localhost:8080/",
          "height": 424
        },
        "id": "QsupNwGi7cPj",
        "outputId": "0b9bca61-ec97-4efc-f4fa-c6bae25f3830"
      },
      "execution_count": 21,
      "outputs": [
        {
          "output_type": "execute_result",
          "data": {
            "text/plain": [
              "          dam    90  100  101  211  212\n",
              "0      10.000   0.0  0.0  0.0  0.0  0.0\n",
              "1       9.000   0.0  0.0  0.0  0.0  0.0\n",
              "2       4.800   0.0  0.0  0.0  0.0  0.0\n",
              "3       6.100   0.0  0.0  0.0  0.0  0.0\n",
              "4       5.800   0.0  0.0  0.0  0.0  0.0\n",
              "...       ...   ...  ...  ...  ...  ...\n",
              "18257  25.873   0.0  0.0  0.0  0.0  0.0\n",
              "18258  21.186   0.0  0.0  0.0  0.0  0.0\n",
              "18259  20.887   0.0  0.0  0.0  0.0  0.0\n",
              "18260  29.183   0.7  2.3  9.9  6.8  8.5\n",
              "18261  25.803  26.8  6.0  5.3  3.1  4.9\n",
              "\n",
              "[18262 rows x 6 columns]"
            ],
            "text/html": [
              "\n",
              "  <div id=\"df-30bbb972-5db4-4682-afc8-7badc7ddaeb9\" class=\"colab-df-container\">\n",
              "    <div>\n",
              "<style scoped>\n",
              "    .dataframe tbody tr th:only-of-type {\n",
              "        vertical-align: middle;\n",
              "    }\n",
              "\n",
              "    .dataframe tbody tr th {\n",
              "        vertical-align: top;\n",
              "    }\n",
              "\n",
              "    .dataframe thead th {\n",
              "        text-align: right;\n",
              "    }\n",
              "</style>\n",
              "<table border=\"1\" class=\"dataframe\">\n",
              "  <thead>\n",
              "    <tr style=\"text-align: right;\">\n",
              "      <th></th>\n",
              "      <th>dam</th>\n",
              "      <th>90</th>\n",
              "      <th>100</th>\n",
              "      <th>101</th>\n",
              "      <th>211</th>\n",
              "      <th>212</th>\n",
              "    </tr>\n",
              "  </thead>\n",
              "  <tbody>\n",
              "    <tr>\n",
              "      <th>0</th>\n",
              "      <td>10.000</td>\n",
              "      <td>0.0</td>\n",
              "      <td>0.0</td>\n",
              "      <td>0.0</td>\n",
              "      <td>0.0</td>\n",
              "      <td>0.0</td>\n",
              "    </tr>\n",
              "    <tr>\n",
              "      <th>1</th>\n",
              "      <td>9.000</td>\n",
              "      <td>0.0</td>\n",
              "      <td>0.0</td>\n",
              "      <td>0.0</td>\n",
              "      <td>0.0</td>\n",
              "      <td>0.0</td>\n",
              "    </tr>\n",
              "    <tr>\n",
              "      <th>2</th>\n",
              "      <td>4.800</td>\n",
              "      <td>0.0</td>\n",
              "      <td>0.0</td>\n",
              "      <td>0.0</td>\n",
              "      <td>0.0</td>\n",
              "      <td>0.0</td>\n",
              "    </tr>\n",
              "    <tr>\n",
              "      <th>3</th>\n",
              "      <td>6.100</td>\n",
              "      <td>0.0</td>\n",
              "      <td>0.0</td>\n",
              "      <td>0.0</td>\n",
              "      <td>0.0</td>\n",
              "      <td>0.0</td>\n",
              "    </tr>\n",
              "    <tr>\n",
              "      <th>4</th>\n",
              "      <td>5.800</td>\n",
              "      <td>0.0</td>\n",
              "      <td>0.0</td>\n",
              "      <td>0.0</td>\n",
              "      <td>0.0</td>\n",
              "      <td>0.0</td>\n",
              "    </tr>\n",
              "    <tr>\n",
              "      <th>...</th>\n",
              "      <td>...</td>\n",
              "      <td>...</td>\n",
              "      <td>...</td>\n",
              "      <td>...</td>\n",
              "      <td>...</td>\n",
              "      <td>...</td>\n",
              "    </tr>\n",
              "    <tr>\n",
              "      <th>18257</th>\n",
              "      <td>25.873</td>\n",
              "      <td>0.0</td>\n",
              "      <td>0.0</td>\n",
              "      <td>0.0</td>\n",
              "      <td>0.0</td>\n",
              "      <td>0.0</td>\n",
              "    </tr>\n",
              "    <tr>\n",
              "      <th>18258</th>\n",
              "      <td>21.186</td>\n",
              "      <td>0.0</td>\n",
              "      <td>0.0</td>\n",
              "      <td>0.0</td>\n",
              "      <td>0.0</td>\n",
              "      <td>0.0</td>\n",
              "    </tr>\n",
              "    <tr>\n",
              "      <th>18259</th>\n",
              "      <td>20.887</td>\n",
              "      <td>0.0</td>\n",
              "      <td>0.0</td>\n",
              "      <td>0.0</td>\n",
              "      <td>0.0</td>\n",
              "      <td>0.0</td>\n",
              "    </tr>\n",
              "    <tr>\n",
              "      <th>18260</th>\n",
              "      <td>29.183</td>\n",
              "      <td>0.7</td>\n",
              "      <td>2.3</td>\n",
              "      <td>9.9</td>\n",
              "      <td>6.8</td>\n",
              "      <td>8.5</td>\n",
              "    </tr>\n",
              "    <tr>\n",
              "      <th>18261</th>\n",
              "      <td>25.803</td>\n",
              "      <td>26.8</td>\n",
              "      <td>6.0</td>\n",
              "      <td>5.3</td>\n",
              "      <td>3.1</td>\n",
              "      <td>4.9</td>\n",
              "    </tr>\n",
              "  </tbody>\n",
              "</table>\n",
              "<p>18262 rows × 6 columns</p>\n",
              "</div>\n",
              "    <div class=\"colab-df-buttons\">\n",
              "\n",
              "  <div class=\"colab-df-container\">\n",
              "    <button class=\"colab-df-convert\" onclick=\"convertToInteractive('df-30bbb972-5db4-4682-afc8-7badc7ddaeb9')\"\n",
              "            title=\"Convert this dataframe to an interactive table.\"\n",
              "            style=\"display:none;\">\n",
              "\n",
              "  <svg xmlns=\"http://www.w3.org/2000/svg\" height=\"24px\" viewBox=\"0 -960 960 960\">\n",
              "    <path d=\"M120-120v-720h720v720H120Zm60-500h600v-160H180v160Zm220 220h160v-160H400v160Zm0 220h160v-160H400v160ZM180-400h160v-160H180v160Zm440 0h160v-160H620v160ZM180-180h160v-160H180v160Zm440 0h160v-160H620v160Z\"/>\n",
              "  </svg>\n",
              "    </button>\n",
              "\n",
              "  <style>\n",
              "    .colab-df-container {\n",
              "      display:flex;\n",
              "      gap: 12px;\n",
              "    }\n",
              "\n",
              "    .colab-df-convert {\n",
              "      background-color: #E8F0FE;\n",
              "      border: none;\n",
              "      border-radius: 50%;\n",
              "      cursor: pointer;\n",
              "      display: none;\n",
              "      fill: #1967D2;\n",
              "      height: 32px;\n",
              "      padding: 0 0 0 0;\n",
              "      width: 32px;\n",
              "    }\n",
              "\n",
              "    .colab-df-convert:hover {\n",
              "      background-color: #E2EBFA;\n",
              "      box-shadow: 0px 1px 2px rgba(60, 64, 67, 0.3), 0px 1px 3px 1px rgba(60, 64, 67, 0.15);\n",
              "      fill: #174EA6;\n",
              "    }\n",
              "\n",
              "    .colab-df-buttons div {\n",
              "      margin-bottom: 4px;\n",
              "    }\n",
              "\n",
              "    [theme=dark] .colab-df-convert {\n",
              "      background-color: #3B4455;\n",
              "      fill: #D2E3FC;\n",
              "    }\n",
              "\n",
              "    [theme=dark] .colab-df-convert:hover {\n",
              "      background-color: #434B5C;\n",
              "      box-shadow: 0px 1px 3px 1px rgba(0, 0, 0, 0.15);\n",
              "      filter: drop-shadow(0px 1px 2px rgba(0, 0, 0, 0.3));\n",
              "      fill: #FFFFFF;\n",
              "    }\n",
              "  </style>\n",
              "\n",
              "    <script>\n",
              "      const buttonEl =\n",
              "        document.querySelector('#df-30bbb972-5db4-4682-afc8-7badc7ddaeb9 button.colab-df-convert');\n",
              "      buttonEl.style.display =\n",
              "        google.colab.kernel.accessAllowed ? 'block' : 'none';\n",
              "\n",
              "      async function convertToInteractive(key) {\n",
              "        const element = document.querySelector('#df-30bbb972-5db4-4682-afc8-7badc7ddaeb9');\n",
              "        const dataTable =\n",
              "          await google.colab.kernel.invokeFunction('convertToInteractive',\n",
              "                                                    [key], {});\n",
              "        if (!dataTable) return;\n",
              "\n",
              "        const docLinkHtml = 'Like what you see? Visit the ' +\n",
              "          '<a target=\"_blank\" href=https://colab.research.google.com/notebooks/data_table.ipynb>data table notebook</a>'\n",
              "          + ' to learn more about interactive tables.';\n",
              "        element.innerHTML = '';\n",
              "        dataTable['output_type'] = 'display_data';\n",
              "        await google.colab.output.renderOutput(dataTable, element);\n",
              "        const docLink = document.createElement('div');\n",
              "        docLink.innerHTML = docLinkHtml;\n",
              "        element.appendChild(docLink);\n",
              "      }\n",
              "    </script>\n",
              "  </div>\n",
              "\n",
              "\n",
              "<div id=\"df-aff6ba85-6159-402f-a672-95d029b1f801\">\n",
              "  <button class=\"colab-df-quickchart\" onclick=\"quickchart('df-aff6ba85-6159-402f-a672-95d029b1f801')\"\n",
              "            title=\"Suggest charts\"\n",
              "            style=\"display:none;\">\n",
              "\n",
              "<svg xmlns=\"http://www.w3.org/2000/svg\" height=\"24px\"viewBox=\"0 0 24 24\"\n",
              "     width=\"24px\">\n",
              "    <g>\n",
              "        <path d=\"M19 3H5c-1.1 0-2 .9-2 2v14c0 1.1.9 2 2 2h14c1.1 0 2-.9 2-2V5c0-1.1-.9-2-2-2zM9 17H7v-7h2v7zm4 0h-2V7h2v10zm4 0h-2v-4h2v4z\"/>\n",
              "    </g>\n",
              "</svg>\n",
              "  </button>\n",
              "\n",
              "<style>\n",
              "  .colab-df-quickchart {\n",
              "      --bg-color: #E8F0FE;\n",
              "      --fill-color: #1967D2;\n",
              "      --hover-bg-color: #E2EBFA;\n",
              "      --hover-fill-color: #174EA6;\n",
              "      --disabled-fill-color: #AAA;\n",
              "      --disabled-bg-color: #DDD;\n",
              "  }\n",
              "\n",
              "  [theme=dark] .colab-df-quickchart {\n",
              "      --bg-color: #3B4455;\n",
              "      --fill-color: #D2E3FC;\n",
              "      --hover-bg-color: #434B5C;\n",
              "      --hover-fill-color: #FFFFFF;\n",
              "      --disabled-bg-color: #3B4455;\n",
              "      --disabled-fill-color: #666;\n",
              "  }\n",
              "\n",
              "  .colab-df-quickchart {\n",
              "    background-color: var(--bg-color);\n",
              "    border: none;\n",
              "    border-radius: 50%;\n",
              "    cursor: pointer;\n",
              "    display: none;\n",
              "    fill: var(--fill-color);\n",
              "    height: 32px;\n",
              "    padding: 0;\n",
              "    width: 32px;\n",
              "  }\n",
              "\n",
              "  .colab-df-quickchart:hover {\n",
              "    background-color: var(--hover-bg-color);\n",
              "    box-shadow: 0 1px 2px rgba(60, 64, 67, 0.3), 0 1px 3px 1px rgba(60, 64, 67, 0.15);\n",
              "    fill: var(--button-hover-fill-color);\n",
              "  }\n",
              "\n",
              "  .colab-df-quickchart-complete:disabled,\n",
              "  .colab-df-quickchart-complete:disabled:hover {\n",
              "    background-color: var(--disabled-bg-color);\n",
              "    fill: var(--disabled-fill-color);\n",
              "    box-shadow: none;\n",
              "  }\n",
              "\n",
              "  .colab-df-spinner {\n",
              "    border: 2px solid var(--fill-color);\n",
              "    border-color: transparent;\n",
              "    border-bottom-color: var(--fill-color);\n",
              "    animation:\n",
              "      spin 1s steps(1) infinite;\n",
              "  }\n",
              "\n",
              "  @keyframes spin {\n",
              "    0% {\n",
              "      border-color: transparent;\n",
              "      border-bottom-color: var(--fill-color);\n",
              "      border-left-color: var(--fill-color);\n",
              "    }\n",
              "    20% {\n",
              "      border-color: transparent;\n",
              "      border-left-color: var(--fill-color);\n",
              "      border-top-color: var(--fill-color);\n",
              "    }\n",
              "    30% {\n",
              "      border-color: transparent;\n",
              "      border-left-color: var(--fill-color);\n",
              "      border-top-color: var(--fill-color);\n",
              "      border-right-color: var(--fill-color);\n",
              "    }\n",
              "    40% {\n",
              "      border-color: transparent;\n",
              "      border-right-color: var(--fill-color);\n",
              "      border-top-color: var(--fill-color);\n",
              "    }\n",
              "    60% {\n",
              "      border-color: transparent;\n",
              "      border-right-color: var(--fill-color);\n",
              "    }\n",
              "    80% {\n",
              "      border-color: transparent;\n",
              "      border-right-color: var(--fill-color);\n",
              "      border-bottom-color: var(--fill-color);\n",
              "    }\n",
              "    90% {\n",
              "      border-color: transparent;\n",
              "      border-bottom-color: var(--fill-color);\n",
              "    }\n",
              "  }\n",
              "</style>\n",
              "\n",
              "  <script>\n",
              "    async function quickchart(key) {\n",
              "      const quickchartButtonEl =\n",
              "        document.querySelector('#' + key + ' button');\n",
              "      quickchartButtonEl.disabled = true;  // To prevent multiple clicks.\n",
              "      quickchartButtonEl.classList.add('colab-df-spinner');\n",
              "      try {\n",
              "        const charts = await google.colab.kernel.invokeFunction(\n",
              "            'suggestCharts', [key], {});\n",
              "      } catch (error) {\n",
              "        console.error('Error during call to suggestCharts:', error);\n",
              "      }\n",
              "      quickchartButtonEl.classList.remove('colab-df-spinner');\n",
              "      quickchartButtonEl.classList.add('colab-df-quickchart-complete');\n",
              "    }\n",
              "    (() => {\n",
              "      let quickchartButtonEl =\n",
              "        document.querySelector('#df-aff6ba85-6159-402f-a672-95d029b1f801 button');\n",
              "      quickchartButtonEl.style.display =\n",
              "        google.colab.kernel.accessAllowed ? 'block' : 'none';\n",
              "    })();\n",
              "  </script>\n",
              "</div>\n",
              "    </div>\n",
              "  </div>\n"
            ],
            "application/vnd.google.colaboratory.intrinsic+json": {
              "type": "dataframe",
              "variable_name": "data",
              "summary": "{\n  \"name\": \"data\",\n  \"rows\": 18262,\n  \"fields\": [\n    {\n      \"column\": \"dam\",\n      \"properties\": {\n        \"dtype\": \"number\",\n        \"std\": 220.97136411821475,\n        \"min\": 0.0,\n        \"max\": 7405.6,\n        \"num_unique_values\": 8542,\n        \"samples\": [\n          3.403,\n          116.62,\n          190.5\n        ],\n        \"semantic_type\": \"\",\n        \"description\": \"\"\n      }\n    },\n    {\n      \"column\": \"90\",\n      \"properties\": {\n        \"dtype\": \"number\",\n        \"std\": 14.26061667992957,\n        \"min\": 0.0,\n        \"max\": 368.7,\n        \"num_unique_values\": 677,\n        \"samples\": [\n          214.6,\n          68.8,\n          4.1\n        ],\n        \"semantic_type\": \"\",\n        \"description\": \"\"\n      }\n    },\n    {\n      \"column\": \"100\",\n      \"properties\": {\n        \"dtype\": \"number\",\n        \"std\": 16.093534727622,\n        \"min\": 0.0,\n        \"max\": 712.5,\n        \"num_unique_values\": 718,\n        \"samples\": [\n          17.5,\n          27.1,\n          22.0\n        ],\n        \"semantic_type\": \"\",\n        \"description\": \"\"\n      }\n    },\n    {\n      \"column\": \"101\",\n      \"properties\": {\n        \"dtype\": \"number\",\n        \"std\": 13.750696269289875,\n        \"min\": 0.0,\n        \"max\": 308.5,\n        \"num_unique_values\": 659,\n        \"samples\": [\n          95.7,\n          80.3,\n          13.7\n        ],\n        \"semantic_type\": \"\",\n        \"description\": \"\"\n      }\n    },\n    {\n      \"column\": \"211\",\n      \"properties\": {\n        \"dtype\": \"number\",\n        \"std\": 12.307355089167313,\n        \"min\": 0.0,\n        \"max\": 275.8,\n        \"num_unique_values\": 532,\n        \"samples\": [\n          1.2,\n          135.0,\n          69.9\n        ],\n        \"semantic_type\": \"\",\n        \"description\": \"\"\n      }\n    },\n    {\n      \"column\": \"212\",\n      \"properties\": {\n        \"dtype\": \"number\",\n        \"std\": 13.674896178948584,\n        \"min\": 0.0,\n        \"max\": 276.0,\n        \"num_unique_values\": 576,\n        \"samples\": [\n          57.1,\n          23.6,\n          41.3\n        ],\n        \"semantic_type\": \"\",\n        \"description\": \"\"\n      }\n    }\n  ]\n}"
            }
          },
          "metadata": {},
          "execution_count": 21
        }
      ]
    },
    {
      "cell_type": "code",
      "source": [
        "# data.to_csv(\"/content/drive/MyDrive/240410/data.csv\")"
      ],
      "metadata": {
        "id": "-NLgESsK7-ct"
      },
      "execution_count": 22,
      "outputs": []
    },
    {
      "cell_type": "code",
      "source": [
        "train_data_scaled[-1]"
      ],
      "metadata": {
        "colab": {
          "base_uri": "https://localhost:8080/"
        },
        "id": "34gffoFC7NZ3",
        "outputId": "3fb30b7d-fc67-4a59-c422-c65876846556"
      },
      "execution_count": 23,
      "outputs": [
        {
          "output_type": "execute_result",
          "data": {
            "text/plain": [
              "array([0.00142688, 0.        , 0.        , 0.        , 0.        ,\n",
              "       0.        ])"
            ]
          },
          "metadata": {},
          "execution_count": 23
        }
      ]
    },
    {
      "cell_type": "code",
      "source": [
        "data['dam']"
      ],
      "metadata": {
        "colab": {
          "base_uri": "https://localhost:8080/"
        },
        "id": "9CMH-4xD-3La",
        "outputId": "21538c8d-e2a8-4cf6-a045-588400509fee"
      },
      "execution_count": 24,
      "outputs": [
        {
          "output_type": "execute_result",
          "data": {
            "text/plain": [
              "0        10.000\n",
              "1         9.000\n",
              "2         4.800\n",
              "3         6.100\n",
              "4         5.800\n",
              "          ...  \n",
              "18257    25.873\n",
              "18258    21.186\n",
              "18259    20.887\n",
              "18260    29.183\n",
              "18261    25.803\n",
              "Name: dam, Length: 18262, dtype: float64"
            ]
          },
          "metadata": {},
          "execution_count": 24
        }
      ]
    },
    {
      "cell_type": "code",
      "source": [
        "scaler_dam = MinMaxScaler(feature_range=(0,1))\n",
        "scaler_dam = scaler_dam.fit(dam)\n",
        "\n",
        "dam_scaled = scaler_dam.transform(dam)"
      ],
      "metadata": {
        "id": "W2oW0niv607k"
      },
      "execution_count": 44,
      "outputs": []
    },
    {
      "cell_type": "code",
      "source": [
        "# data reformatting for LSTM\n",
        "pred_days = 1  # prediction period\n",
        "seq_len = 14   # sequence length = past days for future prediction.\n",
        "input_dim = 6  # input_dimension = ['dam', '90', '100', '101', '211', '212']\n",
        "\n",
        "trainX = []\n",
        "trainY = []\n",
        "testX = []\n",
        "testY = []\n",
        "\n",
        "for i in range(seq_len, n_train-pred_days +1):\n",
        "    trainX.append(train_data_scaled[i - seq_len:i, 0:train_data_scaled.shape[1]])\n",
        "    trainY.append(train_data_scaled[i + pred_days - 2:i + pred_days-1, 0])\n",
        "\n",
        "for i in range(seq_len, len(test_data_scaled)-pred_days +1):\n",
        "    testX.append(test_data_scaled[i - seq_len:i, 0:test_data_scaled.shape[1]])\n",
        "    testY.append(test_data_scaled[i + pred_days - 2:i + pred_days-1, 0])\n",
        "\n",
        "print(trainX[0])\n",
        "print(trainY[0])\n",
        "\n",
        "trainX, trainY = np.array(trainX), np.array(trainY)\n",
        "testX, testY = np.array(testX), np.array(testY)"
      ],
      "metadata": {
        "id": "iCOaHw2Cnsnz",
        "colab": {
          "base_uri": "https://localhost:8080/"
        },
        "outputId": "e461ac3a-eef0-44d3-9bd7-93199ec9da1f"
      },
      "execution_count": 63,
      "outputs": [
        {
          "output_type": "stream",
          "name": "stdout",
          "text": [
            "[[0.00135033 0.         0.         0.         0.         0.        ]\n",
            " [0.0012153  0.         0.         0.         0.         0.        ]\n",
            " [0.00064816 0.         0.         0.         0.         0.        ]\n",
            " [0.0008237  0.         0.         0.         0.         0.        ]\n",
            " [0.00078319 0.         0.         0.         0.         0.        ]\n",
            " [0.00117479 0.         0.         0.         0.         0.        ]\n",
            " [0.00126931 0.         0.         0.         0.         0.        ]\n",
            " [0.00091822 0.         0.00042105 0.         0.         0.        ]\n",
            " [0.0008372  0.00054245 0.00084211 0.         0.         0.        ]\n",
            " [0.00047262 0.         0.0005614  0.         0.         0.        ]\n",
            " [0.00068867 0.00027122 0.00084211 0.         0.         0.        ]\n",
            " [0.00060765 0.         0.         0.         0.         0.        ]\n",
            " [0.00087771 0.         0.         0.         0.         0.        ]\n",
            " [0.00086421 0.         0.         0.         0.         0.        ]]\n",
            "[0.00086421]\n"
          ]
        }
      ]
    },
    {
      "cell_type": "code",
      "source": [
        "print(trainY)"
      ],
      "metadata": {
        "colab": {
          "base_uri": "https://localhost:8080/"
        },
        "id": "6Kb_f1MEFlyQ",
        "outputId": "6bea2a29-d9d5-4d56-a0a8-02e3056ff7ce"
      },
      "execution_count": 27,
      "outputs": [
        {
          "output_type": "stream",
          "name": "stdout",
          "text": [
            "[[0.00108161]\n",
            " [0.00068057]\n",
            " [0.00064411]\n",
            " ...\n",
            " [0.00068834]\n",
            " [0.00069819]\n",
            " [0.00142688]]\n"
          ]
        }
      ]
    },
    {
      "cell_type": "code",
      "source": [
        "print(trainX.shape, trainY.shape)\n",
        "print(testX.shape, testY.shape)"
      ],
      "metadata": {
        "id": "w6xCKBOanvvz",
        "colab": {
          "base_uri": "https://localhost:8080/"
        },
        "outputId": "35ba59b9-5161-450f-ff3b-e6070facee8b"
      },
      "execution_count": 28,
      "outputs": [
        {
          "output_type": "stream",
          "name": "stdout",
          "text": [
            "(16421, 14, 6) (16421, 1)\n",
            "(1813, 14, 6) (1813, 1)\n"
          ]
        }
      ]
    },
    {
      "cell_type": "code",
      "source": [
        "print(data)"
      ],
      "metadata": {
        "colab": {
          "base_uri": "https://localhost:8080/"
        },
        "id": "ABV11yxg_fPk",
        "outputId": "1ac0d480-465d-43c3-d3dc-87542ce6ad33"
      },
      "execution_count": 29,
      "outputs": [
        {
          "output_type": "stream",
          "name": "stdout",
          "text": [
            "          dam    90  100  101  211  212\n",
            "0      10.000   0.0  0.0  0.0  0.0  0.0\n",
            "1       9.000   0.0  0.0  0.0  0.0  0.0\n",
            "2       4.800   0.0  0.0  0.0  0.0  0.0\n",
            "3       6.100   0.0  0.0  0.0  0.0  0.0\n",
            "4       5.800   0.0  0.0  0.0  0.0  0.0\n",
            "...       ...   ...  ...  ...  ...  ...\n",
            "18257  25.873   0.0  0.0  0.0  0.0  0.0\n",
            "18258  21.186   0.0  0.0  0.0  0.0  0.0\n",
            "18259  20.887   0.0  0.0  0.0  0.0  0.0\n",
            "18260  29.183   0.7  2.3  9.9  6.8  8.5\n",
            "18261  25.803  26.8  6.0  5.3  3.1  4.9\n",
            "\n",
            "[18262 rows x 6 columns]\n"
          ]
        }
      ]
    },
    {
      "cell_type": "code",
      "source": [
        "# RNN model\n",
        "model = Sequential()\n",
        "model.add(Flatten(input_shape=(trainX.shape[1], trainX.shape[2])))\n",
        "model.add(Dense(64))\n",
        "model.add(Dense(32))\n",
        "model.add(Dense(trainY.shape[1]))\n",
        "\n",
        "model.summary()"
      ],
      "metadata": {
        "colab": {
          "base_uri": "https://localhost:8080/"
        },
        "id": "r0DxPNxbnwJ3",
        "outputId": "e22c4edd-72ca-49a9-87e9-5a7f9327fa75"
      },
      "execution_count": 30,
      "outputs": [
        {
          "output_type": "stream",
          "name": "stdout",
          "text": [
            "Model: \"sequential\"\n",
            "_________________________________________________________________\n",
            " Layer (type)                Output Shape              Param #   \n",
            "=================================================================\n",
            " flatten (Flatten)           (None, 84)                0         \n",
            "                                                                 \n",
            " dense (Dense)               (None, 64)                5440      \n",
            "                                                                 \n",
            " dense_1 (Dense)             (None, 32)                2080      \n",
            "                                                                 \n",
            " dense_2 (Dense)             (None, 1)                 33        \n",
            "                                                                 \n",
            "=================================================================\n",
            "Total params: 7553 (29.50 KB)\n",
            "Trainable params: 7553 (29.50 KB)\n",
            "Non-trainable params: 0 (0.00 Byte)\n",
            "_________________________________________________________________\n"
          ]
        }
      ]
    },
    {
      "cell_type": "code",
      "source": [
        "# specify your learning rate\n",
        "learning_rate = 0.01\n",
        "# create an Adam optimizer with the specified learning rate\n",
        "optimizer = Adam(learning_rate=learning_rate)\n",
        "# compile your model using the custom optimizer\n",
        "model.compile(optimizer=optimizer, loss='mse')"
      ],
      "metadata": {
        "id": "XBbmyaHmnxML"
      },
      "execution_count": 31,
      "outputs": []
    },
    {
      "cell_type": "code",
      "source": [
        "# Try to load weights\n",
        "try:\n",
        "    model.load_weights('/content/drive/MyDrive/240410/dam_rnn_weights.h5')\n",
        "    print(\"Loaded model weights from disk\")\n",
        "except:\n",
        "    print(\"No weights found, training model from scratch\")\n",
        "    # Fit the model\n",
        "    history = model.fit(trainX, trainY, epochs=30, batch_size=32,\n",
        "                    validation_split=0.1, verbose=1)\n",
        "    # Save model weights after training\n",
        "    model.save_weights('/content/drive/MyDrive/240410/dam_rnn_weights.h5')\n",
        "\n",
        "    plt.plot(history.history['loss'], label='Training loss')\n",
        "    plt.plot(history.history['val_loss'], label='Validation loss')\n",
        "    plt.legend()\n",
        "    plt.show()"
      ],
      "metadata": {
        "colab": {
          "base_uri": "https://localhost:8080/",
          "height": 1000
        },
        "id": "ftq3t9DnnyIw",
        "outputId": "666eca69-a2b0-43d6-b29b-df2047223402"
      },
      "execution_count": 54,
      "outputs": [
        {
          "output_type": "stream",
          "name": "stdout",
          "text": [
            "No weights found, training model from scratch\n",
            "Epoch 1/30\n",
            "462/462 [==============================] - 5s 6ms/step - loss: 2.8494e-04 - val_loss: 1.6822e-04\n",
            "Epoch 2/30\n",
            "462/462 [==============================] - 2s 4ms/step - loss: 6.1218e-05 - val_loss: 1.0539e-05\n",
            "Epoch 3/30\n",
            "462/462 [==============================] - 1s 2ms/step - loss: 3.6859e-05 - val_loss: 3.3477e-06\n",
            "Epoch 4/30\n",
            "462/462 [==============================] - 1s 2ms/step - loss: 4.7508e-06 - val_loss: 5.9195e-07\n",
            "Epoch 5/30\n",
            "462/462 [==============================] - 1s 2ms/step - loss: 5.9192e-07 - val_loss: 4.4938e-07\n",
            "Epoch 6/30\n",
            "462/462 [==============================] - 1s 2ms/step - loss: 9.7461e-06 - val_loss: 6.6945e-06\n",
            "Epoch 7/30\n",
            "462/462 [==============================] - 1s 2ms/step - loss: 0.0026 - val_loss: 1.1864e-05\n",
            "Epoch 8/30\n",
            "462/462 [==============================] - 1s 2ms/step - loss: 1.6195e-05 - val_loss: 3.7007e-06\n",
            "Epoch 9/30\n",
            "462/462 [==============================] - 1s 2ms/step - loss: 1.1813e-06 - val_loss: 2.6621e-07\n",
            "Epoch 10/30\n",
            "462/462 [==============================] - 1s 2ms/step - loss: 2.4109e-06 - val_loss: 3.6452e-06\n",
            "Epoch 11/30\n",
            "462/462 [==============================] - 1s 3ms/step - loss: 4.6334e-05 - val_loss: 2.1135e-05\n",
            "Epoch 12/30\n",
            "462/462 [==============================] - 1s 3ms/step - loss: 1.8304e-04 - val_loss: 3.1118e-06\n",
            "Epoch 13/30\n",
            "462/462 [==============================] - 1s 3ms/step - loss: 2.0284e-06 - val_loss: 1.3933e-07\n",
            "Epoch 14/30\n",
            "462/462 [==============================] - 1s 2ms/step - loss: 9.6572e-08 - val_loss: 3.1580e-08\n",
            "Epoch 15/30\n",
            "462/462 [==============================] - 1s 2ms/step - loss: 3.7779e-06 - val_loss: 3.0474e-06\n",
            "Epoch 16/30\n",
            "462/462 [==============================] - 1s 2ms/step - loss: 1.1940e-05 - val_loss: 7.4915e-06\n",
            "Epoch 17/30\n",
            "462/462 [==============================] - 1s 2ms/step - loss: 0.0057 - val_loss: 8.3047e-05\n",
            "Epoch 18/30\n",
            "462/462 [==============================] - 1s 2ms/step - loss: 4.7041e-05 - val_loss: 1.7391e-05\n",
            "Epoch 19/30\n",
            "462/462 [==============================] - 1s 2ms/step - loss: 5.0493e-05 - val_loss: 9.6678e-06\n",
            "Epoch 20/30\n",
            "462/462 [==============================] - 1s 2ms/step - loss: 4.0570e-05 - val_loss: 1.7201e-06\n",
            "Epoch 21/30\n",
            "462/462 [==============================] - 1s 2ms/step - loss: 9.5148e-06 - val_loss: 1.7870e-06\n",
            "Epoch 22/30\n",
            "462/462 [==============================] - 1s 2ms/step - loss: 2.4112e-06 - val_loss: 1.5039e-06\n",
            "Epoch 23/30\n",
            "462/462 [==============================] - 1s 2ms/step - loss: 1.3407e-06 - val_loss: 2.6319e-06\n",
            "Epoch 24/30\n",
            "462/462 [==============================] - 1s 2ms/step - loss: 1.1601e-04 - val_loss: 1.4149e-05\n",
            "Epoch 25/30\n",
            "462/462 [==============================] - 1s 3ms/step - loss: 8.7301e-04 - val_loss: 2.2826e-05\n",
            "Epoch 26/30\n",
            "462/462 [==============================] - 1s 3ms/step - loss: 1.0503e-04 - val_loss: 2.9744e-06\n",
            "Epoch 27/30\n",
            "462/462 [==============================] - 1s 3ms/step - loss: 1.3351e-05 - val_loss: 4.5785e-05\n",
            "Epoch 28/30\n",
            "462/462 [==============================] - 1s 2ms/step - loss: 4.6284e-04 - val_loss: 3.3665e-05\n",
            "Epoch 29/30\n",
            "462/462 [==============================] - 1s 2ms/step - loss: 3.0987e-05 - val_loss: 1.3012e-04\n",
            "Epoch 30/30\n",
            "462/462 [==============================] - 1s 2ms/step - loss: 0.0016 - val_loss: 1.2183e-05\n"
          ]
        },
        {
          "output_type": "display_data",
          "data": {
            "text/plain": [
              "<Figure size 640x480 with 1 Axes>"
            ],
            "image/png": "[encoded data removed]"
          },
          "metadata": {}
        }
      ]
    },
    {
      "cell_type": "code",
      "source": [
        "prediction = model.predict(testX)\n",
        "print(prediction)\n",
        "\n",
        "y_pred = scaler_dam.inverse_transform(prediction)[:,0]\n",
        "\n",
        "testY_original = scaler_dam.inverse_transform(testY)[:,0]\n",
        "print(testY_original.shape)\n",
        "\n",
        "# plotting\n",
        "plt.figure(figsize=(14, 5))\n",
        "\n",
        "# plot original 'Open' prices\n",
        "plt.plot(dates, original_dam, color='green', label='Original Dam Flow')\n",
        "\n",
        "# plot actual vs predicted\n",
        "plt.plot(test_dates[seq_len:], testY_original, color='blue', label='Actual Dam Flow')\n",
        "plt.plot(test_dates[seq_len:], y_pred, color='red', linestyle='--', label='Predicted Dam Flow')\n",
        "plt.xlabel('Date')\n",
        "plt.ylabel('Dam Flow')\n",
        "plt.title('Original, Actual and Predicted Dam Flow')\n",
        "plt.legend()\n",
        "plt.show()"
      ],
      "metadata": {
        "colab": {
          "base_uri": "https://localhost:8080/",
          "height": 643
        },
        "id": "CBak2Gro47hq",
        "outputId": "b8b47743-07d7-4c7d-980d-f7b41505b4e7"
      },
      "execution_count": 64,
      "outputs": [
        {
          "output_type": "stream",
          "name": "stdout",
          "text": [
            "57/57 [==============================] - 0s 4ms/step\n",
            "[[0.00109972]\n",
            " [0.00042281]\n",
            " [0.00112054]\n",
            " ...\n",
            " [0.00168807]\n",
            " [0.00237321]\n",
            " [0.00345978]]\n",
            "(1813,)\n"
          ]
        },
        {
          "output_type": "display_data",
          "data": {
            "text/plain": [
              "<Figure size 1400x500 with 1 Axes>"
            ],
            "image/png": "[encoded data removed]"
          },
          "metadata": {}
        }
      ]
    },
    {
      "cell_type": "code",
      "source": [
        "# Calculate the start and end indices for the zoomed plot\n",
        "zoom_start = len(test_dates) - 365*4\n",
        "zoom_end = len(test_dates)\n",
        "\n",
        "# Create the zoomed plot\n",
        "plt.figure(figsize=(14, 5))\n",
        "\n",
        "# Adjust the start index for the testY_original and y_pred arrays\n",
        "adjusted_start = zoom_start - seq_len\n",
        "\n",
        "plt.plot(test_dates[zoom_start:zoom_end],\n",
        "         testY_original[adjusted_start:zoom_end - zoom_start + adjusted_start],\n",
        "         color='blue',\n",
        "         label='Actual Dam Flow')\n",
        "\n",
        "plt.plot(test_dates[zoom_start:zoom_end],\n",
        "         y_pred[adjusted_start:zoom_end - zoom_start + adjusted_start ],\n",
        "         color='red',\n",
        "         linestyle='--',\n",
        "         label='Predicted Dam Flow')\n",
        "\n",
        "plt.xlabel('Date')\n",
        "plt.ylabel('Dam Flow')\n",
        "plt.title('Zoomed In Actual vs Predicted Dam Flow')\n",
        "plt.legend()\n",
        "plt.show()"
      ],
      "metadata": {
        "colab": {
          "base_uri": "https://localhost:8080/",
          "height": 487
        },
        "id": "fXGQtK4aoApN",
        "outputId": "fe6df683-1588-450e-e822-cddf7ac6b6a6"
      },
      "execution_count": 65,
      "outputs": [
        {
          "output_type": "display_data",
          "data": {
            "text/plain": [
              "<Figure size 1400x500 with 1 Axes>"
            ],
            "image/png": "[encoded data removed]"
          },
          "metadata": {}
        }
      ]
    },
    {
      "cell_type": "code",
      "source": [
        "# 일대일 그래프\n",
        "x = np.arange(0,max(max(testY_original), max(y_pred)))\n",
        "y = x\n",
        "plt.scatter(testY_original[:], y_pred[:], color = 'purple', alpha = 0.6)\n",
        "plt.plot(x,y, color = 'blue', alpha = 0.6, label = 'y = x')\n",
        "plt.xlabel('Actuals')\n",
        "plt.ylabel('Simulate')\n",
        "\n",
        "plt.legend()\n",
        "plt.show()"
      ],
      "metadata": {
        "id": "el4PPAciqI5b",
        "colab": {
          "base_uri": "https://localhost:8080/",
          "height": 451
        },
        "outputId": "d24eed68-412e-4ae1-f766-9ab64d43cf5e"
      },
      "execution_count": 66,
      "outputs": [
        {
          "output_type": "display_data",
          "data": {
            "text/plain": [
              "<Figure size 640x480 with 1 Axes>"
            ],
            "image/png": "[encoded data removed]"
          },
          "metadata": {}
        }
      ]
    },
    {
      "cell_type": "code",
      "source": [
        "#RMSE\n",
        "from sklearn.metrics import r2_score\n",
        "from sklearn.metrics import mean_squared_error\n",
        "\n",
        "rmse = np.sqrt(mean_squared_error(testY_original, y_pred))\n",
        "print('RMSE : %.2f' %(rmse))"
      ],
      "metadata": {
        "id": "ntPIbgUHqIzJ",
        "colab": {
          "base_uri": "https://localhost:8080/"
        },
        "outputId": "2099b8ab-75b5-4567-fbb0-b7343551a3c1"
      },
      "execution_count": 67,
      "outputs": [
        {
          "output_type": "stream",
          "name": "stdout",
          "text": [
            "RMSE : 24.38\n"
          ]
        }
      ]
    },
    {
      "cell_type": "code",
      "source": [
        "# NSE\n",
        "from numpy import mean\n",
        "num_sum1 = 0\n",
        "num_sum2 = 0\n",
        "num_avg = mean(testY_original[:])\n",
        "for i in range(len(testY_original)):\n",
        "  num1 = testY_original[i] - y_pred[i]\n",
        "  num_sum1 += num1**2\n",
        "  num2 = testY_original[i] - num_avg\n",
        "  num_sum2 += num2**2\n",
        "\n",
        "nse = 1 - (num_sum1 / num_sum2)\n",
        "print('NSE : %f' %nse)"
      ],
      "metadata": {
        "id": "XxZoV4xCqIvU",
        "colab": {
          "base_uri": "https://localhost:8080/"
        },
        "outputId": "f1f96af3-e6ac-4b61-ac27-36cedb79a2c2"
      },
      "execution_count": 68,
      "outputs": [
        {
          "output_type": "stream",
          "name": "stdout",
          "text": [
            "NSE : 0.984932\n"
          ]
        }
      ]
    },
    {
      "cell_type": "code",
      "source": [
        "# PBIAS\n",
        "num_sum1 = 0\n",
        "for i in range(len(testY_original)):\n",
        "  num1 = testY_original[i] - y_pred[i]\n",
        "  num_sum1 += num1\n",
        "\n",
        "pbias = (num_sum1 / np.sum(testY_original[:])) * 100\n",
        "print('PBIAS : %f' %pbias)"
      ],
      "metadata": {
        "id": "NO2tKNhrqIoA",
        "colab": {
          "base_uri": "https://localhost:8080/"
        },
        "outputId": "e191efd7-8b31-4b4b-833d-e14de9bcfa37"
      },
      "execution_count": 69,
      "outputs": [
        {
          "output_type": "stream",
          "name": "stdout",
          "text": [
            "PBIAS : -0.650599\n"
          ]
        }
      ]
    },
    {
      "cell_type": "code",
      "source": [
        "#R^2\n",
        "import math\n",
        "\n",
        "num_sum1 = 0\n",
        "num_sum2 = 0\n",
        "num_sum3 = 0\n",
        "act_avg = mean(testY_original[:])\n",
        "pred_avg = mean(y_pred[:])\n",
        "for i in range(len(testY_original)):\n",
        "  num1 = (testY_original[i] - act_avg) * (y_pred[i] - pred_avg)\n",
        "  num_sum1 += num1\n",
        "  num2 = testY_original[i] - pred_avg\n",
        "  num_sum2 += num2**2\n",
        "  num3 = y_pred[i] - pred_avg\n",
        "  num_sum3 += num3**2\n",
        "\n",
        "r_square = (num_sum1 / (math.sqrt(num_sum2)* math.sqrt(num_sum3)))**2\n",
        "print('R Square : %f' %r_square)"
      ],
      "metadata": {
        "id": "k9y4Gv5I8SEY",
        "colab": {
          "base_uri": "https://localhost:8080/"
        },
        "outputId": "50c318b0-fc53-46a7-e813-d729d36562f1"
      },
      "execution_count": 70,
      "outputs": [
        {
          "output_type": "stream",
          "name": "stdout",
          "text": [
            "R Square : 0.985733\n"
          ]
        }
      ]
    }
  ]
}