{
  "nbformat": 4,
  "nbformat_minor": 0,
  "metadata": {
    "colab": {
      "provenance": [],
      "authorship_tag": "ABX9TyMSAYNcKex6T0Kd7P+EmGTP",
      "include_colab_link": true
    },
    "kernelspec": {
      "name": "python3",
      "display_name": "Python 3"
    },
    "language_info": {
      "name": "python"
    }
  },
  "cells": [
    {
      "cell_type": "markdown",
      "metadata": {
        "id": "view-in-github",
        "colab_type": "text"
      },
      "source": [
        "<a href=\"https://colab.research.google.com/github/zinseo964/dam_flow/blob/main/dam_rnn(notincludesthepreviousdam).ipynb\" target=\"_parent\"><img src=\"https://colab.research.google.com/assets/colab-badge.svg\" alt=\"Open In Colab\"/></a>"
      ]
    },
    {
      "cell_type": "code",
      "execution_count": null,
      "metadata": {
        "colab": {
          "base_uri": "https://localhost:8080/"
        },
        "id": "GQo1Ioqzm9dq",
        "outputId": "86f5785d-39db-4735-bd35-f1b749fa2be0"
      },
      "outputs": [
        {
          "output_type": "stream",
          "name": "stdout",
          "text": [
            "Mounted at /content/drive\n"
          ]
        }
      ],
      "source": [
        "\"\"\" RNN dam flow prediction: stacked RNN \"\"\"\n",
        "\n",
        "# import libraries\n",
        "import numpy as np\n",
        "import pandas as pd\n",
        "from tensorflow.keras.models import Sequential\n",
        "from tensorflow.keras.layers import LSTM, Dense, Flatten\n",
        "from tensorflow.keras.optimizers import Adam\n",
        "from sklearn.preprocessing import StandardScaler, MinMaxScaler\n",
        "import matplotlib.pyplot as plt\n",
        "\n",
        "from google.colab import drive\n",
        "drive.mount('/content/drive')"
      ]
    },
    {
      "cell_type": "code",
      "source": [
        "rain_data = pd.read_csv('/content/drive/MyDrive/240410/rain_day.csv', encoding='utf-8')\n",
        "dam_data = pd.read_csv('/content/drive/MyDrive/240410/total_dam.csv', encoding='utf-8')"
      ],
      "metadata": {
        "id": "NHfpFZhV1KrZ"
      },
      "execution_count": null,
      "outputs": []
    },
    {
      "cell_type": "code",
      "source": [],
      "metadata": {
        "id": "VZX-M7NJnQ0r"
      },
      "execution_count": null,
      "outputs": []
    },
    {
      "cell_type": "code",
      "source": [
        "data = []"
      ],
      "metadata": {
        "id": "ZOSc9aW_NTX_"
      },
      "execution_count": null,
      "outputs": []
    },
    {
      "cell_type": "code",
      "source": [
        "dam_data = dam_data.drop('Unnamed: 0', axis = 1)"
      ],
      "metadata": {
        "id": "pqbh4uMo27f3"
      },
      "execution_count": null,
      "outputs": []
    },
    {
      "cell_type": "code",
      "source": [
        "data = pd.merge( dam_data,rain_data, on='date', how='inner')"
      ],
      "metadata": {
        "id": "cdLeO4e24q26"
      },
      "execution_count": null,
      "outputs": []
    },
    {
      "cell_type": "code",
      "source": [
        "data = data.fillna(0)"
      ],
      "metadata": {
        "id": "_dHIpEd22O2E"
      },
      "execution_count": null,
      "outputs": []
    },
    {
      "cell_type": "code",
      "source": [
        "print(data)"
      ],
      "metadata": {
        "colab": {
          "base_uri": "https://localhost:8080/"
        },
        "id": "8LCkdpxW4q0W",
        "outputId": "48929a48-78a4-4339-b905-c2769dfaa9ff"
      },
      "execution_count": null,
      "outputs": [
        {
          "output_type": "stream",
          "name": "stdout",
          "text": [
            "             date     dam    90  100  101  211  212\n",
            "0      1974-01-01  10.000   0.0  0.0  0.0  0.0  0.0\n",
            "1      1974-01-02   9.000   0.0  0.0  0.0  0.0  0.0\n",
            "2      1974-01-03   4.800   0.0  0.0  0.0  0.0  0.0\n",
            "3      1974-01-04   6.100   0.0  0.0  0.0  0.0  0.0\n",
            "4      1974-01-05   5.800   0.0  0.0  0.0  0.0  0.0\n",
            "...           ...     ...   ...  ...  ...  ...  ...\n",
            "18257  2023-12-27  25.873   0.0  0.0  0.0  0.0  0.0\n",
            "18258  2023-12-28  21.186   0.0  0.0  0.0  0.0  0.0\n",
            "18259  2023-12-29  20.887   0.0  0.0  0.0  0.0  0.0\n",
            "18260  2023-12-30  29.183   0.7  2.3  9.9  6.8  8.5\n",
            "18261  2023-12-31  25.803  26.8  6.0  5.3  3.1  4.9\n",
            "\n",
            "[18262 rows x 7 columns]\n"
          ]
        }
      ]
    },
    {
      "cell_type": "code",
      "source": [],
      "metadata": {
        "id": "PgHrzxos-42s"
      },
      "execution_count": null,
      "outputs": []
    },
    {
      "cell_type": "code",
      "source": [
        "print(dam_data)"
      ],
      "metadata": {
        "colab": {
          "base_uri": "https://localhost:8080/"
        },
        "id": "KZQFqaNs1Ko9",
        "outputId": "52aabcb0-859f-4ced-92c1-ec3f02cd8c4b"
      },
      "execution_count": null,
      "outputs": [
        {
          "output_type": "stream",
          "name": "stdout",
          "text": [
            "             date     dam\n",
            "0      1974-01-01  10.000\n",
            "1      1974-01-02   9.000\n",
            "2      1974-01-03   4.800\n",
            "3      1974-01-04   6.100\n",
            "4      1974-01-05   5.800\n",
            "...           ...     ...\n",
            "18257  2023-12-27  25.873\n",
            "18258  2023-12-28  21.186\n",
            "18259  2023-12-29  20.887\n",
            "18260  2023-12-30  29.183\n",
            "18261  2023-12-31  25.803\n",
            "\n",
            "[18262 rows x 2 columns]\n"
          ]
        }
      ]
    },
    {
      "cell_type": "code",
      "source": [
        "dam = dam_data.drop('date', axis= 1)"
      ],
      "metadata": {
        "id": "gAMWMiiZ_I3c"
      },
      "execution_count": null,
      "outputs": []
    },
    {
      "cell_type": "code",
      "source": [
        "print(dam)"
      ],
      "metadata": {
        "colab": {
          "base_uri": "https://localhost:8080/"
        },
        "id": "AY46nAw0nVM5",
        "outputId": "4f0d867c-10b2-40b1-a8e1-f5a7f1ca9ea6"
      },
      "execution_count": null,
      "outputs": [
        {
          "output_type": "stream",
          "name": "stdout",
          "text": [
            "          dam\n",
            "0      10.000\n",
            "1       9.000\n",
            "2       4.800\n",
            "3       6.100\n",
            "4       5.800\n",
            "...       ...\n",
            "18257  25.873\n",
            "18258  21.186\n",
            "18259  20.887\n",
            "18260  29.183\n",
            "18261  25.803\n",
            "\n",
            "[18262 rows x 1 columns]\n"
          ]
        }
      ]
    },
    {
      "cell_type": "code",
      "source": [
        "print(rain_data)"
      ],
      "metadata": {
        "colab": {
          "base_uri": "https://localhost:8080/"
        },
        "id": "wd50aIWU1Kml",
        "outputId": "1d92efc4-ef2e-49ba-f1f1-aad7985aed8e"
      },
      "execution_count": null,
      "outputs": [
        {
          "output_type": "stream",
          "name": "stdout",
          "text": [
            "             date    90  100  101  211  212\n",
            "0      1974-01-01   0.0  0.0  0.0  0.0  0.0\n",
            "1      1974-01-02   0.0  0.0  0.0  0.0  0.0\n",
            "2      1974-01-03   0.0  0.0  0.0  0.0  0.0\n",
            "3      1974-01-04   0.0  0.0  0.0  0.0  0.0\n",
            "4      1974-01-05   0.0  0.0  0.0  0.0  0.0\n",
            "...           ...   ...  ...  ...  ...  ...\n",
            "18257  2023-12-27   0.0  0.0  0.0  0.0  0.0\n",
            "18258  2023-12-28   0.0  0.0  0.0  0.0  0.0\n",
            "18259  2023-12-29   0.0  0.0  0.0  0.0  0.0\n",
            "18260  2023-12-30   0.7  2.3  9.9  6.8  8.5\n",
            "18261  2023-12-31  26.8  6.0  5.3  3.1  4.9\n",
            "\n",
            "[18262 rows x 6 columns]\n"
          ]
        }
      ]
    },
    {
      "cell_type": "code",
      "source": [],
      "metadata": {
        "id": "bXv8dcE91KhZ"
      },
      "execution_count": null,
      "outputs": []
    },
    {
      "cell_type": "code",
      "source": [],
      "metadata": {
        "id": "36Yl3EaL1KfB"
      },
      "execution_count": null,
      "outputs": []
    },
    {
      "cell_type": "code",
      "source": [
        "# save original 'Open' prices for later\n",
        "original_dam = data['dam'].values"
      ],
      "metadata": {
        "id": "p39VaDNvnlIh"
      },
      "execution_count": null,
      "outputs": []
    },
    {
      "cell_type": "code",
      "source": [
        "# separate dates for future plotting\n",
        "dates = pd.to_datetime(data['date'])"
      ],
      "metadata": {
        "id": "bT8kYSbbnl3d"
      },
      "execution_count": null,
      "outputs": []
    },
    {
      "cell_type": "code",
      "source": [
        "print(data)"
      ],
      "metadata": {
        "colab": {
          "base_uri": "https://localhost:8080/"
        },
        "id": "Y6ekq36NsaOh",
        "outputId": "654ffccb-d509-4273-b14f-c53326250b5f"
      },
      "execution_count": null,
      "outputs": [
        {
          "output_type": "stream",
          "name": "stdout",
          "text": [
            "             date     dam    90  100  101  211  212\n",
            "0      1974-01-01  10.000   0.0  0.0  0.0  0.0  0.0\n",
            "1      1974-01-02   9.000   0.0  0.0  0.0  0.0  0.0\n",
            "2      1974-01-03   4.800   0.0  0.0  0.0  0.0  0.0\n",
            "3      1974-01-04   6.100   0.0  0.0  0.0  0.0  0.0\n",
            "4      1974-01-05   5.800   0.0  0.0  0.0  0.0  0.0\n",
            "...           ...     ...   ...  ...  ...  ...  ...\n",
            "18257  2023-12-27  25.873   0.0  0.0  0.0  0.0  0.0\n",
            "18258  2023-12-28  21.186   0.0  0.0  0.0  0.0  0.0\n",
            "18259  2023-12-29  20.887   0.0  0.0  0.0  0.0  0.0\n",
            "18260  2023-12-30  29.183   0.7  2.3  9.9  6.8  8.5\n",
            "18261  2023-12-31  25.803  26.8  6.0  5.3  3.1  4.9\n",
            "\n",
            "[18262 rows x 7 columns]\n"
          ]
        }
      ]
    },
    {
      "cell_type": "code",
      "source": [
        "# variables for training\n",
        "cols = list(data)[1:7]"
      ],
      "metadata": {
        "id": "ogA_xIwDnnZH"
      },
      "execution_count": null,
      "outputs": []
    },
    {
      "cell_type": "code",
      "source": [
        "print(cols)"
      ],
      "metadata": {
        "colab": {
          "base_uri": "https://localhost:8080/"
        },
        "id": "UAxYrWfg_32w",
        "outputId": "ee9e1609-11af-4e6b-abef-7e61bac62a16"
      },
      "execution_count": null,
      "outputs": [
        {
          "output_type": "stream",
          "name": "stdout",
          "text": [
            "['dam', '90', '100', '101', '211', '212']\n"
          ]
        }
      ]
    },
    {
      "cell_type": "code",
      "source": [
        "# new dataframe with only training data - 5 columns\n",
        "data = data[cols].astype(float)"
      ],
      "metadata": {
        "id": "8Din6kzRnoen"
      },
      "execution_count": null,
      "outputs": []
    },
    {
      "cell_type": "code",
      "source": [
        "dam = dam.astype(float)"
      ],
      "metadata": {
        "id": "JfqqAusVp5OO"
      },
      "execution_count": null,
      "outputs": []
    },
    {
      "cell_type": "code",
      "source": [
        "# normalize the dataset\n",
        "scaler = MinMaxScaler()\n",
        "dam_data_scaled = scaler.fit_transform(data)\n",
        "# dam_data_scaled = scaler.transform(data)"
      ],
      "metadata": {
        "id": "HRrDFZ_Gnpko"
      },
      "execution_count": null,
      "outputs": []
    },
    {
      "cell_type": "code",
      "source": [
        "# split to train data and test data\n",
        "n_train = int(0.9*dam_data_scaled.shape[0])\n",
        "train_data_scaled = dam_data_scaled[0: n_train]\n",
        "train_dates = dates[0: n_train]\n",
        "\n",
        "test_data_scaled = dam_data_scaled[n_train:]\n",
        "test_dates = dates[n_train:]\n"
      ],
      "metadata": {
        "id": "1xSw2podnqir"
      },
      "execution_count": null,
      "outputs": []
    },
    {
      "cell_type": "code",
      "source": [
        "# data.to_csv(\"/content/drive/MyDrive/240410/data.csv\")"
      ],
      "metadata": {
        "id": "-NLgESsK7-ct"
      },
      "execution_count": null,
      "outputs": []
    },
    {
      "cell_type": "code",
      "source": [
        "train_data_scaled[-1]"
      ],
      "metadata": {
        "colab": {
          "base_uri": "https://localhost:8080/"
        },
        "id": "34gffoFC7NZ3",
        "outputId": "2b903db5-ae31-4faa-9b44-6965d6229270"
      },
      "execution_count": null,
      "outputs": [
        {
          "output_type": "execute_result",
          "data": {
            "text/plain": [
              "array([0.00158542, 0.        , 0.        , 0.        , 0.        ,\n",
              "       0.        ])"
            ]
          },
          "metadata": {},
          "execution_count": 23
        }
      ]
    },
    {
      "cell_type": "code",
      "source": [
        "scaler_dam = MinMaxScaler()\n",
        "dam_scaled = scaler_dam.fit_transform(dam)"
      ],
      "metadata": {
        "id": "W2oW0niv607k"
      },
      "execution_count": null,
      "outputs": []
    },
    {
      "cell_type": "code",
      "source": [
        "# data reformatting for LSTM\n",
        "pred_days = 1  # prediction period\n",
        "seq_len = 14   # sequence length = past days for future prediction.\n",
        "input_dim = 5  # input_dimension = [ '90', '100', '101', '211', '212']\n",
        "\n",
        "trainX = []\n",
        "trainY = []\n",
        "testX = []\n",
        "testY = []\n",
        "\n",
        "for i in range(seq_len, n_train-pred_days +1):\n",
        "    trainX.append(train_data_scaled[i - seq_len:i, 1:train_data_scaled.shape[1]])\n",
        "    trainY.append(train_data_scaled[i + pred_days - 2:i + pred_days-1, 0])\n",
        "\n",
        "for i in range(seq_len, len(test_data_scaled)-pred_days +1):\n",
        "    testX.append(test_data_scaled[i - seq_len:i, 1:test_data_scaled.shape[1]])\n",
        "    testY.append(test_data_scaled[i + pred_days - 2:i + pred_days-1, 0])\n",
        "\n",
        "# print(trainX[:5])\n",
        "# print(trainY[:5])\n",
        "\n",
        "trainX, trainY = np.array(trainX), np.array(trainY)\n",
        "testX, testY = np.array(testX), np.array(testY)"
      ],
      "metadata": {
        "id": "iCOaHw2Cnsnz"
      },
      "execution_count": null,
      "outputs": []
    },
    {
      "cell_type": "code",
      "source": [
        "print(trainY)"
      ],
      "metadata": {
        "colab": {
          "base_uri": "https://localhost:8080/"
        },
        "id": "6Kb_f1MEFlyQ",
        "outputId": "a7191d1c-5175-4bef-e08a-e929d33ed2b7"
      },
      "execution_count": null,
      "outputs": [
        {
          "output_type": "stream",
          "name": "stdout",
          "text": [
            "[[0.00086421]\n",
            " [0.00120179]\n",
            " [0.00075618]\n",
            " ...\n",
            " [0.00074538]\n",
            " [0.00076483]\n",
            " [0.00077576]]\n"
          ]
        }
      ]
    },
    {
      "cell_type": "code",
      "source": [
        "print(trainX.shape, trainY.shape)\n",
        "print(testX.shape, testY.shape)"
      ],
      "metadata": {
        "id": "w6xCKBOanvvz",
        "colab": {
          "base_uri": "https://localhost:8080/"
        },
        "outputId": "020cb4e3-b9e5-463a-a611-ecdbebbd9374"
      },
      "execution_count": null,
      "outputs": [
        {
          "output_type": "stream",
          "name": "stdout",
          "text": [
            "(16421, 14, 5) (16421, 1)\n",
            "(1813, 14, 5) (1813, 1)\n"
          ]
        }
      ]
    },
    {
      "cell_type": "code",
      "source": [
        "print(data)"
      ],
      "metadata": {
        "colab": {
          "base_uri": "https://localhost:8080/"
        },
        "id": "ABV11yxg_fPk",
        "outputId": "90f4d8b3-496d-4b46-96d7-ed009d8ff1e0"
      },
      "execution_count": null,
      "outputs": [
        {
          "output_type": "stream",
          "name": "stdout",
          "text": [
            "          dam    90  100  101  211  212\n",
            "0      10.000   0.0  0.0  0.0  0.0  0.0\n",
            "1       9.000   0.0  0.0  0.0  0.0  0.0\n",
            "2       4.800   0.0  0.0  0.0  0.0  0.0\n",
            "3       6.100   0.0  0.0  0.0  0.0  0.0\n",
            "4       5.800   0.0  0.0  0.0  0.0  0.0\n",
            "...       ...   ...  ...  ...  ...  ...\n",
            "18257  25.873   0.0  0.0  0.0  0.0  0.0\n",
            "18258  21.186   0.0  0.0  0.0  0.0  0.0\n",
            "18259  20.887   0.0  0.0  0.0  0.0  0.0\n",
            "18260  29.183   0.7  2.3  9.9  6.8  8.5\n",
            "18261  25.803  26.8  6.0  5.3  3.1  4.9\n",
            "\n",
            "[18262 rows x 6 columns]\n"
          ]
        }
      ]
    },
    {
      "cell_type": "code",
      "source": [
        "# RNN model\n",
        "model = Sequential()\n",
        "model.add(Flatten(input_shape=(trainX.shape[1], trainX.shape[2])))\n",
        "model.add(Dense(64))\n",
        "model.add(Dense(32))\n",
        "model.add(Dense(trainY.shape[1]))\n",
        "\n",
        "model.summary()"
      ],
      "metadata": {
        "colab": {
          "base_uri": "https://localhost:8080/"
        },
        "id": "r0DxPNxbnwJ3",
        "outputId": "29388c41-36e7-44d1-c9c3-858afdc02958"
      },
      "execution_count": null,
      "outputs": [
        {
          "output_type": "stream",
          "name": "stdout",
          "text": [
            "Model: \"sequential\"\n",
            "_________________________________________________________________\n",
            " Layer (type)                Output Shape              Param #   \n",
            "=================================================================\n",
            " flatten (Flatten)           (None, 70)                0         \n",
            "                                                                 \n",
            " dense (Dense)               (None, 64)                4544      \n",
            "                                                                 \n",
            " dense_1 (Dense)             (None, 32)                2080      \n",
            "                                                                 \n",
            " dense_2 (Dense)             (None, 1)                 33        \n",
            "                                                                 \n",
            "=================================================================\n",
            "Total params: 6657 (26.00 KB)\n",
            "Trainable params: 6657 (26.00 KB)\n",
            "Non-trainable params: 0 (0.00 Byte)\n",
            "_________________________________________________________________\n"
          ]
        }
      ]
    },
    {
      "cell_type": "code",
      "source": [
        "# specify your learning rate\n",
        "learning_rate = 0.01\n",
        "# create an Adam optimizer with the specified learning rate\n",
        "optimizer = Adam(learning_rate=learning_rate)\n",
        "# compile your model using the custom optimizer\n",
        "model.compile(optimizer=optimizer, loss='mse')"
      ],
      "metadata": {
        "id": "XBbmyaHmnxML"
      },
      "execution_count": null,
      "outputs": []
    },
    {
      "cell_type": "code",
      "source": [
        "# Try to load weights\n",
        "try:\n",
        "    model.load_weights('/content/drive/MyDrive/240410/dam_rnn_nodam_weights.h5')\n",
        "    print(\"Loaded model weights from disk\")\n",
        "except:\n",
        "    print(\"No weights found, training model from scratch\")\n",
        "    # Fit the model\n",
        "    history = model.fit(trainX, trainY, epochs=30, batch_size=32,\n",
        "                    validation_split=0.1, verbose=1)\n",
        "    # Save model weights after training\n",
        "    model.save_weights('/content/drive/MyDrive/240410/dam_rnn_nodam_weights.h5')\n",
        "\n",
        "    plt.plot(history.history['loss'], label='Training loss')\n",
        "    plt.plot(history.history['val_loss'], label='Validation loss')\n",
        "    plt.legend()\n",
        "    plt.show()"
      ],
      "metadata": {
        "colab": {
          "base_uri": "https://localhost:8080/"
        },
        "id": "ftq3t9DnnyIw",
        "outputId": "ed3499b7-c56a-46dd-9a12-a9d9aa3a2f2e"
      },
      "execution_count": null,
      "outputs": [
        {
          "output_type": "stream",
          "name": "stdout",
          "text": [
            "Loaded model weights from disk\n"
          ]
        }
      ]
    },
    {
      "cell_type": "code",
      "source": [
        "prediction = model.predict(testX)\n",
        "\n",
        "y_pred = (scaler_dam.inverse_transform(prediction)[:,0])\n",
        "testY_original = scaler_dam.inverse_transform(testY)[:,0]\n",
        "\n",
        "# plotting\n",
        "plt.figure(figsize=(14, 5))\n",
        "\n",
        "# plot original 'Open' prices\n",
        "plt.plot(dates, original_dam, color='green', label='Original Dam Flow')\n",
        "\n",
        "# plot actual vs predicted\n",
        "plt.plot(test_dates[seq_len:], testY_original, color='blue', label='Actual Dam Flow')\n",
        "plt.plot(test_dates[seq_len:], y_pred, color='red', linestyle='--', label='Predicted Dam Flow')\n",
        "plt.xlabel('Date')\n",
        "plt.ylabel('Dam Flow')\n",
        "plt.title('Original, Actual and Predicted Dam Flow')\n",
        "plt.legend()\n",
        "plt.show()"
      ],
      "metadata": {
        "colab": {
          "base_uri": "https://localhost:8080/",
          "height": 505
        },
        "id": "CBak2Gro47hq",
        "outputId": "b70e0e6b-6ed6-400a-cd43-9c66512acb09"
      },
      "execution_count": null,
      "outputs": [
        {
          "output_type": "stream",
          "name": "stdout",
          "text": [
            "57/57 [==============================] - 0s 2ms/step\n"
          ]
        },
        {
          "output_type": "display_data",
          "data": {
            "text/plain": [
              "<Figure size 1400x500 with 1 Axes>"
            ],
            "image/png": "[encoded data removed]"
          },
          "metadata": {}
        }
      ]
    },
    {
      "cell_type": "code",
      "source": [
        "testDates = []\n",
        "for day in test_dates[14:]:\n",
        "  testDates.append(day.strftime(\"%Y-%m-%d\"))\n",
        "\n",
        "testDates = pd.DataFrame(testDates)\n",
        "predY = pd.DataFrame(y_pred)\n",
        "originY = pd.DataFrame(testY_original)\n",
        "\n",
        "rnn_include_dam = pd.concat([testDates, originY, predY], axis = 1)\n",
        "print(rnn_include_dam)\n",
        "\n",
        "rnn_include_dam = pd.DataFrame(rnn_include_dam)\n",
        "rnn_include_dam.to_csv(\"/content/drive/MyDrive/240410/compare_dam/rnn_notinclude_dam.csv\")"
      ],
      "metadata": {
        "colab": {
          "base_uri": "https://localhost:8080/"
        },
        "id": "Q4AI0IrEqS7Z",
        "outputId": "bd6c519a-5f96-4c1b-81dc-ca326eea86e5"
      },
      "execution_count": null,
      "outputs": [
        {
          "output_type": "stream",
          "name": "stdout",
          "text": [
            "               0       0          0\n",
            "0     2019-01-14   9.100 -56.842419\n",
            "1     2019-01-15   3.300 -56.842419\n",
            "2     2019-01-16   9.100 -56.681995\n",
            "3     2019-01-17   3.200 -56.321583\n",
            "4     2019-01-18   9.100 -56.434807\n",
            "...          ...     ...        ...\n",
            "1808  2023-12-27  30.518 -86.065842\n",
            "1809  2023-12-28  25.873 -55.155659\n",
            "1810  2023-12-29  21.186 -29.148968\n",
            "1811  2023-12-30  20.887 -54.021599\n",
            "1812  2023-12-31  29.183 -13.295959\n",
            "\n",
            "[1813 rows x 3 columns]\n"
          ]
        }
      ]
    },
    {
      "cell_type": "code",
      "source": [
        "testX_last = []\n",
        "\n",
        "for x in testX:\n",
        "  testX_last.append(x[-1])\n",
        "\n",
        "print(testX_last[0])\n",
        "\n",
        "testX_last = scaler_dam.inverse_transform(testX_last)\n",
        "testX_last = pd.DataFrame(testX_last)\n",
        "\n",
        "rnn_notinclude_x = pd.concat([testDates, testX_last, originY, predY], axis = 1)\n",
        "rnn_notinclude_x.to_csv(\"/content/drive/MyDrive/240410/compare_dam/rnn_notinclude_x.csv\")\n",
        "\n",
        "print(rnn_notinclude_x)"
      ],
      "metadata": {
        "colab": {
          "base_uri": "https://localhost:8080/"
        },
        "id": "SZGUhRbRYzIx",
        "outputId": "4db72d4e-42e6-472d-cbc1-f76aad4583e4"
      },
      "execution_count": null,
      "outputs": [
        {
          "output_type": "stream",
          "name": "stdout",
          "text": [
            "[0. 0. 0. 0. 0.]\n",
            "               0          0          1           2           3           4  \\\n",
            "0     2019-01-14   0.000000   0.000000    0.000000    0.000000    0.000000   \n",
            "1     2019-01-15   0.000000   0.000000    0.000000    0.000000    0.000000   \n",
            "2     2019-01-16   0.000000   0.000000    4.801037    0.000000    0.000000   \n",
            "3     2019-01-17   0.000000   0.000000    2.400519    0.000000    0.000000   \n",
            "4     2019-01-18   0.000000   0.000000    0.000000    0.000000    0.000000   \n",
            "...          ...        ...        ...         ...         ...         ...   \n",
            "1808  2023-12-27   0.000000   0.000000    0.000000    0.000000    0.000000   \n",
            "1809  2023-12-28   0.000000   0.000000    0.000000    0.000000    0.000000   \n",
            "1810  2023-12-29   0.000000   0.000000    0.000000    0.000000    0.000000   \n",
            "1811  2023-12-30   0.000000   0.000000    0.000000    0.000000    0.000000   \n",
            "1812  2023-12-31  14.059995  23.905796  237.651345  182.589123  228.071014   \n",
            "\n",
            "           0          0  \n",
            "0      9.100 -56.842419  \n",
            "1      3.300 -56.842419  \n",
            "2      9.100 -56.681995  \n",
            "3      3.200 -56.321583  \n",
            "4      9.100 -56.434807  \n",
            "...      ...        ...  \n",
            "1808  30.518 -86.065842  \n",
            "1809  25.873 -55.155659  \n",
            "1810  21.186 -29.148968  \n",
            "1811  20.887 -54.021599  \n",
            "1812  29.183 -13.295959  \n",
            "\n",
            "[1813 rows x 8 columns]\n"
          ]
        }
      ]
    },
    {
      "cell_type": "code",
      "source": [
        "# Calculate the start and end indices for the zoomed plot\n",
        "zoom_start = len(test_dates) - 1813\n",
        "zoom_end = len(test_dates)\n",
        "\n",
        "# Create the zoomed plot\n",
        "plt.figure(figsize=(14, 5))\n",
        "\n",
        "# Adjust the start index for the testY_original and y_pred arrays\n",
        "adjusted_start = zoom_start - seq_len\n",
        "\n",
        "plt.plot(test_dates[zoom_start:zoom_end],\n",
        "         testY_original[adjusted_start:zoom_end - zoom_start + adjusted_start],\n",
        "         color='blue',\n",
        "         label='Actual Dam Flow')\n",
        "\n",
        "plt.plot(test_dates[zoom_start:zoom_end],\n",
        "         y_pred[adjusted_start:zoom_end - zoom_start + adjusted_start ],\n",
        "         color='red',\n",
        "         linestyle='--',\n",
        "         label='Predicted Dam Flow')\n",
        "\n",
        "plt.xlabel('Date')\n",
        "plt.ylabel('Dam Flow')\n",
        "plt.title('Zoomed In Actual vs Predicted Dam Flow')\n",
        "plt.legend()\n",
        "plt.show()"
      ],
      "metadata": {
        "id": "fXGQtK4aoApN"
      },
      "execution_count": null,
      "outputs": []
    },
    {
      "cell_type": "code",
      "source": [
        "# 일대일 그래프\n",
        "x = np.arange(0,max(max(testY_original), max(y_pred)))\n",
        "y = x\n",
        "plt.scatter(testY_original[:], y_pred[:], color = 'purple', alpha = 0.6)\n",
        "plt.plot(x,y, color = 'blue', alpha = 0.6, label = 'y = x')\n",
        "plt.xlabel('Actuals')\n",
        "plt.ylabel('Simulate')\n",
        "\n",
        "plt.legend()\n",
        "plt.show()"
      ],
      "metadata": {
        "id": "el4PPAciqI5b"
      },
      "execution_count": null,
      "outputs": []
    },
    {
      "cell_type": "code",
      "source": [
        "#RMSE\n",
        "from sklearn.metrics import r2_score\n",
        "from sklearn.metrics import mean_squared_error\n",
        "\n",
        "rmse = np.sqrt(mean_squared_error(testY_original, y_pred))\n",
        "print('RMSE : %.2f' %(rmse))"
      ],
      "metadata": {
        "id": "ntPIbgUHqIzJ"
      },
      "execution_count": null,
      "outputs": []
    },
    {
      "cell_type": "code",
      "source": [
        "# NSE\n",
        "from numpy import mean\n",
        "num_sum1 = 0\n",
        "num_sum2 = 0\n",
        "num_avg = mean(testY_original[:])\n",
        "for i in range(len(testY_original)):\n",
        "  num1 = testY_original[i] - y_pred[i]\n",
        "  num_sum1 += num1**2\n",
        "  num2 = testY_original[i] - num_avg\n",
        "  num_sum2 += num2**2\n",
        "\n",
        "nse = 1 - (num_sum1 / num_sum2)\n",
        "print('NSE : %f' %nse)"
      ],
      "metadata": {
        "id": "XxZoV4xCqIvU"
      },
      "execution_count": null,
      "outputs": []
    },
    {
      "cell_type": "code",
      "source": [
        "# PBIAS\n",
        "num_sum1 = 0\n",
        "for i in range(len(testY_original)):\n",
        "  num1 = abs(testY_original[i] - y_pred[i])\n",
        "  num_sum1 += num1\n",
        "\n",
        "pbias = (num_sum1 / np.sum(testY_original[:])) * 100\n",
        "print('PBIAS : %f' %pbias)"
      ],
      "metadata": {
        "id": "NO2tKNhrqIoA"
      },
      "execution_count": null,
      "outputs": []
    },
    {
      "cell_type": "code",
      "source": [
        "#R^2\n",
        "import math\n",
        "\n",
        "num_sum1 = 0\n",
        "num_sum2 = 0\n",
        "num_sum3 = 0\n",
        "act_avg = mean(testY_original[:])\n",
        "pred_avg = mean(y_pred[:])\n",
        "for i in range(len(testY_original)):\n",
        "  num1 = (testY_original[i] - act_avg) * (y_pred[i] - pred_avg)\n",
        "  num_sum1 += num1\n",
        "  num2 = testY_original[i] - pred_avg\n",
        "  num_sum2 += num2**2\n",
        "  num3 = y_pred[i] - pred_avg\n",
        "  num_sum3 += num3**2\n",
        "\n",
        "r_square = (num_sum1 / (math.sqrt(num_sum2)* math.sqrt(num_sum3)))**2\n",
        "print('R Square : %f' %r_square)"
      ],
      "metadata": {
        "id": "k9y4Gv5I8SEY"
      },
      "execution_count": null,
      "outputs": []
    },
    {
      "cell_type": "code",
      "source": [
        "print(min(testY_original), min(y_pred))"
      ],
      "metadata": {
        "id": "OtmJmlSGnHOs"
      },
      "execution_count": null,
      "outputs": []
    },
    {
      "cell_type": "code",
      "source": [],
      "metadata": {
        "id": "U3JIbAt-aaBI"
      },
      "execution_count": null,
      "outputs": []
    }
  ]
}