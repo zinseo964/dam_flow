{
  "nbformat": 4,
  "nbformat_minor": 0,
  "metadata": {
    "colab": {
      "provenance": [],
      "authorship_tag": "ABX9TyMbk5v/uEelRXKeJLt6dvfA",
      "include_colab_link": true
    },
    "kernelspec": {
      "name": "python3",
      "display_name": "Python 3"
    },
    "language_info": {
      "name": "python"
    }
  },
  "cells": [
    {
      "cell_type": "markdown",
      "metadata": {
        "id": "view-in-github",
        "colab_type": "text"
      },
      "source": [
        "<a href=\"https://colab.research.google.com/github/zinseo964/dam_flow/blob/main/damwithday.ipynb\" target=\"_parent\"><img src=\"https://colab.research.google.com/assets/colab-badge.svg\" alt=\"Open In Colab\"/></a>"
      ]
    },
    {
      "cell_type": "code",
      "execution_count": 1,
      "metadata": {
        "id": "eh9FG4N_F9vS"
      },
      "outputs": [],
      "source": [
        "import pandas as pd\n",
        "import numpy as np\n",
        "import matplotlib.pyplot as plt\n",
        "import tensorflow as tf\n",
        "import os"
      ]
    },
    {
      "cell_type": "code",
      "source": [
        "from google.colab import drive\n",
        "drive.mount('/content/drive')"
      ],
      "metadata": {
        "colab": {
          "base_uri": "https://localhost:8080/"
        },
        "id": "dIQ5esK-hRjj",
        "outputId": "9b7b2bcc-e46c-45eb-ff76-ee14e79493be"
      },
      "execution_count": 2,
      "outputs": [
        {
          "output_type": "stream",
          "name": "stdout",
          "text": [
            "Mounted at /content/drive\n"
          ]
        }
      ]
    },
    {
      "cell_type": "code",
      "source": [
        "rain_data211 = pd.read_csv('/content/drive/MyDrive/Colab Notebooks/dam_flow_csv/rn_20240130172151.csv',encoding='cp949')\n",
        "rain_data101 = pd.read_csv('/content/drive/MyDrive/Colab Notebooks/dam_flow_csv/rn_20240130172202.csv',encoding='cp949')\n",
        "rain_data100 = pd.read_csv('/content/drive/MyDrive/Colab Notebooks/dam_flow_csv/rn_20240130172215.csv',encoding='cp949')\n",
        "rain_data212 = pd.read_csv('/content/drive/MyDrive/Colab Notebooks/dam_flow_csv/rn_20240130172236.csv',encoding='cp949')\n",
        "rain_data90 = pd.read_csv('/content/drive/MyDrive/Colab Notebooks/dam_flow_csv/rn_20240130172245.csv',encoding='cp949')"
      ],
      "metadata": {
        "id": "sTCa--h7JmNi"
      },
      "execution_count": 3,
      "outputs": []
    },
    {
      "cell_type": "code",
      "source": [
        "# rain_data = pd.merge(rain_data211, rain_data101, how='outer')\n",
        "from functools import reduce\n",
        "\n",
        "rain_data = reduce(lambda x,y : pd.merge(x,y, on='날짜', how='outer'),[rain_data211, rain_data101, rain_data100, rain_data212, rain_data90])"
      ],
      "metadata": {
        "id": "DprPaZgXh3BR"
      },
      "execution_count": 4,
      "outputs": []
    },
    {
      "cell_type": "code",
      "source": [
        "print(rain_data)"
      ],
      "metadata": {
        "colab": {
          "base_uri": "https://localhost:8080/"
        },
        "id": "waugWhK5jpk0",
        "outputId": "e722a60a-73fe-4061-ed45-0396ff1eaf7f"
      },
      "execution_count": 5,
      "outputs": [
        {
          "output_type": "stream",
          "name": "stdout",
          "text": [
            "              날짜  211강수량(mm)  101강수량(mm)  100강수량(mm)  212강수량(mm)  90강수량(mm)\n",
            "0     2009-01-01         NaN         NaN         NaN         NaN        NaN\n",
            "1     2009-01-02         NaN         NaN         NaN         NaN        NaN\n",
            "2     2009-01-03         NaN         NaN         NaN         NaN        NaN\n",
            "3     2009-01-04         NaN         NaN         NaN         NaN        NaN\n",
            "4     2009-01-05         NaN         NaN         NaN         NaN        NaN\n",
            "...          ...         ...         ...         ...         ...        ...\n",
            "5473  2023-12-27         NaN         NaN         NaN         NaN        NaN\n",
            "5474  2023-12-28         NaN         NaN         NaN         NaN        NaN\n",
            "5475  2023-12-29         NaN         NaN         NaN         NaN        NaN\n",
            "5476  2023-12-30         6.8         9.9         2.3         8.5        0.7\n",
            "5477  2023-12-31         3.1         5.3         6.0         4.9       26.8\n",
            "\n",
            "[5478 rows x 6 columns]\n"
          ]
        }
      ]
    },
    {
      "cell_type": "code",
      "source": [
        "rain_col = [i for i in rain_data.columns if '강수' in i]\n",
        "rain_data[rain_col] = rain_data[rain_col].fillna(0)"
      ],
      "metadata": {
        "id": "4k7gESlaGIju"
      },
      "execution_count": 6,
      "outputs": []
    },
    {
      "cell_type": "code",
      "source": [
        "print(rain_data.isna().sum().sum())\n",
        "print(rain_data)"
      ],
      "metadata": {
        "colab": {
          "base_uri": "https://localhost:8080/"
        },
        "id": "GBzXaW-6jr8I",
        "outputId": "e07191e0-afff-4187-9549-461a7e88aa14"
      },
      "execution_count": 7,
      "outputs": [
        {
          "output_type": "stream",
          "name": "stdout",
          "text": [
            "0\n",
            "              날짜  211강수량(mm)  101강수량(mm)  100강수량(mm)  212강수량(mm)  90강수량(mm)\n",
            "0     2009-01-01         0.0         0.0         0.0         0.0        0.0\n",
            "1     2009-01-02         0.0         0.0         0.0         0.0        0.0\n",
            "2     2009-01-03         0.0         0.0         0.0         0.0        0.0\n",
            "3     2009-01-04         0.0         0.0         0.0         0.0        0.0\n",
            "4     2009-01-05         0.0         0.0         0.0         0.0        0.0\n",
            "...          ...         ...         ...         ...         ...        ...\n",
            "5473  2023-12-27         0.0         0.0         0.0         0.0        0.0\n",
            "5474  2023-12-28         0.0         0.0         0.0         0.0        0.0\n",
            "5475  2023-12-29         0.0         0.0         0.0         0.0        0.0\n",
            "5476  2023-12-30         6.8         9.9         2.3         8.5        0.7\n",
            "5477  2023-12-31         3.1         5.3         6.0         4.9       26.8\n",
            "\n",
            "[5478 rows x 6 columns]\n"
          ]
        }
      ]
    },
    {
      "cell_type": "code",
      "source": [
        "dam_flow = pd.read_csv('/content/drive/MyDrive/Colab Notebooks/dam_flow_csv/only_dam_flow.csv',encoding='utf-8')\n",
        "\n",
        "print(dam_flow)"
      ],
      "metadata": {
        "colab": {
          "base_uri": "https://localhost:8080/"
        },
        "id": "tQH3R_pfSahE",
        "outputId": "696d39bc-c849-4236-c36a-ed2d079f3dc5"
      },
      "execution_count": 8,
      "outputs": [
        {
          "output_type": "stream",
          "name": "stdout",
          "text": [
            "              날짜  유입량(㎥/s)\n",
            "0     2009-01-01     0.000\n",
            "1     2009-01-02     0.825\n",
            "2     2009-01-03     3.904\n",
            "3     2009-01-04     0.000\n",
            "4     2009-01-05     0.000\n",
            "...          ...       ...\n",
            "5473  2023-12-27    25.873\n",
            "5474  2023-12-28    21.186\n",
            "5475  2023-12-29    20.887\n",
            "5476  2023-12-30    29.183\n",
            "5477  2023-12-31    25.803\n",
            "\n",
            "[5478 rows x 2 columns]\n"
          ]
        }
      ]
    },
    {
      "cell_type": "code",
      "source": [
        "data = reduce(lambda x,y : pd.merge(x,y, on='날짜', how='outer'),[rain_data, dam_flow])"
      ],
      "metadata": {
        "id": "Fwa1qTrISbHS"
      },
      "execution_count": 9,
      "outputs": []
    },
    {
      "cell_type": "code",
      "source": [
        "print(max(data['유입량(㎥/s)']))"
      ],
      "metadata": {
        "colab": {
          "base_uri": "https://localhost:8080/"
        },
        "id": "QxdBO2OwZnlQ",
        "outputId": "e1a034cf-607a-403a-831a-f36a9a4bb1ea"
      },
      "execution_count": 10,
      "outputs": [
        {
          "output_type": "stream",
          "name": "stdout",
          "text": [
            "3918.5\n"
          ]
        }
      ]
    },
    {
      "cell_type": "code",
      "source": [
        "data.index = pd.to_datetime(data['날짜'])\n",
        "\n",
        "dam_flow = data['유입량(㎥/s)']\n",
        "dam_flow.plot()"
      ],
      "metadata": {
        "colab": {
          "base_uri": "https://localhost:8080/",
          "height": 634
        },
        "id": "9gfzXmBUcDWP",
        "outputId": "83904ce6-7ad2-4670-d28f-df62424f982b"
      },
      "execution_count": 11,
      "outputs": [
        {
          "output_type": "execute_result",
          "data": {
            "text/plain": [
              "<Axes: xlabel='날짜'>"
            ]
          },
          "metadata": {},
          "execution_count": 11
        },
        {
          "output_type": "stream",
          "name": "stderr",
          "text": [
            "/usr/local/lib/python3.10/dist-packages/IPython/core/events.py:89: UserWarning: Glyph 45216 (\\N{HANGUL SYLLABLE NAL}) missing from current font.\n",
            "  func(*args, **kwargs)\n",
            "/usr/local/lib/python3.10/dist-packages/IPython/core/events.py:89: UserWarning: Glyph 51676 (\\N{HANGUL SYLLABLE JJA}) missing from current font.\n",
            "  func(*args, **kwargs)\n",
            "/usr/local/lib/python3.10/dist-packages/IPython/core/pylabtools.py:151: UserWarning: Glyph 45216 (\\N{HANGUL SYLLABLE NAL}) missing from current font.\n",
            "  fig.canvas.print_figure(bytes_io, **kw)\n",
            "/usr/local/lib/python3.10/dist-packages/IPython/core/pylabtools.py:151: UserWarning: Glyph 51676 (\\N{HANGUL SYLLABLE JJA}) missing from current font.\n",
            "  fig.canvas.print_figure(bytes_io, **kw)\n"
          ]
        },
        {
          "output_type": "display_data",
          "data": {
            "text/plain": [
              "<Figure size 640x480 with 1 Axes>"
            ],
            "image/png": "[encoded data removed]"
          },
          "metadata": {}
        }
      ]
    },
    {
      "cell_type": "code",
      "source": [
        "data['Y'] = data['유입량(㎥/s)'].shift(-2)\n",
        "data = data.dropna()\n",
        "\n",
        "train = data[data['날짜']<'2018-01-01']\n",
        "valid = data[data['날짜']>='2018-01-01']\n",
        "valid = valid[valid['날짜']<'2023-01-01']\n",
        "test = data[data['날짜']>='2023-01-01']\n",
        "print('train set : ', len(train),\"\\n\",\n",
        "      'valid set : ', len(valid), \"\\n\",\n",
        "      'test set : ', len(test), \"\\n\")\n",
        "\n",
        "trainX, trainY = train.drop(['날짜', 'Y'], axis = 1), train['Y']\n",
        "validX, validY = valid.drop(['날짜', 'Y'], axis = 1), valid['Y']\n",
        "testX, testY = test.drop(['날짜', 'Y'], axis = 1), test['Y']"
      ],
      "metadata": {
        "colab": {
          "base_uri": "https://localhost:8080/"
        },
        "id": "SXCFT5roZt-x",
        "outputId": "6682ad6a-ee77-4014-ff11-235e5698445e"
      },
      "execution_count": 12,
      "outputs": [
        {
          "output_type": "stream",
          "name": "stdout",
          "text": [
            "train set :  3287 \n",
            " valid set :  1826 \n",
            " test set :  363 \n",
            "\n"
          ]
        }
      ]
    },
    {
      "cell_type": "code",
      "source": [
        "print(trainX)\n",
        "len(trainX.columns)\n"
      ],
      "metadata": {
        "colab": {
          "base_uri": "https://localhost:8080/"
        },
        "id": "_NasIIN5cMrq",
        "outputId": "08a62de8-f786-4bba-ef26-98f40baca05c"
      },
      "execution_count": 13,
      "outputs": [
        {
          "output_type": "stream",
          "name": "stdout",
          "text": [
            "            211강수량(mm)  101강수량(mm)  100강수량(mm)  212강수량(mm)  90강수량(mm)  \\\n",
            "날짜                                                                      \n",
            "2009-01-01         0.0         0.0         0.0         0.0        0.0   \n",
            "2009-01-02         0.0         0.0         0.0         0.0        0.0   \n",
            "2009-01-03         0.0         0.0         0.0         0.0        0.0   \n",
            "2009-01-04         0.0         0.0         0.0         0.0        0.0   \n",
            "2009-01-05         0.0         0.0         0.0         0.0        0.0   \n",
            "...                ...         ...         ...         ...        ...   \n",
            "2017-12-27         0.0         0.0         0.0         0.0        0.0   \n",
            "2017-12-28         0.0         0.0         0.0         0.0        0.0   \n",
            "2017-12-29         0.0         0.0         0.0         0.0        0.0   \n",
            "2017-12-30         0.4         1.0         0.3         0.6        0.0   \n",
            "2017-12-31         1.0         1.1         0.0         2.0        0.0   \n",
            "\n",
            "            유입량(㎥/s)  \n",
            "날짜                    \n",
            "2009-01-01     0.000  \n",
            "2009-01-02     0.825  \n",
            "2009-01-03     3.904  \n",
            "2009-01-04     0.000  \n",
            "2009-01-05     0.000  \n",
            "...              ...  \n",
            "2017-12-27     0.024  \n",
            "2017-12-28     0.104  \n",
            "2017-12-29     5.957  \n",
            "2017-12-30     6.000  \n",
            "2017-12-31     0.285  \n",
            "\n",
            "[3287 rows x 6 columns]\n"
          ]
        },
        {
          "output_type": "execute_result",
          "data": {
            "text/plain": [
              "6"
            ]
          },
          "metadata": {},
          "execution_count": 13
        }
      ]
    },
    {
      "cell_type": "code",
      "source": [
        "temp = data['유입량(㎥/s)']\n",
        "temp.plot()"
      ],
      "metadata": {
        "colab": {
          "base_uri": "https://localhost:8080/",
          "height": 634
        },
        "id": "ai1d7H-1Xsde",
        "outputId": "b9bec05e-49be-4c47-b686-a353b67045ec"
      },
      "execution_count": 14,
      "outputs": [
        {
          "output_type": "execute_result",
          "data": {
            "text/plain": [
              "<Axes: xlabel='날짜'>"
            ]
          },
          "metadata": {},
          "execution_count": 14
        },
        {
          "output_type": "stream",
          "name": "stderr",
          "text": [
            "/usr/local/lib/python3.10/dist-packages/IPython/core/events.py:89: UserWarning: Glyph 45216 (\\N{HANGUL SYLLABLE NAL}) missing from current font.\n",
            "  func(*args, **kwargs)\n",
            "/usr/local/lib/python3.10/dist-packages/IPython/core/events.py:89: UserWarning: Glyph 51676 (\\N{HANGUL SYLLABLE JJA}) missing from current font.\n",
            "  func(*args, **kwargs)\n",
            "/usr/local/lib/python3.10/dist-packages/IPython/core/pylabtools.py:151: UserWarning: Glyph 45216 (\\N{HANGUL SYLLABLE NAL}) missing from current font.\n",
            "  fig.canvas.print_figure(bytes_io, **kw)\n",
            "/usr/local/lib/python3.10/dist-packages/IPython/core/pylabtools.py:151: UserWarning: Glyph 51676 (\\N{HANGUL SYLLABLE JJA}) missing from current font.\n",
            "  fig.canvas.print_figure(bytes_io, **kw)\n"
          ]
        },
        {
          "output_type": "display_data",
          "data": {
            "text/plain": [
              "<Figure size 640x480 with 1 Axes>"
            ],
            "image/png": "[encoded data removed]"
          },
          "metadata": {}
        }
      ]
    },
    {
      "cell_type": "code",
      "source": [
        "from sklearn.preprocessing import MinMaxScaler\n",
        "from tensorflow.keras.layers import *\n",
        "from keras.models import Sequential\n",
        "import tensorflow as tf\n",
        "from keras.layers import Dense, LSTM\n",
        "from tensorflow.keras.models import Sequential\n",
        "from tensorflow.keras.layers import *\n",
        "from tensorflow.keras.callbacks import ModelCheckpoint\n",
        "from tensorflow.keras.losses import MeanSquaredError\n",
        "from tensorflow.keras.metrics import RootMeanSquaredError\n",
        "from tensorflow.keras.optimizers import Adam\n",
        "\n",
        "model1 = Sequential()\n",
        "model1.add(InputLayer((6, 1)))\n",
        "model1.add(LSTM(64))\n",
        "model1.add(Dense(40, 'relu'))\n",
        "model1.add(Dense(40, 'relu'))\n",
        "model1.add(Dense(8, 'relu'))\n",
        "model1.add(Dense(8))\n",
        "model1.add(Dense(1))\n",
        "\n",
        "model1.summary()"
      ],
      "metadata": {
        "colab": {
          "base_uri": "https://localhost:8080/"
        },
        "id": "vmqdghl2KSv3",
        "outputId": "aa5ab481-b2ed-4c2f-eb26-bc79aea1e965"
      },
      "execution_count": 18,
      "outputs": [
        {
          "output_type": "stream",
          "name": "stdout",
          "text": [
            "Model: \"sequential_1\"\n",
            "_________________________________________________________________\n",
            " Layer (type)                Output Shape              Param #   \n",
            "=================================================================\n",
            " lstm_1 (LSTM)               (None, 64)                16896     \n",
            "                                                                 \n",
            " dense_6 (Dense)             (None, 40)                2600      \n",
            "                                                                 \n",
            " dense_7 (Dense)             (None, 40)                1640      \n",
            "                                                                 \n",
            " dense_8 (Dense)             (None, 8)                 328       \n",
            "                                                                 \n",
            " dense_9 (Dense)             (None, 8)                 72        \n",
            "                                                                 \n",
            " dense_10 (Dense)            (None, 1)                 9         \n",
            "                                                                 \n",
            "=================================================================\n",
            "Total params: 21545 (84.16 KB)\n",
            "Trainable params: 21545 (84.16 KB)\n",
            "Non-trainable params: 0 (0.00 Byte)\n",
            "_________________________________________________________________\n"
          ]
        }
      ]
    },
    {
      "cell_type": "code",
      "source": [
        "cp1 = ModelCheckpoint('model1/', save_best_only=True)\n",
        "model1.compile(loss=MeanSquaredError(), optimizer=Adam(learning_rate=0.0001), metrics=[RootMeanSquaredError()])\n",
        "model1.fit(trainX, trainY, validation_data = (validX, validY), batch_size=10, epochs=50, callbacks=[cp1])"
      ],
      "metadata": {
        "colab": {
          "base_uri": "https://localhost:8080/"
        },
        "id": "JXFtLaHiWT8V",
        "outputId": "f6509f42-b477-414f-a523-0714a7479702"
      },
      "execution_count": 19,
      "outputs": [
        {
          "output_type": "stream",
          "name": "stdout",
          "text": [
            "Epoch 1/50\n",
            "329/329 [==============================] - 11s 24ms/step - loss: 44881.3047 - root_mean_squared_error: 211.8521 - val_loss: 48404.1602 - val_root_mean_squared_error: 220.0095\n",
            "Epoch 2/50\n",
            "329/329 [==============================] - 7s 22ms/step - loss: 43384.5391 - root_mean_squared_error: 208.2896 - val_loss: 45216.7422 - val_root_mean_squared_error: 212.6423\n",
            "Epoch 3/50\n",
            "329/329 [==============================] - 6s 19ms/step - loss: 40520.2305 - root_mean_squared_error: 201.2964 - val_loss: 42421.6562 - val_root_mean_squared_error: 205.9652\n",
            "Epoch 4/50\n",
            "329/329 [==============================] - 8s 24ms/step - loss: 38178.5781 - root_mean_squared_error: 195.3934 - val_loss: 40198.4961 - val_root_mean_squared_error: 200.4956\n",
            "Epoch 5/50\n",
            "329/329 [==============================] - 7s 21ms/step - loss: 36011.4805 - root_mean_squared_error: 189.7669 - val_loss: 38218.3633 - val_root_mean_squared_error: 195.4952\n",
            "Epoch 6/50\n",
            "329/329 [==============================] - 7s 21ms/step - loss: 34089.7148 - root_mean_squared_error: 184.6340 - val_loss: 36771.4102 - val_root_mean_squared_error: 191.7587\n",
            "Epoch 7/50\n",
            "329/329 [==============================] - 8s 23ms/step - loss: 32629.7031 - root_mean_squared_error: 180.6369 - val_loss: 35903.1797 - val_root_mean_squared_error: 189.4813\n",
            "Epoch 8/50\n",
            "329/329 [==============================] - 7s 21ms/step - loss: 31643.2168 - root_mean_squared_error: 177.8854 - val_loss: 35214.8594 - val_root_mean_squared_error: 187.6562\n",
            "Epoch 9/50\n",
            "329/329 [==============================] - 7s 21ms/step - loss: 30770.9668 - root_mean_squared_error: 175.4165 - val_loss: 34928.7266 - val_root_mean_squared_error: 186.8923\n",
            "Epoch 10/50\n",
            "329/329 [==============================] - 8s 23ms/step - loss: 30318.5723 - root_mean_squared_error: 174.1223 - val_loss: 34640.2969 - val_root_mean_squared_error: 186.1190\n",
            "Epoch 11/50\n",
            "329/329 [==============================] - 3s 8ms/step - loss: 29898.5801 - root_mean_squared_error: 172.9120 - val_loss: 34645.0820 - val_root_mean_squared_error: 186.1319\n",
            "Epoch 12/50\n",
            "329/329 [==============================] - 3s 9ms/step - loss: 29535.7012 - root_mean_squared_error: 171.8595 - val_loss: 34798.5820 - val_root_mean_squared_error: 186.5438\n",
            "Epoch 13/50\n",
            "329/329 [==============================] - 7s 21ms/step - loss: 29592.4258 - root_mean_squared_error: 172.0245 - val_loss: 34178.6094 - val_root_mean_squared_error: 184.8746\n",
            "Epoch 14/50\n",
            "329/329 [==============================] - 3s 8ms/step - loss: 29400.1914 - root_mean_squared_error: 171.4648 - val_loss: 34341.8594 - val_root_mean_squared_error: 185.3156\n",
            "Epoch 15/50\n",
            "329/329 [==============================] - 2s 7ms/step - loss: 29399.8887 - root_mean_squared_error: 171.4639 - val_loss: 34602.9688 - val_root_mean_squared_error: 186.0187\n",
            "Epoch 16/50\n",
            "329/329 [==============================] - 8s 24ms/step - loss: 29325.0039 - root_mean_squared_error: 171.2455 - val_loss: 34038.5938 - val_root_mean_squared_error: 184.4955\n",
            "Epoch 17/50\n",
            "329/329 [==============================] - 2s 7ms/step - loss: 29334.8887 - root_mean_squared_error: 171.2743 - val_loss: 34168.6172 - val_root_mean_squared_error: 184.8475\n",
            "Epoch 18/50\n",
            "329/329 [==============================] - 7s 22ms/step - loss: 29252.5449 - root_mean_squared_error: 171.0338 - val_loss: 33986.1094 - val_root_mean_squared_error: 184.3532\n",
            "Epoch 19/50\n",
            "329/329 [==============================] - 3s 8ms/step - loss: 29174.5859 - root_mean_squared_error: 170.8057 - val_loss: 34064.6016 - val_root_mean_squared_error: 184.5660\n",
            "Epoch 20/50\n",
            "329/329 [==============================] - 2s 8ms/step - loss: 29280.8242 - root_mean_squared_error: 171.1164 - val_loss: 34294.3438 - val_root_mean_squared_error: 185.1873\n",
            "Epoch 21/50\n",
            "329/329 [==============================] - 3s 8ms/step - loss: 29124.6836 - root_mean_squared_error: 170.6596 - val_loss: 34232.8398 - val_root_mean_squared_error: 185.0212\n",
            "Epoch 22/50\n",
            "329/329 [==============================] - 2s 7ms/step - loss: 28981.4395 - root_mean_squared_error: 170.2394 - val_loss: 34011.8086 - val_root_mean_squared_error: 184.4229\n",
            "Epoch 23/50\n",
            "329/329 [==============================] - 3s 10ms/step - loss: 29084.4277 - root_mean_squared_error: 170.5416 - val_loss: 34308.0156 - val_root_mean_squared_error: 185.2242\n",
            "Epoch 24/50\n",
            "329/329 [==============================] - 2s 7ms/step - loss: 29156.1211 - root_mean_squared_error: 170.7516 - val_loss: 34191.1562 - val_root_mean_squared_error: 184.9085\n",
            "Epoch 25/50\n",
            "329/329 [==============================] - 3s 8ms/step - loss: 29055.6270 - root_mean_squared_error: 170.4571 - val_loss: 34243.1680 - val_root_mean_squared_error: 185.0491\n",
            "Epoch 26/50\n",
            "329/329 [==============================] - 2s 7ms/step - loss: 29033.5645 - root_mean_squared_error: 170.3924 - val_loss: 34174.3633 - val_root_mean_squared_error: 184.8631\n",
            "Epoch 27/50\n",
            "329/329 [==============================] - 7s 22ms/step - loss: 29030.0703 - root_mean_squared_error: 170.3821 - val_loss: 33956.9492 - val_root_mean_squared_error: 184.2741\n",
            "Epoch 28/50\n",
            "329/329 [==============================] - 7s 21ms/step - loss: 29139.6895 - root_mean_squared_error: 170.7035 - val_loss: 33944.3203 - val_root_mean_squared_error: 184.2398\n",
            "Epoch 29/50\n",
            "329/329 [==============================] - 3s 10ms/step - loss: 29017.0762 - root_mean_squared_error: 170.3440 - val_loss: 34557.1055 - val_root_mean_squared_error: 185.8954\n",
            "Epoch 30/50\n",
            "329/329 [==============================] - 3s 10ms/step - loss: 29036.6582 - root_mean_squared_error: 170.4015 - val_loss: 34020.2148 - val_root_mean_squared_error: 184.4457\n",
            "Epoch 31/50\n",
            "329/329 [==============================] - 6s 19ms/step - loss: 29035.5137 - root_mean_squared_error: 170.3981 - val_loss: 33880.1680 - val_root_mean_squared_error: 184.0657\n",
            "Epoch 32/50\n",
            "329/329 [==============================] - 2s 7ms/step - loss: 28961.3730 - root_mean_squared_error: 170.1804 - val_loss: 33982.6602 - val_root_mean_squared_error: 184.3439\n",
            "Epoch 33/50\n",
            "329/329 [==============================] - 3s 10ms/step - loss: 29012.8945 - root_mean_squared_error: 170.3317 - val_loss: 34793.1562 - val_root_mean_squared_error: 186.5292\n",
            "Epoch 34/50\n",
            "329/329 [==============================] - 6s 19ms/step - loss: 28856.0312 - root_mean_squared_error: 169.8706 - val_loss: 33876.0820 - val_root_mean_squared_error: 184.0546\n",
            "Epoch 35/50\n",
            "329/329 [==============================] - 2s 8ms/step - loss: 29137.5762 - root_mean_squared_error: 170.6973 - val_loss: 33979.4492 - val_root_mean_squared_error: 184.3352\n",
            "Epoch 36/50\n",
            "329/329 [==============================] - 8s 23ms/step - loss: 28826.1484 - root_mean_squared_error: 169.7827 - val_loss: 33734.2109 - val_root_mean_squared_error: 183.6687\n",
            "Epoch 37/50\n",
            "329/329 [==============================] - 3s 8ms/step - loss: 28843.8730 - root_mean_squared_error: 169.8348 - val_loss: 33948.6172 - val_root_mean_squared_error: 184.2515\n",
            "Epoch 38/50\n",
            "329/329 [==============================] - 3s 9ms/step - loss: 28887.5488 - root_mean_squared_error: 169.9634 - val_loss: 34150.3281 - val_root_mean_squared_error: 184.7981\n",
            "Epoch 39/50\n",
            "329/329 [==============================] - 3s 11ms/step - loss: 29024.7305 - root_mean_squared_error: 170.3665 - val_loss: 34008.4453 - val_root_mean_squared_error: 184.4138\n",
            "Epoch 40/50\n",
            "329/329 [==============================] - 7s 20ms/step - loss: 28842.3301 - root_mean_squared_error: 169.8303 - val_loss: 33588.9727 - val_root_mean_squared_error: 183.2729\n",
            "Epoch 41/50\n",
            "329/329 [==============================] - 2s 7ms/step - loss: 28908.3906 - root_mean_squared_error: 170.0247 - val_loss: 33640.0273 - val_root_mean_squared_error: 183.4122\n",
            "Epoch 42/50\n",
            "329/329 [==============================] - 3s 8ms/step - loss: 28907.5605 - root_mean_squared_error: 170.0222 - val_loss: 33860.0508 - val_root_mean_squared_error: 184.0110\n",
            "Epoch 43/50\n",
            "329/329 [==============================] - 3s 10ms/step - loss: 28871.0703 - root_mean_squared_error: 169.9149 - val_loss: 33783.3086 - val_root_mean_squared_error: 183.8024\n",
            "Epoch 44/50\n",
            "329/329 [==============================] - 3s 9ms/step - loss: 28806.7578 - root_mean_squared_error: 169.7255 - val_loss: 33645.0195 - val_root_mean_squared_error: 183.4258\n",
            "Epoch 45/50\n",
            "329/329 [==============================] - 6s 19ms/step - loss: 28713.5234 - root_mean_squared_error: 169.4507 - val_loss: 33341.1133 - val_root_mean_squared_error: 182.5955\n",
            "Epoch 46/50\n",
            "329/329 [==============================] - 3s 8ms/step - loss: 28796.5391 - root_mean_squared_error: 169.6954 - val_loss: 33443.9805 - val_root_mean_squared_error: 182.8770\n",
            "Epoch 47/50\n",
            "329/329 [==============================] - 3s 11ms/step - loss: 28962.8984 - root_mean_squared_error: 170.1849 - val_loss: 34209.6914 - val_root_mean_squared_error: 184.9586\n",
            "Epoch 48/50\n",
            "329/329 [==============================] - 3s 8ms/step - loss: 28866.6211 - root_mean_squared_error: 169.9018 - val_loss: 33811.8281 - val_root_mean_squared_error: 183.8799\n",
            "Epoch 49/50\n",
            "329/329 [==============================] - 2s 7ms/step - loss: 28803.4375 - root_mean_squared_error: 169.7158 - val_loss: 34136.2773 - val_root_mean_squared_error: 184.7601\n",
            "Epoch 50/50\n",
            "329/329 [==============================] - 2s 7ms/step - loss: 28865.3457 - root_mean_squared_error: 169.8980 - val_loss: 33603.0586 - val_root_mean_squared_error: 183.3114\n"
          ]
        },
        {
          "output_type": "execute_result",
          "data": {
            "text/plain": [
              "<keras.src.callbacks.History at 0x7990cde15570>"
            ]
          },
          "metadata": {},
          "execution_count": 19
        }
      ]
    },
    {
      "cell_type": "code",
      "source": [
        "train_score = model1.evaluate(testX, testY, verbose=1)\n",
        "print('Train Score: %.2f MSE (%.2f RMSE)' % (train_score[0], np.sqrt(train_score[0])))"
      ],
      "metadata": {
        "colab": {
          "base_uri": "https://localhost:8080/"
        },
        "id": "PfhCvPAa8lFR",
        "outputId": "c27bd082-be14-4a63-c017-80ab5abd8396"
      },
      "execution_count": 20,
      "outputs": [
        {
          "output_type": "stream",
          "name": "stdout",
          "text": [
            "12/12 [==============================] - 0s 4ms/step - loss: 8476.8711 - root_mean_squared_error: 92.0699\n",
            "Train Score: 8476.87 MSE (92.07 RMSE)\n"
          ]
        }
      ]
    },
    {
      "cell_type": "code",
      "source": [
        "train_predictions = model1.predict(trainX).flatten()\n",
        "train_results = pd.DataFrame(data={'Train Predictions':train_predictions, 'Actuals':trainY})\n",
        "train_results"
      ],
      "metadata": {
        "colab": {
          "base_uri": "https://localhost:8080/",
          "height": 473
        },
        "id": "5gfi4l7eRm3T",
        "outputId": "bdfae562-4836-49f2-8983-6a714b095ffa"
      },
      "execution_count": 21,
      "outputs": [
        {
          "output_type": "stream",
          "name": "stdout",
          "text": [
            "103/103 [==============================] - 1s 3ms/step\n"
          ]
        },
        {
          "output_type": "execute_result",
          "data": {
            "text/plain": [
              "            Train Predictions  Actuals\n",
              "날짜                                    \n",
              "2009-01-01           4.643130    3.904\n",
              "2009-01-02           5.225464    0.000\n",
              "2009-01-03           7.631891    0.000\n",
              "2009-01-04           4.643130    0.312\n",
              "2009-01-05           4.643130    0.391\n",
              "...                       ...      ...\n",
              "2017-12-27           4.660381    5.957\n",
              "2017-12-28           4.717636    6.000\n",
              "2017-12-29           9.432632    0.285\n",
              "2017-12-30          16.195881    2.703\n",
              "2017-12-31          13.413935    2.793\n",
              "\n",
              "[3287 rows x 2 columns]"
            ],
            "text/html": [
              "\n",
              "  <div id=\"df-22a316f8-e219-4238-a3dd-f9e2b865861e\" class=\"colab-df-container\">\n",
              "    <div>\n",
              "<style scoped>\n",
              "    .dataframe tbody tr th:only-of-type {\n",
              "        vertical-align: middle;\n",
              "    }\n",
              "\n",
              "    .dataframe tbody tr th {\n",
              "        vertical-align: top;\n",
              "    }\n",
              "\n",
              "    .dataframe thead th {\n",
              "        text-align: right;\n",
              "    }\n",
              "</style>\n",
              "<table border=\"1\" class=\"dataframe\">\n",
              "  <thead>\n",
              "    <tr style=\"text-align: right;\">\n",
              "      <th></th>\n",
              "      <th>Train Predictions</th>\n",
              "      <th>Actuals</th>\n",
              "    </tr>\n",
              "    <tr>\n",
              "      <th>날짜</th>\n",
              "      <th></th>\n",
              "      <th></th>\n",
              "    </tr>\n",
              "  </thead>\n",
              "  <tbody>\n",
              "    <tr>\n",
              "      <th>2009-01-01</th>\n",
              "      <td>4.643130</td>\n",
              "      <td>3.904</td>\n",
              "    </tr>\n",
              "    <tr>\n",
              "      <th>2009-01-02</th>\n",
              "      <td>5.225464</td>\n",
              "      <td>0.000</td>\n",
              "    </tr>\n",
              "    <tr>\n",
              "      <th>2009-01-03</th>\n",
              "      <td>7.631891</td>\n",
              "      <td>0.000</td>\n",
              "    </tr>\n",
              "    <tr>\n",
              "      <th>2009-01-04</th>\n",
              "      <td>4.643130</td>\n",
              "      <td>0.312</td>\n",
              "    </tr>\n",
              "    <tr>\n",
              "      <th>2009-01-05</th>\n",
              "      <td>4.643130</td>\n",
              "      <td>0.391</td>\n",
              "    </tr>\n",
              "    <tr>\n",
              "      <th>...</th>\n",
              "      <td>...</td>\n",
              "      <td>...</td>\n",
              "    </tr>\n",
              "    <tr>\n",
              "      <th>2017-12-27</th>\n",
              "      <td>4.660381</td>\n",
              "      <td>5.957</td>\n",
              "    </tr>\n",
              "    <tr>\n",
              "      <th>2017-12-28</th>\n",
              "      <td>4.717636</td>\n",
              "      <td>6.000</td>\n",
              "    </tr>\n",
              "    <tr>\n",
              "      <th>2017-12-29</th>\n",
              "      <td>9.432632</td>\n",
              "      <td>0.285</td>\n",
              "    </tr>\n",
              "    <tr>\n",
              "      <th>2017-12-30</th>\n",
              "      <td>16.195881</td>\n",
              "      <td>2.703</td>\n",
              "    </tr>\n",
              "    <tr>\n",
              "      <th>2017-12-31</th>\n",
              "      <td>13.413935</td>\n",
              "      <td>2.793</td>\n",
              "    </tr>\n",
              "  </tbody>\n",
              "</table>\n",
              "<p>3287 rows × 2 columns</p>\n",
              "</div>\n",
              "    <div class=\"colab-df-buttons\">\n",
              "\n",
              "  <div class=\"colab-df-container\">\n",
              "    <button class=\"colab-df-convert\" onclick=\"convertToInteractive('df-22a316f8-e219-4238-a3dd-f9e2b865861e')\"\n",
              "            title=\"Convert this dataframe to an interactive table.\"\n",
              "            style=\"display:none;\">\n",
              "\n",
              "  <svg xmlns=\"http://www.w3.org/2000/svg\" height=\"24px\" viewBox=\"0 -960 960 960\">\n",
              "    <path d=\"M120-120v-720h720v720H120Zm60-500h600v-160H180v160Zm220 220h160v-160H400v160Zm0 220h160v-160H400v160ZM180-400h160v-160H180v160Zm440 0h160v-160H620v160ZM180-180h160v-160H180v160Zm440 0h160v-160H620v160Z\"/>\n",
              "  </svg>\n",
              "    </button>\n",
              "\n",
              "  <style>\n",
              "    .colab-df-container {\n",
              "      display:flex;\n",
              "      gap: 12px;\n",
              "    }\n",
              "\n",
              "    .colab-df-convert {\n",
              "      background-color: #E8F0FE;\n",
              "      border: none;\n",
              "      border-radius: 50%;\n",
              "      cursor: pointer;\n",
              "      display: none;\n",
              "      fill: #1967D2;\n",
              "      height: 32px;\n",
              "      padding: 0 0 0 0;\n",
              "      width: 32px;\n",
              "    }\n",
              "\n",
              "    .colab-df-convert:hover {\n",
              "      background-color: #E2EBFA;\n",
              "      box-shadow: 0px 1px 2px rgba(60, 64, 67, 0.3), 0px 1px 3px 1px rgba(60, 64, 67, 0.15);\n",
              "      fill: #174EA6;\n",
              "    }\n",
              "\n",
              "    .colab-df-buttons div {\n",
              "      margin-bottom: 4px;\n",
              "    }\n",
              "\n",
              "    [theme=dark] .colab-df-convert {\n",
              "      background-color: #3B4455;\n",
              "      fill: #D2E3FC;\n",
              "    }\n",
              "\n",
              "    [theme=dark] .colab-df-convert:hover {\n",
              "      background-color: #434B5C;\n",
              "      box-shadow: 0px 1px 3px 1px rgba(0, 0, 0, 0.15);\n",
              "      filter: drop-shadow(0px 1px 2px rgba(0, 0, 0, 0.3));\n",
              "      fill: #FFFFFF;\n",
              "    }\n",
              "  </style>\n",
              "\n",
              "    <script>\n",
              "      const buttonEl =\n",
              "        document.querySelector('#df-22a316f8-e219-4238-a3dd-f9e2b865861e button.colab-df-convert');\n",
              "      buttonEl.style.display =\n",
              "        google.colab.kernel.accessAllowed ? 'block' : 'none';\n",
              "\n",
              "      async function convertToInteractive(key) {\n",
              "        const element = document.querySelector('#df-22a316f8-e219-4238-a3dd-f9e2b865861e');\n",
              "        const dataTable =\n",
              "          await google.colab.kernel.invokeFunction('convertToInteractive',\n",
              "                                                    [key], {});\n",
              "        if (!dataTable) return;\n",
              "\n",
              "        const docLinkHtml = 'Like what you see? Visit the ' +\n",
              "          '<a target=\"_blank\" href=https://colab.research.google.com/notebooks/data_table.ipynb>data table notebook</a>'\n",
              "          + ' to learn more about interactive tables.';\n",
              "        element.innerHTML = '';\n",
              "        dataTable['output_type'] = 'display_data';\n",
              "        await google.colab.output.renderOutput(dataTable, element);\n",
              "        const docLink = document.createElement('div');\n",
              "        docLink.innerHTML = docLinkHtml;\n",
              "        element.appendChild(docLink);\n",
              "      }\n",
              "    </script>\n",
              "  </div>\n",
              "\n",
              "\n",
              "<div id=\"df-6541c38e-9822-4769-a642-5c021f65baa4\">\n",
              "  <button class=\"colab-df-quickchart\" onclick=\"quickchart('df-6541c38e-9822-4769-a642-5c021f65baa4')\"\n",
              "            title=\"Suggest charts\"\n",
              "            style=\"display:none;\">\n",
              "\n",
              "<svg xmlns=\"http://www.w3.org/2000/svg\" height=\"24px\"viewBox=\"0 0 24 24\"\n",
              "     width=\"24px\">\n",
              "    <g>\n",
              "        <path d=\"M19 3H5c-1.1 0-2 .9-2 2v14c0 1.1.9 2 2 2h14c1.1 0 2-.9 2-2V5c0-1.1-.9-2-2-2zM9 17H7v-7h2v7zm4 0h-2V7h2v10zm4 0h-2v-4h2v4z\"/>\n",
              "    </g>\n",
              "</svg>\n",
              "  </button>\n",
              "\n",
              "<style>\n",
              "  .colab-df-quickchart {\n",
              "      --bg-color: #E8F0FE;\n",
              "      --fill-color: #1967D2;\n",
              "      --hover-bg-color: #E2EBFA;\n",
              "      --hover-fill-color: #174EA6;\n",
              "      --disabled-fill-color: #AAA;\n",
              "      --disabled-bg-color: #DDD;\n",
              "  }\n",
              "\n",
              "  [theme=dark] .colab-df-quickchart {\n",
              "      --bg-color: #3B4455;\n",
              "      --fill-color: #D2E3FC;\n",
              "      --hover-bg-color: #434B5C;\n",
              "      --hover-fill-color: #FFFFFF;\n",
              "      --disabled-bg-color: #3B4455;\n",
              "      --disabled-fill-color: #666;\n",
              "  }\n",
              "\n",
              "  .colab-df-quickchart {\n",
              "    background-color: var(--bg-color);\n",
              "    border: none;\n",
              "    border-radius: 50%;\n",
              "    cursor: pointer;\n",
              "    display: none;\n",
              "    fill: var(--fill-color);\n",
              "    height: 32px;\n",
              "    padding: 0;\n",
              "    width: 32px;\n",
              "  }\n",
              "\n",
              "  .colab-df-quickchart:hover {\n",
              "    background-color: var(--hover-bg-color);\n",
              "    box-shadow: 0 1px 2px rgba(60, 64, 67, 0.3), 0 1px 3px 1px rgba(60, 64, 67, 0.15);\n",
              "    fill: var(--button-hover-fill-color);\n",
              "  }\n",
              "\n",
              "  .colab-df-quickchart-complete:disabled,\n",
              "  .colab-df-quickchart-complete:disabled:hover {\n",
              "    background-color: var(--disabled-bg-color);\n",
              "    fill: var(--disabled-fill-color);\n",
              "    box-shadow: none;\n",
              "  }\n",
              "\n",
              "  .colab-df-spinner {\n",
              "    border: 2px solid var(--fill-color);\n",
              "    border-color: transparent;\n",
              "    border-bottom-color: var(--fill-color);\n",
              "    animation:\n",
              "      spin 1s steps(1) infinite;\n",
              "  }\n",
              "\n",
              "  @keyframes spin {\n",
              "    0% {\n",
              "      border-color: transparent;\n",
              "      border-bottom-color: var(--fill-color);\n",
              "      border-left-color: var(--fill-color);\n",
              "    }\n",
              "    20% {\n",
              "      border-color: transparent;\n",
              "      border-left-color: var(--fill-color);\n",
              "      border-top-color: var(--fill-color);\n",
              "    }\n",
              "    30% {\n",
              "      border-color: transparent;\n",
              "      border-left-color: var(--fill-color);\n",
              "      border-top-color: var(--fill-color);\n",
              "      border-right-color: var(--fill-color);\n",
              "    }\n",
              "    40% {\n",
              "      border-color: transparent;\n",
              "      border-right-color: var(--fill-color);\n",
              "      border-top-color: var(--fill-color);\n",
              "    }\n",
              "    60% {\n",
              "      border-color: transparent;\n",
              "      border-right-color: var(--fill-color);\n",
              "    }\n",
              "    80% {\n",
              "      border-color: transparent;\n",
              "      border-right-color: var(--fill-color);\n",
              "      border-bottom-color: var(--fill-color);\n",
              "    }\n",
              "    90% {\n",
              "      border-color: transparent;\n",
              "      border-bottom-color: var(--fill-color);\n",
              "    }\n",
              "  }\n",
              "</style>\n",
              "\n",
              "  <script>\n",
              "    async function quickchart(key) {\n",
              "      const quickchartButtonEl =\n",
              "        document.querySelector('#' + key + ' button');\n",
              "      quickchartButtonEl.disabled = true;  // To prevent multiple clicks.\n",
              "      quickchartButtonEl.classList.add('colab-df-spinner');\n",
              "      try {\n",
              "        const charts = await google.colab.kernel.invokeFunction(\n",
              "            'suggestCharts', [key], {});\n",
              "      } catch (error) {\n",
              "        console.error('Error during call to suggestCharts:', error);\n",
              "      }\n",
              "      quickchartButtonEl.classList.remove('colab-df-spinner');\n",
              "      quickchartButtonEl.classList.add('colab-df-quickchart-complete');\n",
              "    }\n",
              "    (() => {\n",
              "      let quickchartButtonEl =\n",
              "        document.querySelector('#df-6541c38e-9822-4769-a642-5c021f65baa4 button');\n",
              "      quickchartButtonEl.style.display =\n",
              "        google.colab.kernel.accessAllowed ? 'block' : 'none';\n",
              "    })();\n",
              "  </script>\n",
              "</div>\n",
              "    </div>\n",
              "  </div>\n"
            ],
            "application/vnd.google.colaboratory.intrinsic+json": {
              "type": "dataframe",
              "variable_name": "train_results",
              "summary": "{\n  \"name\": \"train_results\",\n  \"rows\": 3287,\n  \"fields\": [\n    {\n      \"column\": \"Train Predictions\",\n      \"properties\": {\n        \"dtype\": \"float32\",\n        \"num_unique_values\": 3232,\n        \"samples\": [\n          31.92886734008789,\n          27.875713348388672,\n          11.159490585327148\n        ],\n        \"semantic_type\": \"\",\n        \"description\": \"\"\n      }\n    },\n    {\n      \"column\": \"Actuals\",\n      \"properties\": {\n        \"dtype\": \"number\",\n        \"std\": 202.904863292473,\n        \"min\": 0.0,\n        \"max\": 3918.5,\n        \"num_unique_values\": 3163,\n        \"samples\": [\n          38.57,\n          3.045,\n          33.509\n        ],\n        \"semantic_type\": \"\",\n        \"description\": \"\"\n      }\n    }\n  ]\n}"
            }
          },
          "metadata": {},
          "execution_count": 21
        }
      ]
    },
    {
      "cell_type": "code",
      "source": [
        "import matplotlib.pyplot as plt\n",
        "plt.plot(train_results['Train Predictions'][:],'.')\n",
        "plt.plot(train_results['Actuals'][:],alpha = 0.5)"
      ],
      "metadata": {
        "colab": {
          "base_uri": "https://localhost:8080/",
          "height": 448
        },
        "id": "yOFEGrRQRm99",
        "outputId": "6ba53444-4f13-4f2b-bd4f-b08595989d82"
      },
      "execution_count": 25,
      "outputs": [
        {
          "output_type": "execute_result",
          "data": {
            "text/plain": [
              "[<matplotlib.lines.Line2D at 0x7990cc494df0>]"
            ]
          },
          "metadata": {},
          "execution_count": 25
        },
        {
          "output_type": "display_data",
          "data": {
            "text/plain": [
              "<Figure size 640x480 with 1 Axes>"
            ],
            "image/png": "[encoded data removed]"
          },
          "metadata": {}
        }
      ]
    },
    {
      "cell_type": "code",
      "source": [
        "val_predictions = model1.predict(validX).flatten()\n",
        "val_results = pd.DataFrame(data={'Val Predictions':val_predictions, 'Actuals':validY})\n",
        "val_results"
      ],
      "metadata": {
        "colab": {
          "base_uri": "https://localhost:8080/",
          "height": 473
        },
        "id": "38AKEhHgRnDr",
        "outputId": "31a76a7e-786c-472c-a17d-484a99d94584"
      },
      "execution_count": 23,
      "outputs": [
        {
          "output_type": "stream",
          "name": "stdout",
          "text": [
            "58/58 [==============================] - 0s 6ms/step\n"
          ]
        },
        {
          "output_type": "execute_result",
          "data": {
            "text/plain": [
              "            Val Predictions  Actuals\n",
              "날짜                                  \n",
              "2018-01-01         6.654742    2.894\n",
              "2018-01-02         6.725977    0.000\n",
              "2018-01-03         6.814333    0.000\n",
              "2018-01-04         4.643130    8.841\n",
              "2018-01-05         4.643130    3.292\n",
              "...                     ...      ...\n",
              "2022-12-27         9.113551    9.218\n",
              "2022-12-28        14.125332    4.597\n",
              "2022-12-29        12.090334    7.110\n",
              "2022-12-30         8.231850    7.252\n",
              "2022-12-31        10.415640    5.488\n",
              "\n",
              "[1826 rows x 2 columns]"
            ],
            "text/html": [
              "\n",
              "  <div id=\"df-a44398d1-d4fb-4d13-b14d-464ecf3b7b88\" class=\"colab-df-container\">\n",
              "    <div>\n",
              "<style scoped>\n",
              "    .dataframe tbody tr th:only-of-type {\n",
              "        vertical-align: middle;\n",
              "    }\n",
              "\n",
              "    .dataframe tbody tr th {\n",
              "        vertical-align: top;\n",
              "    }\n",
              "\n",
              "    .dataframe thead th {\n",
              "        text-align: right;\n",
              "    }\n",
              "</style>\n",
              "<table border=\"1\" class=\"dataframe\">\n",
              "  <thead>\n",
              "    <tr style=\"text-align: right;\">\n",
              "      <th></th>\n",
              "      <th>Val Predictions</th>\n",
              "      <th>Actuals</th>\n",
              "    </tr>\n",
              "    <tr>\n",
              "      <th>날짜</th>\n",
              "      <th></th>\n",
              "      <th></th>\n",
              "    </tr>\n",
              "  </thead>\n",
              "  <tbody>\n",
              "    <tr>\n",
              "      <th>2018-01-01</th>\n",
              "      <td>6.654742</td>\n",
              "      <td>2.894</td>\n",
              "    </tr>\n",
              "    <tr>\n",
              "      <th>2018-01-02</th>\n",
              "      <td>6.725977</td>\n",
              "      <td>0.000</td>\n",
              "    </tr>\n",
              "    <tr>\n",
              "      <th>2018-01-03</th>\n",
              "      <td>6.814333</td>\n",
              "      <td>0.000</td>\n",
              "    </tr>\n",
              "    <tr>\n",
              "      <th>2018-01-04</th>\n",
              "      <td>4.643130</td>\n",
              "      <td>8.841</td>\n",
              "    </tr>\n",
              "    <tr>\n",
              "      <th>2018-01-05</th>\n",
              "      <td>4.643130</td>\n",
              "      <td>3.292</td>\n",
              "    </tr>\n",
              "    <tr>\n",
              "      <th>...</th>\n",
              "      <td>...</td>\n",
              "      <td>...</td>\n",
              "    </tr>\n",
              "    <tr>\n",
              "      <th>2022-12-27</th>\n",
              "      <td>9.113551</td>\n",
              "      <td>9.218</td>\n",
              "    </tr>\n",
              "    <tr>\n",
              "      <th>2022-12-28</th>\n",
              "      <td>14.125332</td>\n",
              "      <td>4.597</td>\n",
              "    </tr>\n",
              "    <tr>\n",
              "      <th>2022-12-29</th>\n",
              "      <td>12.090334</td>\n",
              "      <td>7.110</td>\n",
              "    </tr>\n",
              "    <tr>\n",
              "      <th>2022-12-30</th>\n",
              "      <td>8.231850</td>\n",
              "      <td>7.252</td>\n",
              "    </tr>\n",
              "    <tr>\n",
              "      <th>2022-12-31</th>\n",
              "      <td>10.415640</td>\n",
              "      <td>5.488</td>\n",
              "    </tr>\n",
              "  </tbody>\n",
              "</table>\n",
              "<p>1826 rows × 2 columns</p>\n",
              "</div>\n",
              "    <div class=\"colab-df-buttons\">\n",
              "\n",
              "  <div class=\"colab-df-container\">\n",
              "    <button class=\"colab-df-convert\" onclick=\"convertToInteractive('df-a44398d1-d4fb-4d13-b14d-464ecf3b7b88')\"\n",
              "            title=\"Convert this dataframe to an interactive table.\"\n",
              "            style=\"display:none;\">\n",
              "\n",
              "  <svg xmlns=\"http://www.w3.org/2000/svg\" height=\"24px\" viewBox=\"0 -960 960 960\">\n",
              "    <path d=\"M120-120v-720h720v720H120Zm60-500h600v-160H180v160Zm220 220h160v-160H400v160Zm0 220h160v-160H400v160ZM180-400h160v-160H180v160Zm440 0h160v-160H620v160ZM180-180h160v-160H180v160Zm440 0h160v-160H620v160Z\"/>\n",
              "  </svg>\n",
              "    </button>\n",
              "\n",
              "  <style>\n",
              "    .colab-df-container {\n",
              "      display:flex;\n",
              "      gap: 12px;\n",
              "    }\n",
              "\n",
              "    .colab-df-convert {\n",
              "      background-color: #E8F0FE;\n",
              "      border: none;\n",
              "      border-radius: 50%;\n",
              "      cursor: pointer;\n",
              "      display: none;\n",
              "      fill: #1967D2;\n",
              "      height: 32px;\n",
              "      padding: 0 0 0 0;\n",
              "      width: 32px;\n",
              "    }\n",
              "\n",
              "    .colab-df-convert:hover {\n",
              "      background-color: #E2EBFA;\n",
              "      box-shadow: 0px 1px 2px rgba(60, 64, 67, 0.3), 0px 1px 3px 1px rgba(60, 64, 67, 0.15);\n",
              "      fill: #174EA6;\n",
              "    }\n",
              "\n",
              "    .colab-df-buttons div {\n",
              "      margin-bottom: 4px;\n",
              "    }\n",
              "\n",
              "    [theme=dark] .colab-df-convert {\n",
              "      background-color: #3B4455;\n",
              "      fill: #D2E3FC;\n",
              "    }\n",
              "\n",
              "    [theme=dark] .colab-df-convert:hover {\n",
              "      background-color: #434B5C;\n",
              "      box-shadow: 0px 1px 3px 1px rgba(0, 0, 0, 0.15);\n",
              "      filter: drop-shadow(0px 1px 2px rgba(0, 0, 0, 0.3));\n",
              "      fill: #FFFFFF;\n",
              "    }\n",
              "  </style>\n",
              "\n",
              "    <script>\n",
              "      const buttonEl =\n",
              "        document.querySelector('#df-a44398d1-d4fb-4d13-b14d-464ecf3b7b88 button.colab-df-convert');\n",
              "      buttonEl.style.display =\n",
              "        google.colab.kernel.accessAllowed ? 'block' : 'none';\n",
              "\n",
              "      async function convertToInteractive(key) {\n",
              "        const element = document.querySelector('#df-a44398d1-d4fb-4d13-b14d-464ecf3b7b88');\n",
              "        const dataTable =\n",
              "          await google.colab.kernel.invokeFunction('convertToInteractive',\n",
              "                                                    [key], {});\n",
              "        if (!dataTable) return;\n",
              "\n",
              "        const docLinkHtml = 'Like what you see? Visit the ' +\n",
              "          '<a target=\"_blank\" href=https://colab.research.google.com/notebooks/data_table.ipynb>data table notebook</a>'\n",
              "          + ' to learn more about interactive tables.';\n",
              "        element.innerHTML = '';\n",
              "        dataTable['output_type'] = 'display_data';\n",
              "        await google.colab.output.renderOutput(dataTable, element);\n",
              "        const docLink = document.createElement('div');\n",
              "        docLink.innerHTML = docLinkHtml;\n",
              "        element.appendChild(docLink);\n",
              "      }\n",
              "    </script>\n",
              "  </div>\n",
              "\n",
              "\n",
              "<div id=\"df-0193dc42-4469-4c85-aa1c-d2c1c2222a6e\">\n",
              "  <button class=\"colab-df-quickchart\" onclick=\"quickchart('df-0193dc42-4469-4c85-aa1c-d2c1c2222a6e')\"\n",
              "            title=\"Suggest charts\"\n",
              "            style=\"display:none;\">\n",
              "\n",
              "<svg xmlns=\"http://www.w3.org/2000/svg\" height=\"24px\"viewBox=\"0 0 24 24\"\n",
              "     width=\"24px\">\n",
              "    <g>\n",
              "        <path d=\"M19 3H5c-1.1 0-2 .9-2 2v14c0 1.1.9 2 2 2h14c1.1 0 2-.9 2-2V5c0-1.1-.9-2-2-2zM9 17H7v-7h2v7zm4 0h-2V7h2v10zm4 0h-2v-4h2v4z\"/>\n",
              "    </g>\n",
              "</svg>\n",
              "  </button>\n",
              "\n",
              "<style>\n",
              "  .colab-df-quickchart {\n",
              "      --bg-color: #E8F0FE;\n",
              "      --fill-color: #1967D2;\n",
              "      --hover-bg-color: #E2EBFA;\n",
              "      --hover-fill-color: #174EA6;\n",
              "      --disabled-fill-color: #AAA;\n",
              "      --disabled-bg-color: #DDD;\n",
              "  }\n",
              "\n",
              "  [theme=dark] .colab-df-quickchart {\n",
              "      --bg-color: #3B4455;\n",
              "      --fill-color: #D2E3FC;\n",
              "      --hover-bg-color: #434B5C;\n",
              "      --hover-fill-color: #FFFFFF;\n",
              "      --disabled-bg-color: #3B4455;\n",
              "      --disabled-fill-color: #666;\n",
              "  }\n",
              "\n",
              "  .colab-df-quickchart {\n",
              "    background-color: var(--bg-color);\n",
              "    border: none;\n",
              "    border-radius: 50%;\n",
              "    cursor: pointer;\n",
              "    display: none;\n",
              "    fill: var(--fill-color);\n",
              "    height: 32px;\n",
              "    padding: 0;\n",
              "    width: 32px;\n",
              "  }\n",
              "\n",
              "  .colab-df-quickchart:hover {\n",
              "    background-color: var(--hover-bg-color);\n",
              "    box-shadow: 0 1px 2px rgba(60, 64, 67, 0.3), 0 1px 3px 1px rgba(60, 64, 67, 0.15);\n",
              "    fill: var(--button-hover-fill-color);\n",
              "  }\n",
              "\n",
              "  .colab-df-quickchart-complete:disabled,\n",
              "  .colab-df-quickchart-complete:disabled:hover {\n",
              "    background-color: var(--disabled-bg-color);\n",
              "    fill: var(--disabled-fill-color);\n",
              "    box-shadow: none;\n",
              "  }\n",
              "\n",
              "  .colab-df-spinner {\n",
              "    border: 2px solid var(--fill-color);\n",
              "    border-color: transparent;\n",
              "    border-bottom-color: var(--fill-color);\n",
              "    animation:\n",
              "      spin 1s steps(1) infinite;\n",
              "  }\n",
              "\n",
              "  @keyframes spin {\n",
              "    0% {\n",
              "      border-color: transparent;\n",
              "      border-bottom-color: var(--fill-color);\n",
              "      border-left-color: var(--fill-color);\n",
              "    }\n",
              "    20% {\n",
              "      border-color: transparent;\n",
              "      border-left-color: var(--fill-color);\n",
              "      border-top-color: var(--fill-color);\n",
              "    }\n",
              "    30% {\n",
              "      border-color: transparent;\n",
              "      border-left-color: var(--fill-color);\n",
              "      border-top-color: var(--fill-color);\n",
              "      border-right-color: var(--fill-color);\n",
              "    }\n",
              "    40% {\n",
              "      border-color: transparent;\n",
              "      border-right-color: var(--fill-color);\n",
              "      border-top-color: var(--fill-color);\n",
              "    }\n",
              "    60% {\n",
              "      border-color: transparent;\n",
              "      border-right-color: var(--fill-color);\n",
              "    }\n",
              "    80% {\n",
              "      border-color: transparent;\n",
              "      border-right-color: var(--fill-color);\n",
              "      border-bottom-color: var(--fill-color);\n",
              "    }\n",
              "    90% {\n",
              "      border-color: transparent;\n",
              "      border-bottom-color: var(--fill-color);\n",
              "    }\n",
              "  }\n",
              "</style>\n",
              "\n",
              "  <script>\n",
              "    async function quickchart(key) {\n",
              "      const quickchartButtonEl =\n",
              "        document.querySelector('#' + key + ' button');\n",
              "      quickchartButtonEl.disabled = true;  // To prevent multiple clicks.\n",
              "      quickchartButtonEl.classList.add('colab-df-spinner');\n",
              "      try {\n",
              "        const charts = await google.colab.kernel.invokeFunction(\n",
              "            'suggestCharts', [key], {});\n",
              "      } catch (error) {\n",
              "        console.error('Error during call to suggestCharts:', error);\n",
              "      }\n",
              "      quickchartButtonEl.classList.remove('colab-df-spinner');\n",
              "      quickchartButtonEl.classList.add('colab-df-quickchart-complete');\n",
              "    }\n",
              "    (() => {\n",
              "      let quickchartButtonEl =\n",
              "        document.querySelector('#df-0193dc42-4469-4c85-aa1c-d2c1c2222a6e button');\n",
              "      quickchartButtonEl.style.display =\n",
              "        google.colab.kernel.accessAllowed ? 'block' : 'none';\n",
              "    })();\n",
              "  </script>\n",
              "</div>\n",
              "    </div>\n",
              "  </div>\n"
            ],
            "application/vnd.google.colaboratory.intrinsic+json": {
              "type": "dataframe",
              "variable_name": "val_results",
              "summary": "{\n  \"name\": \"val_results\",\n  \"rows\": 1826,\n  \"fields\": [\n    {\n      \"column\": \"Val Predictions\",\n      \"properties\": {\n        \"dtype\": \"float32\",\n        \"num_unique_values\": 1774,\n        \"samples\": [\n          9.951547622680664,\n          34.299774169921875,\n          39.074188232421875\n        ],\n        \"semantic_type\": \"\",\n        \"description\": \"\"\n      }\n    },\n    {\n      \"column\": \"Actuals\",\n      \"properties\": {\n        \"dtype\": \"number\",\n        \"std\": 210.53093732120058,\n        \"min\": 0.0,\n        \"max\": 3373.14,\n        \"num_unique_values\": 1734,\n        \"samples\": [\n          25.612,\n          13.112,\n          29.098\n        ],\n        \"semantic_type\": \"\",\n        \"description\": \"\"\n      }\n    }\n  ]\n}"
            }
          },
          "metadata": {},
          "execution_count": 23
        }
      ]
    },
    {
      "cell_type": "code",
      "source": [
        "plt.plot(val_results['Val Predictions'][:],'.')\n",
        "plt.plot(val_results['Actuals'][:], alpha = 0.5)\n"
      ],
      "metadata": {
        "colab": {
          "base_uri": "https://localhost:8080/",
          "height": 449
        },
        "id": "FQp5aMnYRnJa",
        "outputId": "e1677296-d897-42b9-fa52-2dd89c81ef72"
      },
      "execution_count": 26,
      "outputs": [
        {
          "output_type": "execute_result",
          "data": {
            "text/plain": [
              "[<matplotlib.lines.Line2D at 0x7990cd05a650>]"
            ]
          },
          "metadata": {},
          "execution_count": 26
        },
        {
          "output_type": "display_data",
          "data": {
            "text/plain": [
              "<Figure size 640x480 with 1 Axes>"
            ],
            "image/png": "[encoded data removed]"
          },
          "metadata": {}
        }
      ]
    },
    {
      "cell_type": "code",
      "source": [
        "test_predictions = model1.predict(testX).flatten()\n",
        "test_results = pd.DataFrame(data={'Test Predictions':test_predictions, 'Actuals':testY})\n",
        "test_results"
      ],
      "metadata": {
        "colab": {
          "base_uri": "https://localhost:8080/",
          "height": 473
        },
        "id": "iMeOwoSdZyWM",
        "outputId": "34437c59-494f-454e-afef-95864c4c976e"
      },
      "execution_count": 27,
      "outputs": [
        {
          "output_type": "stream",
          "name": "stdout",
          "text": [
            "12/12 [==============================] - 0s 3ms/step\n"
          ]
        },
        {
          "output_type": "execute_result",
          "data": {
            "text/plain": [
              "            Test Predictions  Actuals\n",
              "날짜                                   \n",
              "2023-01-01         10.531862    3.597\n",
              "2023-01-02          9.006161    4.283\n",
              "2023-01-03          7.395600    1.909\n",
              "2023-01-04          7.963347    7.096\n",
              "2023-01-05          6.044804    3.040\n",
              "...                      ...      ...\n",
              "2023-12-25         32.803383   25.873\n",
              "2023-12-26         31.343842   21.186\n",
              "2023-12-27         27.311279   20.887\n",
              "2023-12-28         23.082672   29.183\n",
              "2023-12-29         22.807590   25.803\n",
              "\n",
              "[363 rows x 2 columns]"
            ],
            "text/html": [
              "\n",
              "  <div id=\"df-bd2c02e2-8f5f-41ca-9709-0818bae5dcc8\" class=\"colab-df-container\">\n",
              "    <div>\n",
              "<style scoped>\n",
              "    .dataframe tbody tr th:only-of-type {\n",
              "        vertical-align: middle;\n",
              "    }\n",
              "\n",
              "    .dataframe tbody tr th {\n",
              "        vertical-align: top;\n",
              "    }\n",
              "\n",
              "    .dataframe thead th {\n",
              "        text-align: right;\n",
              "    }\n",
              "</style>\n",
              "<table border=\"1\" class=\"dataframe\">\n",
              "  <thead>\n",
              "    <tr style=\"text-align: right;\">\n",
              "      <th></th>\n",
              "      <th>Test Predictions</th>\n",
              "      <th>Actuals</th>\n",
              "    </tr>\n",
              "    <tr>\n",
              "      <th>날짜</th>\n",
              "      <th></th>\n",
              "      <th></th>\n",
              "    </tr>\n",
              "  </thead>\n",
              "  <tbody>\n",
              "    <tr>\n",
              "      <th>2023-01-01</th>\n",
              "      <td>10.531862</td>\n",
              "      <td>3.597</td>\n",
              "    </tr>\n",
              "    <tr>\n",
              "      <th>2023-01-02</th>\n",
              "      <td>9.006161</td>\n",
              "      <td>4.283</td>\n",
              "    </tr>\n",
              "    <tr>\n",
              "      <th>2023-01-03</th>\n",
              "      <td>7.395600</td>\n",
              "      <td>1.909</td>\n",
              "    </tr>\n",
              "    <tr>\n",
              "      <th>2023-01-04</th>\n",
              "      <td>7.963347</td>\n",
              "      <td>7.096</td>\n",
              "    </tr>\n",
              "    <tr>\n",
              "      <th>2023-01-05</th>\n",
              "      <td>6.044804</td>\n",
              "      <td>3.040</td>\n",
              "    </tr>\n",
              "    <tr>\n",
              "      <th>...</th>\n",
              "      <td>...</td>\n",
              "      <td>...</td>\n",
              "    </tr>\n",
              "    <tr>\n",
              "      <th>2023-12-25</th>\n",
              "      <td>32.803383</td>\n",
              "      <td>25.873</td>\n",
              "    </tr>\n",
              "    <tr>\n",
              "      <th>2023-12-26</th>\n",
              "      <td>31.343842</td>\n",
              "      <td>21.186</td>\n",
              "    </tr>\n",
              "    <tr>\n",
              "      <th>2023-12-27</th>\n",
              "      <td>27.311279</td>\n",
              "      <td>20.887</td>\n",
              "    </tr>\n",
              "    <tr>\n",
              "      <th>2023-12-28</th>\n",
              "      <td>23.082672</td>\n",
              "      <td>29.183</td>\n",
              "    </tr>\n",
              "    <tr>\n",
              "      <th>2023-12-29</th>\n",
              "      <td>22.807590</td>\n",
              "      <td>25.803</td>\n",
              "    </tr>\n",
              "  </tbody>\n",
              "</table>\n",
              "<p>363 rows × 2 columns</p>\n",
              "</div>\n",
              "    <div class=\"colab-df-buttons\">\n",
              "\n",
              "  <div class=\"colab-df-container\">\n",
              "    <button class=\"colab-df-convert\" onclick=\"convertToInteractive('df-bd2c02e2-8f5f-41ca-9709-0818bae5dcc8')\"\n",
              "            title=\"Convert this dataframe to an interactive table.\"\n",
              "            style=\"display:none;\">\n",
              "\n",
              "  <svg xmlns=\"http://www.w3.org/2000/svg\" height=\"24px\" viewBox=\"0 -960 960 960\">\n",
              "    <path d=\"M120-120v-720h720v720H120Zm60-500h600v-160H180v160Zm220 220h160v-160H400v160Zm0 220h160v-160H400v160ZM180-400h160v-160H180v160Zm440 0h160v-160H620v160ZM180-180h160v-160H180v160Zm440 0h160v-160H620v160Z\"/>\n",
              "  </svg>\n",
              "    </button>\n",
              "\n",
              "  <style>\n",
              "    .colab-df-container {\n",
              "      display:flex;\n",
              "      gap: 12px;\n",
              "    }\n",
              "\n",
              "    .colab-df-convert {\n",
              "      background-color: #E8F0FE;\n",
              "      border: none;\n",
              "      border-radius: 50%;\n",
              "      cursor: pointer;\n",
              "      display: none;\n",
              "      fill: #1967D2;\n",
              "      height: 32px;\n",
              "      padding: 0 0 0 0;\n",
              "      width: 32px;\n",
              "    }\n",
              "\n",
              "    .colab-df-convert:hover {\n",
              "      background-color: #E2EBFA;\n",
              "      box-shadow: 0px 1px 2px rgba(60, 64, 67, 0.3), 0px 1px 3px 1px rgba(60, 64, 67, 0.15);\n",
              "      fill: #174EA6;\n",
              "    }\n",
              "\n",
              "    .colab-df-buttons div {\n",
              "      margin-bottom: 4px;\n",
              "    }\n",
              "\n",
              "    [theme=dark] .colab-df-convert {\n",
              "      background-color: #3B4455;\n",
              "      fill: #D2E3FC;\n",
              "    }\n",
              "\n",
              "    [theme=dark] .colab-df-convert:hover {\n",
              "      background-color: #434B5C;\n",
              "      box-shadow: 0px 1px 3px 1px rgba(0, 0, 0, 0.15);\n",
              "      filter: drop-shadow(0px 1px 2px rgba(0, 0, 0, 0.3));\n",
              "      fill: #FFFFFF;\n",
              "    }\n",
              "  </style>\n",
              "\n",
              "    <script>\n",
              "      const buttonEl =\n",
              "        document.querySelector('#df-bd2c02e2-8f5f-41ca-9709-0818bae5dcc8 button.colab-df-convert');\n",
              "      buttonEl.style.display =\n",
              "        google.colab.kernel.accessAllowed ? 'block' : 'none';\n",
              "\n",
              "      async function convertToInteractive(key) {\n",
              "        const element = document.querySelector('#df-bd2c02e2-8f5f-41ca-9709-0818bae5dcc8');\n",
              "        const dataTable =\n",
              "          await google.colab.kernel.invokeFunction('convertToInteractive',\n",
              "                                                    [key], {});\n",
              "        if (!dataTable) return;\n",
              "\n",
              "        const docLinkHtml = 'Like what you see? Visit the ' +\n",
              "          '<a target=\"_blank\" href=https://colab.research.google.com/notebooks/data_table.ipynb>data table notebook</a>'\n",
              "          + ' to learn more about interactive tables.';\n",
              "        element.innerHTML = '';\n",
              "        dataTable['output_type'] = 'display_data';\n",
              "        await google.colab.output.renderOutput(dataTable, element);\n",
              "        const docLink = document.createElement('div');\n",
              "        docLink.innerHTML = docLinkHtml;\n",
              "        element.appendChild(docLink);\n",
              "      }\n",
              "    </script>\n",
              "  </div>\n",
              "\n",
              "\n",
              "<div id=\"df-9673487d-5b93-4eff-b351-9986ab201445\">\n",
              "  <button class=\"colab-df-quickchart\" onclick=\"quickchart('df-9673487d-5b93-4eff-b351-9986ab201445')\"\n",
              "            title=\"Suggest charts\"\n",
              "            style=\"display:none;\">\n",
              "\n",
              "<svg xmlns=\"http://www.w3.org/2000/svg\" height=\"24px\"viewBox=\"0 0 24 24\"\n",
              "     width=\"24px\">\n",
              "    <g>\n",
              "        <path d=\"M19 3H5c-1.1 0-2 .9-2 2v14c0 1.1.9 2 2 2h14c1.1 0 2-.9 2-2V5c0-1.1-.9-2-2-2zM9 17H7v-7h2v7zm4 0h-2V7h2v10zm4 0h-2v-4h2v4z\"/>\n",
              "    </g>\n",
              "</svg>\n",
              "  </button>\n",
              "\n",
              "<style>\n",
              "  .colab-df-quickchart {\n",
              "      --bg-color: #E8F0FE;\n",
              "      --fill-color: #1967D2;\n",
              "      --hover-bg-color: #E2EBFA;\n",
              "      --hover-fill-color: #174EA6;\n",
              "      --disabled-fill-color: #AAA;\n",
              "      --disabled-bg-color: #DDD;\n",
              "  }\n",
              "\n",
              "  [theme=dark] .colab-df-quickchart {\n",
              "      --bg-color: #3B4455;\n",
              "      --fill-color: #D2E3FC;\n",
              "      --hover-bg-color: #434B5C;\n",
              "      --hover-fill-color: #FFFFFF;\n",
              "      --disabled-bg-color: #3B4455;\n",
              "      --disabled-fill-color: #666;\n",
              "  }\n",
              "\n",
              "  .colab-df-quickchart {\n",
              "    background-color: var(--bg-color);\n",
              "    border: none;\n",
              "    border-radius: 50%;\n",
              "    cursor: pointer;\n",
              "    display: none;\n",
              "    fill: var(--fill-color);\n",
              "    height: 32px;\n",
              "    padding: 0;\n",
              "    width: 32px;\n",
              "  }\n",
              "\n",
              "  .colab-df-quickchart:hover {\n",
              "    background-color: var(--hover-bg-color);\n",
              "    box-shadow: 0 1px 2px rgba(60, 64, 67, 0.3), 0 1px 3px 1px rgba(60, 64, 67, 0.15);\n",
              "    fill: var(--button-hover-fill-color);\n",
              "  }\n",
              "\n",
              "  .colab-df-quickchart-complete:disabled,\n",
              "  .colab-df-quickchart-complete:disabled:hover {\n",
              "    background-color: var(--disabled-bg-color);\n",
              "    fill: var(--disabled-fill-color);\n",
              "    box-shadow: none;\n",
              "  }\n",
              "\n",
              "  .colab-df-spinner {\n",
              "    border: 2px solid var(--fill-color);\n",
              "    border-color: transparent;\n",
              "    border-bottom-color: var(--fill-color);\n",
              "    animation:\n",
              "      spin 1s steps(1) infinite;\n",
              "  }\n",
              "\n",
              "  @keyframes spin {\n",
              "    0% {\n",
              "      border-color: transparent;\n",
              "      border-bottom-color: var(--fill-color);\n",
              "      border-left-color: var(--fill-color);\n",
              "    }\n",
              "    20% {\n",
              "      border-color: transparent;\n",
              "      border-left-color: var(--fill-color);\n",
              "      border-top-color: var(--fill-color);\n",
              "    }\n",
              "    30% {\n",
              "      border-color: transparent;\n",
              "      border-left-color: var(--fill-color);\n",
              "      border-top-color: var(--fill-color);\n",
              "      border-right-color: var(--fill-color);\n",
              "    }\n",
              "    40% {\n",
              "      border-color: transparent;\n",
              "      border-right-color: var(--fill-color);\n",
              "      border-top-color: var(--fill-color);\n",
              "    }\n",
              "    60% {\n",
              "      border-color: transparent;\n",
              "      border-right-color: var(--fill-color);\n",
              "    }\n",
              "    80% {\n",
              "      border-color: transparent;\n",
              "      border-right-color: var(--fill-color);\n",
              "      border-bottom-color: var(--fill-color);\n",
              "    }\n",
              "    90% {\n",
              "      border-color: transparent;\n",
              "      border-bottom-color: var(--fill-color);\n",
              "    }\n",
              "  }\n",
              "</style>\n",
              "\n",
              "  <script>\n",
              "    async function quickchart(key) {\n",
              "      const quickchartButtonEl =\n",
              "        document.querySelector('#' + key + ' button');\n",
              "      quickchartButtonEl.disabled = true;  // To prevent multiple clicks.\n",
              "      quickchartButtonEl.classList.add('colab-df-spinner');\n",
              "      try {\n",
              "        const charts = await google.colab.kernel.invokeFunction(\n",
              "            'suggestCharts', [key], {});\n",
              "      } catch (error) {\n",
              "        console.error('Error during call to suggestCharts:', error);\n",
              "      }\n",
              "      quickchartButtonEl.classList.remove('colab-df-spinner');\n",
              "      quickchartButtonEl.classList.add('colab-df-quickchart-complete');\n",
              "    }\n",
              "    (() => {\n",
              "      let quickchartButtonEl =\n",
              "        document.querySelector('#df-9673487d-5b93-4eff-b351-9986ab201445 button');\n",
              "      quickchartButtonEl.style.display =\n",
              "        google.colab.kernel.accessAllowed ? 'block' : 'none';\n",
              "    })();\n",
              "  </script>\n",
              "</div>\n",
              "    </div>\n",
              "  </div>\n"
            ],
            "application/vnd.google.colaboratory.intrinsic+json": {
              "type": "dataframe",
              "variable_name": "test_results",
              "summary": "{\n  \"name\": \"test_results\",\n  \"rows\": 363,\n  \"fields\": [\n    {\n      \"column\": \"Test Predictions\",\n      \"properties\": {\n        \"dtype\": \"float32\",\n        \"num_unique_values\": 363,\n        \"samples\": [\n          36.23738098144531,\n          8.660819053649902,\n          22.53084373474121\n        ],\n        \"semantic_type\": \"\",\n        \"description\": \"\"\n      }\n    },\n    {\n      \"column\": \"Actuals\",\n      \"properties\": {\n        \"dtype\": \"number\",\n        \"std\": 90.89499796812184,\n        \"min\": 1.909,\n        \"max\": 767.145,\n        \"num_unique_values\": 358,\n        \"samples\": [\n          37.633,\n          9.712,\n          83.6\n        ],\n        \"semantic_type\": \"\",\n        \"description\": \"\"\n      }\n    }\n  ]\n}"
            }
          },
          "metadata": {},
          "execution_count": 27
        }
      ]
    },
    {
      "cell_type": "code",
      "source": [
        "plt.plot(test_results['Actuals'][:],alpha =0.5)\n",
        "plt.plot(test_results['Test Predictions'][:],'.')\n",
        "plt.legend(['real', 'predict'])"
      ],
      "metadata": {
        "colab": {
          "base_uri": "https://localhost:8080/",
          "height": 451
        },
        "id": "gQTEU6IFZyTy",
        "outputId": "90a29b98-f7d7-4e9f-f6a2-629eda1b6d65"
      },
      "execution_count": 29,
      "outputs": [
        {
          "output_type": "execute_result",
          "data": {
            "text/plain": [
              "<matplotlib.legend.Legend at 0x7990cc375960>"
            ]
          },
          "metadata": {},
          "execution_count": 29
        },
        {
          "output_type": "display_data",
          "data": {
            "text/plain": [
              "<Figure size 640x480 with 1 Axes>"
            ],
            "image/png": "[encoded data removed]"
          },
          "metadata": {}
        }
      ]
    },
    {
      "cell_type": "code",
      "source": [
        "x = np.arange(0,800)\n",
        "y = x\n",
        "plt.scatter(test_results['Actuals'][:], test_results['Test Predictions'][:], color = 'purple', alpha = 0.6)\n",
        "plt.plot(x,y, color = 'blue', alpha = 0.6, label = 'y = x')\n",
        "plt.xlabel('Actuals')\n",
        "plt.ylabel('Simulate')\n",
        "\n",
        "plt.legend()\n",
        "plt.show()"
      ],
      "metadata": {
        "id": "ZFySh6u0ZyRh",
        "colab": {
          "base_uri": "https://localhost:8080/",
          "height": 449
        },
        "outputId": "4d02164b-bd02-49d3-831d-f5bf5c3632a8"
      },
      "execution_count": 31,
      "outputs": [
        {
          "output_type": "display_data",
          "data": {
            "text/plain": [
              "<Figure size 640x480 with 1 Axes>"
            ],
            "image/png": "[encoded data removed]"
          },
          "metadata": {}
        }
      ]
    },
    {
      "cell_type": "code",
      "source": [
        "from sklearn.metrics import r2_score\n",
        "from sklearn.metrics import mean_squared_error\n",
        "\n",
        "rmse = np.sqrt(mean_squared_error(testY, test_predictions))\n",
        "rsquared_score = r2_score(testY, test_predictions)\n",
        "print('R^2 Score : %f' %(rsquared_score))\n",
        "print('RMSE : %.2f' %(rmse))"
      ],
      "metadata": {
        "id": "TA95nJKIZyPF",
        "colab": {
          "base_uri": "https://localhost:8080/"
        },
        "outputId": "9c6ffff9-db07-4d30-89be-36f671b1c639"
      },
      "execution_count": 32,
      "outputs": [
        {
          "output_type": "stream",
          "name": "stdout",
          "text": [
            "R^2 Score : -0.028854\n",
            "RMSE : 92.07\n"
          ]
        }
      ]
    },
    {
      "cell_type": "code",
      "source": [
        "# NSE\n",
        "from numpy import mean\n",
        "num_sum1 = 0\n",
        "num_sum2 = 0\n",
        "num_avg = mean(test_results['Actuals'][:])\n",
        "for i in range(len(test_results)):\n",
        "  num1 = test_results['Actuals'][i] - test_results['Test Predictions'][i]\n",
        "  num_sum1 += num1**2\n",
        "  num2 = test_results['Actuals'][i] - num_avg\n",
        "  num_sum2 += num2**2\n",
        "\n",
        "nse = 1 - (num_sum1 / num_sum2)\n",
        "print('NSE : %f' %nse)"
      ],
      "metadata": {
        "id": "Oh-1dC1_ZyMv",
        "colab": {
          "base_uri": "https://localhost:8080/"
        },
        "outputId": "ea640990-f538-4a2d-b0b2-4c35cf3ad69e"
      },
      "execution_count": 33,
      "outputs": [
        {
          "output_type": "stream",
          "name": "stdout",
          "text": [
            "NSE : -0.028854\n"
          ]
        }
      ]
    },
    {
      "cell_type": "code",
      "source": [
        "# PBIAS\n",
        "num_sum1 = 0\n",
        "for i in range(len(test_results)):\n",
        "  num1 = test_results['Actuals'][i] - test_results['Test Predictions'][i]\n",
        "  num_sum1 += num1\n",
        "\n",
        "pbias = (num_sum1 / np.sum(test_results['Actuals'][:])) * 100\n",
        "print('PBIAS : %f' %pbias)"
      ],
      "metadata": {
        "id": "-5jqThn8ZyGf",
        "colab": {
          "base_uri": "https://localhost:8080/"
        },
        "outputId": "0154c884-15a7-4fdb-a658-6ea73c3ed7d5"
      },
      "execution_count": 34,
      "outputs": [
        {
          "output_type": "stream",
          "name": "stdout",
          "text": [
            "PBIAS : -20.300045\n"
          ]
        }
      ]
    },
    {
      "cell_type": "code",
      "source": [],
      "metadata": {
        "id": "WdnxNSDnZx9H"
      },
      "execution_count": null,
      "outputs": []
    }
  ]
}