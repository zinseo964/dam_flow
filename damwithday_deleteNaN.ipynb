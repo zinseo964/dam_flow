{
  "nbformat": 4,
  "nbformat_minor": 0,
  "metadata": {
    "colab": {
      "provenance": [],
      "authorship_tag": "ABX9TyP4qHSvLLQfDwDWcHSQxG0E",
      "include_colab_link": true
    },
    "kernelspec": {
      "name": "python3",
      "display_name": "Python 3"
    },
    "language_info": {
      "name": "python"
    }
  },
  "cells": [
    {
      "cell_type": "markdown",
      "metadata": {
        "id": "view-in-github",
        "colab_type": "text"
      },
      "source": [
        "<a href=\"https://colab.research.google.com/github/zinseo964/dam_flow/blob/main/damwithday_deleteNaN.ipynb\" target=\"_parent\"><img src=\"https://colab.research.google.com/assets/colab-badge.svg\" alt=\"Open In Colab\"/></a>"
      ]
    },
    {
      "cell_type": "code",
      "execution_count": 1,
      "metadata": {
        "id": "eh9FG4N_F9vS"
      },
      "outputs": [],
      "source": [
        "import pandas as pd\n",
        "import numpy as np\n",
        "import matplotlib.pyplot as plt\n",
        "import tensorflow as tf\n",
        "import os"
      ]
    },
    {
      "cell_type": "code",
      "source": [
        "from google.colab import drive\n",
        "drive.mount('/content/drive')"
      ],
      "metadata": {
        "id": "dIQ5esK-hRjj",
        "colab": {
          "base_uri": "https://localhost:8080/"
        },
        "outputId": "ea41777a-f461-48be-9def-0f4c07cb6c45"
      },
      "execution_count": 2,
      "outputs": [
        {
          "output_type": "stream",
          "name": "stdout",
          "text": [
            "Mounted at /content/drive\n"
          ]
        }
      ]
    },
    {
      "cell_type": "code",
      "source": [
        "rain_data211 = pd.read_csv('/content/drive/MyDrive/Colab Notebooks/dam_flow_csv/rn_20240130172151.csv',encoding='cp949')\n",
        "rain_data101 = pd.read_csv('/content/drive/MyDrive/Colab Notebooks/dam_flow_csv/rn_20240130172202.csv',encoding='cp949')\n",
        "rain_data100 = pd.read_csv('/content/drive/MyDrive/Colab Notebooks/dam_flow_csv/rn_20240130172215.csv',encoding='cp949')\n",
        "rain_data212 = pd.read_csv('/content/drive/MyDrive/Colab Notebooks/dam_flow_csv/rn_20240130172236.csv',encoding='cp949')\n",
        "rain_data90 = pd.read_csv('/content/drive/MyDrive/Colab Notebooks/dam_flow_csv/rn_20240130172245.csv',encoding='cp949')"
      ],
      "metadata": {
        "id": "sTCa--h7JmNi"
      },
      "execution_count": 3,
      "outputs": []
    },
    {
      "cell_type": "code",
      "source": [
        "# rain_data = pd.merge(rain_data211, rain_data101, how='outer')\n",
        "from functools import reduce\n",
        "\n",
        "rain_data = reduce(lambda x,y : pd.merge(x,y, on='날짜', how='outer'),[rain_data211, rain_data101, rain_data100, rain_data212, rain_data90])"
      ],
      "metadata": {
        "id": "DprPaZgXh3BR"
      },
      "execution_count": 4,
      "outputs": []
    },
    {
      "cell_type": "code",
      "source": [
        "rain_data.set_index(\"날짜\", inplace = True)\n",
        "rain_data = rain_data.dropna(how='all')\n",
        "\n",
        "print(rain_data)"
      ],
      "metadata": {
        "id": "waugWhK5jpk0",
        "colab": {
          "base_uri": "https://localhost:8080/"
        },
        "outputId": "20358084-b891-4650-9886-6725343f5e95"
      },
      "execution_count": 5,
      "outputs": [
        {
          "output_type": "stream",
          "name": "stdout",
          "text": [
            "            211강수량(mm)  101강수량(mm)  100강수량(mm)  212강수량(mm)  90강수량(mm)\n",
            "날짜                                                                   \n",
            "2009-01-16         0.3         2.4         0.6         0.2        NaN\n",
            "2009-01-18         0.0         0.2         4.9         0.1        NaN\n",
            "2009-01-22         0.0         0.1         NaN         0.0        NaN\n",
            "2009-01-24         NaN         0.4         0.2         0.0        NaN\n",
            "2009-01-25         0.0         0.3         1.5         0.1        0.0\n",
            "...                ...         ...         ...         ...        ...\n",
            "2023-12-20         0.4         0.1         0.0         0.0        NaN\n",
            "2023-12-24         NaN         NaN         NaN         0.0        NaN\n",
            "2023-12-25         0.9         0.7         0.0         0.2        NaN\n",
            "2023-12-30         6.8         9.9         2.3         8.5        0.7\n",
            "2023-12-31         3.1         5.3         6.0         4.9       26.8\n",
            "\n",
            "[2993 rows x 5 columns]\n"
          ]
        }
      ]
    },
    {
      "cell_type": "code",
      "source": [
        "rain_col = [i for i in rain_data.columns if '강수' in i]\n",
        "rain_data[rain_col] = rain_data[rain_col].fillna(0)"
      ],
      "metadata": {
        "id": "4k7gESlaGIju",
        "colab": {
          "base_uri": "https://localhost:8080/"
        },
        "outputId": "c7668b5d-85d7-4b4a-9161-8763c5a833b0"
      },
      "execution_count": 6,
      "outputs": [
        {
          "output_type": "stream",
          "name": "stderr",
          "text": [
            "<ipython-input-6-54ac4d0ddfaa>:2: SettingWithCopyWarning: \n",
            "A value is trying to be set on a copy of a slice from a DataFrame.\n",
            "Try using .loc[row_indexer,col_indexer] = value instead\n",
            "\n",
            "See the caveats in the documentation: https://pandas.pydata.org/pandas-docs/stable/user_guide/indexing.html#returning-a-view-versus-a-copy\n",
            "  rain_data[rain_col] = rain_data[rain_col].fillna(0)\n"
          ]
        }
      ]
    },
    {
      "cell_type": "code",
      "source": [
        "print(rain_data.isna().sum().sum())\n",
        "print(rain_data)\n"
      ],
      "metadata": {
        "id": "GBzXaW-6jr8I",
        "colab": {
          "base_uri": "https://localhost:8080/"
        },
        "outputId": "741220fa-782b-4792-aac0-60354c4841d8"
      },
      "execution_count": 7,
      "outputs": [
        {
          "output_type": "stream",
          "name": "stdout",
          "text": [
            "0\n",
            "            211강수량(mm)  101강수량(mm)  100강수량(mm)  212강수량(mm)  90강수량(mm)\n",
            "날짜                                                                   \n",
            "2009-01-16         0.3         2.4         0.6         0.2        0.0\n",
            "2009-01-18         0.0         0.2         4.9         0.1        0.0\n",
            "2009-01-22         0.0         0.1         0.0         0.0        0.0\n",
            "2009-01-24         0.0         0.4         0.2         0.0        0.0\n",
            "2009-01-25         0.0         0.3         1.5         0.1        0.0\n",
            "...                ...         ...         ...         ...        ...\n",
            "2023-12-20         0.4         0.1         0.0         0.0        0.0\n",
            "2023-12-24         0.0         0.0         0.0         0.0        0.0\n",
            "2023-12-25         0.9         0.7         0.0         0.2        0.0\n",
            "2023-12-30         6.8         9.9         2.3         8.5        0.7\n",
            "2023-12-31         3.1         5.3         6.0         4.9       26.8\n",
            "\n",
            "[2993 rows x 5 columns]\n"
          ]
        }
      ]
    },
    {
      "cell_type": "code",
      "source": [
        "dam_flow = pd.read_csv('/content/drive/MyDrive/Colab Notebooks/dam_flow_csv/only_dam_flow.csv',encoding='utf-8')\n",
        "dam_flow.set_index(\"날짜\", inplace = True)\n",
        "print(dam_flow)"
      ],
      "metadata": {
        "id": "tQH3R_pfSahE",
        "colab": {
          "base_uri": "https://localhost:8080/"
        },
        "outputId": "ebc7d4dd-5341-4529-cfa3-02ad5ea139d5"
      },
      "execution_count": 8,
      "outputs": [
        {
          "output_type": "stream",
          "name": "stdout",
          "text": [
            "            유입량(㎥/s)\n",
            "날짜                  \n",
            "2009-01-01     0.000\n",
            "2009-01-02     0.825\n",
            "2009-01-03     3.904\n",
            "2009-01-04     0.000\n",
            "2009-01-05     0.000\n",
            "...              ...\n",
            "2023-12-27    25.873\n",
            "2023-12-28    21.186\n",
            "2023-12-29    20.887\n",
            "2023-12-30    29.183\n",
            "2023-12-31    25.803\n",
            "\n",
            "[5478 rows x 1 columns]\n"
          ]
        }
      ]
    },
    {
      "cell_type": "code",
      "source": [
        "date_index = rain_data.index\n",
        "dam_value = dam_flow.loc[date_index]\n",
        "\n",
        "print(dam_value)\n",
        "\n",
        "data = pd.merge(rain_data, dam_value,on='날짜', how='outer')\n",
        "\n",
        "# data = reduce(lambda x,y : pd.merge(x,y, on='날짜', how='outer'),[rain_data, dam_flow])"
      ],
      "metadata": {
        "id": "Fwa1qTrISbHS",
        "colab": {
          "base_uri": "https://localhost:8080/"
        },
        "outputId": "050228a1-a5b5-4617-adca-724e1c282df9"
      },
      "execution_count": 9,
      "outputs": [
        {
          "output_type": "stream",
          "name": "stdout",
          "text": [
            "            유입량(㎥/s)\n",
            "날짜                  \n",
            "2009-01-16     0.000\n",
            "2009-01-18     0.000\n",
            "2009-01-22     0.957\n",
            "2009-01-24     2.003\n",
            "2009-01-25     7.361\n",
            "...              ...\n",
            "2023-12-20    42.639\n",
            "2023-12-24    24.665\n",
            "2023-12-25    25.785\n",
            "2023-12-30    29.183\n",
            "2023-12-31    25.803\n",
            "\n",
            "[2993 rows x 1 columns]\n"
          ]
        }
      ]
    },
    {
      "cell_type": "code",
      "source": [
        "print(data)\n",
        "print(max(data['유입량(㎥/s)']))"
      ],
      "metadata": {
        "id": "QxdBO2OwZnlQ",
        "colab": {
          "base_uri": "https://localhost:8080/"
        },
        "outputId": "63c08542-16cf-4b7c-f97a-a68ade5c3b1a"
      },
      "execution_count": 10,
      "outputs": [
        {
          "output_type": "stream",
          "name": "stdout",
          "text": [
            "            211강수량(mm)  101강수량(mm)  100강수량(mm)  212강수량(mm)  90강수량(mm)  \\\n",
            "날짜                                                                      \n",
            "2009-01-16         0.3         2.4         0.6         0.2        0.0   \n",
            "2009-01-18         0.0         0.2         4.9         0.1        0.0   \n",
            "2009-01-22         0.0         0.1         0.0         0.0        0.0   \n",
            "2009-01-24         0.0         0.4         0.2         0.0        0.0   \n",
            "2009-01-25         0.0         0.3         1.5         0.1        0.0   \n",
            "...                ...         ...         ...         ...        ...   \n",
            "2023-12-20         0.4         0.1         0.0         0.0        0.0   \n",
            "2023-12-24         0.0         0.0         0.0         0.0        0.0   \n",
            "2023-12-25         0.9         0.7         0.0         0.2        0.0   \n",
            "2023-12-30         6.8         9.9         2.3         8.5        0.7   \n",
            "2023-12-31         3.1         5.3         6.0         4.9       26.8   \n",
            "\n",
            "            유입량(㎥/s)  \n",
            "날짜                    \n",
            "2009-01-16     0.000  \n",
            "2009-01-18     0.000  \n",
            "2009-01-22     0.957  \n",
            "2009-01-24     2.003  \n",
            "2009-01-25     7.361  \n",
            "...              ...  \n",
            "2023-12-20    42.639  \n",
            "2023-12-24    24.665  \n",
            "2023-12-25    25.785  \n",
            "2023-12-30    29.183  \n",
            "2023-12-31    25.803  \n",
            "\n",
            "[2993 rows x 6 columns]\n",
            "3918.5\n"
          ]
        }
      ]
    },
    {
      "cell_type": "code",
      "source": [
        "# data.index = pd.to_datetime(data['날짜'])\n",
        "\n",
        "dam_flow = data['유입량(㎥/s)']\n",
        "dam_flow.plot()"
      ],
      "metadata": {
        "id": "9gfzXmBUcDWP",
        "colab": {
          "base_uri": "https://localhost:8080/",
          "height": 634
        },
        "outputId": "f2f4fae2-28c6-41d0-861f-9cf20b4577cd"
      },
      "execution_count": 11,
      "outputs": [
        {
          "output_type": "execute_result",
          "data": {
            "text/plain": [
              "<Axes: xlabel='날짜'>"
            ]
          },
          "metadata": {},
          "execution_count": 11
        },
        {
          "output_type": "stream",
          "name": "stderr",
          "text": [
            "/usr/local/lib/python3.10/dist-packages/IPython/core/events.py:89: UserWarning: Glyph 45216 (\\N{HANGUL SYLLABLE NAL}) missing from current font.\n",
            "  func(*args, **kwargs)\n",
            "/usr/local/lib/python3.10/dist-packages/IPython/core/events.py:89: UserWarning: Glyph 51676 (\\N{HANGUL SYLLABLE JJA}) missing from current font.\n",
            "  func(*args, **kwargs)\n",
            "/usr/local/lib/python3.10/dist-packages/IPython/core/pylabtools.py:151: UserWarning: Glyph 45216 (\\N{HANGUL SYLLABLE NAL}) missing from current font.\n",
            "  fig.canvas.print_figure(bytes_io, **kw)\n",
            "/usr/local/lib/python3.10/dist-packages/IPython/core/pylabtools.py:151: UserWarning: Glyph 51676 (\\N{HANGUL SYLLABLE JJA}) missing from current font.\n",
            "  fig.canvas.print_figure(bytes_io, **kw)\n"
          ]
        },
        {
          "output_type": "display_data",
          "data": {
            "text/plain": [
              "<Figure size 640x480 with 1 Axes>"
            ],
            "image/png": "[encoded data removed]"
          },
          "metadata": {}
        }
      ]
    },
    {
      "cell_type": "code",
      "source": [
        "data['Y'] = data['유입량(㎥/s)']\n",
        "data = data.dropna()\n",
        "data.reset_index(drop=False, inplace = True)\n",
        "\n",
        "print(data)"
      ],
      "metadata": {
        "id": "ZnHkvJMj9XdS",
        "colab": {
          "base_uri": "https://localhost:8080/"
        },
        "outputId": "6dc91c6e-3714-476e-81dd-34dae85879e5"
      },
      "execution_count": 12,
      "outputs": [
        {
          "output_type": "stream",
          "name": "stdout",
          "text": [
            "              날짜  211강수량(mm)  101강수량(mm)  100강수량(mm)  212강수량(mm)  90강수량(mm)  \\\n",
            "0     2009-01-16         0.3         2.4         0.6         0.2        0.0   \n",
            "1     2009-01-18         0.0         0.2         4.9         0.1        0.0   \n",
            "2     2009-01-22         0.0         0.1         0.0         0.0        0.0   \n",
            "3     2009-01-24         0.0         0.4         0.2         0.0        0.0   \n",
            "4     2009-01-25         0.0         0.3         1.5         0.1        0.0   \n",
            "...          ...         ...         ...         ...         ...        ...   \n",
            "2988  2023-12-20         0.4         0.1         0.0         0.0        0.0   \n",
            "2989  2023-12-24         0.0         0.0         0.0         0.0        0.0   \n",
            "2990  2023-12-25         0.9         0.7         0.0         0.2        0.0   \n",
            "2991  2023-12-30         6.8         9.9         2.3         8.5        0.7   \n",
            "2992  2023-12-31         3.1         5.3         6.0         4.9       26.8   \n",
            "\n",
            "      유입량(㎥/s)       Y  \n",
            "0        0.000   0.000  \n",
            "1        0.000   0.000  \n",
            "2        0.957   0.957  \n",
            "3        2.003   2.003  \n",
            "4        7.361   7.361  \n",
            "...        ...     ...  \n",
            "2988    42.639  42.639  \n",
            "2989    24.665  24.665  \n",
            "2990    25.785  25.785  \n",
            "2991    29.183  29.183  \n",
            "2992    25.803  25.803  \n",
            "\n",
            "[2993 rows x 8 columns]\n"
          ]
        }
      ]
    },
    {
      "cell_type": "code",
      "source": [
        "train = data[data['날짜']<'2018-01-01']\n",
        "valid = data[data['날짜']>='2018-01-01']\n",
        "valid = valid[valid['날짜']<'2023-01-01']\n",
        "test = data[data['날짜']>='2023-01-01']\n",
        "print('train set : ', len(train),\"\\n\",\n",
        "      'valid set : ', len(valid), \"\\n\",\n",
        "      'test set : ', len(test), \"\\n\")\n",
        "train.set_index(\"날짜\", inplace = True)\n",
        "valid.set_index(\"날짜\", inplace = True)\n",
        "test.set_index(\"날짜\", inplace = True)\n",
        "\n",
        "trainX, trainY = train.drop(['Y'], axis = 1), train['Y']\n",
        "validX, validY = valid.drop(['Y'], axis = 1), valid['Y']\n",
        "testX, testY = test.drop(['Y'], axis = 1), test['Y']"
      ],
      "metadata": {
        "id": "SXCFT5roZt-x",
        "colab": {
          "base_uri": "https://localhost:8080/"
        },
        "outputId": "e713c683-2e51-4959-a465-0c11541201a2"
      },
      "execution_count": 13,
      "outputs": [
        {
          "output_type": "stream",
          "name": "stdout",
          "text": [
            "train set :  1812 \n",
            " valid set :  988 \n",
            " test set :  193 \n",
            "\n"
          ]
        }
      ]
    },
    {
      "cell_type": "code",
      "source": [
        "print(trainX)\n",
        "len(trainX.columns)"
      ],
      "metadata": {
        "id": "_NasIIN5cMrq",
        "colab": {
          "base_uri": "https://localhost:8080/"
        },
        "outputId": "763faad1-32d6-40f3-d615-7ef2fab39a4f"
      },
      "execution_count": 14,
      "outputs": [
        {
          "output_type": "stream",
          "name": "stdout",
          "text": [
            "            211강수량(mm)  101강수량(mm)  100강수량(mm)  212강수량(mm)  90강수량(mm)  \\\n",
            "날짜                                                                      \n",
            "2009-01-16         0.3         2.4         0.6         0.2        0.0   \n",
            "2009-01-18         0.0         0.2         4.9         0.1        0.0   \n",
            "2009-01-22         0.0         0.1         0.0         0.0        0.0   \n",
            "2009-01-24         0.0         0.4         0.2         0.0        0.0   \n",
            "2009-01-25         0.0         0.3         1.5         0.1        0.0   \n",
            "...                ...         ...         ...         ...        ...   \n",
            "2017-12-20         0.0         1.1         0.0         0.0        0.0   \n",
            "2017-12-23         0.0         0.0         0.0         0.0        0.0   \n",
            "2017-12-24        11.0        13.3         7.3        12.0        9.4   \n",
            "2017-12-30         0.4         1.0         0.3         0.6        0.0   \n",
            "2017-12-31         1.0         1.1         0.0         2.0        0.0   \n",
            "\n",
            "            유입량(㎥/s)  \n",
            "날짜                    \n",
            "2009-01-16     0.000  \n",
            "2009-01-18     0.000  \n",
            "2009-01-22     0.957  \n",
            "2009-01-24     2.003  \n",
            "2009-01-25     7.361  \n",
            "...              ...  \n",
            "2017-12-20     0.000  \n",
            "2017-12-23     5.522  \n",
            "2017-12-24    11.366  \n",
            "2017-12-30     6.000  \n",
            "2017-12-31     0.285  \n",
            "\n",
            "[1812 rows x 6 columns]\n"
          ]
        },
        {
          "output_type": "execute_result",
          "data": {
            "text/plain": [
              "6"
            ]
          },
          "metadata": {},
          "execution_count": 14
        }
      ]
    },
    {
      "cell_type": "code",
      "source": [
        "from sklearn.preprocessing import MinMaxScaler\n",
        "from tensorflow.keras.layers import *\n",
        "from keras.models import Sequential\n",
        "import tensorflow as tf\n",
        "from keras.layers import Dense, LSTM\n",
        "from tensorflow.keras.models import Sequential\n",
        "from tensorflow.keras.layers import *\n",
        "from tensorflow.keras.callbacks import ModelCheckpoint\n",
        "from tensorflow.keras.losses import MeanSquaredError\n",
        "from tensorflow.keras.metrics import RootMeanSquaredError\n",
        "from tensorflow.keras.optimizers import Adam\n",
        "\n",
        "model1 = Sequential()\n",
        "model1.add(LSTM(64, input_shape=(6,1)))\n",
        "model1.add(Dense(40, 'relu'))\n",
        "model1.add(Dense(40, 'relu'))\n",
        "model1.add(Dense(8, 'relu'))\n",
        "model1.add(Dense(8))\n",
        "model1.add(Dense(1))\n",
        "\n",
        "model1.summary()"
      ],
      "metadata": {
        "id": "vmqdghl2KSv3",
        "colab": {
          "base_uri": "https://localhost:8080/"
        },
        "outputId": "6aef37ec-0f85-4592-fed5-5d470bd66f33"
      },
      "execution_count": 15,
      "outputs": [
        {
          "output_type": "stream",
          "name": "stdout",
          "text": [
            "Model: \"sequential\"\n",
            "_________________________________________________________________\n",
            " Layer (type)                Output Shape              Param #   \n",
            "=================================================================\n",
            " lstm (LSTM)                 (None, 64)                16896     \n",
            "                                                                 \n",
            " dense (Dense)               (None, 40)                2600      \n",
            "                                                                 \n",
            " dense_1 (Dense)             (None, 40)                1640      \n",
            "                                                                 \n",
            " dense_2 (Dense)             (None, 8)                 328       \n",
            "                                                                 \n",
            " dense_3 (Dense)             (None, 8)                 72        \n",
            "                                                                 \n",
            " dense_4 (Dense)             (None, 1)                 9         \n",
            "                                                                 \n",
            "=================================================================\n",
            "Total params: 21545 (84.16 KB)\n",
            "Trainable params: 21545 (84.16 KB)\n",
            "Non-trainable params: 0 (0.00 Byte)\n",
            "_________________________________________________________________\n"
          ]
        }
      ]
    },
    {
      "cell_type": "code",
      "source": [
        "cp1 = ModelCheckpoint('model1/', save_best_only=True)\n",
        "model1.compile(loss=MeanSquaredError(), optimizer=Adam(learning_rate=0.0001), metrics=[RootMeanSquaredError()])\n",
        "model1.fit(trainX, trainY, validation_data = (validX, validY), batch_size=10, epochs=50, callbacks=[cp1])"
      ],
      "metadata": {
        "id": "JXFtLaHiWT8V",
        "colab": {
          "base_uri": "https://localhost:8080/"
        },
        "outputId": "4aa22588-97ee-4b76-98a1-2f3778cea128"
      },
      "execution_count": 16,
      "outputs": [
        {
          "output_type": "stream",
          "name": "stdout",
          "text": [
            "Epoch 1/50\n",
            "182/182 [==============================] - 10s 39ms/step - loss: 77673.7891 - root_mean_squared_error: 278.7002 - val_loss: 86857.3750 - val_root_mean_squared_error: 294.7158\n",
            "Epoch 2/50\n",
            "182/182 [==============================] - 8s 44ms/step - loss: 77103.1328 - root_mean_squared_error: 277.6745 - val_loss: 85622.4375 - val_root_mean_squared_error: 292.6131\n",
            "Epoch 3/50\n",
            "182/182 [==============================] - 6s 32ms/step - loss: 75031.3047 - root_mean_squared_error: 273.9184 - val_loss: 82044.8203 - val_root_mean_squared_error: 286.4347\n",
            "Epoch 4/50\n",
            "182/182 [==============================] - 5s 27ms/step - loss: 71508.0078 - root_mean_squared_error: 267.4098 - val_loss: 77684.0938 - val_root_mean_squared_error: 278.7187\n",
            "Epoch 5/50\n",
            "182/182 [==============================] - 6s 35ms/step - loss: 66925.6875 - root_mean_squared_error: 258.7000 - val_loss: 71996.8281 - val_root_mean_squared_error: 268.3222\n",
            "Epoch 6/50\n",
            "182/182 [==============================] - 5s 29ms/step - loss: 61498.8906 - root_mean_squared_error: 247.9897 - val_loss: 66136.2812 - val_root_mean_squared_error: 257.1697\n",
            "Epoch 7/50\n",
            "182/182 [==============================] - 5s 29ms/step - loss: 56005.1797 - root_mean_squared_error: 236.6541 - val_loss: 60225.1875 - val_root_mean_squared_error: 245.4082\n",
            "Epoch 8/50\n",
            "182/182 [==============================] - 6s 33ms/step - loss: 50334.7656 - root_mean_squared_error: 224.3541 - val_loss: 54371.5508 - val_root_mean_squared_error: 233.1771\n",
            "Epoch 9/50\n",
            "182/182 [==============================] - 5s 27ms/step - loss: 44997.8242 - root_mean_squared_error: 212.1269 - val_loss: 49005.5391 - val_root_mean_squared_error: 221.3720\n",
            "Epoch 10/50\n",
            "182/182 [==============================] - 6s 36ms/step - loss: 40143.1602 - root_mean_squared_error: 200.3576 - val_loss: 43748.1875 - val_root_mean_squared_error: 209.1607\n",
            "Epoch 11/50\n",
            "182/182 [==============================] - 5s 27ms/step - loss: 35665.7656 - root_mean_squared_error: 188.8538 - val_loss: 39200.1055 - val_root_mean_squared_error: 197.9902\n",
            "Epoch 12/50\n",
            "182/182 [==============================] - 5s 27ms/step - loss: 31649.1387 - root_mean_squared_error: 177.9021 - val_loss: 34871.1211 - val_root_mean_squared_error: 186.7381\n",
            "Epoch 13/50\n",
            "182/182 [==============================] - 6s 35ms/step - loss: 28021.7754 - root_mean_squared_error: 167.3971 - val_loss: 30754.9824 - val_root_mean_squared_error: 175.3710\n",
            "Epoch 14/50\n",
            "182/182 [==============================] - 5s 27ms/step - loss: 24805.9590 - root_mean_squared_error: 157.4991 - val_loss: 27306.0352 - val_root_mean_squared_error: 165.2454\n",
            "Epoch 15/50\n",
            "182/182 [==============================] - 7s 41ms/step - loss: 21832.0117 - root_mean_squared_error: 147.7566 - val_loss: 23944.0723 - val_root_mean_squared_error: 154.7387\n",
            "Epoch 16/50\n",
            "182/182 [==============================] - 5s 27ms/step - loss: 19090.3535 - root_mean_squared_error: 138.1678 - val_loss: 20955.8535 - val_root_mean_squared_error: 144.7614\n",
            "Epoch 17/50\n",
            "182/182 [==============================] - 6s 31ms/step - loss: 16635.3320 - root_mean_squared_error: 128.9780 - val_loss: 18316.9609 - val_root_mean_squared_error: 135.3402\n",
            "Epoch 18/50\n",
            "182/182 [==============================] - 6s 32ms/step - loss: 14495.1201 - root_mean_squared_error: 120.3957 - val_loss: 16069.7090 - val_root_mean_squared_error: 126.7663\n",
            "Epoch 19/50\n",
            "182/182 [==============================] - 5s 26ms/step - loss: 12615.1377 - root_mean_squared_error: 112.3171 - val_loss: 14158.9482 - val_root_mean_squared_error: 118.9914\n",
            "Epoch 20/50\n",
            "182/182 [==============================] - 7s 37ms/step - loss: 10946.8467 - root_mean_squared_error: 104.6272 - val_loss: 12551.2686 - val_root_mean_squared_error: 112.0324\n",
            "Epoch 21/50\n",
            "182/182 [==============================] - 5s 27ms/step - loss: 9631.0010 - root_mean_squared_error: 98.1377 - val_loss: 10828.4922 - val_root_mean_squared_error: 104.0600\n",
            "Epoch 22/50\n",
            "182/182 [==============================] - 6s 32ms/step - loss: 8420.9600 - root_mean_squared_error: 91.7658 - val_loss: 9373.1982 - val_root_mean_squared_error: 96.8153\n",
            "Epoch 23/50\n",
            "182/182 [==============================] - 5s 30ms/step - loss: 7297.4990 - root_mean_squared_error: 85.4254 - val_loss: 8299.4932 - val_root_mean_squared_error: 91.1016\n",
            "Epoch 24/50\n",
            "182/182 [==============================] - 5s 29ms/step - loss: 6396.3745 - root_mean_squared_error: 79.9773 - val_loss: 7203.7729 - val_root_mean_squared_error: 84.8750\n",
            "Epoch 25/50\n",
            "182/182 [==============================] - 6s 31ms/step - loss: 5627.7119 - root_mean_squared_error: 75.0181 - val_loss: 6294.7192 - val_root_mean_squared_error: 79.3393\n",
            "Epoch 26/50\n",
            "182/182 [==============================] - 5s 30ms/step - loss: 4954.4487 - root_mean_squared_error: 70.3878 - val_loss: 5399.8022 - val_root_mean_squared_error: 73.4833\n",
            "Epoch 27/50\n",
            "182/182 [==============================] - 6s 32ms/step - loss: 4404.1997 - root_mean_squared_error: 66.3641 - val_loss: 4618.9536 - val_root_mean_squared_error: 67.9629\n",
            "Epoch 28/50\n",
            "182/182 [==============================] - 5s 30ms/step - loss: 3797.9041 - root_mean_squared_error: 61.6271 - val_loss: 3958.9485 - val_root_mean_squared_error: 62.9202\n",
            "Epoch 29/50\n",
            "182/182 [==============================] - 5s 30ms/step - loss: 3390.3801 - root_mean_squared_error: 58.2270 - val_loss: 3392.3630 - val_root_mean_squared_error: 58.2440\n",
            "Epoch 30/50\n",
            "182/182 [==============================] - 5s 29ms/step - loss: 3125.1677 - root_mean_squared_error: 55.9032 - val_loss: 2906.0686 - val_root_mean_squared_error: 53.9080\n",
            "Epoch 31/50\n",
            "182/182 [==============================] - 5s 30ms/step - loss: 2736.9934 - root_mean_squared_error: 52.3163 - val_loss: 2537.9771 - val_root_mean_squared_error: 50.3783\n",
            "Epoch 32/50\n",
            "182/182 [==============================] - 6s 32ms/step - loss: 2362.8574 - root_mean_squared_error: 48.6092 - val_loss: 2122.5217 - val_root_mean_squared_error: 46.0708\n",
            "Epoch 33/50\n",
            "182/182 [==============================] - 5s 30ms/step - loss: 2096.0293 - root_mean_squared_error: 45.7824 - val_loss: 1948.9781 - val_root_mean_squared_error: 44.1472\n",
            "Epoch 34/50\n",
            "182/182 [==============================] - 6s 32ms/step - loss: 1866.3386 - root_mean_squared_error: 43.2011 - val_loss: 1576.6619 - val_root_mean_squared_error: 39.7072\n",
            "Epoch 35/50\n",
            "182/182 [==============================] - 5s 28ms/step - loss: 1686.6682 - root_mean_squared_error: 41.0691 - val_loss: 1468.5775 - val_root_mean_squared_error: 38.3220\n",
            "Epoch 36/50\n",
            "182/182 [==============================] - 1s 7ms/step - loss: 2316.1003 - root_mean_squared_error: 48.1259 - val_loss: 3583.6572 - val_root_mean_squared_error: 59.8637\n",
            "Epoch 37/50\n",
            "182/182 [==============================] - 1s 7ms/step - loss: 2215.6338 - root_mean_squared_error: 47.0705 - val_loss: 1748.6425 - val_root_mean_squared_error: 41.8168\n",
            "Epoch 38/50\n",
            "182/182 [==============================] - 7s 36ms/step - loss: 1584.9769 - root_mean_squared_error: 39.8118 - val_loss: 935.3998 - val_root_mean_squared_error: 30.5843\n",
            "Epoch 39/50\n",
            "182/182 [==============================] - 1s 6ms/step - loss: 1221.8571 - root_mean_squared_error: 34.9551 - val_loss: 1334.0938 - val_root_mean_squared_error: 36.5252\n",
            "Epoch 40/50\n",
            "182/182 [==============================] - 5s 26ms/step - loss: 1138.9460 - root_mean_squared_error: 33.7483 - val_loss: 764.2501 - val_root_mean_squared_error: 27.6451\n",
            "Epoch 41/50\n",
            "182/182 [==============================] - 6s 34ms/step - loss: 1079.3665 - root_mean_squared_error: 32.8537 - val_loss: 706.1457 - val_root_mean_squared_error: 26.5734\n",
            "Epoch 42/50\n",
            "182/182 [==============================] - 5s 29ms/step - loss: 1296.8896 - root_mean_squared_error: 36.0124 - val_loss: 696.2768 - val_root_mean_squared_error: 26.3871\n",
            "Epoch 43/50\n",
            "182/182 [==============================] - 5s 26ms/step - loss: 955.0134 - root_mean_squared_error: 30.9033 - val_loss: 569.0967 - val_root_mean_squared_error: 23.8557\n",
            "Epoch 44/50\n",
            "182/182 [==============================] - 6s 35ms/step - loss: 842.6513 - root_mean_squared_error: 29.0285 - val_loss: 373.9051 - val_root_mean_squared_error: 19.3366\n",
            "Epoch 45/50\n",
            "182/182 [==============================] - 5s 27ms/step - loss: 688.5786 - root_mean_squared_error: 26.2408 - val_loss: 310.8669 - val_root_mean_squared_error: 17.6314\n",
            "Epoch 46/50\n",
            "182/182 [==============================] - 1s 7ms/step - loss: 995.1017 - root_mean_squared_error: 31.5452 - val_loss: 811.9166 - val_root_mean_squared_error: 28.4942\n",
            "Epoch 47/50\n",
            "182/182 [==============================] - 1s 7ms/step - loss: 824.3268 - root_mean_squared_error: 28.7111 - val_loss: 631.4686 - val_root_mean_squared_error: 25.1290\n",
            "Epoch 48/50\n",
            "182/182 [==============================] - 1s 7ms/step - loss: 1013.9806 - root_mean_squared_error: 31.8431 - val_loss: 347.2934 - val_root_mean_squared_error: 18.6358\n",
            "Epoch 49/50\n",
            "182/182 [==============================] - 2s 9ms/step - loss: 935.6787 - root_mean_squared_error: 30.5889 - val_loss: 1382.9874 - val_root_mean_squared_error: 37.1885\n",
            "Epoch 50/50\n",
            "182/182 [==============================] - 2s 9ms/step - loss: 1021.3946 - root_mean_squared_error: 31.9593 - val_loss: 415.7354 - val_root_mean_squared_error: 20.3896\n"
          ]
        },
        {
          "output_type": "execute_result",
          "data": {
            "text/plain": [
              "<keras.src.callbacks.History at 0x79bbc1fda0b0>"
            ]
          },
          "metadata": {},
          "execution_count": 16
        }
      ]
    },
    {
      "cell_type": "code",
      "source": [
        "train_score = model1.evaluate(testX, testY, verbose=1)\n",
        "print('Train Score: %.2f MSE (%.2f RMSE)' % (train_score[0], np.sqrt(train_score[0])))"
      ],
      "metadata": {
        "id": "PfhCvPAa8lFR",
        "colab": {
          "base_uri": "https://localhost:8080/"
        },
        "outputId": "00563b83-ea08-4170-b7a0-6442ea99c81f"
      },
      "execution_count": 17,
      "outputs": [
        {
          "output_type": "stream",
          "name": "stdout",
          "text": [
            "7/7 [==============================] - 0s 3ms/step - loss: 4.7777 - root_mean_squared_error: 2.1858\n",
            "Train Score: 4.78 MSE (2.19 RMSE)\n"
          ]
        }
      ]
    },
    {
      "cell_type": "code",
      "source": [
        "train_predictions = model1.predict(trainX).flatten()\n",
        "train_results = pd.DataFrame(data={'Train Predictions':train_predictions, 'Actuals':trainY})\n",
        "train_results"
      ],
      "metadata": {
        "id": "5gfi4l7eRm3T",
        "colab": {
          "base_uri": "https://localhost:8080/",
          "height": 473
        },
        "outputId": "30219715-49b6-464d-ff64-9a6c41e2b2b1"
      },
      "execution_count": 18,
      "outputs": [
        {
          "output_type": "stream",
          "name": "stdout",
          "text": [
            "57/57 [==============================] - 1s 3ms/step\n"
          ]
        },
        {
          "output_type": "execute_result",
          "data": {
            "text/plain": [
              "            Train Predictions  Actuals\n",
              "날짜                                    \n",
              "2009-01-16           1.937598    0.000\n",
              "2009-01-18           1.970833    0.000\n",
              "2009-01-22           3.185730    0.957\n",
              "2009-01-24           3.926621    2.003\n",
              "2009-01-25           8.651604    7.361\n",
              "...                       ...      ...\n",
              "2017-12-20           1.999282    0.000\n",
              "2017-12-23           7.376580    5.522\n",
              "2017-12-24          12.157353   11.366\n",
              "2017-12-30           7.248162    6.000\n",
              "2017-12-31           2.130880    0.285\n",
              "\n",
              "[1812 rows x 2 columns]"
            ],
            "text/html": [
              "\n",
              "  <div id=\"df-361184d9-437e-4886-aa19-a36f4d9e7ea4\" class=\"colab-df-container\">\n",
              "    <div>\n",
              "<style scoped>\n",
              "    .dataframe tbody tr th:only-of-type {\n",
              "        vertical-align: middle;\n",
              "    }\n",
              "\n",
              "    .dataframe tbody tr th {\n",
              "        vertical-align: top;\n",
              "    }\n",
              "\n",
              "    .dataframe thead th {\n",
              "        text-align: right;\n",
              "    }\n",
              "</style>\n",
              "<table border=\"1\" class=\"dataframe\">\n",
              "  <thead>\n",
              "    <tr style=\"text-align: right;\">\n",
              "      <th></th>\n",
              "      <th>Train Predictions</th>\n",
              "      <th>Actuals</th>\n",
              "    </tr>\n",
              "    <tr>\n",
              "      <th>날짜</th>\n",
              "      <th></th>\n",
              "      <th></th>\n",
              "    </tr>\n",
              "  </thead>\n",
              "  <tbody>\n",
              "    <tr>\n",
              "      <th>2009-01-16</th>\n",
              "      <td>1.937598</td>\n",
              "      <td>0.000</td>\n",
              "    </tr>\n",
              "    <tr>\n",
              "      <th>2009-01-18</th>\n",
              "      <td>1.970833</td>\n",
              "      <td>0.000</td>\n",
              "    </tr>\n",
              "    <tr>\n",
              "      <th>2009-01-22</th>\n",
              "      <td>3.185730</td>\n",
              "      <td>0.957</td>\n",
              "    </tr>\n",
              "    <tr>\n",
              "      <th>2009-01-24</th>\n",
              "      <td>3.926621</td>\n",
              "      <td>2.003</td>\n",
              "    </tr>\n",
              "    <tr>\n",
              "      <th>2009-01-25</th>\n",
              "      <td>8.651604</td>\n",
              "      <td>7.361</td>\n",
              "    </tr>\n",
              "    <tr>\n",
              "      <th>...</th>\n",
              "      <td>...</td>\n",
              "      <td>...</td>\n",
              "    </tr>\n",
              "    <tr>\n",
              "      <th>2017-12-20</th>\n",
              "      <td>1.999282</td>\n",
              "      <td>0.000</td>\n",
              "    </tr>\n",
              "    <tr>\n",
              "      <th>2017-12-23</th>\n",
              "      <td>7.376580</td>\n",
              "      <td>5.522</td>\n",
              "    </tr>\n",
              "    <tr>\n",
              "      <th>2017-12-24</th>\n",
              "      <td>12.157353</td>\n",
              "      <td>11.366</td>\n",
              "    </tr>\n",
              "    <tr>\n",
              "      <th>2017-12-30</th>\n",
              "      <td>7.248162</td>\n",
              "      <td>6.000</td>\n",
              "    </tr>\n",
              "    <tr>\n",
              "      <th>2017-12-31</th>\n",
              "      <td>2.130880</td>\n",
              "      <td>0.285</td>\n",
              "    </tr>\n",
              "  </tbody>\n",
              "</table>\n",
              "<p>1812 rows × 2 columns</p>\n",
              "</div>\n",
              "    <div class=\"colab-df-buttons\">\n",
              "\n",
              "  <div class=\"colab-df-container\">\n",
              "    <button class=\"colab-df-convert\" onclick=\"convertToInteractive('df-361184d9-437e-4886-aa19-a36f4d9e7ea4')\"\n",
              "            title=\"Convert this dataframe to an interactive table.\"\n",
              "            style=\"display:none;\">\n",
              "\n",
              "  <svg xmlns=\"http://www.w3.org/2000/svg\" height=\"24px\" viewBox=\"0 -960 960 960\">\n",
              "    <path d=\"M120-120v-720h720v720H120Zm60-500h600v-160H180v160Zm220 220h160v-160H400v160Zm0 220h160v-160H400v160ZM180-400h160v-160H180v160Zm440 0h160v-160H620v160ZM180-180h160v-160H180v160Zm440 0h160v-160H620v160Z\"/>\n",
              "  </svg>\n",
              "    </button>\n",
              "\n",
              "  <style>\n",
              "    .colab-df-container {\n",
              "      display:flex;\n",
              "      gap: 12px;\n",
              "    }\n",
              "\n",
              "    .colab-df-convert {\n",
              "      background-color: #E8F0FE;\n",
              "      border: none;\n",
              "      border-radius: 50%;\n",
              "      cursor: pointer;\n",
              "      display: none;\n",
              "      fill: #1967D2;\n",
              "      height: 32px;\n",
              "      padding: 0 0 0 0;\n",
              "      width: 32px;\n",
              "    }\n",
              "\n",
              "    .colab-df-convert:hover {\n",
              "      background-color: #E2EBFA;\n",
              "      box-shadow: 0px 1px 2px rgba(60, 64, 67, 0.3), 0px 1px 3px 1px rgba(60, 64, 67, 0.15);\n",
              "      fill: #174EA6;\n",
              "    }\n",
              "\n",
              "    .colab-df-buttons div {\n",
              "      margin-bottom: 4px;\n",
              "    }\n",
              "\n",
              "    [theme=dark] .colab-df-convert {\n",
              "      background-color: #3B4455;\n",
              "      fill: #D2E3FC;\n",
              "    }\n",
              "\n",
              "    [theme=dark] .colab-df-convert:hover {\n",
              "      background-color: #434B5C;\n",
              "      box-shadow: 0px 1px 3px 1px rgba(0, 0, 0, 0.15);\n",
              "      filter: drop-shadow(0px 1px 2px rgba(0, 0, 0, 0.3));\n",
              "      fill: #FFFFFF;\n",
              "    }\n",
              "  </style>\n",
              "\n",
              "    <script>\n",
              "      const buttonEl =\n",
              "        document.querySelector('#df-361184d9-437e-4886-aa19-a36f4d9e7ea4 button.colab-df-convert');\n",
              "      buttonEl.style.display =\n",
              "        google.colab.kernel.accessAllowed ? 'block' : 'none';\n",
              "\n",
              "      async function convertToInteractive(key) {\n",
              "        const element = document.querySelector('#df-361184d9-437e-4886-aa19-a36f4d9e7ea4');\n",
              "        const dataTable =\n",
              "          await google.colab.kernel.invokeFunction('convertToInteractive',\n",
              "                                                    [key], {});\n",
              "        if (!dataTable) return;\n",
              "\n",
              "        const docLinkHtml = 'Like what you see? Visit the ' +\n",
              "          '<a target=\"_blank\" href=https://colab.research.google.com/notebooks/data_table.ipynb>data table notebook</a>'\n",
              "          + ' to learn more about interactive tables.';\n",
              "        element.innerHTML = '';\n",
              "        dataTable['output_type'] = 'display_data';\n",
              "        await google.colab.output.renderOutput(dataTable, element);\n",
              "        const docLink = document.createElement('div');\n",
              "        docLink.innerHTML = docLinkHtml;\n",
              "        element.appendChild(docLink);\n",
              "      }\n",
              "    </script>\n",
              "  </div>\n",
              "\n",
              "\n",
              "<div id=\"df-a1d17eee-8dc8-4d31-989a-ffa568c24d45\">\n",
              "  <button class=\"colab-df-quickchart\" onclick=\"quickchart('df-a1d17eee-8dc8-4d31-989a-ffa568c24d45')\"\n",
              "            title=\"Suggest charts\"\n",
              "            style=\"display:none;\">\n",
              "\n",
              "<svg xmlns=\"http://www.w3.org/2000/svg\" height=\"24px\"viewBox=\"0 0 24 24\"\n",
              "     width=\"24px\">\n",
              "    <g>\n",
              "        <path d=\"M19 3H5c-1.1 0-2 .9-2 2v14c0 1.1.9 2 2 2h14c1.1 0 2-.9 2-2V5c0-1.1-.9-2-2-2zM9 17H7v-7h2v7zm4 0h-2V7h2v10zm4 0h-2v-4h2v4z\"/>\n",
              "    </g>\n",
              "</svg>\n",
              "  </button>\n",
              "\n",
              "<style>\n",
              "  .colab-df-quickchart {\n",
              "      --bg-color: #E8F0FE;\n",
              "      --fill-color: #1967D2;\n",
              "      --hover-bg-color: #E2EBFA;\n",
              "      --hover-fill-color: #174EA6;\n",
              "      --disabled-fill-color: #AAA;\n",
              "      --disabled-bg-color: #DDD;\n",
              "  }\n",
              "\n",
              "  [theme=dark] .colab-df-quickchart {\n",
              "      --bg-color: #3B4455;\n",
              "      --fill-color: #D2E3FC;\n",
              "      --hover-bg-color: #434B5C;\n",
              "      --hover-fill-color: #FFFFFF;\n",
              "      --disabled-bg-color: #3B4455;\n",
              "      --disabled-fill-color: #666;\n",
              "  }\n",
              "\n",
              "  .colab-df-quickchart {\n",
              "    background-color: var(--bg-color);\n",
              "    border: none;\n",
              "    border-radius: 50%;\n",
              "    cursor: pointer;\n",
              "    display: none;\n",
              "    fill: var(--fill-color);\n",
              "    height: 32px;\n",
              "    padding: 0;\n",
              "    width: 32px;\n",
              "  }\n",
              "\n",
              "  .colab-df-quickchart:hover {\n",
              "    background-color: var(--hover-bg-color);\n",
              "    box-shadow: 0 1px 2px rgba(60, 64, 67, 0.3), 0 1px 3px 1px rgba(60, 64, 67, 0.15);\n",
              "    fill: var(--button-hover-fill-color);\n",
              "  }\n",
              "\n",
              "  .colab-df-quickchart-complete:disabled,\n",
              "  .colab-df-quickchart-complete:disabled:hover {\n",
              "    background-color: var(--disabled-bg-color);\n",
              "    fill: var(--disabled-fill-color);\n",
              "    box-shadow: none;\n",
              "  }\n",
              "\n",
              "  .colab-df-spinner {\n",
              "    border: 2px solid var(--fill-color);\n",
              "    border-color: transparent;\n",
              "    border-bottom-color: var(--fill-color);\n",
              "    animation:\n",
              "      spin 1s steps(1) infinite;\n",
              "  }\n",
              "\n",
              "  @keyframes spin {\n",
              "    0% {\n",
              "      border-color: transparent;\n",
              "      border-bottom-color: var(--fill-color);\n",
              "      border-left-color: var(--fill-color);\n",
              "    }\n",
              "    20% {\n",
              "      border-color: transparent;\n",
              "      border-left-color: var(--fill-color);\n",
              "      border-top-color: var(--fill-color);\n",
              "    }\n",
              "    30% {\n",
              "      border-color: transparent;\n",
              "      border-left-color: var(--fill-color);\n",
              "      border-top-color: var(--fill-color);\n",
              "      border-right-color: var(--fill-color);\n",
              "    }\n",
              "    40% {\n",
              "      border-color: transparent;\n",
              "      border-right-color: var(--fill-color);\n",
              "      border-top-color: var(--fill-color);\n",
              "    }\n",
              "    60% {\n",
              "      border-color: transparent;\n",
              "      border-right-color: var(--fill-color);\n",
              "    }\n",
              "    80% {\n",
              "      border-color: transparent;\n",
              "      border-right-color: var(--fill-color);\n",
              "      border-bottom-color: var(--fill-color);\n",
              "    }\n",
              "    90% {\n",
              "      border-color: transparent;\n",
              "      border-bottom-color: var(--fill-color);\n",
              "    }\n",
              "  }\n",
              "</style>\n",
              "\n",
              "  <script>\n",
              "    async function quickchart(key) {\n",
              "      const quickchartButtonEl =\n",
              "        document.querySelector('#' + key + ' button');\n",
              "      quickchartButtonEl.disabled = true;  // To prevent multiple clicks.\n",
              "      quickchartButtonEl.classList.add('colab-df-spinner');\n",
              "      try {\n",
              "        const charts = await google.colab.kernel.invokeFunction(\n",
              "            'suggestCharts', [key], {});\n",
              "      } catch (error) {\n",
              "        console.error('Error during call to suggestCharts:', error);\n",
              "      }\n",
              "      quickchartButtonEl.classList.remove('colab-df-spinner');\n",
              "      quickchartButtonEl.classList.add('colab-df-quickchart-complete');\n",
              "    }\n",
              "    (() => {\n",
              "      let quickchartButtonEl =\n",
              "        document.querySelector('#df-a1d17eee-8dc8-4d31-989a-ffa568c24d45 button');\n",
              "      quickchartButtonEl.style.display =\n",
              "        google.colab.kernel.accessAllowed ? 'block' : 'none';\n",
              "    })();\n",
              "  </script>\n",
              "</div>\n",
              "    </div>\n",
              "  </div>\n"
            ],
            "application/vnd.google.colaboratory.intrinsic+json": {
              "type": "dataframe",
              "variable_name": "train_results",
              "summary": "{\n  \"name\": \"train_results\",\n  \"rows\": 1812,\n  \"fields\": [\n    {\n      \"column\": \"Train Predictions\",\n      \"properties\": {\n        \"dtype\": \"float32\",\n        \"samples\": [\n          5.911908149719238,\n          4.138525485992432,\n          6.046014785766602\n        ],\n        \"num_unique_values\": 1812,\n        \"semantic_type\": \"\",\n        \"description\": \"\"\n      }\n    },\n    {\n      \"column\": \"Actuals\",\n      \"properties\": {\n        \"dtype\": \"number\",\n        \"std\": 264.04685500599595,\n        \"min\": 0.0,\n        \"max\": 3918.5,\n        \"samples\": [\n          7.865,\n          3.161,\n          8.069\n        ],\n        \"num_unique_values\": 1779,\n        \"semantic_type\": \"\",\n        \"description\": \"\"\n      }\n    }\n  ]\n}"
            }
          },
          "metadata": {},
          "execution_count": 18
        }
      ]
    },
    {
      "cell_type": "code",
      "source": [
        "import matplotlib.pyplot as plt\n",
        "plt.plot(train_results['Train Predictions'][:],'.')\n",
        "plt.plot(train_results['Actuals'][:])\n",
        "plt.legend(['predict', 'real'])"
      ],
      "metadata": {
        "id": "yOFEGrRQRm99",
        "colab": {
          "base_uri": "https://localhost:8080/",
          "height": 448
        },
        "outputId": "f5b18310-b27a-4e2d-dd93-12ee2d3b4ec3"
      },
      "execution_count": 32,
      "outputs": [
        {
          "output_type": "execute_result",
          "data": {
            "text/plain": [
              "<matplotlib.legend.Legend at 0x79bbb2f90280>"
            ]
          },
          "metadata": {},
          "execution_count": 32
        },
        {
          "output_type": "display_data",
          "data": {
            "text/plain": [
              "<Figure size 640x480 with 1 Axes>"
            ],
            "image/png": "[encoded data removed]"
          },
          "metadata": {}
        }
      ]
    },
    {
      "cell_type": "code",
      "source": [
        "val_predictions = model1.predict(validX).flatten()\n",
        "val_results = pd.DataFrame(data={'Val Predictions':val_predictions, 'Actuals':validY})\n",
        "val_results"
      ],
      "metadata": {
        "id": "38AKEhHgRnDr",
        "colab": {
          "base_uri": "https://localhost:8080/",
          "height": 473
        },
        "outputId": "21edf97a-1073-4cd8-85d8-c543f7371986"
      },
      "execution_count": 20,
      "outputs": [
        {
          "output_type": "stream",
          "name": "stdout",
          "text": [
            "31/31 [==============================] - 0s 3ms/step\n"
          ]
        },
        {
          "output_type": "execute_result",
          "data": {
            "text/plain": [
              "            Val Predictions  Actuals\n",
              "날짜                                  \n",
              "2018-01-08         1.820530    0.000\n",
              "2018-01-09         4.976930    3.462\n",
              "2018-01-15         6.411831    4.869\n",
              "2018-01-17         2.117163    0.000\n",
              "2018-01-20         2.411088    0.003\n",
              "...                     ...      ...\n",
              "2022-12-24         9.236855    7.574\n",
              "2022-12-28        12.167618   10.891\n",
              "2022-12-29        10.729978    9.218\n",
              "2022-12-30         6.539466    4.597\n",
              "2022-12-31         8.815847    7.110\n",
              "\n",
              "[988 rows x 2 columns]"
            ],
            "text/html": [
              "\n",
              "  <div id=\"df-966020b3-5f02-4726-87ef-f2083a856e31\" class=\"colab-df-container\">\n",
              "    <div>\n",
              "<style scoped>\n",
              "    .dataframe tbody tr th:only-of-type {\n",
              "        vertical-align: middle;\n",
              "    }\n",
              "\n",
              "    .dataframe tbody tr th {\n",
              "        vertical-align: top;\n",
              "    }\n",
              "\n",
              "    .dataframe thead th {\n",
              "        text-align: right;\n",
              "    }\n",
              "</style>\n",
              "<table border=\"1\" class=\"dataframe\">\n",
              "  <thead>\n",
              "    <tr style=\"text-align: right;\">\n",
              "      <th></th>\n",
              "      <th>Val Predictions</th>\n",
              "      <th>Actuals</th>\n",
              "    </tr>\n",
              "    <tr>\n",
              "      <th>날짜</th>\n",
              "      <th></th>\n",
              "      <th></th>\n",
              "    </tr>\n",
              "  </thead>\n",
              "  <tbody>\n",
              "    <tr>\n",
              "      <th>2018-01-08</th>\n",
              "      <td>1.820530</td>\n",
              "      <td>0.000</td>\n",
              "    </tr>\n",
              "    <tr>\n",
              "      <th>2018-01-09</th>\n",
              "      <td>4.976930</td>\n",
              "      <td>3.462</td>\n",
              "    </tr>\n",
              "    <tr>\n",
              "      <th>2018-01-15</th>\n",
              "      <td>6.411831</td>\n",
              "      <td>4.869</td>\n",
              "    </tr>\n",
              "    <tr>\n",
              "      <th>2018-01-17</th>\n",
              "      <td>2.117163</td>\n",
              "      <td>0.000</td>\n",
              "    </tr>\n",
              "    <tr>\n",
              "      <th>2018-01-20</th>\n",
              "      <td>2.411088</td>\n",
              "      <td>0.003</td>\n",
              "    </tr>\n",
              "    <tr>\n",
              "      <th>...</th>\n",
              "      <td>...</td>\n",
              "      <td>...</td>\n",
              "    </tr>\n",
              "    <tr>\n",
              "      <th>2022-12-24</th>\n",
              "      <td>9.236855</td>\n",
              "      <td>7.574</td>\n",
              "    </tr>\n",
              "    <tr>\n",
              "      <th>2022-12-28</th>\n",
              "      <td>12.167618</td>\n",
              "      <td>10.891</td>\n",
              "    </tr>\n",
              "    <tr>\n",
              "      <th>2022-12-29</th>\n",
              "      <td>10.729978</td>\n",
              "      <td>9.218</td>\n",
              "    </tr>\n",
              "    <tr>\n",
              "      <th>2022-12-30</th>\n",
              "      <td>6.539466</td>\n",
              "      <td>4.597</td>\n",
              "    </tr>\n",
              "    <tr>\n",
              "      <th>2022-12-31</th>\n",
              "      <td>8.815847</td>\n",
              "      <td>7.110</td>\n",
              "    </tr>\n",
              "  </tbody>\n",
              "</table>\n",
              "<p>988 rows × 2 columns</p>\n",
              "</div>\n",
              "    <div class=\"colab-df-buttons\">\n",
              "\n",
              "  <div class=\"colab-df-container\">\n",
              "    <button class=\"colab-df-convert\" onclick=\"convertToInteractive('df-966020b3-5f02-4726-87ef-f2083a856e31')\"\n",
              "            title=\"Convert this dataframe to an interactive table.\"\n",
              "            style=\"display:none;\">\n",
              "\n",
              "  <svg xmlns=\"http://www.w3.org/2000/svg\" height=\"24px\" viewBox=\"0 -960 960 960\">\n",
              "    <path d=\"M120-120v-720h720v720H120Zm60-500h600v-160H180v160Zm220 220h160v-160H400v160Zm0 220h160v-160H400v160ZM180-400h160v-160H180v160Zm440 0h160v-160H620v160ZM180-180h160v-160H180v160Zm440 0h160v-160H620v160Z\"/>\n",
              "  </svg>\n",
              "    </button>\n",
              "\n",
              "  <style>\n",
              "    .colab-df-container {\n",
              "      display:flex;\n",
              "      gap: 12px;\n",
              "    }\n",
              "\n",
              "    .colab-df-convert {\n",
              "      background-color: #E8F0FE;\n",
              "      border: none;\n",
              "      border-radius: 50%;\n",
              "      cursor: pointer;\n",
              "      display: none;\n",
              "      fill: #1967D2;\n",
              "      height: 32px;\n",
              "      padding: 0 0 0 0;\n",
              "      width: 32px;\n",
              "    }\n",
              "\n",
              "    .colab-df-convert:hover {\n",
              "      background-color: #E2EBFA;\n",
              "      box-shadow: 0px 1px 2px rgba(60, 64, 67, 0.3), 0px 1px 3px 1px rgba(60, 64, 67, 0.15);\n",
              "      fill: #174EA6;\n",
              "    }\n",
              "\n",
              "    .colab-df-buttons div {\n",
              "      margin-bottom: 4px;\n",
              "    }\n",
              "\n",
              "    [theme=dark] .colab-df-convert {\n",
              "      background-color: #3B4455;\n",
              "      fill: #D2E3FC;\n",
              "    }\n",
              "\n",
              "    [theme=dark] .colab-df-convert:hover {\n",
              "      background-color: #434B5C;\n",
              "      box-shadow: 0px 1px 3px 1px rgba(0, 0, 0, 0.15);\n",
              "      filter: drop-shadow(0px 1px 2px rgba(0, 0, 0, 0.3));\n",
              "      fill: #FFFFFF;\n",
              "    }\n",
              "  </style>\n",
              "\n",
              "    <script>\n",
              "      const buttonEl =\n",
              "        document.querySelector('#df-966020b3-5f02-4726-87ef-f2083a856e31 button.colab-df-convert');\n",
              "      buttonEl.style.display =\n",
              "        google.colab.kernel.accessAllowed ? 'block' : 'none';\n",
              "\n",
              "      async function convertToInteractive(key) {\n",
              "        const element = document.querySelector('#df-966020b3-5f02-4726-87ef-f2083a856e31');\n",
              "        const dataTable =\n",
              "          await google.colab.kernel.invokeFunction('convertToInteractive',\n",
              "                                                    [key], {});\n",
              "        if (!dataTable) return;\n",
              "\n",
              "        const docLinkHtml = 'Like what you see? Visit the ' +\n",
              "          '<a target=\"_blank\" href=https://colab.research.google.com/notebooks/data_table.ipynb>data table notebook</a>'\n",
              "          + ' to learn more about interactive tables.';\n",
              "        element.innerHTML = '';\n",
              "        dataTable['output_type'] = 'display_data';\n",
              "        await google.colab.output.renderOutput(dataTable, element);\n",
              "        const docLink = document.createElement('div');\n",
              "        docLink.innerHTML = docLinkHtml;\n",
              "        element.appendChild(docLink);\n",
              "      }\n",
              "    </script>\n",
              "  </div>\n",
              "\n",
              "\n",
              "<div id=\"df-362ab9d7-349c-426f-a34f-9529f60f75cc\">\n",
              "  <button class=\"colab-df-quickchart\" onclick=\"quickchart('df-362ab9d7-349c-426f-a34f-9529f60f75cc')\"\n",
              "            title=\"Suggest charts\"\n",
              "            style=\"display:none;\">\n",
              "\n",
              "<svg xmlns=\"http://www.w3.org/2000/svg\" height=\"24px\"viewBox=\"0 0 24 24\"\n",
              "     width=\"24px\">\n",
              "    <g>\n",
              "        <path d=\"M19 3H5c-1.1 0-2 .9-2 2v14c0 1.1.9 2 2 2h14c1.1 0 2-.9 2-2V5c0-1.1-.9-2-2-2zM9 17H7v-7h2v7zm4 0h-2V7h2v10zm4 0h-2v-4h2v4z\"/>\n",
              "    </g>\n",
              "</svg>\n",
              "  </button>\n",
              "\n",
              "<style>\n",
              "  .colab-df-quickchart {\n",
              "      --bg-color: #E8F0FE;\n",
              "      --fill-color: #1967D2;\n",
              "      --hover-bg-color: #E2EBFA;\n",
              "      --hover-fill-color: #174EA6;\n",
              "      --disabled-fill-color: #AAA;\n",
              "      --disabled-bg-color: #DDD;\n",
              "  }\n",
              "\n",
              "  [theme=dark] .colab-df-quickchart {\n",
              "      --bg-color: #3B4455;\n",
              "      --fill-color: #D2E3FC;\n",
              "      --hover-bg-color: #434B5C;\n",
              "      --hover-fill-color: #FFFFFF;\n",
              "      --disabled-bg-color: #3B4455;\n",
              "      --disabled-fill-color: #666;\n",
              "  }\n",
              "\n",
              "  .colab-df-quickchart {\n",
              "    background-color: var(--bg-color);\n",
              "    border: none;\n",
              "    border-radius: 50%;\n",
              "    cursor: pointer;\n",
              "    display: none;\n",
              "    fill: var(--fill-color);\n",
              "    height: 32px;\n",
              "    padding: 0;\n",
              "    width: 32px;\n",
              "  }\n",
              "\n",
              "  .colab-df-quickchart:hover {\n",
              "    background-color: var(--hover-bg-color);\n",
              "    box-shadow: 0 1px 2px rgba(60, 64, 67, 0.3), 0 1px 3px 1px rgba(60, 64, 67, 0.15);\n",
              "    fill: var(--button-hover-fill-color);\n",
              "  }\n",
              "\n",
              "  .colab-df-quickchart-complete:disabled,\n",
              "  .colab-df-quickchart-complete:disabled:hover {\n",
              "    background-color: var(--disabled-bg-color);\n",
              "    fill: var(--disabled-fill-color);\n",
              "    box-shadow: none;\n",
              "  }\n",
              "\n",
              "  .colab-df-spinner {\n",
              "    border: 2px solid var(--fill-color);\n",
              "    border-color: transparent;\n",
              "    border-bottom-color: var(--fill-color);\n",
              "    animation:\n",
              "      spin 1s steps(1) infinite;\n",
              "  }\n",
              "\n",
              "  @keyframes spin {\n",
              "    0% {\n",
              "      border-color: transparent;\n",
              "      border-bottom-color: var(--fill-color);\n",
              "      border-left-color: var(--fill-color);\n",
              "    }\n",
              "    20% {\n",
              "      border-color: transparent;\n",
              "      border-left-color: var(--fill-color);\n",
              "      border-top-color: var(--fill-color);\n",
              "    }\n",
              "    30% {\n",
              "      border-color: transparent;\n",
              "      border-left-color: var(--fill-color);\n",
              "      border-top-color: var(--fill-color);\n",
              "      border-right-color: var(--fill-color);\n",
              "    }\n",
              "    40% {\n",
              "      border-color: transparent;\n",
              "      border-right-color: var(--fill-color);\n",
              "      border-top-color: var(--fill-color);\n",
              "    }\n",
              "    60% {\n",
              "      border-color: transparent;\n",
              "      border-right-color: var(--fill-color);\n",
              "    }\n",
              "    80% {\n",
              "      border-color: transparent;\n",
              "      border-right-color: var(--fill-color);\n",
              "      border-bottom-color: var(--fill-color);\n",
              "    }\n",
              "    90% {\n",
              "      border-color: transparent;\n",
              "      border-bottom-color: var(--fill-color);\n",
              "    }\n",
              "  }\n",
              "</style>\n",
              "\n",
              "  <script>\n",
              "    async function quickchart(key) {\n",
              "      const quickchartButtonEl =\n",
              "        document.querySelector('#' + key + ' button');\n",
              "      quickchartButtonEl.disabled = true;  // To prevent multiple clicks.\n",
              "      quickchartButtonEl.classList.add('colab-df-spinner');\n",
              "      try {\n",
              "        const charts = await google.colab.kernel.invokeFunction(\n",
              "            'suggestCharts', [key], {});\n",
              "      } catch (error) {\n",
              "        console.error('Error during call to suggestCharts:', error);\n",
              "      }\n",
              "      quickchartButtonEl.classList.remove('colab-df-spinner');\n",
              "      quickchartButtonEl.classList.add('colab-df-quickchart-complete');\n",
              "    }\n",
              "    (() => {\n",
              "      let quickchartButtonEl =\n",
              "        document.querySelector('#df-362ab9d7-349c-426f-a34f-9529f60f75cc button');\n",
              "      quickchartButtonEl.style.display =\n",
              "        google.colab.kernel.accessAllowed ? 'block' : 'none';\n",
              "    })();\n",
              "  </script>\n",
              "</div>\n",
              "    </div>\n",
              "  </div>\n"
            ],
            "application/vnd.google.colaboratory.intrinsic+json": {
              "type": "dataframe",
              "variable_name": "val_results",
              "summary": "{\n  \"name\": \"val_results\",\n  \"rows\": 988,\n  \"fields\": [\n    {\n      \"column\": \"Val Predictions\",\n      \"properties\": {\n        \"dtype\": \"float32\",\n        \"samples\": [\n          6.989143371582031,\n          23.05280303955078,\n          110.30055236816406\n        ],\n        \"num_unique_values\": 988,\n        \"semantic_type\": \"\",\n        \"description\": \"\"\n      }\n    },\n    {\n      \"column\": \"Actuals\",\n      \"properties\": {\n        \"dtype\": \"number\",\n        \"std\": 277.7989531566194,\n        \"min\": 0.0,\n        \"max\": 3373.14,\n        \"samples\": [\n          1356.297,\n          100.207,\n          11.402\n        ],\n        \"num_unique_values\": 965,\n        \"semantic_type\": \"\",\n        \"description\": \"\"\n      }\n    }\n  ]\n}"
            }
          },
          "metadata": {},
          "execution_count": 20
        }
      ]
    },
    {
      "cell_type": "code",
      "source": [
        "plt.plot(val_results['Val Predictions'][:])\n",
        "plt.plot(val_results['Actuals'][:])\n"
      ],
      "metadata": {
        "id": "FQp5aMnYRnJa",
        "colab": {
          "base_uri": "https://localhost:8080/",
          "height": 449
        },
        "outputId": "37a083ce-7941-4369-bf83-57f4637eac93"
      },
      "execution_count": 21,
      "outputs": [
        {
          "output_type": "execute_result",
          "data": {
            "text/plain": [
              "[<matplotlib.lines.Line2D at 0x79bbb2fd83d0>]"
            ]
          },
          "metadata": {},
          "execution_count": 21
        },
        {
          "output_type": "display_data",
          "data": {
            "text/plain": [
              "<Figure size 640x480 with 1 Axes>"
            ],
            "image/png": "[encoded data removed]"
          },
          "metadata": {}
        }
      ]
    },
    {
      "cell_type": "code",
      "source": [
        "test_predictions = model1.predict(testX).flatten()\n",
        "test_results = pd.DataFrame(data={'Test Predictions':test_predictions, 'Actuals':testY})\n",
        "test_results"
      ],
      "metadata": {
        "id": "iMeOwoSdZyWM",
        "colab": {
          "base_uri": "https://localhost:8080/",
          "height": 473
        },
        "outputId": "a8035fac-227a-4b60-c9c0-60cb5af8d165"
      },
      "execution_count": 22,
      "outputs": [
        {
          "output_type": "stream",
          "name": "stdout",
          "text": [
            "7/7 [==============================] - 0s 3ms/step\n"
          ]
        },
        {
          "output_type": "execute_result",
          "data": {
            "text/plain": [
              "            Test Predictions  Actuals\n",
              "날짜                                   \n",
              "2023-01-06          8.344741    7.096\n",
              "2023-01-07          4.446299    3.040\n",
              "2023-01-08          7.947258    6.152\n",
              "2023-01-13         32.878567   31.789\n",
              "2023-01-14         35.327946   36.020\n",
              "...                      ...      ...\n",
              "2023-12-20         41.934326   42.639\n",
              "2023-12-24         24.988274   24.665\n",
              "2023-12-25         25.441494   25.785\n",
              "2023-12-30         28.854956   29.183\n",
              "2023-12-31         25.346121   25.803\n",
              "\n",
              "[193 rows x 2 columns]"
            ],
            "text/html": [
              "\n",
              "  <div id=\"df-254fc88c-5978-4cf8-9d6b-8fe203fc6a9c\" class=\"colab-df-container\">\n",
              "    <div>\n",
              "<style scoped>\n",
              "    .dataframe tbody tr th:only-of-type {\n",
              "        vertical-align: middle;\n",
              "    }\n",
              "\n",
              "    .dataframe tbody tr th {\n",
              "        vertical-align: top;\n",
              "    }\n",
              "\n",
              "    .dataframe thead th {\n",
              "        text-align: right;\n",
              "    }\n",
              "</style>\n",
              "<table border=\"1\" class=\"dataframe\">\n",
              "  <thead>\n",
              "    <tr style=\"text-align: right;\">\n",
              "      <th></th>\n",
              "      <th>Test Predictions</th>\n",
              "      <th>Actuals</th>\n",
              "    </tr>\n",
              "    <tr>\n",
              "      <th>날짜</th>\n",
              "      <th></th>\n",
              "      <th></th>\n",
              "    </tr>\n",
              "  </thead>\n",
              "  <tbody>\n",
              "    <tr>\n",
              "      <th>2023-01-06</th>\n",
              "      <td>8.344741</td>\n",
              "      <td>7.096</td>\n",
              "    </tr>\n",
              "    <tr>\n",
              "      <th>2023-01-07</th>\n",
              "      <td>4.446299</td>\n",
              "      <td>3.040</td>\n",
              "    </tr>\n",
              "    <tr>\n",
              "      <th>2023-01-08</th>\n",
              "      <td>7.947258</td>\n",
              "      <td>6.152</td>\n",
              "    </tr>\n",
              "    <tr>\n",
              "      <th>2023-01-13</th>\n",
              "      <td>32.878567</td>\n",
              "      <td>31.789</td>\n",
              "    </tr>\n",
              "    <tr>\n",
              "      <th>2023-01-14</th>\n",
              "      <td>35.327946</td>\n",
              "      <td>36.020</td>\n",
              "    </tr>\n",
              "    <tr>\n",
              "      <th>...</th>\n",
              "      <td>...</td>\n",
              "      <td>...</td>\n",
              "    </tr>\n",
              "    <tr>\n",
              "      <th>2023-12-20</th>\n",
              "      <td>41.934326</td>\n",
              "      <td>42.639</td>\n",
              "    </tr>\n",
              "    <tr>\n",
              "      <th>2023-12-24</th>\n",
              "      <td>24.988274</td>\n",
              "      <td>24.665</td>\n",
              "    </tr>\n",
              "    <tr>\n",
              "      <th>2023-12-25</th>\n",
              "      <td>25.441494</td>\n",
              "      <td>25.785</td>\n",
              "    </tr>\n",
              "    <tr>\n",
              "      <th>2023-12-30</th>\n",
              "      <td>28.854956</td>\n",
              "      <td>29.183</td>\n",
              "    </tr>\n",
              "    <tr>\n",
              "      <th>2023-12-31</th>\n",
              "      <td>25.346121</td>\n",
              "      <td>25.803</td>\n",
              "    </tr>\n",
              "  </tbody>\n",
              "</table>\n",
              "<p>193 rows × 2 columns</p>\n",
              "</div>\n",
              "    <div class=\"colab-df-buttons\">\n",
              "\n",
              "  <div class=\"colab-df-container\">\n",
              "    <button class=\"colab-df-convert\" onclick=\"convertToInteractive('df-254fc88c-5978-4cf8-9d6b-8fe203fc6a9c')\"\n",
              "            title=\"Convert this dataframe to an interactive table.\"\n",
              "            style=\"display:none;\">\n",
              "\n",
              "  <svg xmlns=\"http://www.w3.org/2000/svg\" height=\"24px\" viewBox=\"0 -960 960 960\">\n",
              "    <path d=\"M120-120v-720h720v720H120Zm60-500h600v-160H180v160Zm220 220h160v-160H400v160Zm0 220h160v-160H400v160ZM180-400h160v-160H180v160Zm440 0h160v-160H620v160ZM180-180h160v-160H180v160Zm440 0h160v-160H620v160Z\"/>\n",
              "  </svg>\n",
              "    </button>\n",
              "\n",
              "  <style>\n",
              "    .colab-df-container {\n",
              "      display:flex;\n",
              "      gap: 12px;\n",
              "    }\n",
              "\n",
              "    .colab-df-convert {\n",
              "      background-color: #E8F0FE;\n",
              "      border: none;\n",
              "      border-radius: 50%;\n",
              "      cursor: pointer;\n",
              "      display: none;\n",
              "      fill: #1967D2;\n",
              "      height: 32px;\n",
              "      padding: 0 0 0 0;\n",
              "      width: 32px;\n",
              "    }\n",
              "\n",
              "    .colab-df-convert:hover {\n",
              "      background-color: #E2EBFA;\n",
              "      box-shadow: 0px 1px 2px rgba(60, 64, 67, 0.3), 0px 1px 3px 1px rgba(60, 64, 67, 0.15);\n",
              "      fill: #174EA6;\n",
              "    }\n",
              "\n",
              "    .colab-df-buttons div {\n",
              "      margin-bottom: 4px;\n",
              "    }\n",
              "\n",
              "    [theme=dark] .colab-df-convert {\n",
              "      background-color: #3B4455;\n",
              "      fill: #D2E3FC;\n",
              "    }\n",
              "\n",
              "    [theme=dark] .colab-df-convert:hover {\n",
              "      background-color: #434B5C;\n",
              "      box-shadow: 0px 1px 3px 1px rgba(0, 0, 0, 0.15);\n",
              "      filter: drop-shadow(0px 1px 2px rgba(0, 0, 0, 0.3));\n",
              "      fill: #FFFFFF;\n",
              "    }\n",
              "  </style>\n",
              "\n",
              "    <script>\n",
              "      const buttonEl =\n",
              "        document.querySelector('#df-254fc88c-5978-4cf8-9d6b-8fe203fc6a9c button.colab-df-convert');\n",
              "      buttonEl.style.display =\n",
              "        google.colab.kernel.accessAllowed ? 'block' : 'none';\n",
              "\n",
              "      async function convertToInteractive(key) {\n",
              "        const element = document.querySelector('#df-254fc88c-5978-4cf8-9d6b-8fe203fc6a9c');\n",
              "        const dataTable =\n",
              "          await google.colab.kernel.invokeFunction('convertToInteractive',\n",
              "                                                    [key], {});\n",
              "        if (!dataTable) return;\n",
              "\n",
              "        const docLinkHtml = 'Like what you see? Visit the ' +\n",
              "          '<a target=\"_blank\" href=https://colab.research.google.com/notebooks/data_table.ipynb>data table notebook</a>'\n",
              "          + ' to learn more about interactive tables.';\n",
              "        element.innerHTML = '';\n",
              "        dataTable['output_type'] = 'display_data';\n",
              "        await google.colab.output.renderOutput(dataTable, element);\n",
              "        const docLink = document.createElement('div');\n",
              "        docLink.innerHTML = docLinkHtml;\n",
              "        element.appendChild(docLink);\n",
              "      }\n",
              "    </script>\n",
              "  </div>\n",
              "\n",
              "\n",
              "<div id=\"df-73b6adfc-2856-41ca-aa3a-211ef655f807\">\n",
              "  <button class=\"colab-df-quickchart\" onclick=\"quickchart('df-73b6adfc-2856-41ca-aa3a-211ef655f807')\"\n",
              "            title=\"Suggest charts\"\n",
              "            style=\"display:none;\">\n",
              "\n",
              "<svg xmlns=\"http://www.w3.org/2000/svg\" height=\"24px\"viewBox=\"0 0 24 24\"\n",
              "     width=\"24px\">\n",
              "    <g>\n",
              "        <path d=\"M19 3H5c-1.1 0-2 .9-2 2v14c0 1.1.9 2 2 2h14c1.1 0 2-.9 2-2V5c0-1.1-.9-2-2-2zM9 17H7v-7h2v7zm4 0h-2V7h2v10zm4 0h-2v-4h2v4z\"/>\n",
              "    </g>\n",
              "</svg>\n",
              "  </button>\n",
              "\n",
              "<style>\n",
              "  .colab-df-quickchart {\n",
              "      --bg-color: #E8F0FE;\n",
              "      --fill-color: #1967D2;\n",
              "      --hover-bg-color: #E2EBFA;\n",
              "      --hover-fill-color: #174EA6;\n",
              "      --disabled-fill-color: #AAA;\n",
              "      --disabled-bg-color: #DDD;\n",
              "  }\n",
              "\n",
              "  [theme=dark] .colab-df-quickchart {\n",
              "      --bg-color: #3B4455;\n",
              "      --fill-color: #D2E3FC;\n",
              "      --hover-bg-color: #434B5C;\n",
              "      --hover-fill-color: #FFFFFF;\n",
              "      --disabled-bg-color: #3B4455;\n",
              "      --disabled-fill-color: #666;\n",
              "  }\n",
              "\n",
              "  .colab-df-quickchart {\n",
              "    background-color: var(--bg-color);\n",
              "    border: none;\n",
              "    border-radius: 50%;\n",
              "    cursor: pointer;\n",
              "    display: none;\n",
              "    fill: var(--fill-color);\n",
              "    height: 32px;\n",
              "    padding: 0;\n",
              "    width: 32px;\n",
              "  }\n",
              "\n",
              "  .colab-df-quickchart:hover {\n",
              "    background-color: var(--hover-bg-color);\n",
              "    box-shadow: 0 1px 2px rgba(60, 64, 67, 0.3), 0 1px 3px 1px rgba(60, 64, 67, 0.15);\n",
              "    fill: var(--button-hover-fill-color);\n",
              "  }\n",
              "\n",
              "  .colab-df-quickchart-complete:disabled,\n",
              "  .colab-df-quickchart-complete:disabled:hover {\n",
              "    background-color: var(--disabled-bg-color);\n",
              "    fill: var(--disabled-fill-color);\n",
              "    box-shadow: none;\n",
              "  }\n",
              "\n",
              "  .colab-df-spinner {\n",
              "    border: 2px solid var(--fill-color);\n",
              "    border-color: transparent;\n",
              "    border-bottom-color: var(--fill-color);\n",
              "    animation:\n",
              "      spin 1s steps(1) infinite;\n",
              "  }\n",
              "\n",
              "  @keyframes spin {\n",
              "    0% {\n",
              "      border-color: transparent;\n",
              "      border-bottom-color: var(--fill-color);\n",
              "      border-left-color: var(--fill-color);\n",
              "    }\n",
              "    20% {\n",
              "      border-color: transparent;\n",
              "      border-left-color: var(--fill-color);\n",
              "      border-top-color: var(--fill-color);\n",
              "    }\n",
              "    30% {\n",
              "      border-color: transparent;\n",
              "      border-left-color: var(--fill-color);\n",
              "      border-top-color: var(--fill-color);\n",
              "      border-right-color: var(--fill-color);\n",
              "    }\n",
              "    40% {\n",
              "      border-color: transparent;\n",
              "      border-right-color: var(--fill-color);\n",
              "      border-top-color: var(--fill-color);\n",
              "    }\n",
              "    60% {\n",
              "      border-color: transparent;\n",
              "      border-right-color: var(--fill-color);\n",
              "    }\n",
              "    80% {\n",
              "      border-color: transparent;\n",
              "      border-right-color: var(--fill-color);\n",
              "      border-bottom-color: var(--fill-color);\n",
              "    }\n",
              "    90% {\n",
              "      border-color: transparent;\n",
              "      border-bottom-color: var(--fill-color);\n",
              "    }\n",
              "  }\n",
              "</style>\n",
              "\n",
              "  <script>\n",
              "    async function quickchart(key) {\n",
              "      const quickchartButtonEl =\n",
              "        document.querySelector('#' + key + ' button');\n",
              "      quickchartButtonEl.disabled = true;  // To prevent multiple clicks.\n",
              "      quickchartButtonEl.classList.add('colab-df-spinner');\n",
              "      try {\n",
              "        const charts = await google.colab.kernel.invokeFunction(\n",
              "            'suggestCharts', [key], {});\n",
              "      } catch (error) {\n",
              "        console.error('Error during call to suggestCharts:', error);\n",
              "      }\n",
              "      quickchartButtonEl.classList.remove('colab-df-spinner');\n",
              "      quickchartButtonEl.classList.add('colab-df-quickchart-complete');\n",
              "    }\n",
              "    (() => {\n",
              "      let quickchartButtonEl =\n",
              "        document.querySelector('#df-73b6adfc-2856-41ca-aa3a-211ef655f807 button');\n",
              "      quickchartButtonEl.style.display =\n",
              "        google.colab.kernel.accessAllowed ? 'block' : 'none';\n",
              "    })();\n",
              "  </script>\n",
              "</div>\n",
              "    </div>\n",
              "  </div>\n"
            ],
            "application/vnd.google.colaboratory.intrinsic+json": {
              "type": "dataframe",
              "variable_name": "test_results",
              "summary": "{\n  \"name\": \"test_results\",\n  \"rows\": 193,\n  \"fields\": [\n    {\n      \"column\": \"Test Predictions\",\n      \"properties\": {\n        \"dtype\": \"float32\",\n        \"samples\": [\n          24.983203887939453,\n          50.41950607299805,\n          29.730730056762695\n        ],\n        \"num_unique_values\": 193,\n        \"semantic_type\": \"\",\n        \"description\": \"\"\n      }\n    },\n    {\n      \"column\": \"Actuals\",\n      \"properties\": {\n        \"dtype\": \"number\",\n        \"std\": 112.53491776408448,\n        \"min\": 3.04,\n        \"max\": 767.145,\n        \"samples\": [\n          12.669,\n          51.88,\n          508.677\n        ],\n        \"num_unique_values\": 190,\n        \"semantic_type\": \"\",\n        \"description\": \"\"\n      }\n    }\n  ]\n}"
            }
          },
          "metadata": {},
          "execution_count": 22
        }
      ]
    },
    {
      "cell_type": "code",
      "source": [
        "plt.plot(test_results['Actuals'][:])\n",
        "plt.plot(test_results['Test Predictions'][:],'.')\n",
        "plt.legend(['real', 'predict'])"
      ],
      "metadata": {
        "id": "gQTEU6IFZyTy",
        "colab": {
          "base_uri": "https://localhost:8080/",
          "height": 448
        },
        "outputId": "a4fe7381-a370-46f4-c00d-e673f84c0ece"
      },
      "execution_count": 33,
      "outputs": [
        {
          "output_type": "execute_result",
          "data": {
            "text/plain": [
              "<matplotlib.legend.Legend at 0x79bbb0e5df60>"
            ]
          },
          "metadata": {},
          "execution_count": 33
        },
        {
          "output_type": "display_data",
          "data": {
            "text/plain": [
              "<Figure size 640x480 with 1 Axes>"
            ],
            "image/png": "[encoded data removed]"
          },
          "metadata": {}
        }
      ]
    },
    {
      "cell_type": "code",
      "source": [
        "from sklearn.metrics import r2_score\n",
        "from sklearn.metrics import mean_squared_error\n",
        "\n",
        "rmse = np.sqrt(mean_squared_error(testY, test_predictions))\n",
        "rsquared_score = r2_score(testY, test_predictions)\n",
        "print('R^2 Score : %f' %(rsquared_score))\n",
        "print('RMSE : %.2f' %(rmse))"
      ],
      "metadata": {
        "id": "ZFySh6u0ZyRh",
        "colab": {
          "base_uri": "https://localhost:8080/"
        },
        "outputId": "4f08be02-dea6-4c67-bfaa-2395fc9c0055"
      },
      "execution_count": 24,
      "outputs": [
        {
          "output_type": "stream",
          "name": "stdout",
          "text": [
            "R^2 Score : 0.999621\n",
            "RMSE : 2.19\n"
          ]
        }
      ]
    },
    {
      "cell_type": "code",
      "source": [],
      "metadata": {
        "id": "TA95nJKIZyPF"
      },
      "execution_count": 24,
      "outputs": []
    },
    {
      "cell_type": "code",
      "source": [],
      "metadata": {
        "id": "Oh-1dC1_ZyMv"
      },
      "execution_count": 24,
      "outputs": []
    },
    {
      "cell_type": "code",
      "source": [],
      "metadata": {
        "id": "-5jqThn8ZyGf"
      },
      "execution_count": 24,
      "outputs": []
    },
    {
      "cell_type": "code",
      "source": [],
      "metadata": {
        "id": "WdnxNSDnZx9H"
      },
      "execution_count": 24,
      "outputs": []
    }
  ]
}