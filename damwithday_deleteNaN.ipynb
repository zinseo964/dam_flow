{
  "nbformat": 4,
  "nbformat_minor": 0,
  "metadata": {
    "colab": {
      "provenance": [],
      "authorship_tag": "ABX9TyMm2gERX9BpQ23yzBcgIfeu",
      "include_colab_link": true
    },
    "kernelspec": {
      "name": "python3",
      "display_name": "Python 3"
    },
    "language_info": {
      "name": "python"
    }
  },
  "cells": [
    {
      "cell_type": "markdown",
      "metadata": {
        "id": "view-in-github",
        "colab_type": "text"
      },
      "source": [
        "<a href=\"https://colab.research.google.com/github/zinseo964/dam_flow/blob/main/damwithday_deleteNaN.ipynb\" target=\"_parent\"><img src=\"https://colab.research.google.com/assets/colab-badge.svg\" alt=\"Open In Colab\"/></a>"
      ]
    },
    {
      "cell_type": "code",
      "execution_count": null,
      "metadata": {
        "id": "eh9FG4N_F9vS"
      },
      "outputs": [],
      "source": [
        "import pandas as pd\n",
        "import numpy as np\n",
        "import matplotlib.pyplot as plt\n",
        "import tensorflow as tf\n",
        "import os"
      ]
    },
    {
      "cell_type": "code",
      "source": [
        "from google.colab import drive\n",
        "drive.mount('/content/drive')"
      ],
      "metadata": {
        "id": "dIQ5esK-hRjj",
        "colab": {
          "base_uri": "https://localhost:8080/"
        },
        "outputId": "a7a02fb0-e7f0-424c-b1c7-856b6bae67f0"
      },
      "execution_count": null,
      "outputs": [
        {
          "output_type": "stream",
          "name": "stdout",
          "text": [
            "Mounted at /content/drive\n"
          ]
        }
      ]
    },
    {
      "cell_type": "code",
      "source": [
        "rain_data211 = pd.read_csv('/content/drive/MyDrive/Colab Notebooks/dam_flow_csv/rn_20240130172151.csv',encoding='cp949')\n",
        "rain_data101 = pd.read_csv('/content/drive/MyDrive/Colab Notebooks/dam_flow_csv/rn_20240130172202.csv',encoding='cp949')\n",
        "rain_data100 = pd.read_csv('/content/drive/MyDrive/Colab Notebooks/dam_flow_csv/rn_20240130172215.csv',encoding='cp949')\n",
        "rain_data212 = pd.read_csv('/content/drive/MyDrive/Colab Notebooks/dam_flow_csv/rn_20240130172236.csv',encoding='cp949')\n",
        "rain_data90 = pd.read_csv('/content/drive/MyDrive/Colab Notebooks/dam_flow_csv/rn_20240130172245.csv',encoding='cp949')"
      ],
      "metadata": {
        "id": "sTCa--h7JmNi"
      },
      "execution_count": null,
      "outputs": []
    },
    {
      "cell_type": "code",
      "source": [
        "# rain_data = pd.merge(rain_data211, rain_data101, how='outer')\n",
        "from functools import reduce\n",
        "\n",
        "rain_data = reduce(lambda x,y : pd.merge(x,y, on='날짜', how='outer'),[rain_data211, rain_data101, rain_data100, rain_data212, rain_data90])"
      ],
      "metadata": {
        "id": "DprPaZgXh3BR"
      },
      "execution_count": null,
      "outputs": []
    },
    {
      "cell_type": "code",
      "source": [
        "rain_data.set_index(\"날짜\", inplace = True)\n",
        "rain_data = rain_data.dropna(how='all')\n",
        "\n",
        "print(rain_data)"
      ],
      "metadata": {
        "id": "waugWhK5jpk0",
        "colab": {
          "base_uri": "https://localhost:8080/"
        },
        "outputId": "9e04302b-32d9-4b80-8fdf-27bc79ab08c1"
      },
      "execution_count": null,
      "outputs": [
        {
          "output_type": "stream",
          "name": "stdout",
          "text": [
            "            211강수량(mm)  101강수량(mm)  100강수량(mm)  212강수량(mm)  90강수량(mm)\n",
            "날짜                                                                   \n",
            "2009-01-16         0.3         2.4         0.6         0.2        NaN\n",
            "2009-01-18         0.0         0.2         4.9         0.1        NaN\n",
            "2009-01-22         0.0         0.1         NaN         0.0        NaN\n",
            "2009-01-24         NaN         0.4         0.2         0.0        NaN\n",
            "2009-01-25         0.0         0.3         1.5         0.1        0.0\n",
            "...                ...         ...         ...         ...        ...\n",
            "2023-12-20         0.4         0.1         0.0         0.0        NaN\n",
            "2023-12-24         NaN         NaN         NaN         0.0        NaN\n",
            "2023-12-25         0.9         0.7         0.0         0.2        NaN\n",
            "2023-12-30         6.8         9.9         2.3         8.5        0.7\n",
            "2023-12-31         3.1         5.3         6.0         4.9       26.8\n",
            "\n",
            "[2993 rows x 5 columns]\n"
          ]
        }
      ]
    },
    {
      "cell_type": "code",
      "source": [
        "rain_col = [i for i in rain_data.columns if '강수' in i]\n",
        "rain_data[rain_col] = rain_data[rain_col].fillna(0)"
      ],
      "metadata": {
        "id": "4k7gESlaGIju",
        "colab": {
          "base_uri": "https://localhost:8080/"
        },
        "outputId": "74fe491e-01d2-4a75-eba3-c264ece50a2e"
      },
      "execution_count": null,
      "outputs": [
        {
          "output_type": "stream",
          "name": "stderr",
          "text": [
            "<ipython-input-6-54ac4d0ddfaa>:2: SettingWithCopyWarning: \n",
            "A value is trying to be set on a copy of a slice from a DataFrame.\n",
            "Try using .loc[row_indexer,col_indexer] = value instead\n",
            "\n",
            "See the caveats in the documentation: https://pandas.pydata.org/pandas-docs/stable/user_guide/indexing.html#returning-a-view-versus-a-copy\n",
            "  rain_data[rain_col] = rain_data[rain_col].fillna(0)\n"
          ]
        }
      ]
    },
    {
      "cell_type": "code",
      "source": [
        "print(rain_data.isna().sum().sum())\n",
        "print(rain_data)\n"
      ],
      "metadata": {
        "id": "GBzXaW-6jr8I",
        "colab": {
          "base_uri": "https://localhost:8080/"
        },
        "outputId": "7f9c7675-c06a-4e00-f442-586630615942"
      },
      "execution_count": null,
      "outputs": [
        {
          "output_type": "stream",
          "name": "stdout",
          "text": [
            "0\n",
            "            211강수량(mm)  101강수량(mm)  100강수량(mm)  212강수량(mm)  90강수량(mm)\n",
            "날짜                                                                   \n",
            "2009-01-16         0.3         2.4         0.6         0.2        0.0\n",
            "2009-01-18         0.0         0.2         4.9         0.1        0.0\n",
            "2009-01-22         0.0         0.1         0.0         0.0        0.0\n",
            "2009-01-24         0.0         0.4         0.2         0.0        0.0\n",
            "2009-01-25         0.0         0.3         1.5         0.1        0.0\n",
            "...                ...         ...         ...         ...        ...\n",
            "2023-12-20         0.4         0.1         0.0         0.0        0.0\n",
            "2023-12-24         0.0         0.0         0.0         0.0        0.0\n",
            "2023-12-25         0.9         0.7         0.0         0.2        0.0\n",
            "2023-12-30         6.8         9.9         2.3         8.5        0.7\n",
            "2023-12-31         3.1         5.3         6.0         4.9       26.8\n",
            "\n",
            "[2993 rows x 5 columns]\n"
          ]
        }
      ]
    },
    {
      "cell_type": "code",
      "source": [
        "dam_flow = pd.read_csv('/content/drive/MyDrive/Colab Notebooks/dam_flow_csv/only_dam_flow.csv',encoding='utf-8')\n",
        "dam_flow.set_index(\"날짜\", inplace = True)\n",
        "print(dam_flow)"
      ],
      "metadata": {
        "id": "tQH3R_pfSahE",
        "colab": {
          "base_uri": "https://localhost:8080/"
        },
        "outputId": "2d530346-9933-4601-e761-5c555b285659"
      },
      "execution_count": null,
      "outputs": [
        {
          "output_type": "stream",
          "name": "stdout",
          "text": [
            "            유입량(㎥/s)\n",
            "날짜                  \n",
            "2009-01-01     0.000\n",
            "2009-01-02     0.825\n",
            "2009-01-03     3.904\n",
            "2009-01-04     0.000\n",
            "2009-01-05     0.000\n",
            "...              ...\n",
            "2023-12-27    25.873\n",
            "2023-12-28    21.186\n",
            "2023-12-29    20.887\n",
            "2023-12-30    29.183\n",
            "2023-12-31    25.803\n",
            "\n",
            "[5478 rows x 1 columns]\n"
          ]
        }
      ]
    },
    {
      "cell_type": "code",
      "source": [
        "date_index = rain_data.index\n",
        "dam_value = dam_flow.loc[date_index]\n",
        "\n",
        "print(dam_value)\n",
        "\n",
        "data = pd.merge(rain_data, dam_value,on='날짜', how='outer')\n",
        "\n",
        "# data = reduce(lambda x,y : pd.merge(x,y, on='날짜', how='outer'),[rain_data, dam_flow])"
      ],
      "metadata": {
        "id": "Fwa1qTrISbHS",
        "colab": {
          "base_uri": "https://localhost:8080/"
        },
        "outputId": "c14b3ed1-b6b1-4217-8461-a70719521211"
      },
      "execution_count": null,
      "outputs": [
        {
          "output_type": "stream",
          "name": "stdout",
          "text": [
            "            유입량(㎥/s)\n",
            "날짜                  \n",
            "2009-01-16     0.000\n",
            "2009-01-18     0.000\n",
            "2009-01-22     0.957\n",
            "2009-01-24     2.003\n",
            "2009-01-25     7.361\n",
            "...              ...\n",
            "2023-12-20    42.639\n",
            "2023-12-24    24.665\n",
            "2023-12-25    25.785\n",
            "2023-12-30    29.183\n",
            "2023-12-31    25.803\n",
            "\n",
            "[2993 rows x 1 columns]\n"
          ]
        }
      ]
    },
    {
      "cell_type": "code",
      "source": [
        "print(data)\n",
        "print(max(data['유입량(㎥/s)']))"
      ],
      "metadata": {
        "id": "QxdBO2OwZnlQ",
        "colab": {
          "base_uri": "https://localhost:8080/"
        },
        "outputId": "7f8ed74a-50a5-4a3f-be20-4ca7b1abcb75"
      },
      "execution_count": null,
      "outputs": [
        {
          "output_type": "stream",
          "name": "stdout",
          "text": [
            "            211강수량(mm)  101강수량(mm)  100강수량(mm)  212강수량(mm)  90강수량(mm)  \\\n",
            "날짜                                                                      \n",
            "2009-01-16         0.3         2.4         0.6         0.2        0.0   \n",
            "2009-01-18         0.0         0.2         4.9         0.1        0.0   \n",
            "2009-01-22         0.0         0.1         0.0         0.0        0.0   \n",
            "2009-01-24         0.0         0.4         0.2         0.0        0.0   \n",
            "2009-01-25         0.0         0.3         1.5         0.1        0.0   \n",
            "...                ...         ...         ...         ...        ...   \n",
            "2023-12-20         0.4         0.1         0.0         0.0        0.0   \n",
            "2023-12-24         0.0         0.0         0.0         0.0        0.0   \n",
            "2023-12-25         0.9         0.7         0.0         0.2        0.0   \n",
            "2023-12-30         6.8         9.9         2.3         8.5        0.7   \n",
            "2023-12-31         3.1         5.3         6.0         4.9       26.8   \n",
            "\n",
            "            유입량(㎥/s)  \n",
            "날짜                    \n",
            "2009-01-16     0.000  \n",
            "2009-01-18     0.000  \n",
            "2009-01-22     0.957  \n",
            "2009-01-24     2.003  \n",
            "2009-01-25     7.361  \n",
            "...              ...  \n",
            "2023-12-20    42.639  \n",
            "2023-12-24    24.665  \n",
            "2023-12-25    25.785  \n",
            "2023-12-30    29.183  \n",
            "2023-12-31    25.803  \n",
            "\n",
            "[2993 rows x 6 columns]\n",
            "3918.5\n"
          ]
        }
      ]
    },
    {
      "cell_type": "code",
      "source": [
        "# data.index = pd.to_datetime(data['날짜'])\n",
        "\n",
        "dam_flow = data['유입량(㎥/s)']\n",
        "dam_flow.plot()"
      ],
      "metadata": {
        "id": "9gfzXmBUcDWP",
        "colab": {
          "base_uri": "https://localhost:8080/",
          "height": 634
        },
        "outputId": "a7a6c48d-ce68-4f17-93dc-da3b16894216"
      },
      "execution_count": null,
      "outputs": [
        {
          "output_type": "execute_result",
          "data": {
            "text/plain": [
              "<Axes: xlabel='날짜'>"
            ]
          },
          "metadata": {},
          "execution_count": 11
        },
        {
          "output_type": "stream",
          "name": "stderr",
          "text": [
            "/usr/local/lib/python3.10/dist-packages/IPython/core/events.py:89: UserWarning: Glyph 45216 (\\N{HANGUL SYLLABLE NAL}) missing from current font.\n",
            "  func(*args, **kwargs)\n",
            "/usr/local/lib/python3.10/dist-packages/IPython/core/events.py:89: UserWarning: Glyph 51676 (\\N{HANGUL SYLLABLE JJA}) missing from current font.\n",
            "  func(*args, **kwargs)\n",
            "/usr/local/lib/python3.10/dist-packages/IPython/core/pylabtools.py:151: UserWarning: Glyph 45216 (\\N{HANGUL SYLLABLE NAL}) missing from current font.\n",
            "  fig.canvas.print_figure(bytes_io, **kw)\n",
            "/usr/local/lib/python3.10/dist-packages/IPython/core/pylabtools.py:151: UserWarning: Glyph 51676 (\\N{HANGUL SYLLABLE JJA}) missing from current font.\n",
            "  fig.canvas.print_figure(bytes_io, **kw)\n"
          ]
        },
        {
          "output_type": "display_data",
          "data": {
            "text/plain": [
              "<Figure size 640x480 with 1 Axes>"
            ],
            "image/png": "[encoded data removed]"
          },
          "metadata": {}
        }
      ]
    },
    {
      "cell_type": "code",
      "source": [
        "data['Y'] = data['유입량(㎥/s)']\n",
        "data = data.dropna()\n",
        "data.reset_index(drop=False, inplace = True)\n",
        "\n",
        "print(data)"
      ],
      "metadata": {
        "id": "ZnHkvJMj9XdS",
        "colab": {
          "base_uri": "https://localhost:8080/"
        },
        "outputId": "7b6cce1f-5db8-409e-abea-5c3262dbb232"
      },
      "execution_count": null,
      "outputs": [
        {
          "output_type": "stream",
          "name": "stdout",
          "text": [
            "              날짜  211강수량(mm)  101강수량(mm)  100강수량(mm)  212강수량(mm)  90강수량(mm)  \\\n",
            "0     2009-01-16         0.3         2.4         0.6         0.2        0.0   \n",
            "1     2009-01-18         0.0         0.2         4.9         0.1        0.0   \n",
            "2     2009-01-22         0.0         0.1         0.0         0.0        0.0   \n",
            "3     2009-01-24         0.0         0.4         0.2         0.0        0.0   \n",
            "4     2009-01-25         0.0         0.3         1.5         0.1        0.0   \n",
            "...          ...         ...         ...         ...         ...        ...   \n",
            "2988  2023-12-20         0.4         0.1         0.0         0.0        0.0   \n",
            "2989  2023-12-24         0.0         0.0         0.0         0.0        0.0   \n",
            "2990  2023-12-25         0.9         0.7         0.0         0.2        0.0   \n",
            "2991  2023-12-30         6.8         9.9         2.3         8.5        0.7   \n",
            "2992  2023-12-31         3.1         5.3         6.0         4.9       26.8   \n",
            "\n",
            "      유입량(㎥/s)       Y  \n",
            "0        0.000   0.000  \n",
            "1        0.000   0.000  \n",
            "2        0.957   0.957  \n",
            "3        2.003   2.003  \n",
            "4        7.361   7.361  \n",
            "...        ...     ...  \n",
            "2988    42.639  42.639  \n",
            "2989    24.665  24.665  \n",
            "2990    25.785  25.785  \n",
            "2991    29.183  29.183  \n",
            "2992    25.803  25.803  \n",
            "\n",
            "[2993 rows x 8 columns]\n"
          ]
        }
      ]
    },
    {
      "cell_type": "code",
      "source": [
        "train = data[data['날짜']<'2018-01-01']\n",
        "valid = data[data['날짜']>='2018-01-01']\n",
        "valid = valid[valid['날짜']<'2023-01-01']\n",
        "test = data[data['날짜']>='2023-01-01']\n",
        "print('train set : ', len(train),\"\\n\",\n",
        "      'valid set : ', len(valid), \"\\n\",\n",
        "      'test set : ', len(test), \"\\n\")\n",
        "train.set_index(\"날짜\", inplace = True)\n",
        "valid.set_index(\"날짜\", inplace = True)\n",
        "test.set_index(\"날짜\", inplace = True)\n",
        "\n",
        "trainX, trainY = train.drop(['Y'], axis = 1), train['Y']\n",
        "validX, validY = valid.drop(['Y'], axis = 1), valid['Y']\n",
        "testX, testY = test.drop(['Y'], axis = 1), test['Y']"
      ],
      "metadata": {
        "id": "SXCFT5roZt-x",
        "colab": {
          "base_uri": "https://localhost:8080/"
        },
        "outputId": "608dacad-00ba-4660-fa4c-7bb3d6326449"
      },
      "execution_count": null,
      "outputs": [
        {
          "output_type": "stream",
          "name": "stdout",
          "text": [
            "train set :  1812 \n",
            " valid set :  988 \n",
            " test set :  193 \n",
            "\n"
          ]
        }
      ]
    },
    {
      "cell_type": "code",
      "source": [
        "print(trainX)\n",
        "len(trainX.columns)"
      ],
      "metadata": {
        "id": "_NasIIN5cMrq",
        "colab": {
          "base_uri": "https://localhost:8080/"
        },
        "outputId": "29fc3913-c6a1-4d12-9360-587daed6d33a"
      },
      "execution_count": null,
      "outputs": [
        {
          "output_type": "stream",
          "name": "stdout",
          "text": [
            "            211강수량(mm)  101강수량(mm)  100강수량(mm)  212강수량(mm)  90강수량(mm)  \\\n",
            "날짜                                                                      \n",
            "2009-01-16         0.3         2.4         0.6         0.2        0.0   \n",
            "2009-01-18         0.0         0.2         4.9         0.1        0.0   \n",
            "2009-01-22         0.0         0.1         0.0         0.0        0.0   \n",
            "2009-01-24         0.0         0.4         0.2         0.0        0.0   \n",
            "2009-01-25         0.0         0.3         1.5         0.1        0.0   \n",
            "...                ...         ...         ...         ...        ...   \n",
            "2017-12-20         0.0         1.1         0.0         0.0        0.0   \n",
            "2017-12-23         0.0         0.0         0.0         0.0        0.0   \n",
            "2017-12-24        11.0        13.3         7.3        12.0        9.4   \n",
            "2017-12-30         0.4         1.0         0.3         0.6        0.0   \n",
            "2017-12-31         1.0         1.1         0.0         2.0        0.0   \n",
            "\n",
            "            유입량(㎥/s)  \n",
            "날짜                    \n",
            "2009-01-16     0.000  \n",
            "2009-01-18     0.000  \n",
            "2009-01-22     0.957  \n",
            "2009-01-24     2.003  \n",
            "2009-01-25     7.361  \n",
            "...              ...  \n",
            "2017-12-20     0.000  \n",
            "2017-12-23     5.522  \n",
            "2017-12-24    11.366  \n",
            "2017-12-30     6.000  \n",
            "2017-12-31     0.285  \n",
            "\n",
            "[1812 rows x 6 columns]\n"
          ]
        },
        {
          "output_type": "execute_result",
          "data": {
            "text/plain": [
              "6"
            ]
          },
          "metadata": {},
          "execution_count": 14
        }
      ]
    },
    {
      "cell_type": "code",
      "source": [
        "from sklearn.preprocessing import MinMaxScaler\n",
        "from tensorflow.keras.layers import *\n",
        "from keras.models import Sequential\n",
        "import tensorflow as tf\n",
        "from keras.layers import Dense, LSTM\n",
        "from tensorflow.keras.models import Sequential\n",
        "from tensorflow.keras.layers import *\n",
        "from tensorflow.keras.callbacks import ModelCheckpoint\n",
        "from tensorflow.keras.losses import MeanSquaredError\n",
        "from tensorflow.keras.metrics import RootMeanSquaredError\n",
        "from tensorflow.keras.optimizers import Adam\n",
        "\n",
        "model1 = Sequential()\n",
        "model1.add(LSTM(64, input_shape=(6,1)))\n",
        "model1.add(Dense(40, 'relu'))\n",
        "model1.add(Dense(40, 'relu'))\n",
        "model1.add(Dense(8, 'relu'))\n",
        "model1.add(Dense(8))\n",
        "model1.add(Dense(1))\n",
        "\n",
        "model1.summary()"
      ],
      "metadata": {
        "id": "vmqdghl2KSv3",
        "colab": {
          "base_uri": "https://localhost:8080/"
        },
        "outputId": "0bcc6b39-347d-465b-fc9f-85e6b3811c6e"
      },
      "execution_count": null,
      "outputs": [
        {
          "output_type": "stream",
          "name": "stdout",
          "text": [
            "Model: \"sequential\"\n",
            "_________________________________________________________________\n",
            " Layer (type)                Output Shape              Param #   \n",
            "=================================================================\n",
            " lstm (LSTM)                 (None, 64)                16896     \n",
            "                                                                 \n",
            " dense (Dense)               (None, 40)                2600      \n",
            "                                                                 \n",
            " dense_1 (Dense)             (None, 40)                1640      \n",
            "                                                                 \n",
            " dense_2 (Dense)             (None, 8)                 328       \n",
            "                                                                 \n",
            " dense_3 (Dense)             (None, 8)                 72        \n",
            "                                                                 \n",
            " dense_4 (Dense)             (None, 1)                 9         \n",
            "                                                                 \n",
            "=================================================================\n",
            "Total params: 21545 (84.16 KB)\n",
            "Trainable params: 21545 (84.16 KB)\n",
            "Non-trainable params: 0 (0.00 Byte)\n",
            "_________________________________________________________________\n"
          ]
        }
      ]
    },
    {
      "cell_type": "code",
      "source": [
        "cp1 = ModelCheckpoint('model1/', save_best_only=True)\n",
        "model1.compile(loss=MeanSquaredError(), optimizer=Adam(learning_rate=0.0001), metrics=[RootMeanSquaredError()])\n",
        "model1.fit(trainX, trainY, validation_data = (validX, validY), batch_size=10, epochs=50, callbacks=[cp1])"
      ],
      "metadata": {
        "id": "JXFtLaHiWT8V",
        "colab": {
          "base_uri": "https://localhost:8080/"
        },
        "outputId": "59a20732-47ad-48d0-9821-97ac0feb8778"
      },
      "execution_count": null,
      "outputs": [
        {
          "output_type": "stream",
          "name": "stdout",
          "text": [
            "Epoch 1/50\n",
            "182/182 [==============================] - 21s 85ms/step - loss: 77756.3672 - root_mean_squared_error: 278.8483 - val_loss: 87044.2344 - val_root_mean_squared_error: 295.0326\n",
            "Epoch 2/50\n",
            "182/182 [==============================] - 13s 73ms/step - loss: 77429.4141 - root_mean_squared_error: 278.2614 - val_loss: 85990.6016 - val_root_mean_squared_error: 293.2415\n",
            "Epoch 3/50\n",
            "182/182 [==============================] - 10s 53ms/step - loss: 74999.1953 - root_mean_squared_error: 273.8598 - val_loss: 81197.8125 - val_root_mean_squared_error: 284.9523\n",
            "Epoch 4/50\n",
            "182/182 [==============================] - 9s 47ms/step - loss: 70831.2266 - root_mean_squared_error: 266.1414 - val_loss: 76846.5312 - val_root_mean_squared_error: 277.2121\n",
            "Epoch 5/50\n",
            "182/182 [==============================] - 6s 32ms/step - loss: 66579.2734 - root_mean_squared_error: 258.0296 - val_loss: 71578.8906 - val_root_mean_squared_error: 267.5423\n",
            "Epoch 6/50\n",
            "182/182 [==============================] - 6s 33ms/step - loss: 61064.3711 - root_mean_squared_error: 247.1121 - val_loss: 65123.0273 - val_root_mean_squared_error: 255.1921\n",
            "Epoch 7/50\n",
            "182/182 [==============================] - 6s 31ms/step - loss: 54653.1641 - root_mean_squared_error: 233.7802 - val_loss: 58115.4883 - val_root_mean_squared_error: 241.0715\n",
            "Epoch 8/50\n",
            "182/182 [==============================] - 6s 35ms/step - loss: 48153.9688 - root_mean_squared_error: 219.4401 - val_loss: 51364.7812 - val_root_mean_squared_error: 226.6380\n",
            "Epoch 9/50\n",
            "182/182 [==============================] - 5s 28ms/step - loss: 42059.1445 - root_mean_squared_error: 205.0833 - val_loss: 45199.6641 - val_root_mean_squared_error: 212.6021\n",
            "Epoch 10/50\n",
            "182/182 [==============================] - 6s 34ms/step - loss: 36507.9766 - root_mean_squared_error: 191.0706 - val_loss: 39709.9219 - val_root_mean_squared_error: 199.2735\n",
            "Epoch 11/50\n",
            "182/182 [==============================] - 6s 32ms/step - loss: 31771.3965 - root_mean_squared_error: 178.2453 - val_loss: 34479.1602 - val_root_mean_squared_error: 185.6857\n",
            "Epoch 12/50\n",
            "182/182 [==============================] - 5s 30ms/step - loss: 27629.9023 - root_mean_squared_error: 166.2224 - val_loss: 29873.0801 - val_root_mean_squared_error: 172.8383\n",
            "Epoch 13/50\n",
            "182/182 [==============================] - 7s 37ms/step - loss: 24037.0996 - root_mean_squared_error: 155.0390 - val_loss: 25986.5723 - val_root_mean_squared_error: 161.2035\n",
            "Epoch 14/50\n",
            "182/182 [==============================] - 5s 28ms/step - loss: 20809.6953 - root_mean_squared_error: 144.2557 - val_loss: 22572.0098 - val_root_mean_squared_error: 150.2398\n",
            "Epoch 15/50\n",
            "182/182 [==============================] - 7s 36ms/step - loss: 17881.2949 - root_mean_squared_error: 133.7210 - val_loss: 19388.8574 - val_root_mean_squared_error: 139.2439\n",
            "Epoch 16/50\n",
            "182/182 [==============================] - 5s 27ms/step - loss: 15430.3555 - root_mean_squared_error: 124.2190 - val_loss: 16958.8535 - val_root_mean_squared_error: 130.2262\n",
            "Epoch 17/50\n",
            "182/182 [==============================] - 6s 31ms/step - loss: 13237.3271 - root_mean_squared_error: 115.0536 - val_loss: 14562.1270 - val_root_mean_squared_error: 120.6736\n",
            "Epoch 18/50\n",
            "182/182 [==============================] - 6s 35ms/step - loss: 11367.7510 - root_mean_squared_error: 106.6197 - val_loss: 12614.9814 - val_root_mean_squared_error: 112.3164\n",
            "Epoch 19/50\n",
            "182/182 [==============================] - 5s 28ms/step - loss: 9848.0225 - root_mean_squared_error: 99.2372 - val_loss: 10977.8486 - val_root_mean_squared_error: 104.7752\n",
            "Epoch 20/50\n",
            "182/182 [==============================] - 7s 37ms/step - loss: 8523.0078 - root_mean_squared_error: 92.3201 - val_loss: 9682.4893 - val_root_mean_squared_error: 98.3996\n",
            "Epoch 21/50\n",
            "182/182 [==============================] - 5s 29ms/step - loss: 7435.1655 - root_mean_squared_error: 86.2274 - val_loss: 8242.0996 - val_root_mean_squared_error: 90.7860\n",
            "Epoch 22/50\n",
            "182/182 [==============================] - 1s 7ms/step - loss: 6457.4785 - root_mean_squared_error: 80.3584 - val_loss: 9113.5547 - val_root_mean_squared_error: 95.4649\n",
            "Epoch 23/50\n",
            "182/182 [==============================] - 6s 34ms/step - loss: 5763.0474 - root_mean_squared_error: 75.9147 - val_loss: 6149.7441 - val_root_mean_squared_error: 78.4203\n",
            "Epoch 24/50\n",
            "182/182 [==============================] - 6s 33ms/step - loss: 4838.2485 - root_mean_squared_error: 69.5575 - val_loss: 5273.7212 - val_root_mean_squared_error: 72.6204\n",
            "Epoch 25/50\n",
            "182/182 [==============================] - 6s 34ms/step - loss: 4237.9668 - root_mean_squared_error: 65.0997 - val_loss: 4471.6641 - val_root_mean_squared_error: 66.8705\n",
            "Epoch 26/50\n",
            "182/182 [==============================] - 5s 30ms/step - loss: 3715.8523 - root_mean_squared_error: 60.9578 - val_loss: 4194.6572 - val_root_mean_squared_error: 64.7662\n",
            "Epoch 27/50\n",
            "182/182 [==============================] - 6s 33ms/step - loss: 3222.1907 - root_mean_squared_error: 56.7643 - val_loss: 3287.8005 - val_root_mean_squared_error: 57.3393\n",
            "Epoch 28/50\n",
            "182/182 [==============================] - 5s 29ms/step - loss: 2939.4717 - root_mean_squared_error: 54.2169 - val_loss: 2915.6963 - val_root_mean_squared_error: 53.9972\n",
            "Epoch 29/50\n",
            "182/182 [==============================] - 6s 32ms/step - loss: 2721.4414 - root_mean_squared_error: 52.1674 - val_loss: 2678.0771 - val_root_mean_squared_error: 51.7501\n",
            "Epoch 30/50\n",
            "182/182 [==============================] - 6s 33ms/step - loss: 2361.2927 - root_mean_squared_error: 48.5931 - val_loss: 2109.1333 - val_root_mean_squared_error: 45.9253\n",
            "Epoch 31/50\n",
            "182/182 [==============================] - 5s 29ms/step - loss: 2010.2211 - root_mean_squared_error: 44.8355 - val_loss: 1994.0664 - val_root_mean_squared_error: 44.6550\n",
            "Epoch 32/50\n",
            "182/182 [==============================] - 7s 37ms/step - loss: 1842.5240 - root_mean_squared_error: 42.9246 - val_loss: 1599.8354 - val_root_mean_squared_error: 39.9979\n",
            "Epoch 33/50\n",
            "182/182 [==============================] - 5s 28ms/step - loss: 1591.8862 - root_mean_squared_error: 39.8984 - val_loss: 1547.3296 - val_root_mean_squared_error: 39.3361\n",
            "Epoch 34/50\n",
            "182/182 [==============================] - 7s 38ms/step - loss: 1527.3700 - root_mean_squared_error: 39.0816 - val_loss: 1381.0770 - val_root_mean_squared_error: 37.1628\n",
            "Epoch 35/50\n",
            "182/182 [==============================] - 5s 28ms/step - loss: 1714.3909 - root_mean_squared_error: 41.4052 - val_loss: 917.5846 - val_root_mean_squared_error: 30.2917\n",
            "Epoch 36/50\n",
            "182/182 [==============================] - 6s 34ms/step - loss: 1299.2185 - root_mean_squared_error: 36.0447 - val_loss: 834.5355 - val_root_mean_squared_error: 28.8883\n",
            "Epoch 37/50\n",
            "182/182 [==============================] - 2s 11ms/step - loss: 1060.3242 - root_mean_squared_error: 32.5626 - val_loss: 1440.5917 - val_root_mean_squared_error: 37.9551\n",
            "Epoch 38/50\n",
            "182/182 [==============================] - 1s 7ms/step - loss: 1137.1305 - root_mean_squared_error: 33.7214 - val_loss: 1691.4410 - val_root_mean_squared_error: 41.1271\n",
            "Epoch 39/50\n",
            "182/182 [==============================] - 1s 7ms/step - loss: 1502.2838 - root_mean_squared_error: 38.7593 - val_loss: 2949.8169 - val_root_mean_squared_error: 54.3122\n",
            "Epoch 40/50\n",
            "182/182 [==============================] - 1s 6ms/step - loss: 1472.8754 - root_mean_squared_error: 38.3781 - val_loss: 1459.8754 - val_root_mean_squared_error: 38.2083\n",
            "Epoch 41/50\n",
            "182/182 [==============================] - 5s 27ms/step - loss: 846.1636 - root_mean_squared_error: 29.0889 - val_loss: 532.0397 - val_root_mean_squared_error: 23.0660\n",
            "Epoch 42/50\n",
            "182/182 [==============================] - 1s 7ms/step - loss: 744.6361 - root_mean_squared_error: 27.2880 - val_loss: 627.1564 - val_root_mean_squared_error: 25.0431\n",
            "Epoch 43/50\n",
            "182/182 [==============================] - 6s 33ms/step - loss: 665.9893 - root_mean_squared_error: 25.8068 - val_loss: 335.0614 - val_root_mean_squared_error: 18.3047\n",
            "Epoch 44/50\n",
            "182/182 [==============================] - 5s 30ms/step - loss: 749.7827 - root_mean_squared_error: 27.3822 - val_loss: 295.9440 - val_root_mean_squared_error: 17.2030\n",
            "Epoch 45/50\n",
            "182/182 [==============================] - 6s 33ms/step - loss: 896.5925 - root_mean_squared_error: 29.9432 - val_loss: 294.9545 - val_root_mean_squared_error: 17.1742\n",
            "Epoch 46/50\n",
            "182/182 [==============================] - 1s 7ms/step - loss: 820.7657 - root_mean_squared_error: 28.6490 - val_loss: 560.8463 - val_root_mean_squared_error: 23.6822\n",
            "Epoch 47/50\n",
            "182/182 [==============================] - 5s 27ms/step - loss: 693.5690 - root_mean_squared_error: 26.3357 - val_loss: 246.8551 - val_root_mean_squared_error: 15.7116\n",
            "Epoch 48/50\n",
            "182/182 [==============================] - 1s 6ms/step - loss: 548.8116 - root_mean_squared_error: 23.4267 - val_loss: 789.1534 - val_root_mean_squared_error: 28.0919\n",
            "Epoch 49/50\n",
            "182/182 [==============================] - 1s 6ms/step - loss: 637.7231 - root_mean_squared_error: 25.2532 - val_loss: 302.4928 - val_root_mean_squared_error: 17.3923\n",
            "Epoch 50/50\n",
            "182/182 [==============================] - 1s 7ms/step - loss: 547.3115 - root_mean_squared_error: 23.3947 - val_loss: 341.3221 - val_root_mean_squared_error: 18.4749\n"
          ]
        },
        {
          "output_type": "execute_result",
          "data": {
            "text/plain": [
              "<keras.src.callbacks.History at 0x7e0b4ffdf640>"
            ]
          },
          "metadata": {},
          "execution_count": 16
        }
      ]
    },
    {
      "cell_type": "code",
      "source": [
        "train_score = model1.evaluate(testX, testY, verbose=1)\n",
        "print('Train Score: %.2f MSE (%.2f RMSE)' % (train_score[0], np.sqrt(train_score[0])))"
      ],
      "metadata": {
        "id": "PfhCvPAa8lFR",
        "colab": {
          "base_uri": "https://localhost:8080/"
        },
        "outputId": "459c6372-46a0-43f3-f64b-25bced98db99"
      },
      "execution_count": null,
      "outputs": [
        {
          "output_type": "stream",
          "name": "stdout",
          "text": [
            "7/7 [==============================] - 0s 4ms/step - loss: 209.0063 - root_mean_squared_error: 14.4571\n",
            "Train Score: 209.01 MSE (14.46 RMSE)\n"
          ]
        }
      ]
    },
    {
      "cell_type": "code",
      "source": [
        "train_predictions = model1.predict(trainX).flatten()\n",
        "train_results = pd.DataFrame(data={'Train Predictions':train_predictions, 'Actuals':trainY})\n",
        "train_results"
      ],
      "metadata": {
        "id": "5gfi4l7eRm3T",
        "colab": {
          "base_uri": "https://localhost:8080/",
          "height": 473
        },
        "outputId": "bace8058-266c-4f14-cfb1-2b7b1c7ad7f6"
      },
      "execution_count": null,
      "outputs": [
        {
          "output_type": "stream",
          "name": "stdout",
          "text": [
            "57/57 [==============================] - 1s 4ms/step\n"
          ]
        },
        {
          "output_type": "execute_result",
          "data": {
            "text/plain": [
              "            Train Predictions  Actuals\n",
              "날짜                                    \n",
              "2009-01-16          -0.989149    0.000\n",
              "2009-01-18          -0.408375    0.000\n",
              "2009-01-22          -1.223246    0.957\n",
              "2009-01-24          -0.233126    2.003\n",
              "2009-01-25           4.595128    7.361\n",
              "...                       ...      ...\n",
              "2017-12-20          -1.484691    0.000\n",
              "2017-12-23           2.577859    5.522\n",
              "2017-12-24           9.760230   11.366\n",
              "2017-12-30           3.158271    6.000\n",
              "2017-12-31          -1.234013    0.285\n",
              "\n",
              "[1812 rows x 2 columns]"
            ],
            "text/html": [
              "\n",
              "  <div id=\"df-ed914dba-f201-4f19-a778-b94ac65adc48\" class=\"colab-df-container\">\n",
              "    <div>\n",
              "<style scoped>\n",
              "    .dataframe tbody tr th:only-of-type {\n",
              "        vertical-align: middle;\n",
              "    }\n",
              "\n",
              "    .dataframe tbody tr th {\n",
              "        vertical-align: top;\n",
              "    }\n",
              "\n",
              "    .dataframe thead th {\n",
              "        text-align: right;\n",
              "    }\n",
              "</style>\n",
              "<table border=\"1\" class=\"dataframe\">\n",
              "  <thead>\n",
              "    <tr style=\"text-align: right;\">\n",
              "      <th></th>\n",
              "      <th>Train Predictions</th>\n",
              "      <th>Actuals</th>\n",
              "    </tr>\n",
              "    <tr>\n",
              "      <th>날짜</th>\n",
              "      <th></th>\n",
              "      <th></th>\n",
              "    </tr>\n",
              "  </thead>\n",
              "  <tbody>\n",
              "    <tr>\n",
              "      <th>2009-01-16</th>\n",
              "      <td>-0.989149</td>\n",
              "      <td>0.000</td>\n",
              "    </tr>\n",
              "    <tr>\n",
              "      <th>2009-01-18</th>\n",
              "      <td>-0.408375</td>\n",
              "      <td>0.000</td>\n",
              "    </tr>\n",
              "    <tr>\n",
              "      <th>2009-01-22</th>\n",
              "      <td>-1.223246</td>\n",
              "      <td>0.957</td>\n",
              "    </tr>\n",
              "    <tr>\n",
              "      <th>2009-01-24</th>\n",
              "      <td>-0.233126</td>\n",
              "      <td>2.003</td>\n",
              "    </tr>\n",
              "    <tr>\n",
              "      <th>2009-01-25</th>\n",
              "      <td>4.595128</td>\n",
              "      <td>7.361</td>\n",
              "    </tr>\n",
              "    <tr>\n",
              "      <th>...</th>\n",
              "      <td>...</td>\n",
              "      <td>...</td>\n",
              "    </tr>\n",
              "    <tr>\n",
              "      <th>2017-12-20</th>\n",
              "      <td>-1.484691</td>\n",
              "      <td>0.000</td>\n",
              "    </tr>\n",
              "    <tr>\n",
              "      <th>2017-12-23</th>\n",
              "      <td>2.577859</td>\n",
              "      <td>5.522</td>\n",
              "    </tr>\n",
              "    <tr>\n",
              "      <th>2017-12-24</th>\n",
              "      <td>9.760230</td>\n",
              "      <td>11.366</td>\n",
              "    </tr>\n",
              "    <tr>\n",
              "      <th>2017-12-30</th>\n",
              "      <td>3.158271</td>\n",
              "      <td>6.000</td>\n",
              "    </tr>\n",
              "    <tr>\n",
              "      <th>2017-12-31</th>\n",
              "      <td>-1.234013</td>\n",
              "      <td>0.285</td>\n",
              "    </tr>\n",
              "  </tbody>\n",
              "</table>\n",
              "<p>1812 rows × 2 columns</p>\n",
              "</div>\n",
              "    <div class=\"colab-df-buttons\">\n",
              "\n",
              "  <div class=\"colab-df-container\">\n",
              "    <button class=\"colab-df-convert\" onclick=\"convertToInteractive('df-ed914dba-f201-4f19-a778-b94ac65adc48')\"\n",
              "            title=\"Convert this dataframe to an interactive table.\"\n",
              "            style=\"display:none;\">\n",
              "\n",
              "  <svg xmlns=\"http://www.w3.org/2000/svg\" height=\"24px\" viewBox=\"0 -960 960 960\">\n",
              "    <path d=\"M120-120v-720h720v720H120Zm60-500h600v-160H180v160Zm220 220h160v-160H400v160Zm0 220h160v-160H400v160ZM180-400h160v-160H180v160Zm440 0h160v-160H620v160ZM180-180h160v-160H180v160Zm440 0h160v-160H620v160Z\"/>\n",
              "  </svg>\n",
              "    </button>\n",
              "\n",
              "  <style>\n",
              "    .colab-df-container {\n",
              "      display:flex;\n",
              "      gap: 12px;\n",
              "    }\n",
              "\n",
              "    .colab-df-convert {\n",
              "      background-color: #E8F0FE;\n",
              "      border: none;\n",
              "      border-radius: 50%;\n",
              "      cursor: pointer;\n",
              "      display: none;\n",
              "      fill: #1967D2;\n",
              "      height: 32px;\n",
              "      padding: 0 0 0 0;\n",
              "      width: 32px;\n",
              "    }\n",
              "\n",
              "    .colab-df-convert:hover {\n",
              "      background-color: #E2EBFA;\n",
              "      box-shadow: 0px 1px 2px rgba(60, 64, 67, 0.3), 0px 1px 3px 1px rgba(60, 64, 67, 0.15);\n",
              "      fill: #174EA6;\n",
              "    }\n",
              "\n",
              "    .colab-df-buttons div {\n",
              "      margin-bottom: 4px;\n",
              "    }\n",
              "\n",
              "    [theme=dark] .colab-df-convert {\n",
              "      background-color: #3B4455;\n",
              "      fill: #D2E3FC;\n",
              "    }\n",
              "\n",
              "    [theme=dark] .colab-df-convert:hover {\n",
              "      background-color: #434B5C;\n",
              "      box-shadow: 0px 1px 3px 1px rgba(0, 0, 0, 0.15);\n",
              "      filter: drop-shadow(0px 1px 2px rgba(0, 0, 0, 0.3));\n",
              "      fill: #FFFFFF;\n",
              "    }\n",
              "  </style>\n",
              "\n",
              "    <script>\n",
              "      const buttonEl =\n",
              "        document.querySelector('#df-ed914dba-f201-4f19-a778-b94ac65adc48 button.colab-df-convert');\n",
              "      buttonEl.style.display =\n",
              "        google.colab.kernel.accessAllowed ? 'block' : 'none';\n",
              "\n",
              "      async function convertToInteractive(key) {\n",
              "        const element = document.querySelector('#df-ed914dba-f201-4f19-a778-b94ac65adc48');\n",
              "        const dataTable =\n",
              "          await google.colab.kernel.invokeFunction('convertToInteractive',\n",
              "                                                    [key], {});\n",
              "        if (!dataTable) return;\n",
              "\n",
              "        const docLinkHtml = 'Like what you see? Visit the ' +\n",
              "          '<a target=\"_blank\" href=https://colab.research.google.com/notebooks/data_table.ipynb>data table notebook</a>'\n",
              "          + ' to learn more about interactive tables.';\n",
              "        element.innerHTML = '';\n",
              "        dataTable['output_type'] = 'display_data';\n",
              "        await google.colab.output.renderOutput(dataTable, element);\n",
              "        const docLink = document.createElement('div');\n",
              "        docLink.innerHTML = docLinkHtml;\n",
              "        element.appendChild(docLink);\n",
              "      }\n",
              "    </script>\n",
              "  </div>\n",
              "\n",
              "\n",
              "<div id=\"df-d9e3f49c-298d-4fc8-9b34-9d2f21f8a505\">\n",
              "  <button class=\"colab-df-quickchart\" onclick=\"quickchart('df-d9e3f49c-298d-4fc8-9b34-9d2f21f8a505')\"\n",
              "            title=\"Suggest charts\"\n",
              "            style=\"display:none;\">\n",
              "\n",
              "<svg xmlns=\"http://www.w3.org/2000/svg\" height=\"24px\"viewBox=\"0 0 24 24\"\n",
              "     width=\"24px\">\n",
              "    <g>\n",
              "        <path d=\"M19 3H5c-1.1 0-2 .9-2 2v14c0 1.1.9 2 2 2h14c1.1 0 2-.9 2-2V5c0-1.1-.9-2-2-2zM9 17H7v-7h2v7zm4 0h-2V7h2v10zm4 0h-2v-4h2v4z\"/>\n",
              "    </g>\n",
              "</svg>\n",
              "  </button>\n",
              "\n",
              "<style>\n",
              "  .colab-df-quickchart {\n",
              "      --bg-color: #E8F0FE;\n",
              "      --fill-color: #1967D2;\n",
              "      --hover-bg-color: #E2EBFA;\n",
              "      --hover-fill-color: #174EA6;\n",
              "      --disabled-fill-color: #AAA;\n",
              "      --disabled-bg-color: #DDD;\n",
              "  }\n",
              "\n",
              "  [theme=dark] .colab-df-quickchart {\n",
              "      --bg-color: #3B4455;\n",
              "      --fill-color: #D2E3FC;\n",
              "      --hover-bg-color: #434B5C;\n",
              "      --hover-fill-color: #FFFFFF;\n",
              "      --disabled-bg-color: #3B4455;\n",
              "      --disabled-fill-color: #666;\n",
              "  }\n",
              "\n",
              "  .colab-df-quickchart {\n",
              "    background-color: var(--bg-color);\n",
              "    border: none;\n",
              "    border-radius: 50%;\n",
              "    cursor: pointer;\n",
              "    display: none;\n",
              "    fill: var(--fill-color);\n",
              "    height: 32px;\n",
              "    padding: 0;\n",
              "    width: 32px;\n",
              "  }\n",
              "\n",
              "  .colab-df-quickchart:hover {\n",
              "    background-color: var(--hover-bg-color);\n",
              "    box-shadow: 0 1px 2px rgba(60, 64, 67, 0.3), 0 1px 3px 1px rgba(60, 64, 67, 0.15);\n",
              "    fill: var(--button-hover-fill-color);\n",
              "  }\n",
              "\n",
              "  .colab-df-quickchart-complete:disabled,\n",
              "  .colab-df-quickchart-complete:disabled:hover {\n",
              "    background-color: var(--disabled-bg-color);\n",
              "    fill: var(--disabled-fill-color);\n",
              "    box-shadow: none;\n",
              "  }\n",
              "\n",
              "  .colab-df-spinner {\n",
              "    border: 2px solid var(--fill-color);\n",
              "    border-color: transparent;\n",
              "    border-bottom-color: var(--fill-color);\n",
              "    animation:\n",
              "      spin 1s steps(1) infinite;\n",
              "  }\n",
              "\n",
              "  @keyframes spin {\n",
              "    0% {\n",
              "      border-color: transparent;\n",
              "      border-bottom-color: var(--fill-color);\n",
              "      border-left-color: var(--fill-color);\n",
              "    }\n",
              "    20% {\n",
              "      border-color: transparent;\n",
              "      border-left-color: var(--fill-color);\n",
              "      border-top-color: var(--fill-color);\n",
              "    }\n",
              "    30% {\n",
              "      border-color: transparent;\n",
              "      border-left-color: var(--fill-color);\n",
              "      border-top-color: var(--fill-color);\n",
              "      border-right-color: var(--fill-color);\n",
              "    }\n",
              "    40% {\n",
              "      border-color: transparent;\n",
              "      border-right-color: var(--fill-color);\n",
              "      border-top-color: var(--fill-color);\n",
              "    }\n",
              "    60% {\n",
              "      border-color: transparent;\n",
              "      border-right-color: var(--fill-color);\n",
              "    }\n",
              "    80% {\n",
              "      border-color: transparent;\n",
              "      border-right-color: var(--fill-color);\n",
              "      border-bottom-color: var(--fill-color);\n",
              "    }\n",
              "    90% {\n",
              "      border-color: transparent;\n",
              "      border-bottom-color: var(--fill-color);\n",
              "    }\n",
              "  }\n",
              "</style>\n",
              "\n",
              "  <script>\n",
              "    async function quickchart(key) {\n",
              "      const quickchartButtonEl =\n",
              "        document.querySelector('#' + key + ' button');\n",
              "      quickchartButtonEl.disabled = true;  // To prevent multiple clicks.\n",
              "      quickchartButtonEl.classList.add('colab-df-spinner');\n",
              "      try {\n",
              "        const charts = await google.colab.kernel.invokeFunction(\n",
              "            'suggestCharts', [key], {});\n",
              "      } catch (error) {\n",
              "        console.error('Error during call to suggestCharts:', error);\n",
              "      }\n",
              "      quickchartButtonEl.classList.remove('colab-df-spinner');\n",
              "      quickchartButtonEl.classList.add('colab-df-quickchart-complete');\n",
              "    }\n",
              "    (() => {\n",
              "      let quickchartButtonEl =\n",
              "        document.querySelector('#df-d9e3f49c-298d-4fc8-9b34-9d2f21f8a505 button');\n",
              "      quickchartButtonEl.style.display =\n",
              "        google.colab.kernel.accessAllowed ? 'block' : 'none';\n",
              "    })();\n",
              "  </script>\n",
              "</div>\n",
              "    </div>\n",
              "  </div>\n"
            ],
            "application/vnd.google.colaboratory.intrinsic+json": {
              "type": "dataframe",
              "variable_name": "train_results",
              "summary": "{\n  \"name\": \"train_results\",\n  \"rows\": 1812,\n  \"fields\": [\n    {\n      \"column\": \"Train Predictions\",\n      \"properties\": {\n        \"dtype\": \"float32\",\n        \"samples\": [\n          1.5569454431533813,\n          -0.16036012768745422,\n          1.4356741905212402\n        ],\n        \"num_unique_values\": 1812,\n        \"semantic_type\": \"\",\n        \"description\": \"\"\n      }\n    },\n    {\n      \"column\": \"Actuals\",\n      \"properties\": {\n        \"dtype\": \"number\",\n        \"std\": 264.04685500599595,\n        \"min\": 0.0,\n        \"max\": 3918.5,\n        \"samples\": [\n          7.865,\n          3.161,\n          8.069\n        ],\n        \"num_unique_values\": 1779,\n        \"semantic_type\": \"\",\n        \"description\": \"\"\n      }\n    }\n  ]\n}"
            }
          },
          "metadata": {},
          "execution_count": 18
        }
      ]
    },
    {
      "cell_type": "code",
      "source": [
        "import matplotlib.pyplot as plt\n",
        "plt.plot(train_results['Train Predictions'][:],'.')\n",
        "plt.plot(train_results['Actuals'][:])\n",
        "plt.legend(['predict', 'real'])"
      ],
      "metadata": {
        "id": "yOFEGrRQRm99",
        "colab": {
          "base_uri": "https://localhost:8080/",
          "height": 448
        },
        "outputId": "c996d5e5-3dba-43c4-c91c-ebd0367d6e2e"
      },
      "execution_count": null,
      "outputs": [
        {
          "output_type": "execute_result",
          "data": {
            "text/plain": [
              "<matplotlib.legend.Legend at 0x7e0b488e2c80>"
            ]
          },
          "metadata": {},
          "execution_count": 19
        },
        {
          "output_type": "display_data",
          "data": {
            "text/plain": [
              "<Figure size 640x480 with 1 Axes>"
            ],
            "image/png": "[encoded data removed]"
          },
          "metadata": {}
        }
      ]
    },
    {
      "cell_type": "code",
      "source": [
        "val_predictions = model1.predict(validX).flatten()\n",
        "val_results = pd.DataFrame(data={'Val Predictions':val_predictions, 'Actuals':validY})\n",
        "val_results"
      ],
      "metadata": {
        "id": "38AKEhHgRnDr",
        "colab": {
          "base_uri": "https://localhost:8080/",
          "height": 473
        },
        "outputId": "70419903-7e15-4076-a4de-5df9fa024ffe"
      },
      "execution_count": null,
      "outputs": [
        {
          "output_type": "stream",
          "name": "stdout",
          "text": [
            "31/31 [==============================] - 0s 3ms/step\n"
          ]
        },
        {
          "output_type": "execute_result",
          "data": {
            "text/plain": [
              "            Val Predictions  Actuals\n",
              "날짜                                  \n",
              "2018-01-08        -1.463583    0.000\n",
              "2018-01-09         0.615556    3.462\n",
              "2018-01-15         1.837341    4.869\n",
              "2018-01-17        -1.350379    0.000\n",
              "2018-01-20        -1.706559    0.003\n",
              "...                     ...      ...\n",
              "2022-12-24         4.259474    7.574\n",
              "2022-12-28         7.037437   10.891\n",
              "2022-12-29         5.674460    9.218\n",
              "2022-12-30         1.842616    4.597\n",
              "2022-12-31         3.861135    7.110\n",
              "\n",
              "[988 rows x 2 columns]"
            ],
            "text/html": [
              "\n",
              "  <div id=\"df-97c0067c-8a24-4873-a26f-03473fe8c23a\" class=\"colab-df-container\">\n",
              "    <div>\n",
              "<style scoped>\n",
              "    .dataframe tbody tr th:only-of-type {\n",
              "        vertical-align: middle;\n",
              "    }\n",
              "\n",
              "    .dataframe tbody tr th {\n",
              "        vertical-align: top;\n",
              "    }\n",
              "\n",
              "    .dataframe thead th {\n",
              "        text-align: right;\n",
              "    }\n",
              "</style>\n",
              "<table border=\"1\" class=\"dataframe\">\n",
              "  <thead>\n",
              "    <tr style=\"text-align: right;\">\n",
              "      <th></th>\n",
              "      <th>Val Predictions</th>\n",
              "      <th>Actuals</th>\n",
              "    </tr>\n",
              "    <tr>\n",
              "      <th>날짜</th>\n",
              "      <th></th>\n",
              "      <th></th>\n",
              "    </tr>\n",
              "  </thead>\n",
              "  <tbody>\n",
              "    <tr>\n",
              "      <th>2018-01-08</th>\n",
              "      <td>-1.463583</td>\n",
              "      <td>0.000</td>\n",
              "    </tr>\n",
              "    <tr>\n",
              "      <th>2018-01-09</th>\n",
              "      <td>0.615556</td>\n",
              "      <td>3.462</td>\n",
              "    </tr>\n",
              "    <tr>\n",
              "      <th>2018-01-15</th>\n",
              "      <td>1.837341</td>\n",
              "      <td>4.869</td>\n",
              "    </tr>\n",
              "    <tr>\n",
              "      <th>2018-01-17</th>\n",
              "      <td>-1.350379</td>\n",
              "      <td>0.000</td>\n",
              "    </tr>\n",
              "    <tr>\n",
              "      <th>2018-01-20</th>\n",
              "      <td>-1.706559</td>\n",
              "      <td>0.003</td>\n",
              "    </tr>\n",
              "    <tr>\n",
              "      <th>...</th>\n",
              "      <td>...</td>\n",
              "      <td>...</td>\n",
              "    </tr>\n",
              "    <tr>\n",
              "      <th>2022-12-24</th>\n",
              "      <td>4.259474</td>\n",
              "      <td>7.574</td>\n",
              "    </tr>\n",
              "    <tr>\n",
              "      <th>2022-12-28</th>\n",
              "      <td>7.037437</td>\n",
              "      <td>10.891</td>\n",
              "    </tr>\n",
              "    <tr>\n",
              "      <th>2022-12-29</th>\n",
              "      <td>5.674460</td>\n",
              "      <td>9.218</td>\n",
              "    </tr>\n",
              "    <tr>\n",
              "      <th>2022-12-30</th>\n",
              "      <td>1.842616</td>\n",
              "      <td>4.597</td>\n",
              "    </tr>\n",
              "    <tr>\n",
              "      <th>2022-12-31</th>\n",
              "      <td>3.861135</td>\n",
              "      <td>7.110</td>\n",
              "    </tr>\n",
              "  </tbody>\n",
              "</table>\n",
              "<p>988 rows × 2 columns</p>\n",
              "</div>\n",
              "    <div class=\"colab-df-buttons\">\n",
              "\n",
              "  <div class=\"colab-df-container\">\n",
              "    <button class=\"colab-df-convert\" onclick=\"convertToInteractive('df-97c0067c-8a24-4873-a26f-03473fe8c23a')\"\n",
              "            title=\"Convert this dataframe to an interactive table.\"\n",
              "            style=\"display:none;\">\n",
              "\n",
              "  <svg xmlns=\"http://www.w3.org/2000/svg\" height=\"24px\" viewBox=\"0 -960 960 960\">\n",
              "    <path d=\"M120-120v-720h720v720H120Zm60-500h600v-160H180v160Zm220 220h160v-160H400v160Zm0 220h160v-160H400v160ZM180-400h160v-160H180v160Zm440 0h160v-160H620v160ZM180-180h160v-160H180v160Zm440 0h160v-160H620v160Z\"/>\n",
              "  </svg>\n",
              "    </button>\n",
              "\n",
              "  <style>\n",
              "    .colab-df-container {\n",
              "      display:flex;\n",
              "      gap: 12px;\n",
              "    }\n",
              "\n",
              "    .colab-df-convert {\n",
              "      background-color: #E8F0FE;\n",
              "      border: none;\n",
              "      border-radius: 50%;\n",
              "      cursor: pointer;\n",
              "      display: none;\n",
              "      fill: #1967D2;\n",
              "      height: 32px;\n",
              "      padding: 0 0 0 0;\n",
              "      width: 32px;\n",
              "    }\n",
              "\n",
              "    .colab-df-convert:hover {\n",
              "      background-color: #E2EBFA;\n",
              "      box-shadow: 0px 1px 2px rgba(60, 64, 67, 0.3), 0px 1px 3px 1px rgba(60, 64, 67, 0.15);\n",
              "      fill: #174EA6;\n",
              "    }\n",
              "\n",
              "    .colab-df-buttons div {\n",
              "      margin-bottom: 4px;\n",
              "    }\n",
              "\n",
              "    [theme=dark] .colab-df-convert {\n",
              "      background-color: #3B4455;\n",
              "      fill: #D2E3FC;\n",
              "    }\n",
              "\n",
              "    [theme=dark] .colab-df-convert:hover {\n",
              "      background-color: #434B5C;\n",
              "      box-shadow: 0px 1px 3px 1px rgba(0, 0, 0, 0.15);\n",
              "      filter: drop-shadow(0px 1px 2px rgba(0, 0, 0, 0.3));\n",
              "      fill: #FFFFFF;\n",
              "    }\n",
              "  </style>\n",
              "\n",
              "    <script>\n",
              "      const buttonEl =\n",
              "        document.querySelector('#df-97c0067c-8a24-4873-a26f-03473fe8c23a button.colab-df-convert');\n",
              "      buttonEl.style.display =\n",
              "        google.colab.kernel.accessAllowed ? 'block' : 'none';\n",
              "\n",
              "      async function convertToInteractive(key) {\n",
              "        const element = document.querySelector('#df-97c0067c-8a24-4873-a26f-03473fe8c23a');\n",
              "        const dataTable =\n",
              "          await google.colab.kernel.invokeFunction('convertToInteractive',\n",
              "                                                    [key], {});\n",
              "        if (!dataTable) return;\n",
              "\n",
              "        const docLinkHtml = 'Like what you see? Visit the ' +\n",
              "          '<a target=\"_blank\" href=https://colab.research.google.com/notebooks/data_table.ipynb>data table notebook</a>'\n",
              "          + ' to learn more about interactive tables.';\n",
              "        element.innerHTML = '';\n",
              "        dataTable['output_type'] = 'display_data';\n",
              "        await google.colab.output.renderOutput(dataTable, element);\n",
              "        const docLink = document.createElement('div');\n",
              "        docLink.innerHTML = docLinkHtml;\n",
              "        element.appendChild(docLink);\n",
              "      }\n",
              "    </script>\n",
              "  </div>\n",
              "\n",
              "\n",
              "<div id=\"df-05d5bf2c-bea8-4288-9ccf-49baedf5bc16\">\n",
              "  <button class=\"colab-df-quickchart\" onclick=\"quickchart('df-05d5bf2c-bea8-4288-9ccf-49baedf5bc16')\"\n",
              "            title=\"Suggest charts\"\n",
              "            style=\"display:none;\">\n",
              "\n",
              "<svg xmlns=\"http://www.w3.org/2000/svg\" height=\"24px\"viewBox=\"0 0 24 24\"\n",
              "     width=\"24px\">\n",
              "    <g>\n",
              "        <path d=\"M19 3H5c-1.1 0-2 .9-2 2v14c0 1.1.9 2 2 2h14c1.1 0 2-.9 2-2V5c0-1.1-.9-2-2-2zM9 17H7v-7h2v7zm4 0h-2V7h2v10zm4 0h-2v-4h2v4z\"/>\n",
              "    </g>\n",
              "</svg>\n",
              "  </button>\n",
              "\n",
              "<style>\n",
              "  .colab-df-quickchart {\n",
              "      --bg-color: #E8F0FE;\n",
              "      --fill-color: #1967D2;\n",
              "      --hover-bg-color: #E2EBFA;\n",
              "      --hover-fill-color: #174EA6;\n",
              "      --disabled-fill-color: #AAA;\n",
              "      --disabled-bg-color: #DDD;\n",
              "  }\n",
              "\n",
              "  [theme=dark] .colab-df-quickchart {\n",
              "      --bg-color: #3B4455;\n",
              "      --fill-color: #D2E3FC;\n",
              "      --hover-bg-color: #434B5C;\n",
              "      --hover-fill-color: #FFFFFF;\n",
              "      --disabled-bg-color: #3B4455;\n",
              "      --disabled-fill-color: #666;\n",
              "  }\n",
              "\n",
              "  .colab-df-quickchart {\n",
              "    background-color: var(--bg-color);\n",
              "    border: none;\n",
              "    border-radius: 50%;\n",
              "    cursor: pointer;\n",
              "    display: none;\n",
              "    fill: var(--fill-color);\n",
              "    height: 32px;\n",
              "    padding: 0;\n",
              "    width: 32px;\n",
              "  }\n",
              "\n",
              "  .colab-df-quickchart:hover {\n",
              "    background-color: var(--hover-bg-color);\n",
              "    box-shadow: 0 1px 2px rgba(60, 64, 67, 0.3), 0 1px 3px 1px rgba(60, 64, 67, 0.15);\n",
              "    fill: var(--button-hover-fill-color);\n",
              "  }\n",
              "\n",
              "  .colab-df-quickchart-complete:disabled,\n",
              "  .colab-df-quickchart-complete:disabled:hover {\n",
              "    background-color: var(--disabled-bg-color);\n",
              "    fill: var(--disabled-fill-color);\n",
              "    box-shadow: none;\n",
              "  }\n",
              "\n",
              "  .colab-df-spinner {\n",
              "    border: 2px solid var(--fill-color);\n",
              "    border-color: transparent;\n",
              "    border-bottom-color: var(--fill-color);\n",
              "    animation:\n",
              "      spin 1s steps(1) infinite;\n",
              "  }\n",
              "\n",
              "  @keyframes spin {\n",
              "    0% {\n",
              "      border-color: transparent;\n",
              "      border-bottom-color: var(--fill-color);\n",
              "      border-left-color: var(--fill-color);\n",
              "    }\n",
              "    20% {\n",
              "      border-color: transparent;\n",
              "      border-left-color: var(--fill-color);\n",
              "      border-top-color: var(--fill-color);\n",
              "    }\n",
              "    30% {\n",
              "      border-color: transparent;\n",
              "      border-left-color: var(--fill-color);\n",
              "      border-top-color: var(--fill-color);\n",
              "      border-right-color: var(--fill-color);\n",
              "    }\n",
              "    40% {\n",
              "      border-color: transparent;\n",
              "      border-right-color: var(--fill-color);\n",
              "      border-top-color: var(--fill-color);\n",
              "    }\n",
              "    60% {\n",
              "      border-color: transparent;\n",
              "      border-right-color: var(--fill-color);\n",
              "    }\n",
              "    80% {\n",
              "      border-color: transparent;\n",
              "      border-right-color: var(--fill-color);\n",
              "      border-bottom-color: var(--fill-color);\n",
              "    }\n",
              "    90% {\n",
              "      border-color: transparent;\n",
              "      border-bottom-color: var(--fill-color);\n",
              "    }\n",
              "  }\n",
              "</style>\n",
              "\n",
              "  <script>\n",
              "    async function quickchart(key) {\n",
              "      const quickchartButtonEl =\n",
              "        document.querySelector('#' + key + ' button');\n",
              "      quickchartButtonEl.disabled = true;  // To prevent multiple clicks.\n",
              "      quickchartButtonEl.classList.add('colab-df-spinner');\n",
              "      try {\n",
              "        const charts = await google.colab.kernel.invokeFunction(\n",
              "            'suggestCharts', [key], {});\n",
              "      } catch (error) {\n",
              "        console.error('Error during call to suggestCharts:', error);\n",
              "      }\n",
              "      quickchartButtonEl.classList.remove('colab-df-spinner');\n",
              "      quickchartButtonEl.classList.add('colab-df-quickchart-complete');\n",
              "    }\n",
              "    (() => {\n",
              "      let quickchartButtonEl =\n",
              "        document.querySelector('#df-05d5bf2c-bea8-4288-9ccf-49baedf5bc16 button');\n",
              "      quickchartButtonEl.style.display =\n",
              "        google.colab.kernel.accessAllowed ? 'block' : 'none';\n",
              "    })();\n",
              "  </script>\n",
              "</div>\n",
              "    </div>\n",
              "  </div>\n"
            ],
            "application/vnd.google.colaboratory.intrinsic+json": {
              "type": "dataframe",
              "variable_name": "val_results",
              "summary": "{\n  \"name\": \"val_results\",\n  \"rows\": 988,\n  \"fields\": [\n    {\n      \"column\": \"Val Predictions\",\n      \"properties\": {\n        \"dtype\": \"float32\",\n        \"samples\": [\n          2.2398362159729004,\n          19.464208602905273,\n          99.62742614746094\n        ],\n        \"num_unique_values\": 988,\n        \"semantic_type\": \"\",\n        \"description\": \"\"\n      }\n    },\n    {\n      \"column\": \"Actuals\",\n      \"properties\": {\n        \"dtype\": \"number\",\n        \"std\": 277.7989531566194,\n        \"min\": 0.0,\n        \"max\": 3373.14,\n        \"samples\": [\n          1356.297,\n          100.207,\n          11.402\n        ],\n        \"num_unique_values\": 965,\n        \"semantic_type\": \"\",\n        \"description\": \"\"\n      }\n    }\n  ]\n}"
            }
          },
          "metadata": {},
          "execution_count": 20
        }
      ]
    },
    {
      "cell_type": "code",
      "source": [
        "plt.plot(val_results['Val Predictions'][:])\n",
        "plt.plot(val_results['Actuals'][:])\n"
      ],
      "metadata": {
        "id": "FQp5aMnYRnJa",
        "colab": {
          "base_uri": "https://localhost:8080/",
          "height": 449
        },
        "outputId": "f4671b42-3bc4-41cd-fa96-a60efd369058"
      },
      "execution_count": null,
      "outputs": [
        {
          "output_type": "execute_result",
          "data": {
            "text/plain": [
              "[<matplotlib.lines.Line2D at 0x7e0b5c85fb50>]"
            ]
          },
          "metadata": {},
          "execution_count": 21
        },
        {
          "output_type": "display_data",
          "data": {
            "text/plain": [
              "<Figure size 640x480 with 1 Axes>"
            ],
            "image/png": "[encoded data removed]"
          },
          "metadata": {}
        }
      ]
    },
    {
      "cell_type": "code",
      "source": [
        "test_predictions = model1.predict(testX).flatten()\n",
        "test_results = pd.DataFrame(data={'Test Predictions':test_predictions, 'Actuals':testY})\n",
        "test_results"
      ],
      "metadata": {
        "id": "iMeOwoSdZyWM",
        "colab": {
          "base_uri": "https://localhost:8080/",
          "height": 473
        },
        "outputId": "ce3619ce-4933-4de7-cceb-47dc451eedc6"
      },
      "execution_count": null,
      "outputs": [
        {
          "output_type": "stream",
          "name": "stdout",
          "text": [
            "7/7 [==============================] - 0s 5ms/step\n"
          ]
        },
        {
          "output_type": "execute_result",
          "data": {
            "text/plain": [
              "            Test Predictions  Actuals\n",
              "날짜                                   \n",
              "2023-01-06          4.167576    7.096\n",
              "2023-01-07          1.610873    3.040\n",
              "2023-01-08          3.069188    6.152\n",
              "2023-01-13         27.632565   31.789\n",
              "2023-01-14         31.475670   36.020\n",
              "...                      ...      ...\n",
              "2023-12-20         35.482441   42.639\n",
              "2023-12-24         19.024900   24.665\n",
              "2023-12-25         19.148249   25.785\n",
              "2023-12-30         22.526480   29.183\n",
              "2023-12-31         21.103788   25.803\n",
              "\n",
              "[193 rows x 2 columns]"
            ],
            "text/html": [
              "\n",
              "  <div id=\"df-00fb23c0-9a62-4134-9fe1-509c65cd1bab\" class=\"colab-df-container\">\n",
              "    <div>\n",
              "<style scoped>\n",
              "    .dataframe tbody tr th:only-of-type {\n",
              "        vertical-align: middle;\n",
              "    }\n",
              "\n",
              "    .dataframe tbody tr th {\n",
              "        vertical-align: top;\n",
              "    }\n",
              "\n",
              "    .dataframe thead th {\n",
              "        text-align: right;\n",
              "    }\n",
              "</style>\n",
              "<table border=\"1\" class=\"dataframe\">\n",
              "  <thead>\n",
              "    <tr style=\"text-align: right;\">\n",
              "      <th></th>\n",
              "      <th>Test Predictions</th>\n",
              "      <th>Actuals</th>\n",
              "    </tr>\n",
              "    <tr>\n",
              "      <th>날짜</th>\n",
              "      <th></th>\n",
              "      <th></th>\n",
              "    </tr>\n",
              "  </thead>\n",
              "  <tbody>\n",
              "    <tr>\n",
              "      <th>2023-01-06</th>\n",
              "      <td>4.167576</td>\n",
              "      <td>7.096</td>\n",
              "    </tr>\n",
              "    <tr>\n",
              "      <th>2023-01-07</th>\n",
              "      <td>1.610873</td>\n",
              "      <td>3.040</td>\n",
              "    </tr>\n",
              "    <tr>\n",
              "      <th>2023-01-08</th>\n",
              "      <td>3.069188</td>\n",
              "      <td>6.152</td>\n",
              "    </tr>\n",
              "    <tr>\n",
              "      <th>2023-01-13</th>\n",
              "      <td>27.632565</td>\n",
              "      <td>31.789</td>\n",
              "    </tr>\n",
              "    <tr>\n",
              "      <th>2023-01-14</th>\n",
              "      <td>31.475670</td>\n",
              "      <td>36.020</td>\n",
              "    </tr>\n",
              "    <tr>\n",
              "      <th>...</th>\n",
              "      <td>...</td>\n",
              "      <td>...</td>\n",
              "    </tr>\n",
              "    <tr>\n",
              "      <th>2023-12-20</th>\n",
              "      <td>35.482441</td>\n",
              "      <td>42.639</td>\n",
              "    </tr>\n",
              "    <tr>\n",
              "      <th>2023-12-24</th>\n",
              "      <td>19.024900</td>\n",
              "      <td>24.665</td>\n",
              "    </tr>\n",
              "    <tr>\n",
              "      <th>2023-12-25</th>\n",
              "      <td>19.148249</td>\n",
              "      <td>25.785</td>\n",
              "    </tr>\n",
              "    <tr>\n",
              "      <th>2023-12-30</th>\n",
              "      <td>22.526480</td>\n",
              "      <td>29.183</td>\n",
              "    </tr>\n",
              "    <tr>\n",
              "      <th>2023-12-31</th>\n",
              "      <td>21.103788</td>\n",
              "      <td>25.803</td>\n",
              "    </tr>\n",
              "  </tbody>\n",
              "</table>\n",
              "<p>193 rows × 2 columns</p>\n",
              "</div>\n",
              "    <div class=\"colab-df-buttons\">\n",
              "\n",
              "  <div class=\"colab-df-container\">\n",
              "    <button class=\"colab-df-convert\" onclick=\"convertToInteractive('df-00fb23c0-9a62-4134-9fe1-509c65cd1bab')\"\n",
              "            title=\"Convert this dataframe to an interactive table.\"\n",
              "            style=\"display:none;\">\n",
              "\n",
              "  <svg xmlns=\"http://www.w3.org/2000/svg\" height=\"24px\" viewBox=\"0 -960 960 960\">\n",
              "    <path d=\"M120-120v-720h720v720H120Zm60-500h600v-160H180v160Zm220 220h160v-160H400v160Zm0 220h160v-160H400v160ZM180-400h160v-160H180v160Zm440 0h160v-160H620v160ZM180-180h160v-160H180v160Zm440 0h160v-160H620v160Z\"/>\n",
              "  </svg>\n",
              "    </button>\n",
              "\n",
              "  <style>\n",
              "    .colab-df-container {\n",
              "      display:flex;\n",
              "      gap: 12px;\n",
              "    }\n",
              "\n",
              "    .colab-df-convert {\n",
              "      background-color: #E8F0FE;\n",
              "      border: none;\n",
              "      border-radius: 50%;\n",
              "      cursor: pointer;\n",
              "      display: none;\n",
              "      fill: #1967D2;\n",
              "      height: 32px;\n",
              "      padding: 0 0 0 0;\n",
              "      width: 32px;\n",
              "    }\n",
              "\n",
              "    .colab-df-convert:hover {\n",
              "      background-color: #E2EBFA;\n",
              "      box-shadow: 0px 1px 2px rgba(60, 64, 67, 0.3), 0px 1px 3px 1px rgba(60, 64, 67, 0.15);\n",
              "      fill: #174EA6;\n",
              "    }\n",
              "\n",
              "    .colab-df-buttons div {\n",
              "      margin-bottom: 4px;\n",
              "    }\n",
              "\n",
              "    [theme=dark] .colab-df-convert {\n",
              "      background-color: #3B4455;\n",
              "      fill: #D2E3FC;\n",
              "    }\n",
              "\n",
              "    [theme=dark] .colab-df-convert:hover {\n",
              "      background-color: #434B5C;\n",
              "      box-shadow: 0px 1px 3px 1px rgba(0, 0, 0, 0.15);\n",
              "      filter: drop-shadow(0px 1px 2px rgba(0, 0, 0, 0.3));\n",
              "      fill: #FFFFFF;\n",
              "    }\n",
              "  </style>\n",
              "\n",
              "    <script>\n",
              "      const buttonEl =\n",
              "        document.querySelector('#df-00fb23c0-9a62-4134-9fe1-509c65cd1bab button.colab-df-convert');\n",
              "      buttonEl.style.display =\n",
              "        google.colab.kernel.accessAllowed ? 'block' : 'none';\n",
              "\n",
              "      async function convertToInteractive(key) {\n",
              "        const element = document.querySelector('#df-00fb23c0-9a62-4134-9fe1-509c65cd1bab');\n",
              "        const dataTable =\n",
              "          await google.colab.kernel.invokeFunction('convertToInteractive',\n",
              "                                                    [key], {});\n",
              "        if (!dataTable) return;\n",
              "\n",
              "        const docLinkHtml = 'Like what you see? Visit the ' +\n",
              "          '<a target=\"_blank\" href=https://colab.research.google.com/notebooks/data_table.ipynb>data table notebook</a>'\n",
              "          + ' to learn more about interactive tables.';\n",
              "        element.innerHTML = '';\n",
              "        dataTable['output_type'] = 'display_data';\n",
              "        await google.colab.output.renderOutput(dataTable, element);\n",
              "        const docLink = document.createElement('div');\n",
              "        docLink.innerHTML = docLinkHtml;\n",
              "        element.appendChild(docLink);\n",
              "      }\n",
              "    </script>\n",
              "  </div>\n",
              "\n",
              "\n",
              "<div id=\"df-3fde0658-cd06-444d-b50d-efa51deac12b\">\n",
              "  <button class=\"colab-df-quickchart\" onclick=\"quickchart('df-3fde0658-cd06-444d-b50d-efa51deac12b')\"\n",
              "            title=\"Suggest charts\"\n",
              "            style=\"display:none;\">\n",
              "\n",
              "<svg xmlns=\"http://www.w3.org/2000/svg\" height=\"24px\"viewBox=\"0 0 24 24\"\n",
              "     width=\"24px\">\n",
              "    <g>\n",
              "        <path d=\"M19 3H5c-1.1 0-2 .9-2 2v14c0 1.1.9 2 2 2h14c1.1 0 2-.9 2-2V5c0-1.1-.9-2-2-2zM9 17H7v-7h2v7zm4 0h-2V7h2v10zm4 0h-2v-4h2v4z\"/>\n",
              "    </g>\n",
              "</svg>\n",
              "  </button>\n",
              "\n",
              "<style>\n",
              "  .colab-df-quickchart {\n",
              "      --bg-color: #E8F0FE;\n",
              "      --fill-color: #1967D2;\n",
              "      --hover-bg-color: #E2EBFA;\n",
              "      --hover-fill-color: #174EA6;\n",
              "      --disabled-fill-color: #AAA;\n",
              "      --disabled-bg-color: #DDD;\n",
              "  }\n",
              "\n",
              "  [theme=dark] .colab-df-quickchart {\n",
              "      --bg-color: #3B4455;\n",
              "      --fill-color: #D2E3FC;\n",
              "      --hover-bg-color: #434B5C;\n",
              "      --hover-fill-color: #FFFFFF;\n",
              "      --disabled-bg-color: #3B4455;\n",
              "      --disabled-fill-color: #666;\n",
              "  }\n",
              "\n",
              "  .colab-df-quickchart {\n",
              "    background-color: var(--bg-color);\n",
              "    border: none;\n",
              "    border-radius: 50%;\n",
              "    cursor: pointer;\n",
              "    display: none;\n",
              "    fill: var(--fill-color);\n",
              "    height: 32px;\n",
              "    padding: 0;\n",
              "    width: 32px;\n",
              "  }\n",
              "\n",
              "  .colab-df-quickchart:hover {\n",
              "    background-color: var(--hover-bg-color);\n",
              "    box-shadow: 0 1px 2px rgba(60, 64, 67, 0.3), 0 1px 3px 1px rgba(60, 64, 67, 0.15);\n",
              "    fill: var(--button-hover-fill-color);\n",
              "  }\n",
              "\n",
              "  .colab-df-quickchart-complete:disabled,\n",
              "  .colab-df-quickchart-complete:disabled:hover {\n",
              "    background-color: var(--disabled-bg-color);\n",
              "    fill: var(--disabled-fill-color);\n",
              "    box-shadow: none;\n",
              "  }\n",
              "\n",
              "  .colab-df-spinner {\n",
              "    border: 2px solid var(--fill-color);\n",
              "    border-color: transparent;\n",
              "    border-bottom-color: var(--fill-color);\n",
              "    animation:\n",
              "      spin 1s steps(1) infinite;\n",
              "  }\n",
              "\n",
              "  @keyframes spin {\n",
              "    0% {\n",
              "      border-color: transparent;\n",
              "      border-bottom-color: var(--fill-color);\n",
              "      border-left-color: var(--fill-color);\n",
              "    }\n",
              "    20% {\n",
              "      border-color: transparent;\n",
              "      border-left-color: var(--fill-color);\n",
              "      border-top-color: var(--fill-color);\n",
              "    }\n",
              "    30% {\n",
              "      border-color: transparent;\n",
              "      border-left-color: var(--fill-color);\n",
              "      border-top-color: var(--fill-color);\n",
              "      border-right-color: var(--fill-color);\n",
              "    }\n",
              "    40% {\n",
              "      border-color: transparent;\n",
              "      border-right-color: var(--fill-color);\n",
              "      border-top-color: var(--fill-color);\n",
              "    }\n",
              "    60% {\n",
              "      border-color: transparent;\n",
              "      border-right-color: var(--fill-color);\n",
              "    }\n",
              "    80% {\n",
              "      border-color: transparent;\n",
              "      border-right-color: var(--fill-color);\n",
              "      border-bottom-color: var(--fill-color);\n",
              "    }\n",
              "    90% {\n",
              "      border-color: transparent;\n",
              "      border-bottom-color: var(--fill-color);\n",
              "    }\n",
              "  }\n",
              "</style>\n",
              "\n",
              "  <script>\n",
              "    async function quickchart(key) {\n",
              "      const quickchartButtonEl =\n",
              "        document.querySelector('#' + key + ' button');\n",
              "      quickchartButtonEl.disabled = true;  // To prevent multiple clicks.\n",
              "      quickchartButtonEl.classList.add('colab-df-spinner');\n",
              "      try {\n",
              "        const charts = await google.colab.kernel.invokeFunction(\n",
              "            'suggestCharts', [key], {});\n",
              "      } catch (error) {\n",
              "        console.error('Error during call to suggestCharts:', error);\n",
              "      }\n",
              "      quickchartButtonEl.classList.remove('colab-df-spinner');\n",
              "      quickchartButtonEl.classList.add('colab-df-quickchart-complete');\n",
              "    }\n",
              "    (() => {\n",
              "      let quickchartButtonEl =\n",
              "        document.querySelector('#df-3fde0658-cd06-444d-b50d-efa51deac12b button');\n",
              "      quickchartButtonEl.style.display =\n",
              "        google.colab.kernel.accessAllowed ? 'block' : 'none';\n",
              "    })();\n",
              "  </script>\n",
              "</div>\n",
              "    </div>\n",
              "  </div>\n"
            ],
            "application/vnd.google.colaboratory.intrinsic+json": {
              "type": "dataframe",
              "variable_name": "test_results",
              "summary": "{\n  \"name\": \"test_results\",\n  \"rows\": 193,\n  \"fields\": [\n    {\n      \"column\": \"Test Predictions\",\n      \"properties\": {\n        \"dtype\": \"float32\",\n        \"samples\": [\n          19.408206939697266,\n          44.31686782836914,\n          23.8286190032959\n        ],\n        \"num_unique_values\": 193,\n        \"semantic_type\": \"\",\n        \"description\": \"\"\n      }\n    },\n    {\n      \"column\": \"Actuals\",\n      \"properties\": {\n        \"dtype\": \"number\",\n        \"std\": 112.53491776408448,\n        \"min\": 3.04,\n        \"max\": 767.145,\n        \"samples\": [\n          12.669,\n          51.88,\n          508.677\n        ],\n        \"num_unique_values\": 190,\n        \"semantic_type\": \"\",\n        \"description\": \"\"\n      }\n    }\n  ]\n}"
            }
          },
          "metadata": {},
          "execution_count": 22
        }
      ]
    },
    {
      "cell_type": "code",
      "source": [
        "plt.plot(test_results['Actuals'][:])\n",
        "plt.plot(test_results['Test Predictions'][:],'.')\n",
        "plt.legend(['real', 'predict'])"
      ],
      "metadata": {
        "id": "gQTEU6IFZyTy",
        "colab": {
          "base_uri": "https://localhost:8080/",
          "height": 451
        },
        "outputId": "07570396-f8e1-4646-e90b-b0ee6b3c248d"
      },
      "execution_count": null,
      "outputs": [
        {
          "output_type": "execute_result",
          "data": {
            "text/plain": [
              "<matplotlib.legend.Legend at 0x7e0bba577ac0>"
            ]
          },
          "metadata": {},
          "execution_count": 23
        },
        {
          "output_type": "display_data",
          "data": {
            "text/plain": [
              "<Figure size 640x480 with 1 Axes>"
            ],
            "image/png": "[encoded data removed]"
          },
          "metadata": {}
        }
      ]
    },
    {
      "cell_type": "code",
      "source": [
        "from sklearn.metrics import r2_score\n",
        "from sklearn.metrics import mean_squared_error\n",
        "\n",
        "rmse = np.sqrt(mean_squared_error(testY, test_predictions))\n",
        "rsquared_score = r2_score(testY, test_predictions)\n",
        "print('R^2 Score : %f' %(rsquared_score))\n",
        "print('RMSE : %.2f' %(rmse))"
      ],
      "metadata": {
        "id": "ZFySh6u0ZyRh",
        "colab": {
          "base_uri": "https://localhost:8080/"
        },
        "outputId": "2869173b-ae0f-4a4c-99d8-1e2344c4763f"
      },
      "execution_count": null,
      "outputs": [
        {
          "output_type": "stream",
          "name": "stdout",
          "text": [
            "R^2 Score : 0.983410\n",
            "RMSE : 14.46\n"
          ]
        }
      ]
    },
    {
      "cell_type": "code",
      "source": [
        "x = np.arange(0,800)\n",
        "y = x\n",
        "plt.scatter(test_results['Actuals'][:], test_results['Test Predictions'][:], color = 'purple', alpha = 0.6)\n",
        "plt.plot(x,y, color = 'orange', alpha = 0.6, label = 'y = x')\n",
        "plt.xlabel('Actuals')\n",
        "plt.ylabel('Simulate')\n",
        "\n",
        "plt.legend()\n",
        "plt.show()"
      ],
      "metadata": {
        "id": "TA95nJKIZyPF",
        "colab": {
          "base_uri": "https://localhost:8080/",
          "height": 449
        },
        "outputId": "f1c09f9d-b1e6-4f9a-d497-b6cc65cfef3b"
      },
      "execution_count": null,
      "outputs": [
        {
          "output_type": "display_data",
          "data": {
            "text/plain": [
              "<Figure size 640x480 with 1 Axes>"
            ],
            "image/png": "[encoded data removed]"
          },
          "metadata": {}
        }
      ]
    },
    {
      "cell_type": "code",
      "source": [],
      "metadata": {
        "id": "Oh-1dC1_ZyMv"
      },
      "execution_count": null,
      "outputs": []
    },
    {
      "cell_type": "code",
      "source": [],
      "metadata": {
        "id": "-5jqThn8ZyGf"
      },
      "execution_count": null,
      "outputs": []
    },
    {
      "cell_type": "code",
      "source": [],
      "metadata": {
        "id": "WdnxNSDnZx9H"
      },
      "execution_count": null,
      "outputs": []
    }
  ]
}