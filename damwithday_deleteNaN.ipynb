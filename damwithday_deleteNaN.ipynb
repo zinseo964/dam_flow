{
  "nbformat": 4,
  "nbformat_minor": 0,
  "metadata": {
    "colab": {
      "provenance": [],
      "authorship_tag": "ABX9TyPx7h3MyoElXVDE2q6Lw/eS",
      "include_colab_link": true
    },
    "kernelspec": {
      "name": "python3",
      "display_name": "Python 3"
    },
    "language_info": {
      "name": "python"
    }
  },
  "cells": [
    {
      "cell_type": "markdown",
      "metadata": {
        "id": "view-in-github",
        "colab_type": "text"
      },
      "source": [
        "<a href=\"https://colab.research.google.com/github/zinseo964/dam_flow/blob/main/damwithday_deleteNaN.ipynb\" target=\"_parent\"><img src=\"https://colab.research.google.com/assets/colab-badge.svg\" alt=\"Open In Colab\"/></a>"
      ]
    },
    {
      "cell_type": "code",
      "execution_count": 1,
      "metadata": {
        "id": "eh9FG4N_F9vS"
      },
      "outputs": [],
      "source": [
        "import pandas as pd\n",
        "import numpy as np\n",
        "import matplotlib.pyplot as plt\n",
        "import tensorflow as tf\n",
        "import os"
      ]
    },
    {
      "cell_type": "code",
      "source": [
        "from google.colab import drive\n",
        "drive.mount('/content/drive')"
      ],
      "metadata": {
        "id": "dIQ5esK-hRjj",
        "colab": {
          "base_uri": "https://localhost:8080/"
        },
        "outputId": "28e2e0de-da3c-4980-eb75-88737d5cfa19"
      },
      "execution_count": 2,
      "outputs": [
        {
          "output_type": "stream",
          "name": "stdout",
          "text": [
            "Mounted at /content/drive\n"
          ]
        }
      ]
    },
    {
      "cell_type": "code",
      "source": [
        "rain_data211 = pd.read_csv('/content/drive/MyDrive/Colab Notebooks/dam_flow_csv/rn_20240130172151.csv',encoding='cp949')\n",
        "rain_data101 = pd.read_csv('/content/drive/MyDrive/Colab Notebooks/dam_flow_csv/rn_20240130172202.csv',encoding='cp949')\n",
        "rain_data100 = pd.read_csv('/content/drive/MyDrive/Colab Notebooks/dam_flow_csv/rn_20240130172215.csv',encoding='cp949')\n",
        "rain_data212 = pd.read_csv('/content/drive/MyDrive/Colab Notebooks/dam_flow_csv/rn_20240130172236.csv',encoding='cp949')\n",
        "rain_data90 = pd.read_csv('/content/drive/MyDrive/Colab Notebooks/dam_flow_csv/rn_20240130172245.csv',encoding='cp949')"
      ],
      "metadata": {
        "id": "sTCa--h7JmNi"
      },
      "execution_count": 3,
      "outputs": []
    },
    {
      "cell_type": "code",
      "source": [
        "# rain_data = pd.merge(rain_data211, rain_data101, how='outer')\n",
        "from functools import reduce\n",
        "\n",
        "rain_data = reduce(lambda x,y : pd.merge(x,y, on='날짜', how='outer'),[rain_data211, rain_data101, rain_data100, rain_data212, rain_data90])"
      ],
      "metadata": {
        "id": "DprPaZgXh3BR"
      },
      "execution_count": 4,
      "outputs": []
    },
    {
      "cell_type": "code",
      "source": [
        "rain_data.set_index(\"날짜\", inplace = True)\n",
        "rain_data = rain_data.dropna(how='all')\n",
        "\n",
        "print(rain_data)"
      ],
      "metadata": {
        "id": "waugWhK5jpk0",
        "colab": {
          "base_uri": "https://localhost:8080/"
        },
        "outputId": "c8542cd1-fc11-4def-b17d-2a44a67b29bc"
      },
      "execution_count": 5,
      "outputs": [
        {
          "output_type": "stream",
          "name": "stdout",
          "text": [
            "            211강수량(mm)  101강수량(mm)  100강수량(mm)  212강수량(mm)  90강수량(mm)\n",
            "날짜                                                                   \n",
            "2009-01-16         0.3         2.4         0.6         0.2        NaN\n",
            "2009-01-18         0.0         0.2         4.9         0.1        NaN\n",
            "2009-01-22         0.0         0.1         NaN         0.0        NaN\n",
            "2009-01-24         NaN         0.4         0.2         0.0        NaN\n",
            "2009-01-25         0.0         0.3         1.5         0.1        0.0\n",
            "...                ...         ...         ...         ...        ...\n",
            "2023-12-20         0.4         0.1         0.0         0.0        NaN\n",
            "2023-12-24         NaN         NaN         NaN         0.0        NaN\n",
            "2023-12-25         0.9         0.7         0.0         0.2        NaN\n",
            "2023-12-30         6.8         9.9         2.3         8.5        0.7\n",
            "2023-12-31         3.1         5.3         6.0         4.9       26.8\n",
            "\n",
            "[2993 rows x 5 columns]\n"
          ]
        }
      ]
    },
    {
      "cell_type": "code",
      "source": [
        "rain_col = [i for i in rain_data.columns if '강수' in i]\n",
        "rain_data[rain_col] = rain_data[rain_col].fillna(0)"
      ],
      "metadata": {
        "id": "4k7gESlaGIju"
      },
      "execution_count": 6,
      "outputs": []
    },
    {
      "cell_type": "code",
      "source": [
        "print(rain_data.isna().sum().sum())\n",
        "print(rain_data)\n"
      ],
      "metadata": {
        "id": "GBzXaW-6jr8I",
        "colab": {
          "base_uri": "https://localhost:8080/"
        },
        "outputId": "73e343b9-46e1-4823-8de8-284407d63d94"
      },
      "execution_count": 7,
      "outputs": [
        {
          "output_type": "stream",
          "name": "stdout",
          "text": [
            "0\n",
            "            211강수량(mm)  101강수량(mm)  100강수량(mm)  212강수량(mm)  90강수량(mm)\n",
            "날짜                                                                   \n",
            "2009-01-16         0.3         2.4         0.6         0.2        0.0\n",
            "2009-01-18         0.0         0.2         4.9         0.1        0.0\n",
            "2009-01-22         0.0         0.1         0.0         0.0        0.0\n",
            "2009-01-24         0.0         0.4         0.2         0.0        0.0\n",
            "2009-01-25         0.0         0.3         1.5         0.1        0.0\n",
            "...                ...         ...         ...         ...        ...\n",
            "2023-12-20         0.4         0.1         0.0         0.0        0.0\n",
            "2023-12-24         0.0         0.0         0.0         0.0        0.0\n",
            "2023-12-25         0.9         0.7         0.0         0.2        0.0\n",
            "2023-12-30         6.8         9.9         2.3         8.5        0.7\n",
            "2023-12-31         3.1         5.3         6.0         4.9       26.8\n",
            "\n",
            "[2993 rows x 5 columns]\n"
          ]
        }
      ]
    },
    {
      "cell_type": "code",
      "source": [
        "dam_flow = pd.read_csv('/content/drive/MyDrive/Colab Notebooks/dam_flow_csv/only_dam_flow.csv',encoding='utf-8')\n",
        "dam_flow.set_index(\"날짜\", inplace = True)\n",
        "print(dam_flow)"
      ],
      "metadata": {
        "id": "tQH3R_pfSahE",
        "colab": {
          "base_uri": "https://localhost:8080/"
        },
        "outputId": "68985284-33ad-4262-8625-dc8747421866"
      },
      "execution_count": 8,
      "outputs": [
        {
          "output_type": "stream",
          "name": "stdout",
          "text": [
            "            유입량(㎥/s)\n",
            "날짜                  \n",
            "2009-01-01     0.000\n",
            "2009-01-02     0.825\n",
            "2009-01-03     3.904\n",
            "2009-01-04     0.000\n",
            "2009-01-05     0.000\n",
            "...              ...\n",
            "2023-12-27    25.873\n",
            "2023-12-28    21.186\n",
            "2023-12-29    20.887\n",
            "2023-12-30    29.183\n",
            "2023-12-31    25.803\n",
            "\n",
            "[5478 rows x 1 columns]\n"
          ]
        }
      ]
    },
    {
      "cell_type": "code",
      "source": [
        "date_index = rain_data.index\n",
        "dam_value = dam_flow.loc[date_index]\n",
        "\n",
        "print(dam_value)\n",
        "\n",
        "data = pd.merge(rain_data, dam_value,on='날짜', how='outer')\n",
        "\n",
        "# data = reduce(lambda x,y : pd.merge(x,y, on='날짜', how='outer'),[rain_data, dam_flow])"
      ],
      "metadata": {
        "id": "Fwa1qTrISbHS",
        "colab": {
          "base_uri": "https://localhost:8080/"
        },
        "outputId": "7d2c4ed6-7313-4830-8cd9-469e58c43ddc"
      },
      "execution_count": 9,
      "outputs": [
        {
          "output_type": "stream",
          "name": "stdout",
          "text": [
            "            유입량(㎥/s)\n",
            "날짜                  \n",
            "2009-01-16     0.000\n",
            "2009-01-18     0.000\n",
            "2009-01-22     0.957\n",
            "2009-01-24     2.003\n",
            "2009-01-25     7.361\n",
            "...              ...\n",
            "2023-12-20    42.639\n",
            "2023-12-24    24.665\n",
            "2023-12-25    25.785\n",
            "2023-12-30    29.183\n",
            "2023-12-31    25.803\n",
            "\n",
            "[2993 rows x 1 columns]\n"
          ]
        }
      ]
    },
    {
      "cell_type": "code",
      "source": [
        "print(data)\n",
        "print(max(data['유입량(㎥/s)']))"
      ],
      "metadata": {
        "id": "QxdBO2OwZnlQ",
        "colab": {
          "base_uri": "https://localhost:8080/"
        },
        "outputId": "b60f0f05-70a6-45db-a866-5547674c9e38"
      },
      "execution_count": 10,
      "outputs": [
        {
          "output_type": "stream",
          "name": "stdout",
          "text": [
            "            211강수량(mm)  101강수량(mm)  100강수량(mm)  212강수량(mm)  90강수량(mm)  \\\n",
            "날짜                                                                      \n",
            "2009-01-16         0.3         2.4         0.6         0.2        0.0   \n",
            "2009-01-18         0.0         0.2         4.9         0.1        0.0   \n",
            "2009-01-22         0.0         0.1         0.0         0.0        0.0   \n",
            "2009-01-24         0.0         0.4         0.2         0.0        0.0   \n",
            "2009-01-25         0.0         0.3         1.5         0.1        0.0   \n",
            "...                ...         ...         ...         ...        ...   \n",
            "2023-12-20         0.4         0.1         0.0         0.0        0.0   \n",
            "2023-12-24         0.0         0.0         0.0         0.0        0.0   \n",
            "2023-12-25         0.9         0.7         0.0         0.2        0.0   \n",
            "2023-12-30         6.8         9.9         2.3         8.5        0.7   \n",
            "2023-12-31         3.1         5.3         6.0         4.9       26.8   \n",
            "\n",
            "            유입량(㎥/s)  \n",
            "날짜                    \n",
            "2009-01-16     0.000  \n",
            "2009-01-18     0.000  \n",
            "2009-01-22     0.957  \n",
            "2009-01-24     2.003  \n",
            "2009-01-25     7.361  \n",
            "...              ...  \n",
            "2023-12-20    42.639  \n",
            "2023-12-24    24.665  \n",
            "2023-12-25    25.785  \n",
            "2023-12-30    29.183  \n",
            "2023-12-31    25.803  \n",
            "\n",
            "[2993 rows x 6 columns]\n",
            "3918.5\n"
          ]
        }
      ]
    },
    {
      "cell_type": "code",
      "source": [
        "# data.index = pd.to_datetime(data['날짜'])\n",
        "\n",
        "dam_flow = data['유입량(㎥/s)']\n",
        "dam_flow.plot()"
      ],
      "metadata": {
        "id": "9gfzXmBUcDWP",
        "colab": {
          "base_uri": "https://localhost:8080/",
          "height": 634
        },
        "outputId": "0ec227ca-e460-49ad-93b4-c8c701e34cc1"
      },
      "execution_count": 11,
      "outputs": [
        {
          "output_type": "execute_result",
          "data": {
            "text/plain": [
              "<Axes: xlabel='날짜'>"
            ]
          },
          "metadata": {},
          "execution_count": 11
        },
        {
          "output_type": "stream",
          "name": "stderr",
          "text": [
            "/usr/local/lib/python3.10/dist-packages/IPython/core/events.py:89: UserWarning: Glyph 45216 (\\N{HANGUL SYLLABLE NAL}) missing from current font.\n",
            "  func(*args, **kwargs)\n",
            "/usr/local/lib/python3.10/dist-packages/IPython/core/events.py:89: UserWarning: Glyph 51676 (\\N{HANGUL SYLLABLE JJA}) missing from current font.\n",
            "  func(*args, **kwargs)\n",
            "/usr/local/lib/python3.10/dist-packages/IPython/core/pylabtools.py:151: UserWarning: Glyph 45216 (\\N{HANGUL SYLLABLE NAL}) missing from current font.\n",
            "  fig.canvas.print_figure(bytes_io, **kw)\n",
            "/usr/local/lib/python3.10/dist-packages/IPython/core/pylabtools.py:151: UserWarning: Glyph 51676 (\\N{HANGUL SYLLABLE JJA}) missing from current font.\n",
            "  fig.canvas.print_figure(bytes_io, **kw)\n"
          ]
        },
        {
          "output_type": "display_data",
          "data": {
            "text/plain": [
              "<Figure size 640x480 with 1 Axes>"
            ],
            "image/png": "[encoded data removed]"
          },
          "metadata": {}
        }
      ]
    },
    {
      "cell_type": "code",
      "source": [
        "data['Y'] = data['유입량(㎥/s)']\n",
        "data = data.dropna()\n",
        "data.reset_index(drop=False, inplace = True)\n",
        "\n",
        "print(data)"
      ],
      "metadata": {
        "id": "ZnHkvJMj9XdS",
        "colab": {
          "base_uri": "https://localhost:8080/"
        },
        "outputId": "ea1a4978-407a-4e00-df0e-c9fe93449235"
      },
      "execution_count": 12,
      "outputs": [
        {
          "output_type": "stream",
          "name": "stdout",
          "text": [
            "              날짜  211강수량(mm)  101강수량(mm)  100강수량(mm)  212강수량(mm)  90강수량(mm)  \\\n",
            "0     2009-01-16         0.3         2.4         0.6         0.2        0.0   \n",
            "1     2009-01-18         0.0         0.2         4.9         0.1        0.0   \n",
            "2     2009-01-22         0.0         0.1         0.0         0.0        0.0   \n",
            "3     2009-01-24         0.0         0.4         0.2         0.0        0.0   \n",
            "4     2009-01-25         0.0         0.3         1.5         0.1        0.0   \n",
            "...          ...         ...         ...         ...         ...        ...   \n",
            "2988  2023-12-20         0.4         0.1         0.0         0.0        0.0   \n",
            "2989  2023-12-24         0.0         0.0         0.0         0.0        0.0   \n",
            "2990  2023-12-25         0.9         0.7         0.0         0.2        0.0   \n",
            "2991  2023-12-30         6.8         9.9         2.3         8.5        0.7   \n",
            "2992  2023-12-31         3.1         5.3         6.0         4.9       26.8   \n",
            "\n",
            "      유입량(㎥/s)       Y  \n",
            "0        0.000   0.000  \n",
            "1        0.000   0.000  \n",
            "2        0.957   0.957  \n",
            "3        2.003   2.003  \n",
            "4        7.361   7.361  \n",
            "...        ...     ...  \n",
            "2988    42.639  42.639  \n",
            "2989    24.665  24.665  \n",
            "2990    25.785  25.785  \n",
            "2991    29.183  29.183  \n",
            "2992    25.803  25.803  \n",
            "\n",
            "[2993 rows x 8 columns]\n"
          ]
        }
      ]
    },
    {
      "cell_type": "code",
      "source": [
        "train = data[data['날짜']<'2018-01-01']\n",
        "valid = data[data['날짜']>='2018-01-01']\n",
        "valid = valid[valid['날짜']<'2023-01-01']\n",
        "test = data[data['날짜']>='2023-01-01']\n",
        "print('train set : ', len(train),\"\\n\",\n",
        "      'valid set : ', len(valid), \"\\n\",\n",
        "      'test set : ', len(test), \"\\n\")\n",
        "train.set_index(\"날짜\", inplace = True)\n",
        "valid.set_index(\"날짜\", inplace = True)\n",
        "test.set_index(\"날짜\", inplace = True)\n",
        "\n",
        "trainX, trainY = train.drop(['Y'], axis = 1), train['Y']\n",
        "validX, validY = valid.drop(['Y'], axis = 1), valid['Y']\n",
        "testX, testY = test.drop(['Y'], axis = 1), test['Y']"
      ],
      "metadata": {
        "id": "SXCFT5roZt-x",
        "colab": {
          "base_uri": "https://localhost:8080/"
        },
        "outputId": "4fa79e1a-516e-4427-d5b4-fece7ac56d82"
      },
      "execution_count": 13,
      "outputs": [
        {
          "output_type": "stream",
          "name": "stdout",
          "text": [
            "train set :  1812 \n",
            " valid set :  988 \n",
            " test set :  193 \n",
            "\n"
          ]
        }
      ]
    },
    {
      "cell_type": "code",
      "source": [
        "print(trainX)\n",
        "len(trainX.columns)"
      ],
      "metadata": {
        "id": "_NasIIN5cMrq",
        "colab": {
          "base_uri": "https://localhost:8080/"
        },
        "outputId": "14d7cfdf-4f65-4802-d53a-39b1e934aa7e"
      },
      "execution_count": 14,
      "outputs": [
        {
          "output_type": "stream",
          "name": "stdout",
          "text": [
            "            211강수량(mm)  101강수량(mm)  100강수량(mm)  212강수량(mm)  90강수량(mm)  \\\n",
            "날짜                                                                      \n",
            "2009-01-16         0.3         2.4         0.6         0.2        0.0   \n",
            "2009-01-18         0.0         0.2         4.9         0.1        0.0   \n",
            "2009-01-22         0.0         0.1         0.0         0.0        0.0   \n",
            "2009-01-24         0.0         0.4         0.2         0.0        0.0   \n",
            "2009-01-25         0.0         0.3         1.5         0.1        0.0   \n",
            "...                ...         ...         ...         ...        ...   \n",
            "2017-12-20         0.0         1.1         0.0         0.0        0.0   \n",
            "2017-12-23         0.0         0.0         0.0         0.0        0.0   \n",
            "2017-12-24        11.0        13.3         7.3        12.0        9.4   \n",
            "2017-12-30         0.4         1.0         0.3         0.6        0.0   \n",
            "2017-12-31         1.0         1.1         0.0         2.0        0.0   \n",
            "\n",
            "            유입량(㎥/s)  \n",
            "날짜                    \n",
            "2009-01-16     0.000  \n",
            "2009-01-18     0.000  \n",
            "2009-01-22     0.957  \n",
            "2009-01-24     2.003  \n",
            "2009-01-25     7.361  \n",
            "...              ...  \n",
            "2017-12-20     0.000  \n",
            "2017-12-23     5.522  \n",
            "2017-12-24    11.366  \n",
            "2017-12-30     6.000  \n",
            "2017-12-31     0.285  \n",
            "\n",
            "[1812 rows x 6 columns]\n"
          ]
        },
        {
          "output_type": "execute_result",
          "data": {
            "text/plain": [
              "6"
            ]
          },
          "metadata": {},
          "execution_count": 14
        }
      ]
    },
    {
      "cell_type": "code",
      "source": [
        "from sklearn.preprocessing import MinMaxScaler\n",
        "from tensorflow.keras.layers import *\n",
        "from keras.models import Sequential\n",
        "import tensorflow as tf\n",
        "from keras.layers import Dense, LSTM\n",
        "from tensorflow.keras.models import Sequential\n",
        "from tensorflow.keras.layers import *\n",
        "from tensorflow.keras.callbacks import ModelCheckpoint\n",
        "from tensorflow.keras.losses import MeanSquaredError\n",
        "from tensorflow.keras.metrics import RootMeanSquaredError\n",
        "from tensorflow.keras.optimizers import Adam\n",
        "\n",
        "model2 = Sequential()\n",
        "model2.add(LSTM(64, input_shape=(6,1)))\n",
        "model2.add(Dense(40, 'relu'))\n",
        "model2.add(Dense(40, 'relu'))\n",
        "model2.add(Dense(8, 'relu'))\n",
        "model2.add(Dense(8))\n",
        "model2.add(Dense(1))\n",
        "\n",
        "model2.summary()"
      ],
      "metadata": {
        "id": "vmqdghl2KSv3",
        "colab": {
          "base_uri": "https://localhost:8080/"
        },
        "outputId": "58865117-1f90-4306-ec35-c1c00efa488c"
      },
      "execution_count": 30,
      "outputs": [
        {
          "output_type": "stream",
          "name": "stdout",
          "text": [
            "Model: \"sequential_1\"\n",
            "_________________________________________________________________\n",
            " Layer (type)                Output Shape              Param #   \n",
            "=================================================================\n",
            " lstm_1 (LSTM)               (None, 64)                16896     \n",
            "                                                                 \n",
            " dense_5 (Dense)             (None, 40)                2600      \n",
            "                                                                 \n",
            " dense_6 (Dense)             (None, 40)                1640      \n",
            "                                                                 \n",
            " dense_7 (Dense)             (None, 8)                 328       \n",
            "                                                                 \n",
            " dense_8 (Dense)             (None, 8)                 72        \n",
            "                                                                 \n",
            " dense_9 (Dense)             (None, 1)                 9         \n",
            "                                                                 \n",
            "=================================================================\n",
            "Total params: 21545 (84.16 KB)\n",
            "Trainable params: 21545 (84.16 KB)\n",
            "Non-trainable params: 0 (0.00 Byte)\n",
            "_________________________________________________________________\n"
          ]
        }
      ]
    },
    {
      "cell_type": "code",
      "source": [
        "cp1 = ModelCheckpoint('model2/', save_best_only=True)\n",
        "model2.compile(loss=MeanSquaredError(), optimizer=Adam(learning_rate=0.0001), metrics=[RootMeanSquaredError()])\n",
        "model2.fit(trainX, trainY, validation_data = (validX, validY), batch_size=10, epochs=50, callbacks=[cp1])"
      ],
      "metadata": {
        "id": "JXFtLaHiWT8V",
        "colab": {
          "base_uri": "https://localhost:8080/"
        },
        "outputId": "21d3c5da-ada6-4e4e-c815-6e5218c2f864"
      },
      "execution_count": 32,
      "outputs": [
        {
          "output_type": "stream",
          "name": "stdout",
          "text": [
            "Epoch 1/50\n",
            "182/182 [==============================] - 9s 32ms/step - loss: 77750.1094 - root_mean_squared_error: 278.8371 - val_loss: 87002.1484 - val_root_mean_squared_error: 294.9612\n",
            "Epoch 2/50\n",
            "182/182 [==============================] - 6s 35ms/step - loss: 76891.1406 - root_mean_squared_error: 277.2925 - val_loss: 84663.8203 - val_root_mean_squared_error: 290.9705\n",
            "Epoch 3/50\n",
            "182/182 [==============================] - 6s 32ms/step - loss: 73530.9453 - root_mean_squared_error: 271.1659 - val_loss: 79943.2969 - val_root_mean_squared_error: 282.7425\n",
            "Epoch 4/50\n",
            "182/182 [==============================] - 5s 28ms/step - loss: 69551.2656 - root_mean_squared_error: 263.7257 - val_loss: 75080.7656 - val_root_mean_squared_error: 274.0087\n",
            "Epoch 5/50\n",
            "182/182 [==============================] - 6s 33ms/step - loss: 64534.7188 - root_mean_squared_error: 254.0368 - val_loss: 69133.6328 - val_root_mean_squared_error: 262.9327\n",
            "Epoch 6/50\n",
            "182/182 [==============================] - 5s 27ms/step - loss: 58458.9141 - root_mean_squared_error: 241.7828 - val_loss: 62303.3555 - val_root_mean_squared_error: 249.6064\n",
            "Epoch 7/50\n",
            "182/182 [==============================] - 8s 42ms/step - loss: 52084.6523 - root_mean_squared_error: 228.2206 - val_loss: 55581.5273 - val_root_mean_squared_error: 235.7574\n",
            "Epoch 8/50\n",
            "182/182 [==============================] - 13s 70ms/step - loss: 45748.4336 - root_mean_squared_error: 213.8888 - val_loss: 49170.1797 - val_root_mean_squared_error: 221.7435\n",
            "Epoch 9/50\n",
            "182/182 [==============================] - 7s 38ms/step - loss: 39898.0352 - root_mean_squared_error: 199.7449 - val_loss: 42991.6758 - val_root_mean_squared_error: 207.3443\n",
            "Epoch 10/50\n",
            "182/182 [==============================] - 6s 30ms/step - loss: 34633.3242 - root_mean_squared_error: 186.1003 - val_loss: 37508.6914 - val_root_mean_squared_error: 193.6716\n",
            "Epoch 11/50\n",
            "182/182 [==============================] - 6s 33ms/step - loss: 30121.0605 - root_mean_squared_error: 173.5542 - val_loss: 32661.5254 - val_root_mean_squared_error: 180.7250\n",
            "Epoch 12/50\n",
            "182/182 [==============================] - 6s 34ms/step - loss: 26003.8457 - root_mean_squared_error: 161.2571 - val_loss: 28391.3262 - val_root_mean_squared_error: 168.4973\n",
            "Epoch 13/50\n",
            "182/182 [==============================] - 6s 33ms/step - loss: 22525.1719 - root_mean_squared_error: 150.0839 - val_loss: 24471.9082 - val_root_mean_squared_error: 156.4350\n",
            "Epoch 14/50\n",
            "182/182 [==============================] - 5s 27ms/step - loss: 19399.3379 - root_mean_squared_error: 139.2815 - val_loss: 21027.4395 - val_root_mean_squared_error: 145.0084\n",
            "Epoch 15/50\n",
            "182/182 [==============================] - 6s 33ms/step - loss: 16623.5625 - root_mean_squared_error: 128.9324 - val_loss: 18225.9688 - val_root_mean_squared_error: 135.0036\n",
            "Epoch 16/50\n",
            "182/182 [==============================] - 5s 28ms/step - loss: 14340.3828 - root_mean_squared_error: 119.7513 - val_loss: 16012.3418 - val_root_mean_squared_error: 126.5399\n",
            "Epoch 17/50\n",
            "182/182 [==============================] - 7s 37ms/step - loss: 12306.4844 - root_mean_squared_error: 110.9346 - val_loss: 13810.4658 - val_root_mean_squared_error: 117.5179\n",
            "Epoch 18/50\n",
            "182/182 [==============================] - 5s 30ms/step - loss: 10586.8721 - root_mean_squared_error: 102.8925 - val_loss: 11740.6152 - val_root_mean_squared_error: 108.3541\n",
            "Epoch 19/50\n",
            "182/182 [==============================] - 5s 27ms/step - loss: 9052.9443 - root_mean_squared_error: 95.1470 - val_loss: 10123.4395 - val_root_mean_squared_error: 100.6153\n",
            "Epoch 20/50\n",
            "182/182 [==============================] - 6s 33ms/step - loss: 7802.3306 - root_mean_squared_error: 88.3308 - val_loss: 8774.4883 - val_root_mean_squared_error: 93.6722\n",
            "Epoch 21/50\n",
            "182/182 [==============================] - 5s 27ms/step - loss: 6786.1782 - root_mean_squared_error: 82.3783 - val_loss: 7404.1313 - val_root_mean_squared_error: 86.0473\n",
            "Epoch 22/50\n",
            "182/182 [==============================] - 7s 40ms/step - loss: 5825.4097 - root_mean_squared_error: 76.3244 - val_loss: 6502.3604 - val_root_mean_squared_error: 80.6372\n",
            "Epoch 23/50\n",
            "182/182 [==============================] - 5s 28ms/step - loss: 5006.3652 - root_mean_squared_error: 70.7557 - val_loss: 5341.0850 - val_root_mean_squared_error: 73.0827\n",
            "Epoch 24/50\n",
            "182/182 [==============================] - 5s 30ms/step - loss: 4506.4844 - root_mean_squared_error: 67.1303 - val_loss: 4855.3120 - val_root_mean_squared_error: 69.6801\n",
            "Epoch 25/50\n",
            "182/182 [==============================] - 6s 34ms/step - loss: 3833.1108 - root_mean_squared_error: 61.9121 - val_loss: 3908.2991 - val_root_mean_squared_error: 62.5164\n",
            "Epoch 26/50\n",
            "182/182 [==============================] - 6s 34ms/step - loss: 3398.0310 - root_mean_squared_error: 58.2926 - val_loss: 3334.7373 - val_root_mean_squared_error: 57.7472\n",
            "Epoch 27/50\n",
            "182/182 [==============================] - 7s 38ms/step - loss: 2915.6189 - root_mean_squared_error: 53.9965 - val_loss: 2806.7927 - val_root_mean_squared_error: 52.9792\n",
            "Epoch 28/50\n",
            "182/182 [==============================] - 5s 28ms/step - loss: 2632.7375 - root_mean_squared_error: 51.3102 - val_loss: 2335.5569 - val_root_mean_squared_error: 48.3276\n",
            "Epoch 29/50\n",
            "182/182 [==============================] - 6s 33ms/step - loss: 2207.8391 - root_mean_squared_error: 46.9876 - val_loss: 1932.8268 - val_root_mean_squared_error: 43.9639\n",
            "Epoch 30/50\n",
            "182/182 [==============================] - 5s 27ms/step - loss: 1940.0536 - root_mean_squared_error: 44.0460 - val_loss: 1922.4034 - val_root_mean_squared_error: 43.8452\n",
            "Epoch 31/50\n",
            "182/182 [==============================] - 6s 30ms/step - loss: 1688.9850 - root_mean_squared_error: 41.0973 - val_loss: 1347.1367 - val_root_mean_squared_error: 36.7034\n",
            "Epoch 32/50\n",
            "182/182 [==============================] - 7s 39ms/step - loss: 1518.5221 - root_mean_squared_error: 38.9682 - val_loss: 1148.2516 - val_root_mean_squared_error: 33.8859\n",
            "Epoch 33/50\n",
            "182/182 [==============================] - 5s 28ms/step - loss: 1621.4946 - root_mean_squared_error: 40.2678 - val_loss: 1018.9985 - val_root_mean_squared_error: 31.9218\n",
            "Epoch 34/50\n",
            "182/182 [==============================] - 2s 9ms/step - loss: 3676.5791 - root_mean_squared_error: 60.6348 - val_loss: 1767.0732 - val_root_mean_squared_error: 42.0366\n",
            "Epoch 35/50\n",
            "182/182 [==============================] - 2s 12ms/step - loss: 1771.0623 - root_mean_squared_error: 42.0840 - val_loss: 1453.7318 - val_root_mean_squared_error: 38.1278\n",
            "Epoch 36/50\n",
            "182/182 [==============================] - 1s 7ms/step - loss: 1531.1144 - root_mean_squared_error: 39.1295 - val_loss: 1213.0859 - val_root_mean_squared_error: 34.8294\n",
            "Epoch 37/50\n",
            "182/182 [==============================] - 5s 27ms/step - loss: 1349.9478 - root_mean_squared_error: 36.7416 - val_loss: 1001.4590 - val_root_mean_squared_error: 31.6458\n",
            "Epoch 38/50\n",
            "182/182 [==============================] - 1s 7ms/step - loss: 1355.8513 - root_mean_squared_error: 36.8219 - val_loss: 1849.1481 - val_root_mean_squared_error: 43.0017\n",
            "Epoch 39/50\n",
            "182/182 [==============================] - 6s 34ms/step - loss: 1484.1349 - root_mean_squared_error: 38.5245 - val_loss: 708.6599 - val_root_mean_squared_error: 26.6207\n",
            "Epoch 40/50\n",
            "182/182 [==============================] - 1s 7ms/step - loss: 1043.7607 - root_mean_squared_error: 32.3073 - val_loss: 1307.4062 - val_root_mean_squared_error: 36.1581\n",
            "Epoch 41/50\n",
            "182/182 [==============================] - 6s 34ms/step - loss: 1790.9575 - root_mean_squared_error: 42.3197 - val_loss: 430.2288 - val_root_mean_squared_error: 20.7420\n",
            "Epoch 42/50\n",
            "182/182 [==============================] - 6s 33ms/step - loss: 779.3004 - root_mean_squared_error: 27.9160 - val_loss: 306.1972 - val_root_mean_squared_error: 17.4985\n",
            "Epoch 43/50\n",
            "182/182 [==============================] - 1s 7ms/step - loss: 714.8897 - root_mean_squared_error: 26.7374 - val_loss: 370.8604 - val_root_mean_squared_error: 19.2577\n",
            "Epoch 44/50\n",
            "182/182 [==============================] - 1s 7ms/step - loss: 753.8837 - root_mean_squared_error: 27.4569 - val_loss: 983.4534 - val_root_mean_squared_error: 31.3601\n",
            "Epoch 45/50\n",
            "182/182 [==============================] - 1s 7ms/step - loss: 1529.3783 - root_mean_squared_error: 39.1073 - val_loss: 375.0887 - val_root_mean_squared_error: 19.3672\n",
            "Epoch 46/50\n",
            "182/182 [==============================] - 1s 7ms/step - loss: 741.5574 - root_mean_squared_error: 27.2316 - val_loss: 704.5019 - val_root_mean_squared_error: 26.5425\n",
            "Epoch 47/50\n",
            "182/182 [==============================] - 1s 7ms/step - loss: 461.5598 - root_mean_squared_error: 21.4839 - val_loss: 2894.0435 - val_root_mean_squared_error: 53.7963\n",
            "Epoch 48/50\n",
            "182/182 [==============================] - 1s 7ms/step - loss: 1427.9620 - root_mean_squared_error: 37.7884 - val_loss: 480.7875 - val_root_mean_squared_error: 21.9269\n",
            "Epoch 49/50\n",
            "182/182 [==============================] - 6s 33ms/step - loss: 794.8330 - root_mean_squared_error: 28.1928 - val_loss: 298.0437 - val_root_mean_squared_error: 17.2639\n",
            "Epoch 50/50\n",
            "182/182 [==============================] - 5s 28ms/step - loss: 603.9266 - root_mean_squared_error: 24.5749 - val_loss: 258.5637 - val_root_mean_squared_error: 16.0799\n"
          ]
        },
        {
          "output_type": "execute_result",
          "data": {
            "text/plain": [
              "<keras.src.callbacks.History at 0x7b0f39569b10>"
            ]
          },
          "metadata": {},
          "execution_count": 32
        }
      ]
    },
    {
      "cell_type": "code",
      "source": [
        "train_score = model2.evaluate(testX, testY, verbose=1)\n",
        "print('Train Score: %.2f MSE (%.2f RMSE)' % (train_score[0], np.sqrt(train_score[0])))"
      ],
      "metadata": {
        "id": "PfhCvPAa8lFR",
        "colab": {
          "base_uri": "https://localhost:8080/"
        },
        "outputId": "5a270be5-c4be-4c14-eb35-e91a25ffc605"
      },
      "execution_count": 33,
      "outputs": [
        {
          "output_type": "stream",
          "name": "stdout",
          "text": [
            "7/7 [==============================] - 0s 9ms/step - loss: 5.0941 - root_mean_squared_error: 2.2570\n",
            "Train Score: 5.09 MSE (2.26 RMSE)\n"
          ]
        }
      ]
    },
    {
      "cell_type": "code",
      "source": [
        "train_predictions = model2.predict(trainX).flatten()\n",
        "train_results = pd.DataFrame(data={'Train Predictions':train_predictions, 'Actuals':trainY})\n",
        "train_results"
      ],
      "metadata": {
        "id": "5gfi4l7eRm3T",
        "colab": {
          "base_uri": "https://localhost:8080/",
          "height": 473
        },
        "outputId": "de1bc568-4d78-467f-8697-bc3e4379ec05"
      },
      "execution_count": 34,
      "outputs": [
        {
          "output_type": "stream",
          "name": "stdout",
          "text": [
            "57/57 [==============================] - 1s 4ms/step\n"
          ]
        },
        {
          "output_type": "execute_result",
          "data": {
            "text/plain": [
              "            Train Predictions  Actuals\n",
              "날짜                                    \n",
              "2009-01-16           2.360461    0.000\n",
              "2009-01-18           2.030805    0.000\n",
              "2009-01-22           3.083227    0.957\n",
              "2009-01-24           3.849790    2.003\n",
              "2009-01-25           8.635571    7.361\n",
              "...                       ...      ...\n",
              "2017-12-20           1.762591    0.000\n",
              "2017-12-23           7.609118    5.522\n",
              "2017-12-24          14.687704   11.366\n",
              "2017-12-30           7.368993    6.000\n",
              "2017-12-31           2.798478    0.285\n",
              "\n",
              "[1812 rows x 2 columns]"
            ],
            "text/html": [
              "\n",
              "  <div id=\"df-9093e567-db1e-4890-b5e2-e8bc0739ac79\" class=\"colab-df-container\">\n",
              "    <div>\n",
              "<style scoped>\n",
              "    .dataframe tbody tr th:only-of-type {\n",
              "        vertical-align: middle;\n",
              "    }\n",
              "\n",
              "    .dataframe tbody tr th {\n",
              "        vertical-align: top;\n",
              "    }\n",
              "\n",
              "    .dataframe thead th {\n",
              "        text-align: right;\n",
              "    }\n",
              "</style>\n",
              "<table border=\"1\" class=\"dataframe\">\n",
              "  <thead>\n",
              "    <tr style=\"text-align: right;\">\n",
              "      <th></th>\n",
              "      <th>Train Predictions</th>\n",
              "      <th>Actuals</th>\n",
              "    </tr>\n",
              "    <tr>\n",
              "      <th>날짜</th>\n",
              "      <th></th>\n",
              "      <th></th>\n",
              "    </tr>\n",
              "  </thead>\n",
              "  <tbody>\n",
              "    <tr>\n",
              "      <th>2009-01-16</th>\n",
              "      <td>2.360461</td>\n",
              "      <td>0.000</td>\n",
              "    </tr>\n",
              "    <tr>\n",
              "      <th>2009-01-18</th>\n",
              "      <td>2.030805</td>\n",
              "      <td>0.000</td>\n",
              "    </tr>\n",
              "    <tr>\n",
              "      <th>2009-01-22</th>\n",
              "      <td>3.083227</td>\n",
              "      <td>0.957</td>\n",
              "    </tr>\n",
              "    <tr>\n",
              "      <th>2009-01-24</th>\n",
              "      <td>3.849790</td>\n",
              "      <td>2.003</td>\n",
              "    </tr>\n",
              "    <tr>\n",
              "      <th>2009-01-25</th>\n",
              "      <td>8.635571</td>\n",
              "      <td>7.361</td>\n",
              "    </tr>\n",
              "    <tr>\n",
              "      <th>...</th>\n",
              "      <td>...</td>\n",
              "      <td>...</td>\n",
              "    </tr>\n",
              "    <tr>\n",
              "      <th>2017-12-20</th>\n",
              "      <td>1.762591</td>\n",
              "      <td>0.000</td>\n",
              "    </tr>\n",
              "    <tr>\n",
              "      <th>2017-12-23</th>\n",
              "      <td>7.609118</td>\n",
              "      <td>5.522</td>\n",
              "    </tr>\n",
              "    <tr>\n",
              "      <th>2017-12-24</th>\n",
              "      <td>14.687704</td>\n",
              "      <td>11.366</td>\n",
              "    </tr>\n",
              "    <tr>\n",
              "      <th>2017-12-30</th>\n",
              "      <td>7.368993</td>\n",
              "      <td>6.000</td>\n",
              "    </tr>\n",
              "    <tr>\n",
              "      <th>2017-12-31</th>\n",
              "      <td>2.798478</td>\n",
              "      <td>0.285</td>\n",
              "    </tr>\n",
              "  </tbody>\n",
              "</table>\n",
              "<p>1812 rows × 2 columns</p>\n",
              "</div>\n",
              "    <div class=\"colab-df-buttons\">\n",
              "\n",
              "  <div class=\"colab-df-container\">\n",
              "    <button class=\"colab-df-convert\" onclick=\"convertToInteractive('df-9093e567-db1e-4890-b5e2-e8bc0739ac79')\"\n",
              "            title=\"Convert this dataframe to an interactive table.\"\n",
              "            style=\"display:none;\">\n",
              "\n",
              "  <svg xmlns=\"http://www.w3.org/2000/svg\" height=\"24px\" viewBox=\"0 -960 960 960\">\n",
              "    <path d=\"M120-120v-720h720v720H120Zm60-500h600v-160H180v160Zm220 220h160v-160H400v160Zm0 220h160v-160H400v160ZM180-400h160v-160H180v160Zm440 0h160v-160H620v160ZM180-180h160v-160H180v160Zm440 0h160v-160H620v160Z\"/>\n",
              "  </svg>\n",
              "    </button>\n",
              "\n",
              "  <style>\n",
              "    .colab-df-container {\n",
              "      display:flex;\n",
              "      gap: 12px;\n",
              "    }\n",
              "\n",
              "    .colab-df-convert {\n",
              "      background-color: #E8F0FE;\n",
              "      border: none;\n",
              "      border-radius: 50%;\n",
              "      cursor: pointer;\n",
              "      display: none;\n",
              "      fill: #1967D2;\n",
              "      height: 32px;\n",
              "      padding: 0 0 0 0;\n",
              "      width: 32px;\n",
              "    }\n",
              "\n",
              "    .colab-df-convert:hover {\n",
              "      background-color: #E2EBFA;\n",
              "      box-shadow: 0px 1px 2px rgba(60, 64, 67, 0.3), 0px 1px 3px 1px rgba(60, 64, 67, 0.15);\n",
              "      fill: #174EA6;\n",
              "    }\n",
              "\n",
              "    .colab-df-buttons div {\n",
              "      margin-bottom: 4px;\n",
              "    }\n",
              "\n",
              "    [theme=dark] .colab-df-convert {\n",
              "      background-color: #3B4455;\n",
              "      fill: #D2E3FC;\n",
              "    }\n",
              "\n",
              "    [theme=dark] .colab-df-convert:hover {\n",
              "      background-color: #434B5C;\n",
              "      box-shadow: 0px 1px 3px 1px rgba(0, 0, 0, 0.15);\n",
              "      filter: drop-shadow(0px 1px 2px rgba(0, 0, 0, 0.3));\n",
              "      fill: #FFFFFF;\n",
              "    }\n",
              "  </style>\n",
              "\n",
              "    <script>\n",
              "      const buttonEl =\n",
              "        document.querySelector('#df-9093e567-db1e-4890-b5e2-e8bc0739ac79 button.colab-df-convert');\n",
              "      buttonEl.style.display =\n",
              "        google.colab.kernel.accessAllowed ? 'block' : 'none';\n",
              "\n",
              "      async function convertToInteractive(key) {\n",
              "        const element = document.querySelector('#df-9093e567-db1e-4890-b5e2-e8bc0739ac79');\n",
              "        const dataTable =\n",
              "          await google.colab.kernel.invokeFunction('convertToInteractive',\n",
              "                                                    [key], {});\n",
              "        if (!dataTable) return;\n",
              "\n",
              "        const docLinkHtml = 'Like what you see? Visit the ' +\n",
              "          '<a target=\"_blank\" href=https://colab.research.google.com/notebooks/data_table.ipynb>data table notebook</a>'\n",
              "          + ' to learn more about interactive tables.';\n",
              "        element.innerHTML = '';\n",
              "        dataTable['output_type'] = 'display_data';\n",
              "        await google.colab.output.renderOutput(dataTable, element);\n",
              "        const docLink = document.createElement('div');\n",
              "        docLink.innerHTML = docLinkHtml;\n",
              "        element.appendChild(docLink);\n",
              "      }\n",
              "    </script>\n",
              "  </div>\n",
              "\n",
              "\n",
              "<div id=\"df-acc10dad-a6e5-446b-a04b-d8d7124f6a6f\">\n",
              "  <button class=\"colab-df-quickchart\" onclick=\"quickchart('df-acc10dad-a6e5-446b-a04b-d8d7124f6a6f')\"\n",
              "            title=\"Suggest charts\"\n",
              "            style=\"display:none;\">\n",
              "\n",
              "<svg xmlns=\"http://www.w3.org/2000/svg\" height=\"24px\"viewBox=\"0 0 24 24\"\n",
              "     width=\"24px\">\n",
              "    <g>\n",
              "        <path d=\"M19 3H5c-1.1 0-2 .9-2 2v14c0 1.1.9 2 2 2h14c1.1 0 2-.9 2-2V5c0-1.1-.9-2-2-2zM9 17H7v-7h2v7zm4 0h-2V7h2v10zm4 0h-2v-4h2v4z\"/>\n",
              "    </g>\n",
              "</svg>\n",
              "  </button>\n",
              "\n",
              "<style>\n",
              "  .colab-df-quickchart {\n",
              "      --bg-color: #E8F0FE;\n",
              "      --fill-color: #1967D2;\n",
              "      --hover-bg-color: #E2EBFA;\n",
              "      --hover-fill-color: #174EA6;\n",
              "      --disabled-fill-color: #AAA;\n",
              "      --disabled-bg-color: #DDD;\n",
              "  }\n",
              "\n",
              "  [theme=dark] .colab-df-quickchart {\n",
              "      --bg-color: #3B4455;\n",
              "      --fill-color: #D2E3FC;\n",
              "      --hover-bg-color: #434B5C;\n",
              "      --hover-fill-color: #FFFFFF;\n",
              "      --disabled-bg-color: #3B4455;\n",
              "      --disabled-fill-color: #666;\n",
              "  }\n",
              "\n",
              "  .colab-df-quickchart {\n",
              "    background-color: var(--bg-color);\n",
              "    border: none;\n",
              "    border-radius: 50%;\n",
              "    cursor: pointer;\n",
              "    display: none;\n",
              "    fill: var(--fill-color);\n",
              "    height: 32px;\n",
              "    padding: 0;\n",
              "    width: 32px;\n",
              "  }\n",
              "\n",
              "  .colab-df-quickchart:hover {\n",
              "    background-color: var(--hover-bg-color);\n",
              "    box-shadow: 0 1px 2px rgba(60, 64, 67, 0.3), 0 1px 3px 1px rgba(60, 64, 67, 0.15);\n",
              "    fill: var(--button-hover-fill-color);\n",
              "  }\n",
              "\n",
              "  .colab-df-quickchart-complete:disabled,\n",
              "  .colab-df-quickchart-complete:disabled:hover {\n",
              "    background-color: var(--disabled-bg-color);\n",
              "    fill: var(--disabled-fill-color);\n",
              "    box-shadow: none;\n",
              "  }\n",
              "\n",
              "  .colab-df-spinner {\n",
              "    border: 2px solid var(--fill-color);\n",
              "    border-color: transparent;\n",
              "    border-bottom-color: var(--fill-color);\n",
              "    animation:\n",
              "      spin 1s steps(1) infinite;\n",
              "  }\n",
              "\n",
              "  @keyframes spin {\n",
              "    0% {\n",
              "      border-color: transparent;\n",
              "      border-bottom-color: var(--fill-color);\n",
              "      border-left-color: var(--fill-color);\n",
              "    }\n",
              "    20% {\n",
              "      border-color: transparent;\n",
              "      border-left-color: var(--fill-color);\n",
              "      border-top-color: var(--fill-color);\n",
              "    }\n",
              "    30% {\n",
              "      border-color: transparent;\n",
              "      border-left-color: var(--fill-color);\n",
              "      border-top-color: var(--fill-color);\n",
              "      border-right-color: var(--fill-color);\n",
              "    }\n",
              "    40% {\n",
              "      border-color: transparent;\n",
              "      border-right-color: var(--fill-color);\n",
              "      border-top-color: var(--fill-color);\n",
              "    }\n",
              "    60% {\n",
              "      border-color: transparent;\n",
              "      border-right-color: var(--fill-color);\n",
              "    }\n",
              "    80% {\n",
              "      border-color: transparent;\n",
              "      border-right-color: var(--fill-color);\n",
              "      border-bottom-color: var(--fill-color);\n",
              "    }\n",
              "    90% {\n",
              "      border-color: transparent;\n",
              "      border-bottom-color: var(--fill-color);\n",
              "    }\n",
              "  }\n",
              "</style>\n",
              "\n",
              "  <script>\n",
              "    async function quickchart(key) {\n",
              "      const quickchartButtonEl =\n",
              "        document.querySelector('#' + key + ' button');\n",
              "      quickchartButtonEl.disabled = true;  // To prevent multiple clicks.\n",
              "      quickchartButtonEl.classList.add('colab-df-spinner');\n",
              "      try {\n",
              "        const charts = await google.colab.kernel.invokeFunction(\n",
              "            'suggestCharts', [key], {});\n",
              "      } catch (error) {\n",
              "        console.error('Error during call to suggestCharts:', error);\n",
              "      }\n",
              "      quickchartButtonEl.classList.remove('colab-df-spinner');\n",
              "      quickchartButtonEl.classList.add('colab-df-quickchart-complete');\n",
              "    }\n",
              "    (() => {\n",
              "      let quickchartButtonEl =\n",
              "        document.querySelector('#df-acc10dad-a6e5-446b-a04b-d8d7124f6a6f button');\n",
              "      quickchartButtonEl.style.display =\n",
              "        google.colab.kernel.accessAllowed ? 'block' : 'none';\n",
              "    })();\n",
              "  </script>\n",
              "</div>\n",
              "    </div>\n",
              "  </div>\n"
            ],
            "application/vnd.google.colaboratory.intrinsic+json": {
              "type": "dataframe",
              "variable_name": "train_results",
              "summary": "{\n  \"name\": \"train_results\",\n  \"rows\": 1812,\n  \"fields\": [\n    {\n      \"column\": \"Train Predictions\",\n      \"properties\": {\n        \"dtype\": \"float32\",\n        \"num_unique_values\": 1812,\n        \"samples\": [\n          5.912726402282715,\n          4.323122501373291,\n          6.274341583251953\n        ],\n        \"semantic_type\": \"\",\n        \"description\": \"\"\n      }\n    },\n    {\n      \"column\": \"Actuals\",\n      \"properties\": {\n        \"dtype\": \"number\",\n        \"std\": 264.04685500599595,\n        \"min\": 0.0,\n        \"max\": 3918.5,\n        \"num_unique_values\": 1779,\n        \"samples\": [\n          7.865,\n          3.161,\n          8.069\n        ],\n        \"semantic_type\": \"\",\n        \"description\": \"\"\n      }\n    }\n  ]\n}"
            }
          },
          "metadata": {},
          "execution_count": 34
        }
      ]
    },
    {
      "cell_type": "code",
      "source": [
        "import matplotlib.pyplot as plt\n",
        "plt.plot(train_results['Train Predictions'][:],'.')\n",
        "plt.plot(train_results['Actuals'][:], alpha = 0.6)\n",
        "plt.legend(['predict', 'real'])"
      ],
      "metadata": {
        "id": "yOFEGrRQRm99",
        "colab": {
          "base_uri": "https://localhost:8080/",
          "height": 448
        },
        "outputId": "92b7faf9-d481-4efc-aeaf-7543b5d7d555"
      },
      "execution_count": 35,
      "outputs": [
        {
          "output_type": "execute_result",
          "data": {
            "text/plain": [
              "<matplotlib.legend.Legend at 0x7b0f302bc250>"
            ]
          },
          "metadata": {},
          "execution_count": 35
        },
        {
          "output_type": "display_data",
          "data": {
            "text/plain": [
              "<Figure size 640x480 with 1 Axes>"
            ],
            "image/png": "[encoded data removed]"
          },
          "metadata": {}
        }
      ]
    },
    {
      "cell_type": "code",
      "source": [
        "val_predictions = model2.predict(validX).flatten()\n",
        "val_results = pd.DataFrame(data={'Val Predictions':val_predictions, 'Actuals':validY})\n",
        "val_results"
      ],
      "metadata": {
        "id": "38AKEhHgRnDr",
        "colab": {
          "base_uri": "https://localhost:8080/",
          "height": 473
        },
        "outputId": "71ba745f-c0a0-47ab-f29d-48738663cc59"
      },
      "execution_count": 36,
      "outputs": [
        {
          "output_type": "stream",
          "name": "stdout",
          "text": [
            "31/31 [==============================] - 0s 3ms/step\n"
          ]
        },
        {
          "output_type": "execute_result",
          "data": {
            "text/plain": [
              "            Val Predictions  Actuals\n",
              "날짜                                  \n",
              "2018-01-08         2.476548    0.000\n",
              "2018-01-09         5.003918    3.462\n",
              "2018-01-15         6.349333    4.869\n",
              "2018-01-17         1.958103    0.000\n",
              "2018-01-20         2.208592    0.003\n",
              "...                     ...      ...\n",
              "2022-12-24         9.471804    7.574\n",
              "2022-12-28        12.244686   10.891\n",
              "2022-12-29        10.939004    9.218\n",
              "2022-12-30         6.753071    4.597\n",
              "2022-12-31         9.054167    7.110\n",
              "\n",
              "[988 rows x 2 columns]"
            ],
            "text/html": [
              "\n",
              "  <div id=\"df-a7626139-a265-447d-a1ed-e8b21068db1d\" class=\"colab-df-container\">\n",
              "    <div>\n",
              "<style scoped>\n",
              "    .dataframe tbody tr th:only-of-type {\n",
              "        vertical-align: middle;\n",
              "    }\n",
              "\n",
              "    .dataframe tbody tr th {\n",
              "        vertical-align: top;\n",
              "    }\n",
              "\n",
              "    .dataframe thead th {\n",
              "        text-align: right;\n",
              "    }\n",
              "</style>\n",
              "<table border=\"1\" class=\"dataframe\">\n",
              "  <thead>\n",
              "    <tr style=\"text-align: right;\">\n",
              "      <th></th>\n",
              "      <th>Val Predictions</th>\n",
              "      <th>Actuals</th>\n",
              "    </tr>\n",
              "    <tr>\n",
              "      <th>날짜</th>\n",
              "      <th></th>\n",
              "      <th></th>\n",
              "    </tr>\n",
              "  </thead>\n",
              "  <tbody>\n",
              "    <tr>\n",
              "      <th>2018-01-08</th>\n",
              "      <td>2.476548</td>\n",
              "      <td>0.000</td>\n",
              "    </tr>\n",
              "    <tr>\n",
              "      <th>2018-01-09</th>\n",
              "      <td>5.003918</td>\n",
              "      <td>3.462</td>\n",
              "    </tr>\n",
              "    <tr>\n",
              "      <th>2018-01-15</th>\n",
              "      <td>6.349333</td>\n",
              "      <td>4.869</td>\n",
              "    </tr>\n",
              "    <tr>\n",
              "      <th>2018-01-17</th>\n",
              "      <td>1.958103</td>\n",
              "      <td>0.000</td>\n",
              "    </tr>\n",
              "    <tr>\n",
              "      <th>2018-01-20</th>\n",
              "      <td>2.208592</td>\n",
              "      <td>0.003</td>\n",
              "    </tr>\n",
              "    <tr>\n",
              "      <th>...</th>\n",
              "      <td>...</td>\n",
              "      <td>...</td>\n",
              "    </tr>\n",
              "    <tr>\n",
              "      <th>2022-12-24</th>\n",
              "      <td>9.471804</td>\n",
              "      <td>7.574</td>\n",
              "    </tr>\n",
              "    <tr>\n",
              "      <th>2022-12-28</th>\n",
              "      <td>12.244686</td>\n",
              "      <td>10.891</td>\n",
              "    </tr>\n",
              "    <tr>\n",
              "      <th>2022-12-29</th>\n",
              "      <td>10.939004</td>\n",
              "      <td>9.218</td>\n",
              "    </tr>\n",
              "    <tr>\n",
              "      <th>2022-12-30</th>\n",
              "      <td>6.753071</td>\n",
              "      <td>4.597</td>\n",
              "    </tr>\n",
              "    <tr>\n",
              "      <th>2022-12-31</th>\n",
              "      <td>9.054167</td>\n",
              "      <td>7.110</td>\n",
              "    </tr>\n",
              "  </tbody>\n",
              "</table>\n",
              "<p>988 rows × 2 columns</p>\n",
              "</div>\n",
              "    <div class=\"colab-df-buttons\">\n",
              "\n",
              "  <div class=\"colab-df-container\">\n",
              "    <button class=\"colab-df-convert\" onclick=\"convertToInteractive('df-a7626139-a265-447d-a1ed-e8b21068db1d')\"\n",
              "            title=\"Convert this dataframe to an interactive table.\"\n",
              "            style=\"display:none;\">\n",
              "\n",
              "  <svg xmlns=\"http://www.w3.org/2000/svg\" height=\"24px\" viewBox=\"0 -960 960 960\">\n",
              "    <path d=\"M120-120v-720h720v720H120Zm60-500h600v-160H180v160Zm220 220h160v-160H400v160Zm0 220h160v-160H400v160ZM180-400h160v-160H180v160Zm440 0h160v-160H620v160ZM180-180h160v-160H180v160Zm440 0h160v-160H620v160Z\"/>\n",
              "  </svg>\n",
              "    </button>\n",
              "\n",
              "  <style>\n",
              "    .colab-df-container {\n",
              "      display:flex;\n",
              "      gap: 12px;\n",
              "    }\n",
              "\n",
              "    .colab-df-convert {\n",
              "      background-color: #E8F0FE;\n",
              "      border: none;\n",
              "      border-radius: 50%;\n",
              "      cursor: pointer;\n",
              "      display: none;\n",
              "      fill: #1967D2;\n",
              "      height: 32px;\n",
              "      padding: 0 0 0 0;\n",
              "      width: 32px;\n",
              "    }\n",
              "\n",
              "    .colab-df-convert:hover {\n",
              "      background-color: #E2EBFA;\n",
              "      box-shadow: 0px 1px 2px rgba(60, 64, 67, 0.3), 0px 1px 3px 1px rgba(60, 64, 67, 0.15);\n",
              "      fill: #174EA6;\n",
              "    }\n",
              "\n",
              "    .colab-df-buttons div {\n",
              "      margin-bottom: 4px;\n",
              "    }\n",
              "\n",
              "    [theme=dark] .colab-df-convert {\n",
              "      background-color: #3B4455;\n",
              "      fill: #D2E3FC;\n",
              "    }\n",
              "\n",
              "    [theme=dark] .colab-df-convert:hover {\n",
              "      background-color: #434B5C;\n",
              "      box-shadow: 0px 1px 3px 1px rgba(0, 0, 0, 0.15);\n",
              "      filter: drop-shadow(0px 1px 2px rgba(0, 0, 0, 0.3));\n",
              "      fill: #FFFFFF;\n",
              "    }\n",
              "  </style>\n",
              "\n",
              "    <script>\n",
              "      const buttonEl =\n",
              "        document.querySelector('#df-a7626139-a265-447d-a1ed-e8b21068db1d button.colab-df-convert');\n",
              "      buttonEl.style.display =\n",
              "        google.colab.kernel.accessAllowed ? 'block' : 'none';\n",
              "\n",
              "      async function convertToInteractive(key) {\n",
              "        const element = document.querySelector('#df-a7626139-a265-447d-a1ed-e8b21068db1d');\n",
              "        const dataTable =\n",
              "          await google.colab.kernel.invokeFunction('convertToInteractive',\n",
              "                                                    [key], {});\n",
              "        if (!dataTable) return;\n",
              "\n",
              "        const docLinkHtml = 'Like what you see? Visit the ' +\n",
              "          '<a target=\"_blank\" href=https://colab.research.google.com/notebooks/data_table.ipynb>data table notebook</a>'\n",
              "          + ' to learn more about interactive tables.';\n",
              "        element.innerHTML = '';\n",
              "        dataTable['output_type'] = 'display_data';\n",
              "        await google.colab.output.renderOutput(dataTable, element);\n",
              "        const docLink = document.createElement('div');\n",
              "        docLink.innerHTML = docLinkHtml;\n",
              "        element.appendChild(docLink);\n",
              "      }\n",
              "    </script>\n",
              "  </div>\n",
              "\n",
              "\n",
              "<div id=\"df-d2e5c817-675b-4473-8325-72fe2aa83eae\">\n",
              "  <button class=\"colab-df-quickchart\" onclick=\"quickchart('df-d2e5c817-675b-4473-8325-72fe2aa83eae')\"\n",
              "            title=\"Suggest charts\"\n",
              "            style=\"display:none;\">\n",
              "\n",
              "<svg xmlns=\"http://www.w3.org/2000/svg\" height=\"24px\"viewBox=\"0 0 24 24\"\n",
              "     width=\"24px\">\n",
              "    <g>\n",
              "        <path d=\"M19 3H5c-1.1 0-2 .9-2 2v14c0 1.1.9 2 2 2h14c1.1 0 2-.9 2-2V5c0-1.1-.9-2-2-2zM9 17H7v-7h2v7zm4 0h-2V7h2v10zm4 0h-2v-4h2v4z\"/>\n",
              "    </g>\n",
              "</svg>\n",
              "  </button>\n",
              "\n",
              "<style>\n",
              "  .colab-df-quickchart {\n",
              "      --bg-color: #E8F0FE;\n",
              "      --fill-color: #1967D2;\n",
              "      --hover-bg-color: #E2EBFA;\n",
              "      --hover-fill-color: #174EA6;\n",
              "      --disabled-fill-color: #AAA;\n",
              "      --disabled-bg-color: #DDD;\n",
              "  }\n",
              "\n",
              "  [theme=dark] .colab-df-quickchart {\n",
              "      --bg-color: #3B4455;\n",
              "      --fill-color: #D2E3FC;\n",
              "      --hover-bg-color: #434B5C;\n",
              "      --hover-fill-color: #FFFFFF;\n",
              "      --disabled-bg-color: #3B4455;\n",
              "      --disabled-fill-color: #666;\n",
              "  }\n",
              "\n",
              "  .colab-df-quickchart {\n",
              "    background-color: var(--bg-color);\n",
              "    border: none;\n",
              "    border-radius: 50%;\n",
              "    cursor: pointer;\n",
              "    display: none;\n",
              "    fill: var(--fill-color);\n",
              "    height: 32px;\n",
              "    padding: 0;\n",
              "    width: 32px;\n",
              "  }\n",
              "\n",
              "  .colab-df-quickchart:hover {\n",
              "    background-color: var(--hover-bg-color);\n",
              "    box-shadow: 0 1px 2px rgba(60, 64, 67, 0.3), 0 1px 3px 1px rgba(60, 64, 67, 0.15);\n",
              "    fill: var(--button-hover-fill-color);\n",
              "  }\n",
              "\n",
              "  .colab-df-quickchart-complete:disabled,\n",
              "  .colab-df-quickchart-complete:disabled:hover {\n",
              "    background-color: var(--disabled-bg-color);\n",
              "    fill: var(--disabled-fill-color);\n",
              "    box-shadow: none;\n",
              "  }\n",
              "\n",
              "  .colab-df-spinner {\n",
              "    border: 2px solid var(--fill-color);\n",
              "    border-color: transparent;\n",
              "    border-bottom-color: var(--fill-color);\n",
              "    animation:\n",
              "      spin 1s steps(1) infinite;\n",
              "  }\n",
              "\n",
              "  @keyframes spin {\n",
              "    0% {\n",
              "      border-color: transparent;\n",
              "      border-bottom-color: var(--fill-color);\n",
              "      border-left-color: var(--fill-color);\n",
              "    }\n",
              "    20% {\n",
              "      border-color: transparent;\n",
              "      border-left-color: var(--fill-color);\n",
              "      border-top-color: var(--fill-color);\n",
              "    }\n",
              "    30% {\n",
              "      border-color: transparent;\n",
              "      border-left-color: var(--fill-color);\n",
              "      border-top-color: var(--fill-color);\n",
              "      border-right-color: var(--fill-color);\n",
              "    }\n",
              "    40% {\n",
              "      border-color: transparent;\n",
              "      border-right-color: var(--fill-color);\n",
              "      border-top-color: var(--fill-color);\n",
              "    }\n",
              "    60% {\n",
              "      border-color: transparent;\n",
              "      border-right-color: var(--fill-color);\n",
              "    }\n",
              "    80% {\n",
              "      border-color: transparent;\n",
              "      border-right-color: var(--fill-color);\n",
              "      border-bottom-color: var(--fill-color);\n",
              "    }\n",
              "    90% {\n",
              "      border-color: transparent;\n",
              "      border-bottom-color: var(--fill-color);\n",
              "    }\n",
              "  }\n",
              "</style>\n",
              "\n",
              "  <script>\n",
              "    async function quickchart(key) {\n",
              "      const quickchartButtonEl =\n",
              "        document.querySelector('#' + key + ' button');\n",
              "      quickchartButtonEl.disabled = true;  // To prevent multiple clicks.\n",
              "      quickchartButtonEl.classList.add('colab-df-spinner');\n",
              "      try {\n",
              "        const charts = await google.colab.kernel.invokeFunction(\n",
              "            'suggestCharts', [key], {});\n",
              "      } catch (error) {\n",
              "        console.error('Error during call to suggestCharts:', error);\n",
              "      }\n",
              "      quickchartButtonEl.classList.remove('colab-df-spinner');\n",
              "      quickchartButtonEl.classList.add('colab-df-quickchart-complete');\n",
              "    }\n",
              "    (() => {\n",
              "      let quickchartButtonEl =\n",
              "        document.querySelector('#df-d2e5c817-675b-4473-8325-72fe2aa83eae button');\n",
              "      quickchartButtonEl.style.display =\n",
              "        google.colab.kernel.accessAllowed ? 'block' : 'none';\n",
              "    })();\n",
              "  </script>\n",
              "</div>\n",
              "    </div>\n",
              "  </div>\n"
            ],
            "application/vnd.google.colaboratory.intrinsic+json": {
              "type": "dataframe",
              "variable_name": "val_results",
              "summary": "{\n  \"name\": \"val_results\",\n  \"rows\": 988,\n  \"fields\": [\n    {\n      \"column\": \"Val Predictions\",\n      \"properties\": {\n        \"dtype\": \"float32\",\n        \"num_unique_values\": 988,\n        \"samples\": [\n          7.214529037475586,\n          25.994510650634766,\n          113.64387512207031\n        ],\n        \"semantic_type\": \"\",\n        \"description\": \"\"\n      }\n    },\n    {\n      \"column\": \"Actuals\",\n      \"properties\": {\n        \"dtype\": \"number\",\n        \"std\": 277.7989531566194,\n        \"min\": 0.0,\n        \"max\": 3373.14,\n        \"num_unique_values\": 965,\n        \"samples\": [\n          1356.297,\n          100.207,\n          11.402\n        ],\n        \"semantic_type\": \"\",\n        \"description\": \"\"\n      }\n    }\n  ]\n}"
            }
          },
          "metadata": {},
          "execution_count": 36
        }
      ]
    },
    {
      "cell_type": "code",
      "source": [
        "plt.plot(val_results['Val Predictions'][:])\n",
        "plt.plot(val_results['Actuals'][:])\n"
      ],
      "metadata": {
        "id": "FQp5aMnYRnJa",
        "colab": {
          "base_uri": "https://localhost:8080/",
          "height": 449
        },
        "outputId": "2ca7ca27-a593-4f27-ace9-bf360cff15c8"
      },
      "execution_count": 37,
      "outputs": [
        {
          "output_type": "execute_result",
          "data": {
            "text/plain": [
              "[<matplotlib.lines.Line2D at 0x7b0f39e19c00>]"
            ]
          },
          "metadata": {},
          "execution_count": 37
        },
        {
          "output_type": "display_data",
          "data": {
            "text/plain": [
              "<Figure size 640x480 with 1 Axes>"
            ],
            "image/png": "[encoded data removed]"
          },
          "metadata": {}
        }
      ]
    },
    {
      "cell_type": "code",
      "source": [
        "test_predictions = model2.predict(testX).flatten()\n",
        "test_results = pd.DataFrame(data={'Test Predictions':test_predictions, 'Actuals':testY})\n",
        "test_results"
      ],
      "metadata": {
        "id": "iMeOwoSdZyWM",
        "colab": {
          "base_uri": "https://localhost:8080/",
          "height": 473
        },
        "outputId": "ef96a234-ad72-470c-c1e4-ff7e6b8ce8ae"
      },
      "execution_count": 38,
      "outputs": [
        {
          "output_type": "stream",
          "name": "stdout",
          "text": [
            "7/7 [==============================] - 0s 3ms/step\n"
          ]
        },
        {
          "output_type": "execute_result",
          "data": {
            "text/plain": [
              "            Test Predictions  Actuals\n",
              "날짜                                   \n",
              "2023-01-06          8.345027    7.096\n",
              "2023-01-07          7.207010    3.040\n",
              "2023-01-08          8.185678    6.152\n",
              "2023-01-13         33.554482   31.789\n",
              "2023-01-14         38.071003   36.020\n",
              "...                      ...      ...\n",
              "2023-12-20         43.514549   42.639\n",
              "2023-12-24         26.117178   24.665\n",
              "2023-12-25         25.812408   25.785\n",
              "2023-12-30         30.415037   29.183\n",
              "2023-12-31         28.284771   25.803\n",
              "\n",
              "[193 rows x 2 columns]"
            ],
            "text/html": [
              "\n",
              "  <div id=\"df-9071aac6-c237-496d-80c7-0b273255eb59\" class=\"colab-df-container\">\n",
              "    <div>\n",
              "<style scoped>\n",
              "    .dataframe tbody tr th:only-of-type {\n",
              "        vertical-align: middle;\n",
              "    }\n",
              "\n",
              "    .dataframe tbody tr th {\n",
              "        vertical-align: top;\n",
              "    }\n",
              "\n",
              "    .dataframe thead th {\n",
              "        text-align: right;\n",
              "    }\n",
              "</style>\n",
              "<table border=\"1\" class=\"dataframe\">\n",
              "  <thead>\n",
              "    <tr style=\"text-align: right;\">\n",
              "      <th></th>\n",
              "      <th>Test Predictions</th>\n",
              "      <th>Actuals</th>\n",
              "    </tr>\n",
              "    <tr>\n",
              "      <th>날짜</th>\n",
              "      <th></th>\n",
              "      <th></th>\n",
              "    </tr>\n",
              "  </thead>\n",
              "  <tbody>\n",
              "    <tr>\n",
              "      <th>2023-01-06</th>\n",
              "      <td>8.345027</td>\n",
              "      <td>7.096</td>\n",
              "    </tr>\n",
              "    <tr>\n",
              "      <th>2023-01-07</th>\n",
              "      <td>7.207010</td>\n",
              "      <td>3.040</td>\n",
              "    </tr>\n",
              "    <tr>\n",
              "      <th>2023-01-08</th>\n",
              "      <td>8.185678</td>\n",
              "      <td>6.152</td>\n",
              "    </tr>\n",
              "    <tr>\n",
              "      <th>2023-01-13</th>\n",
              "      <td>33.554482</td>\n",
              "      <td>31.789</td>\n",
              "    </tr>\n",
              "    <tr>\n",
              "      <th>2023-01-14</th>\n",
              "      <td>38.071003</td>\n",
              "      <td>36.020</td>\n",
              "    </tr>\n",
              "    <tr>\n",
              "      <th>...</th>\n",
              "      <td>...</td>\n",
              "      <td>...</td>\n",
              "    </tr>\n",
              "    <tr>\n",
              "      <th>2023-12-20</th>\n",
              "      <td>43.514549</td>\n",
              "      <td>42.639</td>\n",
              "    </tr>\n",
              "    <tr>\n",
              "      <th>2023-12-24</th>\n",
              "      <td>26.117178</td>\n",
              "      <td>24.665</td>\n",
              "    </tr>\n",
              "    <tr>\n",
              "      <th>2023-12-25</th>\n",
              "      <td>25.812408</td>\n",
              "      <td>25.785</td>\n",
              "    </tr>\n",
              "    <tr>\n",
              "      <th>2023-12-30</th>\n",
              "      <td>30.415037</td>\n",
              "      <td>29.183</td>\n",
              "    </tr>\n",
              "    <tr>\n",
              "      <th>2023-12-31</th>\n",
              "      <td>28.284771</td>\n",
              "      <td>25.803</td>\n",
              "    </tr>\n",
              "  </tbody>\n",
              "</table>\n",
              "<p>193 rows × 2 columns</p>\n",
              "</div>\n",
              "    <div class=\"colab-df-buttons\">\n",
              "\n",
              "  <div class=\"colab-df-container\">\n",
              "    <button class=\"colab-df-convert\" onclick=\"convertToInteractive('df-9071aac6-c237-496d-80c7-0b273255eb59')\"\n",
              "            title=\"Convert this dataframe to an interactive table.\"\n",
              "            style=\"display:none;\">\n",
              "\n",
              "  <svg xmlns=\"http://www.w3.org/2000/svg\" height=\"24px\" viewBox=\"0 -960 960 960\">\n",
              "    <path d=\"M120-120v-720h720v720H120Zm60-500h600v-160H180v160Zm220 220h160v-160H400v160Zm0 220h160v-160H400v160ZM180-400h160v-160H180v160Zm440 0h160v-160H620v160ZM180-180h160v-160H180v160Zm440 0h160v-160H620v160Z\"/>\n",
              "  </svg>\n",
              "    </button>\n",
              "\n",
              "  <style>\n",
              "    .colab-df-container {\n",
              "      display:flex;\n",
              "      gap: 12px;\n",
              "    }\n",
              "\n",
              "    .colab-df-convert {\n",
              "      background-color: #E8F0FE;\n",
              "      border: none;\n",
              "      border-radius: 50%;\n",
              "      cursor: pointer;\n",
              "      display: none;\n",
              "      fill: #1967D2;\n",
              "      height: 32px;\n",
              "      padding: 0 0 0 0;\n",
              "      width: 32px;\n",
              "    }\n",
              "\n",
              "    .colab-df-convert:hover {\n",
              "      background-color: #E2EBFA;\n",
              "      box-shadow: 0px 1px 2px rgba(60, 64, 67, 0.3), 0px 1px 3px 1px rgba(60, 64, 67, 0.15);\n",
              "      fill: #174EA6;\n",
              "    }\n",
              "\n",
              "    .colab-df-buttons div {\n",
              "      margin-bottom: 4px;\n",
              "    }\n",
              "\n",
              "    [theme=dark] .colab-df-convert {\n",
              "      background-color: #3B4455;\n",
              "      fill: #D2E3FC;\n",
              "    }\n",
              "\n",
              "    [theme=dark] .colab-df-convert:hover {\n",
              "      background-color: #434B5C;\n",
              "      box-shadow: 0px 1px 3px 1px rgba(0, 0, 0, 0.15);\n",
              "      filter: drop-shadow(0px 1px 2px rgba(0, 0, 0, 0.3));\n",
              "      fill: #FFFFFF;\n",
              "    }\n",
              "  </style>\n",
              "\n",
              "    <script>\n",
              "      const buttonEl =\n",
              "        document.querySelector('#df-9071aac6-c237-496d-80c7-0b273255eb59 button.colab-df-convert');\n",
              "      buttonEl.style.display =\n",
              "        google.colab.kernel.accessAllowed ? 'block' : 'none';\n",
              "\n",
              "      async function convertToInteractive(key) {\n",
              "        const element = document.querySelector('#df-9071aac6-c237-496d-80c7-0b273255eb59');\n",
              "        const dataTable =\n",
              "          await google.colab.kernel.invokeFunction('convertToInteractive',\n",
              "                                                    [key], {});\n",
              "        if (!dataTable) return;\n",
              "\n",
              "        const docLinkHtml = 'Like what you see? Visit the ' +\n",
              "          '<a target=\"_blank\" href=https://colab.research.google.com/notebooks/data_table.ipynb>data table notebook</a>'\n",
              "          + ' to learn more about interactive tables.';\n",
              "        element.innerHTML = '';\n",
              "        dataTable['output_type'] = 'display_data';\n",
              "        await google.colab.output.renderOutput(dataTable, element);\n",
              "        const docLink = document.createElement('div');\n",
              "        docLink.innerHTML = docLinkHtml;\n",
              "        element.appendChild(docLink);\n",
              "      }\n",
              "    </script>\n",
              "  </div>\n",
              "\n",
              "\n",
              "<div id=\"df-f25fe661-c1aa-4338-8fd4-ccd42198c1b3\">\n",
              "  <button class=\"colab-df-quickchart\" onclick=\"quickchart('df-f25fe661-c1aa-4338-8fd4-ccd42198c1b3')\"\n",
              "            title=\"Suggest charts\"\n",
              "            style=\"display:none;\">\n",
              "\n",
              "<svg xmlns=\"http://www.w3.org/2000/svg\" height=\"24px\"viewBox=\"0 0 24 24\"\n",
              "     width=\"24px\">\n",
              "    <g>\n",
              "        <path d=\"M19 3H5c-1.1 0-2 .9-2 2v14c0 1.1.9 2 2 2h14c1.1 0 2-.9 2-2V5c0-1.1-.9-2-2-2zM9 17H7v-7h2v7zm4 0h-2V7h2v10zm4 0h-2v-4h2v4z\"/>\n",
              "    </g>\n",
              "</svg>\n",
              "  </button>\n",
              "\n",
              "<style>\n",
              "  .colab-df-quickchart {\n",
              "      --bg-color: #E8F0FE;\n",
              "      --fill-color: #1967D2;\n",
              "      --hover-bg-color: #E2EBFA;\n",
              "      --hover-fill-color: #174EA6;\n",
              "      --disabled-fill-color: #AAA;\n",
              "      --disabled-bg-color: #DDD;\n",
              "  }\n",
              "\n",
              "  [theme=dark] .colab-df-quickchart {\n",
              "      --bg-color: #3B4455;\n",
              "      --fill-color: #D2E3FC;\n",
              "      --hover-bg-color: #434B5C;\n",
              "      --hover-fill-color: #FFFFFF;\n",
              "      --disabled-bg-color: #3B4455;\n",
              "      --disabled-fill-color: #666;\n",
              "  }\n",
              "\n",
              "  .colab-df-quickchart {\n",
              "    background-color: var(--bg-color);\n",
              "    border: none;\n",
              "    border-radius: 50%;\n",
              "    cursor: pointer;\n",
              "    display: none;\n",
              "    fill: var(--fill-color);\n",
              "    height: 32px;\n",
              "    padding: 0;\n",
              "    width: 32px;\n",
              "  }\n",
              "\n",
              "  .colab-df-quickchart:hover {\n",
              "    background-color: var(--hover-bg-color);\n",
              "    box-shadow: 0 1px 2px rgba(60, 64, 67, 0.3), 0 1px 3px 1px rgba(60, 64, 67, 0.15);\n",
              "    fill: var(--button-hover-fill-color);\n",
              "  }\n",
              "\n",
              "  .colab-df-quickchart-complete:disabled,\n",
              "  .colab-df-quickchart-complete:disabled:hover {\n",
              "    background-color: var(--disabled-bg-color);\n",
              "    fill: var(--disabled-fill-color);\n",
              "    box-shadow: none;\n",
              "  }\n",
              "\n",
              "  .colab-df-spinner {\n",
              "    border: 2px solid var(--fill-color);\n",
              "    border-color: transparent;\n",
              "    border-bottom-color: var(--fill-color);\n",
              "    animation:\n",
              "      spin 1s steps(1) infinite;\n",
              "  }\n",
              "\n",
              "  @keyframes spin {\n",
              "    0% {\n",
              "      border-color: transparent;\n",
              "      border-bottom-color: var(--fill-color);\n",
              "      border-left-color: var(--fill-color);\n",
              "    }\n",
              "    20% {\n",
              "      border-color: transparent;\n",
              "      border-left-color: var(--fill-color);\n",
              "      border-top-color: var(--fill-color);\n",
              "    }\n",
              "    30% {\n",
              "      border-color: transparent;\n",
              "      border-left-color: var(--fill-color);\n",
              "      border-top-color: var(--fill-color);\n",
              "      border-right-color: var(--fill-color);\n",
              "    }\n",
              "    40% {\n",
              "      border-color: transparent;\n",
              "      border-right-color: var(--fill-color);\n",
              "      border-top-color: var(--fill-color);\n",
              "    }\n",
              "    60% {\n",
              "      border-color: transparent;\n",
              "      border-right-color: var(--fill-color);\n",
              "    }\n",
              "    80% {\n",
              "      border-color: transparent;\n",
              "      border-right-color: var(--fill-color);\n",
              "      border-bottom-color: var(--fill-color);\n",
              "    }\n",
              "    90% {\n",
              "      border-color: transparent;\n",
              "      border-bottom-color: var(--fill-color);\n",
              "    }\n",
              "  }\n",
              "</style>\n",
              "\n",
              "  <script>\n",
              "    async function quickchart(key) {\n",
              "      const quickchartButtonEl =\n",
              "        document.querySelector('#' + key + ' button');\n",
              "      quickchartButtonEl.disabled = true;  // To prevent multiple clicks.\n",
              "      quickchartButtonEl.classList.add('colab-df-spinner');\n",
              "      try {\n",
              "        const charts = await google.colab.kernel.invokeFunction(\n",
              "            'suggestCharts', [key], {});\n",
              "      } catch (error) {\n",
              "        console.error('Error during call to suggestCharts:', error);\n",
              "      }\n",
              "      quickchartButtonEl.classList.remove('colab-df-spinner');\n",
              "      quickchartButtonEl.classList.add('colab-df-quickchart-complete');\n",
              "    }\n",
              "    (() => {\n",
              "      let quickchartButtonEl =\n",
              "        document.querySelector('#df-f25fe661-c1aa-4338-8fd4-ccd42198c1b3 button');\n",
              "      quickchartButtonEl.style.display =\n",
              "        google.colab.kernel.accessAllowed ? 'block' : 'none';\n",
              "    })();\n",
              "  </script>\n",
              "</div>\n",
              "    </div>\n",
              "  </div>\n"
            ],
            "application/vnd.google.colaboratory.intrinsic+json": {
              "type": "dataframe",
              "variable_name": "test_results",
              "summary": "{\n  \"name\": \"test_results\",\n  \"rows\": 193,\n  \"fields\": [\n    {\n      \"column\": \"Test Predictions\",\n      \"properties\": {\n        \"dtype\": \"float32\",\n        \"num_unique_values\": 193,\n        \"samples\": [\n          26.809091567993164,\n          53.44842529296875,\n          31.27708625793457\n        ],\n        \"semantic_type\": \"\",\n        \"description\": \"\"\n      }\n    },\n    {\n      \"column\": \"Actuals\",\n      \"properties\": {\n        \"dtype\": \"number\",\n        \"std\": 112.53491776408448,\n        \"min\": 3.04,\n        \"max\": 767.145,\n        \"num_unique_values\": 190,\n        \"samples\": [\n          12.669,\n          51.88,\n          508.677\n        ],\n        \"semantic_type\": \"\",\n        \"description\": \"\"\n      }\n    }\n  ]\n}"
            }
          },
          "metadata": {},
          "execution_count": 38
        }
      ]
    },
    {
      "cell_type": "code",
      "source": [
        "plt.plot(test_results['Actuals'][:], alpha = 0.5)\n",
        "plt.plot(test_results['Test Predictions'][:],'.', alpha = 0.5)\n",
        "plt.legend(['real', 'predict'])"
      ],
      "metadata": {
        "id": "gQTEU6IFZyTy",
        "colab": {
          "base_uri": "https://localhost:8080/",
          "height": 451
        },
        "outputId": "3fbbc9e6-73d6-4860-e400-b4d980fc44ad"
      },
      "execution_count": 39,
      "outputs": [
        {
          "output_type": "execute_result",
          "data": {
            "text/plain": [
              "<matplotlib.legend.Legend at 0x7b0f3342ed70>"
            ]
          },
          "metadata": {},
          "execution_count": 39
        },
        {
          "output_type": "display_data",
          "data": {
            "text/plain": [
              "<Figure size 640x480 with 1 Axes>"
            ],
            "image/png": "[encoded data removed]"
          },
          "metadata": {}
        }
      ]
    },
    {
      "cell_type": "code",
      "source": [
        "from sklearn.metrics import r2_score\n",
        "from sklearn.metrics import mean_squared_error\n",
        "\n",
        "rmse = np.sqrt(mean_squared_error(testY, test_predictions))\n",
        "rsquared_score = r2_score(testY, test_predictions)\n",
        "print('R^2 Score : %f' %(rsquared_score))\n",
        "print('RMSE : %.2f' %(rmse))"
      ],
      "metadata": {
        "id": "ZFySh6u0ZyRh",
        "colab": {
          "base_uri": "https://localhost:8080/"
        },
        "outputId": "08c9a4c8-3104-4a73-eeb5-9737e5486302"
      },
      "execution_count": 40,
      "outputs": [
        {
          "output_type": "stream",
          "name": "stdout",
          "text": [
            "R^2 Score : 0.999596\n",
            "RMSE : 2.26\n"
          ]
        }
      ]
    },
    {
      "cell_type": "code",
      "source": [
        "x = np.arange(0,800)\n",
        "y = x\n",
        "plt.scatter(test_results['Actuals'][:], test_results['Test Predictions'][:], color = 'purple', alpha = 0.6)\n",
        "plt.plot(x,y, color = 'orange', alpha = 0.6, label = 'y = x')\n",
        "plt.xlabel('Actuals')\n",
        "plt.ylabel('Simulate')\n",
        "\n",
        "plt.legend()\n",
        "plt.show()"
      ],
      "metadata": {
        "id": "TA95nJKIZyPF",
        "colab": {
          "base_uri": "https://localhost:8080/",
          "height": 449
        },
        "outputId": "e1b3af78-0347-4456-9904-e00854c2d03d"
      },
      "execution_count": 41,
      "outputs": [
        {
          "output_type": "display_data",
          "data": {
            "text/plain": [
              "<Figure size 640x480 with 1 Axes>"
            ],
            "image/png": "[encoded data removed]"
          },
          "metadata": {}
        }
      ]
    },
    {
      "cell_type": "code",
      "source": [
        "# NSE\n",
        "from numpy import mean\n",
        "num_sum1 = 0\n",
        "num_sum2 = 0\n",
        "num_avg = mean(test_results['Actuals'][:])\n",
        "for i in range(len(test_results)):\n",
        "  num1 = test_results['Actuals'][i] - test_results['Test Predictions'][i]\n",
        "  num_sum1 += num1**2\n",
        "  num2 = test_results['Actuals'][i] - num_avg\n",
        "  num_sum2 += num2**2\n",
        "\n",
        "nse = 1 - (num_sum1 / num_sum2)\n",
        "print('NSE : %f' %nse)"
      ],
      "metadata": {
        "id": "Oh-1dC1_ZyMv",
        "colab": {
          "base_uri": "https://localhost:8080/"
        },
        "outputId": "f3d1df93-e65b-4252-93df-681d51ca8446"
      },
      "execution_count": 42,
      "outputs": [
        {
          "output_type": "stream",
          "name": "stdout",
          "text": [
            "NSE : 0.999596\n"
          ]
        }
      ]
    },
    {
      "cell_type": "code",
      "source": [
        "# PBIAS\n",
        "num_sum1 = 0\n",
        "for i in range(len(test_results)):\n",
        "  num1 = test_results['Actuals'][i] - test_results['Test Predictions'][i]\n",
        "  num_sum1 += num1\n",
        "\n",
        "pbias = (num_sum1 / np.sum(test_results['Actuals'][:])) * 100\n",
        "print('PBIAS : %f' %pbias)"
      ],
      "metadata": {
        "id": "-5jqThn8ZyGf",
        "colab": {
          "base_uri": "https://localhost:8080/"
        },
        "outputId": "5dc757c9-21ee-489d-9822-7a5ba300ca8f"
      },
      "execution_count": 43,
      "outputs": [
        {
          "output_type": "stream",
          "name": "stdout",
          "text": [
            "PBIAS : -2.000809\n"
          ]
        }
      ]
    },
    {
      "cell_type": "code",
      "source": [
        "#R^2\n",
        "import math\n",
        "\n",
        "num_sum1 = 0\n",
        "num_sum2 = 0\n",
        "num_sum3 = 0\n",
        "act_avg = mean(test_results['Actuals'][:])\n",
        "pred_avg = mean(test_results['Test Predictions'][:])\n",
        "for i in range(len(test_results)):\n",
        "  num1 = (test_results['Actuals'][i] - act_avg) * (test_results['Test Predictions'][i] - pred_avg)\n",
        "  num_sum1 += num1\n",
        "  num2 = test_results['Actuals'][i] - pred_avg\n",
        "  num_sum2 += num2**2\n",
        "  num3 = test_results['Test Predictions'][i] - pred_avg\n",
        "  num_sum3 += num3**2\n",
        "\n",
        "r_square = (num_sum1 / (math.sqrt(num_sum2)* math.sqrt(num_sum3)))**2\n",
        "print('R Square : %f' %r_square)"
      ],
      "metadata": {
        "id": "WdnxNSDnZx9H",
        "colab": {
          "base_uri": "https://localhost:8080/"
        },
        "outputId": "4d79323f-0f83-4e71-edb1-f1bd121ed1d3"
      },
      "execution_count": 44,
      "outputs": [
        {
          "output_type": "stream",
          "name": "stdout",
          "text": [
            "R Square : 0.999618\n"
          ]
        }
      ]
    }
  ]
}