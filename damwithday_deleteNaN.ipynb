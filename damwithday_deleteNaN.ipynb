{
  "nbformat": 4,
  "nbformat_minor": 0,
  "metadata": {
    "colab": {
      "provenance": [],
      "authorship_tag": "ABX9TyM2Yzv1mslDitqOtEOKNBzi",
      "include_colab_link": true
    },
    "kernelspec": {
      "name": "python3",
      "display_name": "Python 3"
    },
    "language_info": {
      "name": "python"
    }
  },
  "cells": [
    {
      "cell_type": "markdown",
      "metadata": {
        "id": "view-in-github",
        "colab_type": "text"
      },
      "source": [
        "<a href=\"https://colab.research.google.com/github/zinseo964/dam_flow/blob/main/damwithday_deleteNaN.ipynb\" target=\"_parent\"><img src=\"https://colab.research.google.com/assets/colab-badge.svg\" alt=\"Open In Colab\"/></a>"
      ]
    },
    {
      "cell_type": "code",
      "execution_count": 3,
      "metadata": {
        "id": "eh9FG4N_F9vS"
      },
      "outputs": [],
      "source": [
        "import pandas as pd\n",
        "import numpy as np\n",
        "import matplotlib.pyplot as plt\n",
        "import tensorflow as tf\n",
        "import os"
      ]
    },
    {
      "cell_type": "code",
      "source": [
        "from google.colab import drive\n",
        "drive.mount('/content/drive')"
      ],
      "metadata": {
        "colab": {
          "base_uri": "https://localhost:8080/"
        },
        "id": "dIQ5esK-hRjj",
        "outputId": "58baa67b-55df-4a91-d2dc-bdb279262416"
      },
      "execution_count": 4,
      "outputs": [
        {
          "output_type": "stream",
          "name": "stdout",
          "text": [
            "Mounted at /content/drive\n"
          ]
        }
      ]
    },
    {
      "cell_type": "code",
      "source": [
        "rain_data211 = pd.read_csv('/content/drive/MyDrive/Colab Notebooks/dam_flow_csv/rn_20240130172151.csv',encoding='cp949')\n",
        "rain_data101 = pd.read_csv('/content/drive/MyDrive/Colab Notebooks/dam_flow_csv/rn_20240130172202.csv',encoding='cp949')\n",
        "rain_data100 = pd.read_csv('/content/drive/MyDrive/Colab Notebooks/dam_flow_csv/rn_20240130172215.csv',encoding='cp949')\n",
        "rain_data212 = pd.read_csv('/content/drive/MyDrive/Colab Notebooks/dam_flow_csv/rn_20240130172236.csv',encoding='cp949')\n",
        "rain_data90 = pd.read_csv('/content/drive/MyDrive/Colab Notebooks/dam_flow_csv/rn_20240130172245.csv',encoding='cp949')"
      ],
      "metadata": {
        "id": "sTCa--h7JmNi"
      },
      "execution_count": 120,
      "outputs": []
    },
    {
      "cell_type": "code",
      "source": [
        "# rain_data = pd.merge(rain_data211, rain_data101, how='outer')\n",
        "from functools import reduce\n",
        "\n",
        "rain_data = reduce(lambda x,y : pd.merge(x,y, on='날짜', how='outer'),[rain_data211, rain_data101, rain_data100, rain_data212, rain_data90])"
      ],
      "metadata": {
        "id": "DprPaZgXh3BR"
      },
      "execution_count": 119,
      "outputs": []
    },
    {
      "cell_type": "code",
      "source": [
        "rain_data.set_index(\"날짜\", inplace = True)\n",
        "rain_data = rain_data.dropna(how='all')\n",
        "\n",
        "print(rain_data)"
      ],
      "metadata": {
        "colab": {
          "base_uri": "https://localhost:8080/"
        },
        "id": "waugWhK5jpk0",
        "outputId": "5889c99f-abf8-4a0e-97ef-7534cda1e769"
      },
      "execution_count": 121,
      "outputs": [
        {
          "output_type": "stream",
          "name": "stdout",
          "text": [
            "            211강수량(mm)  101강수량(mm)  100강수량(mm)  212강수량(mm)  90강수량(mm)\n",
            "날짜                                                                   \n",
            "2009-01-16         0.3         2.4         0.6         0.2        NaN\n",
            "2009-01-18         0.0         0.2         4.9         0.1        NaN\n",
            "2009-01-22         0.0         0.1         NaN         0.0        NaN\n",
            "2009-01-24         NaN         0.4         0.2         0.0        NaN\n",
            "2009-01-25         0.0         0.3         1.5         0.1        0.0\n",
            "...                ...         ...         ...         ...        ...\n",
            "2023-12-20         0.4         0.1         0.0         0.0        NaN\n",
            "2023-12-24         NaN         NaN         NaN         0.0        NaN\n",
            "2023-12-25         0.9         0.7         0.0         0.2        NaN\n",
            "2023-12-30         6.8         9.9         2.3         8.5        0.7\n",
            "2023-12-31         3.1         5.3         6.0         4.9       26.8\n",
            "\n",
            "[2993 rows x 5 columns]\n"
          ]
        }
      ]
    },
    {
      "cell_type": "code",
      "source": [
        "rain_col = [i for i in rain_data.columns if '강수' in i]\n",
        "rain_data[rain_col] = rain_data[rain_col].fillna(0)"
      ],
      "metadata": {
        "id": "4k7gESlaGIju"
      },
      "execution_count": 122,
      "outputs": []
    },
    {
      "cell_type": "code",
      "source": [
        "print(rain_data.isna().sum().sum())\n",
        "print(rain_data)\n"
      ],
      "metadata": {
        "colab": {
          "base_uri": "https://localhost:8080/"
        },
        "id": "GBzXaW-6jr8I",
        "outputId": "d48edf5c-619d-4019-8fbd-93fa2f159353"
      },
      "execution_count": 123,
      "outputs": [
        {
          "output_type": "stream",
          "name": "stdout",
          "text": [
            "0\n",
            "            211강수량(mm)  101강수량(mm)  100강수량(mm)  212강수량(mm)  90강수량(mm)\n",
            "날짜                                                                   \n",
            "2009-01-16         0.3         2.4         0.6         0.2        0.0\n",
            "2009-01-18         0.0         0.2         4.9         0.1        0.0\n",
            "2009-01-22         0.0         0.1         0.0         0.0        0.0\n",
            "2009-01-24         0.0         0.4         0.2         0.0        0.0\n",
            "2009-01-25         0.0         0.3         1.5         0.1        0.0\n",
            "...                ...         ...         ...         ...        ...\n",
            "2023-12-20         0.4         0.1         0.0         0.0        0.0\n",
            "2023-12-24         0.0         0.0         0.0         0.0        0.0\n",
            "2023-12-25         0.9         0.7         0.0         0.2        0.0\n",
            "2023-12-30         6.8         9.9         2.3         8.5        0.7\n",
            "2023-12-31         3.1         5.3         6.0         4.9       26.8\n",
            "\n",
            "[2993 rows x 5 columns]\n"
          ]
        }
      ]
    },
    {
      "cell_type": "code",
      "source": [
        "dam_flow = pd.read_csv('/content/drive/MyDrive/Colab Notebooks/dam_flow_csv/only_dam_flow.csv',encoding='utf-8')\n",
        "dam_flow.set_index(\"날짜\", inplace = True)\n",
        "print(dam_flow)"
      ],
      "metadata": {
        "colab": {
          "base_uri": "https://localhost:8080/"
        },
        "id": "tQH3R_pfSahE",
        "outputId": "5ff8d3f4-d59f-4647-d04f-a1664ad9c715"
      },
      "execution_count": 124,
      "outputs": [
        {
          "output_type": "stream",
          "name": "stdout",
          "text": [
            "            유입량(㎥/s)\n",
            "날짜                  \n",
            "2009-01-01     0.000\n",
            "2009-01-02     0.825\n",
            "2009-01-03     3.904\n",
            "2009-01-04     0.000\n",
            "2009-01-05     0.000\n",
            "...              ...\n",
            "2023-12-27    25.873\n",
            "2023-12-28    21.186\n",
            "2023-12-29    20.887\n",
            "2023-12-30    29.183\n",
            "2023-12-31    25.803\n",
            "\n",
            "[5478 rows x 1 columns]\n"
          ]
        }
      ]
    },
    {
      "cell_type": "code",
      "source": [
        "date_index = rain_data.index\n",
        "dam_value = dam_flow.loc[date_index]\n",
        "\n",
        "print(dam_value)\n",
        "\n",
        "data = pd.merge(rain_data, dam_value,on='날짜', how='outer')\n",
        "\n",
        "# data = reduce(lambda x,y : pd.merge(x,y, on='날짜', how='outer'),[rain_data, dam_flow])"
      ],
      "metadata": {
        "id": "Fwa1qTrISbHS",
        "colab": {
          "base_uri": "https://localhost:8080/"
        },
        "outputId": "f680ce33-b29c-43fe-f0d5-f8006f7a6a8a"
      },
      "execution_count": 128,
      "outputs": [
        {
          "output_type": "stream",
          "name": "stdout",
          "text": [
            "            유입량(㎥/s)\n",
            "날짜                  \n",
            "2009-01-16     0.000\n",
            "2009-01-18     0.000\n",
            "2009-01-22     0.957\n",
            "2009-01-24     2.003\n",
            "2009-01-25     7.361\n",
            "...              ...\n",
            "2023-12-20    42.639\n",
            "2023-12-24    24.665\n",
            "2023-12-25    25.785\n",
            "2023-12-30    29.183\n",
            "2023-12-31    25.803\n",
            "\n",
            "[2993 rows x 1 columns]\n"
          ]
        }
      ]
    },
    {
      "cell_type": "code",
      "source": [
        "print(data)\n",
        "print(max(data['유입량(㎥/s)']))"
      ],
      "metadata": {
        "colab": {
          "base_uri": "https://localhost:8080/"
        },
        "id": "QxdBO2OwZnlQ",
        "outputId": "14baff39-d74c-463b-e529-fac89737c69d"
      },
      "execution_count": 129,
      "outputs": [
        {
          "output_type": "stream",
          "name": "stdout",
          "text": [
            "            211강수량(mm)  101강수량(mm)  100강수량(mm)  212강수량(mm)  90강수량(mm)  \\\n",
            "날짜                                                                      \n",
            "2009-01-16         0.3         2.4         0.6         0.2        0.0   \n",
            "2009-01-18         0.0         0.2         4.9         0.1        0.0   \n",
            "2009-01-22         0.0         0.1         0.0         0.0        0.0   \n",
            "2009-01-24         0.0         0.4         0.2         0.0        0.0   \n",
            "2009-01-25         0.0         0.3         1.5         0.1        0.0   \n",
            "...                ...         ...         ...         ...        ...   \n",
            "2023-12-20         0.4         0.1         0.0         0.0        0.0   \n",
            "2023-12-24         0.0         0.0         0.0         0.0        0.0   \n",
            "2023-12-25         0.9         0.7         0.0         0.2        0.0   \n",
            "2023-12-30         6.8         9.9         2.3         8.5        0.7   \n",
            "2023-12-31         3.1         5.3         6.0         4.9       26.8   \n",
            "\n",
            "            유입량(㎥/s)  \n",
            "날짜                    \n",
            "2009-01-16     0.000  \n",
            "2009-01-18     0.000  \n",
            "2009-01-22     0.957  \n",
            "2009-01-24     2.003  \n",
            "2009-01-25     7.361  \n",
            "...              ...  \n",
            "2023-12-20    42.639  \n",
            "2023-12-24    24.665  \n",
            "2023-12-25    25.785  \n",
            "2023-12-30    29.183  \n",
            "2023-12-31    25.803  \n",
            "\n",
            "[2993 rows x 6 columns]\n",
            "3918.5\n"
          ]
        }
      ]
    },
    {
      "cell_type": "code",
      "source": [
        "# data.index = pd.to_datetime(data['날짜'])\n",
        "\n",
        "dam_flow = data['유입량(㎥/s)']\n",
        "dam_flow.plot()"
      ],
      "metadata": {
        "colab": {
          "base_uri": "https://localhost:8080/",
          "height": 634
        },
        "id": "9gfzXmBUcDWP",
        "outputId": "91f8cba3-b827-4ad0-a517-37e976061f89"
      },
      "execution_count": 107,
      "outputs": [
        {
          "output_type": "execute_result",
          "data": {
            "text/plain": [
              "<Axes: xlabel='날짜'>"
            ]
          },
          "metadata": {},
          "execution_count": 107
        },
        {
          "output_type": "stream",
          "name": "stderr",
          "text": [
            "/usr/local/lib/python3.10/dist-packages/IPython/core/events.py:89: UserWarning: Glyph 45216 (\\N{HANGUL SYLLABLE NAL}) missing from current font.\n",
            "  func(*args, **kwargs)\n",
            "/usr/local/lib/python3.10/dist-packages/IPython/core/events.py:89: UserWarning: Glyph 51676 (\\N{HANGUL SYLLABLE JJA}) missing from current font.\n",
            "  func(*args, **kwargs)\n",
            "/usr/local/lib/python3.10/dist-packages/IPython/core/pylabtools.py:151: UserWarning: Glyph 45216 (\\N{HANGUL SYLLABLE NAL}) missing from current font.\n",
            "  fig.canvas.print_figure(bytes_io, **kw)\n",
            "/usr/local/lib/python3.10/dist-packages/IPython/core/pylabtools.py:151: UserWarning: Glyph 51676 (\\N{HANGUL SYLLABLE JJA}) missing from current font.\n",
            "  fig.canvas.print_figure(bytes_io, **kw)\n"
          ]
        },
        {
          "output_type": "display_data",
          "data": {
            "text/plain": [
              "<Figure size 640x480 with 1 Axes>"
            ],
            "image/png": "[encoded data removed]"
          },
          "metadata": {}
        }
      ]
    },
    {
      "cell_type": "code",
      "source": [
        "data['Y'] = data['유입량(㎥/s)']\n",
        "data = data.dropna()\n",
        "data.reset_index(drop=False, inplace = True)\n",
        "\n",
        "print(data)"
      ],
      "metadata": {
        "colab": {
          "base_uri": "https://localhost:8080/"
        },
        "id": "ZnHkvJMj9XdS",
        "outputId": "1ce56ce8-e434-4dd9-e3b3-e580f5fa6e0e"
      },
      "execution_count": 131,
      "outputs": [
        {
          "output_type": "stream",
          "name": "stdout",
          "text": [
            "              날짜  211강수량(mm)  101강수량(mm)  100강수량(mm)  212강수량(mm)  90강수량(mm)  \\\n",
            "0     2009-01-16         0.3         2.4         0.6         0.2        0.0   \n",
            "1     2009-01-18         0.0         0.2         4.9         0.1        0.0   \n",
            "2     2009-01-22         0.0         0.1         0.0         0.0        0.0   \n",
            "3     2009-01-24         0.0         0.4         0.2         0.0        0.0   \n",
            "4     2009-01-25         0.0         0.3         1.5         0.1        0.0   \n",
            "...          ...         ...         ...         ...         ...        ...   \n",
            "2988  2023-12-20         0.4         0.1         0.0         0.0        0.0   \n",
            "2989  2023-12-24         0.0         0.0         0.0         0.0        0.0   \n",
            "2990  2023-12-25         0.9         0.7         0.0         0.2        0.0   \n",
            "2991  2023-12-30         6.8         9.9         2.3         8.5        0.7   \n",
            "2992  2023-12-31         3.1         5.3         6.0         4.9       26.8   \n",
            "\n",
            "      유입량(㎥/s)       Y  \n",
            "0        0.000   0.000  \n",
            "1        0.000   0.000  \n",
            "2        0.957   0.957  \n",
            "3        2.003   2.003  \n",
            "4        7.361   7.361  \n",
            "...        ...     ...  \n",
            "2988    42.639  42.639  \n",
            "2989    24.665  24.665  \n",
            "2990    25.785  25.785  \n",
            "2991    29.183  29.183  \n",
            "2992    25.803  25.803  \n",
            "\n",
            "[2993 rows x 8 columns]\n"
          ]
        }
      ]
    },
    {
      "cell_type": "code",
      "source": [
        "train = data[data['날짜']<'2018-01-01']\n",
        "valid = data[data['날짜']>='2018-01-01']\n",
        "valid = valid[valid['날짜']<'2023-01-01']\n",
        "test = data[data['날짜']>='2023-01-01']\n",
        "print('train set : ', len(train),\"\\n\",\n",
        "      'valid set : ', len(valid), \"\\n\",\n",
        "      'test set : ', len(test), \"\\n\")\n",
        "train.set_index(\"날짜\", inplace = True)\n",
        "valid.set_index(\"날짜\", inplace = True)\n",
        "test.set_index(\"날짜\", inplace = True)\n",
        "\n",
        "trainX, trainY = train.drop(['Y'], axis = 1), train['Y']\n",
        "validX, validY = valid.drop(['Y'], axis = 1), valid['Y']\n",
        "testX, testY = test.drop(['Y'], axis = 1), test['Y']"
      ],
      "metadata": {
        "colab": {
          "base_uri": "https://localhost:8080/"
        },
        "id": "SXCFT5roZt-x",
        "outputId": "729c9a5d-aed2-4a17-fd82-467a947aa6f5"
      },
      "execution_count": 137,
      "outputs": [
        {
          "output_type": "stream",
          "name": "stdout",
          "text": [
            "train set :  1812 \n",
            " valid set :  988 \n",
            " test set :  193 \n",
            "\n"
          ]
        }
      ]
    },
    {
      "cell_type": "code",
      "source": [
        "print(trainX)\n",
        "len(trainX.columns)"
      ],
      "metadata": {
        "colab": {
          "base_uri": "https://localhost:8080/"
        },
        "id": "_NasIIN5cMrq",
        "outputId": "97e5bcc7-8552-4bb1-d1b3-05a297c6c56b"
      },
      "execution_count": 138,
      "outputs": [
        {
          "output_type": "stream",
          "name": "stdout",
          "text": [
            "            211강수량(mm)  101강수량(mm)  100강수량(mm)  212강수량(mm)  90강수량(mm)  \\\n",
            "날짜                                                                      \n",
            "2009-01-16         0.3         2.4         0.6         0.2        0.0   \n",
            "2009-01-18         0.0         0.2         4.9         0.1        0.0   \n",
            "2009-01-22         0.0         0.1         0.0         0.0        0.0   \n",
            "2009-01-24         0.0         0.4         0.2         0.0        0.0   \n",
            "2009-01-25         0.0         0.3         1.5         0.1        0.0   \n",
            "...                ...         ...         ...         ...        ...   \n",
            "2017-12-20         0.0         1.1         0.0         0.0        0.0   \n",
            "2017-12-23         0.0         0.0         0.0         0.0        0.0   \n",
            "2017-12-24        11.0        13.3         7.3        12.0        9.4   \n",
            "2017-12-30         0.4         1.0         0.3         0.6        0.0   \n",
            "2017-12-31         1.0         1.1         0.0         2.0        0.0   \n",
            "\n",
            "            유입량(㎥/s)  \n",
            "날짜                    \n",
            "2009-01-16     0.000  \n",
            "2009-01-18     0.000  \n",
            "2009-01-22     0.957  \n",
            "2009-01-24     2.003  \n",
            "2009-01-25     7.361  \n",
            "...              ...  \n",
            "2017-12-20     0.000  \n",
            "2017-12-23     5.522  \n",
            "2017-12-24    11.366  \n",
            "2017-12-30     6.000  \n",
            "2017-12-31     0.285  \n",
            "\n",
            "[1812 rows x 6 columns]\n"
          ]
        },
        {
          "output_type": "execute_result",
          "data": {
            "text/plain": [
              "6"
            ]
          },
          "metadata": {},
          "execution_count": 138
        }
      ]
    },
    {
      "cell_type": "code",
      "source": [
        "from sklearn.preprocessing import MinMaxScaler\n",
        "from tensorflow.keras.layers import *\n",
        "from keras.models import Sequential\n",
        "import tensorflow as tf\n",
        "from keras.layers import Dense, LSTM\n",
        "from tensorflow.keras.models import Sequential\n",
        "from tensorflow.keras.layers import *\n",
        "from tensorflow.keras.callbacks import ModelCheckpoint\n",
        "from tensorflow.keras.losses import MeanSquaredError\n",
        "from tensorflow.keras.metrics import RootMeanSquaredError\n",
        "from tensorflow.keras.optimizers import Adam\n",
        "\n",
        "model1 = Sequential()\n",
        "model1.add(LSTM(64, input_shape=(6,1)))\n",
        "model1.add(Dense(40, 'relu'))\n",
        "model1.add(Dense(40, 'relu'))\n",
        "model1.add(Dense(8, 'relu'))\n",
        "model1.add(Dense(8))\n",
        "model1.add(Dense(1))\n",
        "\n",
        "model1.summary()"
      ],
      "metadata": {
        "colab": {
          "base_uri": "https://localhost:8080/"
        },
        "id": "vmqdghl2KSv3",
        "outputId": "3b8c71a3-eb13-4283-9f0d-5307228c4943"
      },
      "execution_count": 139,
      "outputs": [
        {
          "output_type": "stream",
          "name": "stdout",
          "text": [
            "Model: \"sequential_5\"\n",
            "_________________________________________________________________\n",
            " Layer (type)                Output Shape              Param #   \n",
            "=================================================================\n",
            " lstm_5 (LSTM)               (None, 64)                16896     \n",
            "                                                                 \n",
            " dense_27 (Dense)            (None, 40)                2600      \n",
            "                                                                 \n",
            " dense_28 (Dense)            (None, 40)                1640      \n",
            "                                                                 \n",
            " dense_29 (Dense)            (None, 8)                 328       \n",
            "                                                                 \n",
            " dense_30 (Dense)            (None, 8)                 72        \n",
            "                                                                 \n",
            " dense_31 (Dense)            (None, 1)                 9         \n",
            "                                                                 \n",
            "=================================================================\n",
            "Total params: 21545 (84.16 KB)\n",
            "Trainable params: 21545 (84.16 KB)\n",
            "Non-trainable params: 0 (0.00 Byte)\n",
            "_________________________________________________________________\n"
          ]
        }
      ]
    },
    {
      "cell_type": "code",
      "source": [
        "cp1 = ModelCheckpoint('model1/', save_best_only=True)\n",
        "model1.compile(loss=MeanSquaredError(), optimizer=Adam(learning_rate=0.0001), metrics=[RootMeanSquaredError()])\n",
        "model1.fit(trainX, trainY, validation_data = (validX, validY), batch_size=10, epochs=50, callbacks=[cp1])"
      ],
      "metadata": {
        "colab": {
          "base_uri": "https://localhost:8080/"
        },
        "id": "JXFtLaHiWT8V",
        "outputId": "33f308b9-dede-4145-9e69-1206c8b2fe70"
      },
      "execution_count": 140,
      "outputs": [
        {
          "output_type": "stream",
          "name": "stdout",
          "text": [
            "Epoch 1/50\n",
            "182/182 [==============================] - 5s 20ms/step - loss: 77802.5781 - root_mean_squared_error: 278.9311 - val_loss: 87147.4062 - val_root_mean_squared_error: 295.2074\n",
            "Epoch 2/50\n",
            "182/182 [==============================] - 3s 17ms/step - loss: 77701.4922 - root_mean_squared_error: 278.7499 - val_loss: 86907.7031 - val_root_mean_squared_error: 294.8011\n",
            "Epoch 3/50\n",
            "182/182 [==============================] - 4s 23ms/step - loss: 76908.2812 - root_mean_squared_error: 277.3234 - val_loss: 84825.1875 - val_root_mean_squared_error: 291.2477\n",
            "Epoch 4/50\n",
            "182/182 [==============================] - 3s 18ms/step - loss: 74100.7578 - root_mean_squared_error: 272.2145 - val_loss: 80785.8672 - val_root_mean_squared_error: 284.2285\n",
            "Epoch 5/50\n",
            "182/182 [==============================] - 3s 18ms/step - loss: 70334.6953 - root_mean_squared_error: 265.2069 - val_loss: 76475.8984 - val_root_mean_squared_error: 276.5428\n",
            "Epoch 6/50\n",
            "182/182 [==============================] - 4s 24ms/step - loss: 66205.0781 - root_mean_squared_error: 257.3035 - val_loss: 71442.3828 - val_root_mean_squared_error: 267.2871\n",
            "Epoch 7/50\n",
            "182/182 [==============================] - 4s 22ms/step - loss: 61176.3711 - root_mean_squared_error: 247.3386 - val_loss: 66017.2031 - val_root_mean_squared_error: 256.9381\n",
            "Epoch 8/50\n",
            "182/182 [==============================] - 4s 24ms/step - loss: 56024.5352 - root_mean_squared_error: 236.6950 - val_loss: 60499.5781 - val_root_mean_squared_error: 245.9666\n",
            "Epoch 9/50\n",
            "182/182 [==============================] - 4s 20ms/step - loss: 50845.7891 - root_mean_squared_error: 225.4901 - val_loss: 55195.6367 - val_root_mean_squared_error: 234.9375\n",
            "Epoch 10/50\n",
            "182/182 [==============================] - 4s 22ms/step - loss: 45887.6719 - root_mean_squared_error: 214.2141 - val_loss: 50214.3750 - val_root_mean_squared_error: 224.0856\n",
            "Epoch 11/50\n",
            "182/182 [==============================] - 3s 18ms/step - loss: 41298.0938 - root_mean_squared_error: 203.2193 - val_loss: 45345.2344 - val_root_mean_squared_error: 212.9442\n",
            "Epoch 12/50\n",
            "182/182 [==============================] - 4s 20ms/step - loss: 37076.6641 - root_mean_squared_error: 192.5530 - val_loss: 41131.1641 - val_root_mean_squared_error: 202.8082\n",
            "Epoch 13/50\n",
            "182/182 [==============================] - 3s 17ms/step - loss: 33294.0742 - root_mean_squared_error: 182.4666 - val_loss: 36799.1016 - val_root_mean_squared_error: 191.8309\n",
            "Epoch 14/50\n",
            "182/182 [==============================] - 4s 22ms/step - loss: 29890.8262 - root_mean_squared_error: 172.8896 - val_loss: 33130.4414 - val_root_mean_squared_error: 182.0177\n",
            "Epoch 15/50\n",
            "182/182 [==============================] - 4s 20ms/step - loss: 26805.4180 - root_mean_squared_error: 163.7236 - val_loss: 29819.0977 - val_root_mean_squared_error: 172.6821\n",
            "Epoch 16/50\n",
            "182/182 [==============================] - 3s 18ms/step - loss: 23971.3691 - root_mean_squared_error: 154.8269 - val_loss: 26665.6621 - val_root_mean_squared_error: 163.2962\n",
            "Epoch 17/50\n",
            "182/182 [==============================] - 4s 21ms/step - loss: 21260.8984 - root_mean_squared_error: 145.8112 - val_loss: 23536.0391 - val_root_mean_squared_error: 153.4146\n",
            "Epoch 18/50\n",
            "182/182 [==============================] - 4s 20ms/step - loss: 18901.7383 - root_mean_squared_error: 137.4836 - val_loss: 21046.8633 - val_root_mean_squared_error: 145.0754\n",
            "Epoch 19/50\n",
            "182/182 [==============================] - 3s 18ms/step - loss: 16709.1738 - root_mean_squared_error: 129.2640 - val_loss: 18607.1582 - val_root_mean_squared_error: 136.4081\n",
            "Epoch 20/50\n",
            "182/182 [==============================] - 4s 21ms/step - loss: 14757.2275 - root_mean_squared_error: 121.4793 - val_loss: 16441.5449 - val_root_mean_squared_error: 128.2246\n",
            "Epoch 21/50\n",
            "182/182 [==============================] - 3s 18ms/step - loss: 12981.0771 - root_mean_squared_error: 113.9345 - val_loss: 14670.5312 - val_root_mean_squared_error: 121.1220\n",
            "Epoch 22/50\n",
            "182/182 [==============================] - 4s 20ms/step - loss: 11417.8330 - root_mean_squared_error: 106.8543 - val_loss: 12915.3496 - val_root_mean_squared_error: 113.6457\n",
            "Epoch 23/50\n",
            "182/182 [==============================] - 3s 17ms/step - loss: 10086.7070 - root_mean_squared_error: 100.4326 - val_loss: 11484.4268 - val_root_mean_squared_error: 107.1654\n",
            "Epoch 24/50\n",
            "182/182 [==============================] - 4s 22ms/step - loss: 8883.3721 - root_mean_squared_error: 94.2516 - val_loss: 10232.6943 - val_root_mean_squared_error: 101.1568\n",
            "Epoch 25/50\n",
            "182/182 [==============================] - 4s 21ms/step - loss: 7921.3218 - root_mean_squared_error: 89.0018 - val_loss: 8975.2070 - val_root_mean_squared_error: 94.7376\n",
            "Epoch 26/50\n",
            "182/182 [==============================] - 3s 18ms/step - loss: 7020.0078 - root_mean_squared_error: 83.7855 - val_loss: 7940.9297 - val_root_mean_squared_error: 89.1119\n",
            "Epoch 27/50\n",
            "182/182 [==============================] - 4s 21ms/step - loss: 6198.3530 - root_mean_squared_error: 78.7296 - val_loss: 7091.4268 - val_root_mean_squared_error: 84.2106\n",
            "Epoch 28/50\n",
            "182/182 [==============================] - 4s 21ms/step - loss: 5583.6680 - root_mean_squared_error: 74.7239 - val_loss: 6101.4727 - val_root_mean_squared_error: 78.1119\n",
            "Epoch 29/50\n",
            "182/182 [==============================] - 3s 18ms/step - loss: 4920.7505 - root_mean_squared_error: 70.1481 - val_loss: 5326.8486 - val_root_mean_squared_error: 72.9853\n",
            "Epoch 30/50\n",
            "182/182 [==============================] - 3s 18ms/step - loss: 4406.3901 - root_mean_squared_error: 66.3806 - val_loss: 4655.8486 - val_root_mean_squared_error: 68.2338\n",
            "Epoch 31/50\n",
            "182/182 [==============================] - 4s 23ms/step - loss: 4112.9609 - root_mean_squared_error: 64.1324 - val_loss: 4112.2095 - val_root_mean_squared_error: 64.1265\n",
            "Epoch 32/50\n",
            "182/182 [==============================] - 3s 19ms/step - loss: 3547.9155 - root_mean_squared_error: 59.5644 - val_loss: 3793.3198 - val_root_mean_squared_error: 61.5899\n",
            "Epoch 33/50\n",
            "182/182 [==============================] - 3s 18ms/step - loss: 3169.7756 - root_mean_squared_error: 56.3008 - val_loss: 3264.8635 - val_root_mean_squared_error: 57.1390\n",
            "Epoch 34/50\n",
            "182/182 [==============================] - 4s 22ms/step - loss: 2831.6731 - root_mean_squared_error: 53.2135 - val_loss: 2842.0337 - val_root_mean_squared_error: 53.3107\n",
            "Epoch 35/50\n",
            "182/182 [==============================] - 4s 21ms/step - loss: 2537.7827 - root_mean_squared_error: 50.3764 - val_loss: 2444.9214 - val_root_mean_squared_error: 49.4461\n",
            "Epoch 36/50\n",
            "182/182 [==============================] - 3s 18ms/step - loss: 2302.2698 - root_mean_squared_error: 47.9820 - val_loss: 2086.6794 - val_root_mean_squared_error: 45.6802\n",
            "Epoch 37/50\n",
            "182/182 [==============================] - 4s 21ms/step - loss: 2030.5166 - root_mean_squared_error: 45.0613 - val_loss: 2012.1287 - val_root_mean_squared_error: 44.8568\n",
            "Epoch 38/50\n",
            "182/182 [==============================] - 4s 20ms/step - loss: 1852.8326 - root_mean_squared_error: 43.0445 - val_loss: 1574.6544 - val_root_mean_squared_error: 39.6819\n",
            "Epoch 39/50\n",
            "182/182 [==============================] - 3s 17ms/step - loss: 1732.0135 - root_mean_squared_error: 41.6175 - val_loss: 1471.6333 - val_root_mean_squared_error: 38.3619\n",
            "Epoch 40/50\n",
            "182/182 [==============================] - 3s 18ms/step - loss: 1679.2118 - root_mean_squared_error: 40.9782 - val_loss: 1193.0951 - val_root_mean_squared_error: 34.5412\n",
            "Epoch 41/50\n",
            "182/182 [==============================] - 4s 24ms/step - loss: 1419.9644 - root_mean_squared_error: 37.6824 - val_loss: 1011.8613 - val_root_mean_squared_error: 31.8098\n",
            "Epoch 42/50\n",
            "182/182 [==============================] - 1s 4ms/step - loss: 1578.1750 - root_mean_squared_error: 39.7262 - val_loss: 1783.4255 - val_root_mean_squared_error: 42.2306\n",
            "Epoch 43/50\n",
            "182/182 [==============================] - 1s 4ms/step - loss: 1369.9353 - root_mean_squared_error: 37.0126 - val_loss: 1062.6035 - val_root_mean_squared_error: 32.5976\n",
            "Epoch 44/50\n",
            "182/182 [==============================] - 3s 18ms/step - loss: 1134.5947 - root_mean_squared_error: 33.6837 - val_loss: 742.3323 - val_root_mean_squared_error: 27.2458\n",
            "Epoch 45/50\n",
            "182/182 [==============================] - 3s 18ms/step - loss: 1087.4265 - root_mean_squared_error: 32.9762 - val_loss: 591.9160 - val_root_mean_squared_error: 24.3293\n",
            "Epoch 46/50\n",
            "182/182 [==============================] - 4s 24ms/step - loss: 1097.8495 - root_mean_squared_error: 33.1338 - val_loss: 583.0560 - val_root_mean_squared_error: 24.1466\n",
            "Epoch 47/50\n",
            "182/182 [==============================] - 1s 4ms/step - loss: 965.6451 - root_mean_squared_error: 31.0748 - val_loss: 621.4347 - val_root_mean_squared_error: 24.9286\n",
            "Epoch 48/50\n",
            "182/182 [==============================] - 3s 18ms/step - loss: 922.8625 - root_mean_squared_error: 30.3787 - val_loss: 541.0272 - val_root_mean_squared_error: 23.2600\n",
            "Epoch 49/50\n",
            "182/182 [==============================] - 3s 18ms/step - loss: 784.3776 - root_mean_squared_error: 28.0067 - val_loss: 440.8299 - val_root_mean_squared_error: 20.9959\n",
            "Epoch 50/50\n",
            "182/182 [==============================] - 4s 24ms/step - loss: 884.2179 - root_mean_squared_error: 29.7358 - val_loss: 432.2775 - val_root_mean_squared_error: 20.7913\n"
          ]
        },
        {
          "output_type": "execute_result",
          "data": {
            "text/plain": [
              "<keras.src.callbacks.History at 0x7e33f38843a0>"
            ]
          },
          "metadata": {},
          "execution_count": 140
        }
      ]
    },
    {
      "cell_type": "code",
      "source": [
        "train_score = model1.evaluate(testX, testY, verbose=1)\n",
        "print('Train Score: %.2f MSE (%.2f RMSE)' % (train_score[0], np.sqrt(train_score[0])))"
      ],
      "metadata": {
        "colab": {
          "base_uri": "https://localhost:8080/"
        },
        "id": "PfhCvPAa8lFR",
        "outputId": "27992d46-3a05-4ba4-d809-79956511b86f"
      },
      "execution_count": 141,
      "outputs": [
        {
          "output_type": "stream",
          "name": "stdout",
          "text": [
            "7/7 [==============================] - 0s 3ms/step - loss: 59.4231 - root_mean_squared_error: 7.7086\n",
            "Train Score: 59.42 MSE (7.71 RMSE)\n"
          ]
        }
      ]
    },
    {
      "cell_type": "code",
      "source": [
        "train_predictions = model1.predict(trainX).flatten()\n",
        "train_results = pd.DataFrame(data={'Train Predictions':train_predictions, 'Actuals':trainY})\n",
        "train_results"
      ],
      "metadata": {
        "colab": {
          "base_uri": "https://localhost:8080/",
          "height": 473
        },
        "id": "5gfi4l7eRm3T",
        "outputId": "cdb61501-f1ad-4ca6-cb84-07b525672b33"
      },
      "execution_count": 142,
      "outputs": [
        {
          "output_type": "stream",
          "name": "stdout",
          "text": [
            "57/57 [==============================] - 0s 2ms/step\n"
          ]
        },
        {
          "output_type": "execute_result",
          "data": {
            "text/plain": [
              "            Train Predictions  Actuals\n",
              "날짜                                    \n",
              "2009-01-16           0.170775    0.000\n",
              "2009-01-18          -0.580844    0.000\n",
              "2009-01-22           0.357044    0.957\n",
              "2009-01-24           1.048772    2.003\n",
              "2009-01-25           4.796720    7.361\n",
              "...                       ...      ...\n",
              "2017-12-20          -0.181802    0.000\n",
              "2017-12-23           3.611085    5.522\n",
              "2017-12-24           8.683485   11.366\n",
              "2017-12-30           4.193945    6.000\n",
              "2017-12-31           0.403267    0.285\n",
              "\n",
              "[1812 rows x 2 columns]"
            ],
            "text/html": [
              "\n",
              "  <div id=\"df-d4704c65-5014-4531-8774-c198eb947f27\" class=\"colab-df-container\">\n",
              "    <div>\n",
              "<style scoped>\n",
              "    .dataframe tbody tr th:only-of-type {\n",
              "        vertical-align: middle;\n",
              "    }\n",
              "\n",
              "    .dataframe tbody tr th {\n",
              "        vertical-align: top;\n",
              "    }\n",
              "\n",
              "    .dataframe thead th {\n",
              "        text-align: right;\n",
              "    }\n",
              "</style>\n",
              "<table border=\"1\" class=\"dataframe\">\n",
              "  <thead>\n",
              "    <tr style=\"text-align: right;\">\n",
              "      <th></th>\n",
              "      <th>Train Predictions</th>\n",
              "      <th>Actuals</th>\n",
              "    </tr>\n",
              "    <tr>\n",
              "      <th>날짜</th>\n",
              "      <th></th>\n",
              "      <th></th>\n",
              "    </tr>\n",
              "  </thead>\n",
              "  <tbody>\n",
              "    <tr>\n",
              "      <th>2009-01-16</th>\n",
              "      <td>0.170775</td>\n",
              "      <td>0.000</td>\n",
              "    </tr>\n",
              "    <tr>\n",
              "      <th>2009-01-18</th>\n",
              "      <td>-0.580844</td>\n",
              "      <td>0.000</td>\n",
              "    </tr>\n",
              "    <tr>\n",
              "      <th>2009-01-22</th>\n",
              "      <td>0.357044</td>\n",
              "      <td>0.957</td>\n",
              "    </tr>\n",
              "    <tr>\n",
              "      <th>2009-01-24</th>\n",
              "      <td>1.048772</td>\n",
              "      <td>2.003</td>\n",
              "    </tr>\n",
              "    <tr>\n",
              "      <th>2009-01-25</th>\n",
              "      <td>4.796720</td>\n",
              "      <td>7.361</td>\n",
              "    </tr>\n",
              "    <tr>\n",
              "      <th>...</th>\n",
              "      <td>...</td>\n",
              "      <td>...</td>\n",
              "    </tr>\n",
              "    <tr>\n",
              "      <th>2017-12-20</th>\n",
              "      <td>-0.181802</td>\n",
              "      <td>0.000</td>\n",
              "    </tr>\n",
              "    <tr>\n",
              "      <th>2017-12-23</th>\n",
              "      <td>3.611085</td>\n",
              "      <td>5.522</td>\n",
              "    </tr>\n",
              "    <tr>\n",
              "      <th>2017-12-24</th>\n",
              "      <td>8.683485</td>\n",
              "      <td>11.366</td>\n",
              "    </tr>\n",
              "    <tr>\n",
              "      <th>2017-12-30</th>\n",
              "      <td>4.193945</td>\n",
              "      <td>6.000</td>\n",
              "    </tr>\n",
              "    <tr>\n",
              "      <th>2017-12-31</th>\n",
              "      <td>0.403267</td>\n",
              "      <td>0.285</td>\n",
              "    </tr>\n",
              "  </tbody>\n",
              "</table>\n",
              "<p>1812 rows × 2 columns</p>\n",
              "</div>\n",
              "    <div class=\"colab-df-buttons\">\n",
              "\n",
              "  <div class=\"colab-df-container\">\n",
              "    <button class=\"colab-df-convert\" onclick=\"convertToInteractive('df-d4704c65-5014-4531-8774-c198eb947f27')\"\n",
              "            title=\"Convert this dataframe to an interactive table.\"\n",
              "            style=\"display:none;\">\n",
              "\n",
              "  <svg xmlns=\"http://www.w3.org/2000/svg\" height=\"24px\" viewBox=\"0 -960 960 960\">\n",
              "    <path d=\"M120-120v-720h720v720H120Zm60-500h600v-160H180v160Zm220 220h160v-160H400v160Zm0 220h160v-160H400v160ZM180-400h160v-160H180v160Zm440 0h160v-160H620v160ZM180-180h160v-160H180v160Zm440 0h160v-160H620v160Z\"/>\n",
              "  </svg>\n",
              "    </button>\n",
              "\n",
              "  <style>\n",
              "    .colab-df-container {\n",
              "      display:flex;\n",
              "      gap: 12px;\n",
              "    }\n",
              "\n",
              "    .colab-df-convert {\n",
              "      background-color: #E8F0FE;\n",
              "      border: none;\n",
              "      border-radius: 50%;\n",
              "      cursor: pointer;\n",
              "      display: none;\n",
              "      fill: #1967D2;\n",
              "      height: 32px;\n",
              "      padding: 0 0 0 0;\n",
              "      width: 32px;\n",
              "    }\n",
              "\n",
              "    .colab-df-convert:hover {\n",
              "      background-color: #E2EBFA;\n",
              "      box-shadow: 0px 1px 2px rgba(60, 64, 67, 0.3), 0px 1px 3px 1px rgba(60, 64, 67, 0.15);\n",
              "      fill: #174EA6;\n",
              "    }\n",
              "\n",
              "    .colab-df-buttons div {\n",
              "      margin-bottom: 4px;\n",
              "    }\n",
              "\n",
              "    [theme=dark] .colab-df-convert {\n",
              "      background-color: #3B4455;\n",
              "      fill: #D2E3FC;\n",
              "    }\n",
              "\n",
              "    [theme=dark] .colab-df-convert:hover {\n",
              "      background-color: #434B5C;\n",
              "      box-shadow: 0px 1px 3px 1px rgba(0, 0, 0, 0.15);\n",
              "      filter: drop-shadow(0px 1px 2px rgba(0, 0, 0, 0.3));\n",
              "      fill: #FFFFFF;\n",
              "    }\n",
              "  </style>\n",
              "\n",
              "    <script>\n",
              "      const buttonEl =\n",
              "        document.querySelector('#df-d4704c65-5014-4531-8774-c198eb947f27 button.colab-df-convert');\n",
              "      buttonEl.style.display =\n",
              "        google.colab.kernel.accessAllowed ? 'block' : 'none';\n",
              "\n",
              "      async function convertToInteractive(key) {\n",
              "        const element = document.querySelector('#df-d4704c65-5014-4531-8774-c198eb947f27');\n",
              "        const dataTable =\n",
              "          await google.colab.kernel.invokeFunction('convertToInteractive',\n",
              "                                                    [key], {});\n",
              "        if (!dataTable) return;\n",
              "\n",
              "        const docLinkHtml = 'Like what you see? Visit the ' +\n",
              "          '<a target=\"_blank\" href=https://colab.research.google.com/notebooks/data_table.ipynb>data table notebook</a>'\n",
              "          + ' to learn more about interactive tables.';\n",
              "        element.innerHTML = '';\n",
              "        dataTable['output_type'] = 'display_data';\n",
              "        await google.colab.output.renderOutput(dataTable, element);\n",
              "        const docLink = document.createElement('div');\n",
              "        docLink.innerHTML = docLinkHtml;\n",
              "        element.appendChild(docLink);\n",
              "      }\n",
              "    </script>\n",
              "  </div>\n",
              "\n",
              "\n",
              "<div id=\"df-bae7f2dd-11ee-4268-9766-113cb6a26a23\">\n",
              "  <button class=\"colab-df-quickchart\" onclick=\"quickchart('df-bae7f2dd-11ee-4268-9766-113cb6a26a23')\"\n",
              "            title=\"Suggest charts\"\n",
              "            style=\"display:none;\">\n",
              "\n",
              "<svg xmlns=\"http://www.w3.org/2000/svg\" height=\"24px\"viewBox=\"0 0 24 24\"\n",
              "     width=\"24px\">\n",
              "    <g>\n",
              "        <path d=\"M19 3H5c-1.1 0-2 .9-2 2v14c0 1.1.9 2 2 2h14c1.1 0 2-.9 2-2V5c0-1.1-.9-2-2-2zM9 17H7v-7h2v7zm4 0h-2V7h2v10zm4 0h-2v-4h2v4z\"/>\n",
              "    </g>\n",
              "</svg>\n",
              "  </button>\n",
              "\n",
              "<style>\n",
              "  .colab-df-quickchart {\n",
              "      --bg-color: #E8F0FE;\n",
              "      --fill-color: #1967D2;\n",
              "      --hover-bg-color: #E2EBFA;\n",
              "      --hover-fill-color: #174EA6;\n",
              "      --disabled-fill-color: #AAA;\n",
              "      --disabled-bg-color: #DDD;\n",
              "  }\n",
              "\n",
              "  [theme=dark] .colab-df-quickchart {\n",
              "      --bg-color: #3B4455;\n",
              "      --fill-color: #D2E3FC;\n",
              "      --hover-bg-color: #434B5C;\n",
              "      --hover-fill-color: #FFFFFF;\n",
              "      --disabled-bg-color: #3B4455;\n",
              "      --disabled-fill-color: #666;\n",
              "  }\n",
              "\n",
              "  .colab-df-quickchart {\n",
              "    background-color: var(--bg-color);\n",
              "    border: none;\n",
              "    border-radius: 50%;\n",
              "    cursor: pointer;\n",
              "    display: none;\n",
              "    fill: var(--fill-color);\n",
              "    height: 32px;\n",
              "    padding: 0;\n",
              "    width: 32px;\n",
              "  }\n",
              "\n",
              "  .colab-df-quickchart:hover {\n",
              "    background-color: var(--hover-bg-color);\n",
              "    box-shadow: 0 1px 2px rgba(60, 64, 67, 0.3), 0 1px 3px 1px rgba(60, 64, 67, 0.15);\n",
              "    fill: var(--button-hover-fill-color);\n",
              "  }\n",
              "\n",
              "  .colab-df-quickchart-complete:disabled,\n",
              "  .colab-df-quickchart-complete:disabled:hover {\n",
              "    background-color: var(--disabled-bg-color);\n",
              "    fill: var(--disabled-fill-color);\n",
              "    box-shadow: none;\n",
              "  }\n",
              "\n",
              "  .colab-df-spinner {\n",
              "    border: 2px solid var(--fill-color);\n",
              "    border-color: transparent;\n",
              "    border-bottom-color: var(--fill-color);\n",
              "    animation:\n",
              "      spin 1s steps(1) infinite;\n",
              "  }\n",
              "\n",
              "  @keyframes spin {\n",
              "    0% {\n",
              "      border-color: transparent;\n",
              "      border-bottom-color: var(--fill-color);\n",
              "      border-left-color: var(--fill-color);\n",
              "    }\n",
              "    20% {\n",
              "      border-color: transparent;\n",
              "      border-left-color: var(--fill-color);\n",
              "      border-top-color: var(--fill-color);\n",
              "    }\n",
              "    30% {\n",
              "      border-color: transparent;\n",
              "      border-left-color: var(--fill-color);\n",
              "      border-top-color: var(--fill-color);\n",
              "      border-right-color: var(--fill-color);\n",
              "    }\n",
              "    40% {\n",
              "      border-color: transparent;\n",
              "      border-right-color: var(--fill-color);\n",
              "      border-top-color: var(--fill-color);\n",
              "    }\n",
              "    60% {\n",
              "      border-color: transparent;\n",
              "      border-right-color: var(--fill-color);\n",
              "    }\n",
              "    80% {\n",
              "      border-color: transparent;\n",
              "      border-right-color: var(--fill-color);\n",
              "      border-bottom-color: var(--fill-color);\n",
              "    }\n",
              "    90% {\n",
              "      border-color: transparent;\n",
              "      border-bottom-color: var(--fill-color);\n",
              "    }\n",
              "  }\n",
              "</style>\n",
              "\n",
              "  <script>\n",
              "    async function quickchart(key) {\n",
              "      const quickchartButtonEl =\n",
              "        document.querySelector('#' + key + ' button');\n",
              "      quickchartButtonEl.disabled = true;  // To prevent multiple clicks.\n",
              "      quickchartButtonEl.classList.add('colab-df-spinner');\n",
              "      try {\n",
              "        const charts = await google.colab.kernel.invokeFunction(\n",
              "            'suggestCharts', [key], {});\n",
              "      } catch (error) {\n",
              "        console.error('Error during call to suggestCharts:', error);\n",
              "      }\n",
              "      quickchartButtonEl.classList.remove('colab-df-spinner');\n",
              "      quickchartButtonEl.classList.add('colab-df-quickchart-complete');\n",
              "    }\n",
              "    (() => {\n",
              "      let quickchartButtonEl =\n",
              "        document.querySelector('#df-bae7f2dd-11ee-4268-9766-113cb6a26a23 button');\n",
              "      quickchartButtonEl.style.display =\n",
              "        google.colab.kernel.accessAllowed ? 'block' : 'none';\n",
              "    })();\n",
              "  </script>\n",
              "</div>\n",
              "    </div>\n",
              "  </div>\n"
            ],
            "application/vnd.google.colaboratory.intrinsic+json": {
              "type": "dataframe",
              "variable_name": "train_results",
              "summary": "{\n  \"name\": \"train_results\",\n  \"rows\": 1812,\n  \"fields\": [\n    {\n      \"column\": \"Train Predictions\",\n      \"properties\": {\n        \"dtype\": \"float32\",\n        \"samples\": [\n          3.0250356197357178,\n          1.853061318397522,\n          2.5219151973724365\n        ],\n        \"num_unique_values\": 1812,\n        \"semantic_type\": \"\",\n        \"description\": \"\"\n      }\n    },\n    {\n      \"column\": \"Actuals\",\n      \"properties\": {\n        \"dtype\": \"number\",\n        \"std\": 264.04685500599595,\n        \"min\": 0.0,\n        \"max\": 3918.5,\n        \"samples\": [\n          7.865,\n          3.161,\n          8.069\n        ],\n        \"num_unique_values\": 1779,\n        \"semantic_type\": \"\",\n        \"description\": \"\"\n      }\n    }\n  ]\n}"
            }
          },
          "metadata": {},
          "execution_count": 142
        }
      ]
    },
    {
      "cell_type": "code",
      "source": [
        "import matplotlib.pyplot as plt\n",
        "plt.plot(train_results['Train Predictions'][:])\n",
        "plt.plot(train_results['Actuals'][:])"
      ],
      "metadata": {
        "colab": {
          "base_uri": "https://localhost:8080/",
          "height": 448
        },
        "id": "yOFEGrRQRm99",
        "outputId": "297066ef-590d-4dfc-acd2-90fb6b33f95a"
      },
      "execution_count": 143,
      "outputs": [
        {
          "output_type": "execute_result",
          "data": {
            "text/plain": [
              "[<matplotlib.lines.Line2D at 0x7e33f91b76a0>]"
            ]
          },
          "metadata": {},
          "execution_count": 143
        },
        {
          "output_type": "display_data",
          "data": {
            "text/plain": [
              "<Figure size 640x480 with 1 Axes>"
            ],
            "image/png": "[encoded data removed]"
          },
          "metadata": {}
        }
      ]
    },
    {
      "cell_type": "code",
      "source": [
        "val_predictions = model1.predict(validX).flatten()\n",
        "val_results = pd.DataFrame(data={'Val Predictions':val_predictions, 'Actuals':validY})\n",
        "val_results"
      ],
      "metadata": {
        "colab": {
          "base_uri": "https://localhost:8080/",
          "height": 473
        },
        "id": "38AKEhHgRnDr",
        "outputId": "6e0c2570-639c-4689-8ed0-f3c785ea4f6e"
      },
      "execution_count": 144,
      "outputs": [
        {
          "output_type": "stream",
          "name": "stdout",
          "text": [
            "31/31 [==============================] - 0s 2ms/step\n"
          ]
        },
        {
          "output_type": "execute_result",
          "data": {
            "text/plain": [
              "            Val Predictions  Actuals\n",
              "날짜                                  \n",
              "2018-01-08         0.179528    0.000\n",
              "2018-01-09         2.213920    3.462\n",
              "2018-01-15         3.112446    4.869\n",
              "2018-01-17        -0.493451    0.000\n",
              "2018-01-20        -0.273363    0.003\n",
              "...                     ...      ...\n",
              "2022-12-24         5.126061    7.574\n",
              "2022-12-28         7.612655   10.891\n",
              "2022-12-29         6.359779    9.218\n",
              "2022-12-30         2.936999    4.597\n",
              "2022-12-31         4.781101    7.110\n",
              "\n",
              "[988 rows x 2 columns]"
            ],
            "text/html": [
              "\n",
              "  <div id=\"df-1358f5a8-e485-41f4-88c4-65842e513708\" class=\"colab-df-container\">\n",
              "    <div>\n",
              "<style scoped>\n",
              "    .dataframe tbody tr th:only-of-type {\n",
              "        vertical-align: middle;\n",
              "    }\n",
              "\n",
              "    .dataframe tbody tr th {\n",
              "        vertical-align: top;\n",
              "    }\n",
              "\n",
              "    .dataframe thead th {\n",
              "        text-align: right;\n",
              "    }\n",
              "</style>\n",
              "<table border=\"1\" class=\"dataframe\">\n",
              "  <thead>\n",
              "    <tr style=\"text-align: right;\">\n",
              "      <th></th>\n",
              "      <th>Val Predictions</th>\n",
              "      <th>Actuals</th>\n",
              "    </tr>\n",
              "    <tr>\n",
              "      <th>날짜</th>\n",
              "      <th></th>\n",
              "      <th></th>\n",
              "    </tr>\n",
              "  </thead>\n",
              "  <tbody>\n",
              "    <tr>\n",
              "      <th>2018-01-08</th>\n",
              "      <td>0.179528</td>\n",
              "      <td>0.000</td>\n",
              "    </tr>\n",
              "    <tr>\n",
              "      <th>2018-01-09</th>\n",
              "      <td>2.213920</td>\n",
              "      <td>3.462</td>\n",
              "    </tr>\n",
              "    <tr>\n",
              "      <th>2018-01-15</th>\n",
              "      <td>3.112446</td>\n",
              "      <td>4.869</td>\n",
              "    </tr>\n",
              "    <tr>\n",
              "      <th>2018-01-17</th>\n",
              "      <td>-0.493451</td>\n",
              "      <td>0.000</td>\n",
              "    </tr>\n",
              "    <tr>\n",
              "      <th>2018-01-20</th>\n",
              "      <td>-0.273363</td>\n",
              "      <td>0.003</td>\n",
              "    </tr>\n",
              "    <tr>\n",
              "      <th>...</th>\n",
              "      <td>...</td>\n",
              "      <td>...</td>\n",
              "    </tr>\n",
              "    <tr>\n",
              "      <th>2022-12-24</th>\n",
              "      <td>5.126061</td>\n",
              "      <td>7.574</td>\n",
              "    </tr>\n",
              "    <tr>\n",
              "      <th>2022-12-28</th>\n",
              "      <td>7.612655</td>\n",
              "      <td>10.891</td>\n",
              "    </tr>\n",
              "    <tr>\n",
              "      <th>2022-12-29</th>\n",
              "      <td>6.359779</td>\n",
              "      <td>9.218</td>\n",
              "    </tr>\n",
              "    <tr>\n",
              "      <th>2022-12-30</th>\n",
              "      <td>2.936999</td>\n",
              "      <td>4.597</td>\n",
              "    </tr>\n",
              "    <tr>\n",
              "      <th>2022-12-31</th>\n",
              "      <td>4.781101</td>\n",
              "      <td>7.110</td>\n",
              "    </tr>\n",
              "  </tbody>\n",
              "</table>\n",
              "<p>988 rows × 2 columns</p>\n",
              "</div>\n",
              "    <div class=\"colab-df-buttons\">\n",
              "\n",
              "  <div class=\"colab-df-container\">\n",
              "    <button class=\"colab-df-convert\" onclick=\"convertToInteractive('df-1358f5a8-e485-41f4-88c4-65842e513708')\"\n",
              "            title=\"Convert this dataframe to an interactive table.\"\n",
              "            style=\"display:none;\">\n",
              "\n",
              "  <svg xmlns=\"http://www.w3.org/2000/svg\" height=\"24px\" viewBox=\"0 -960 960 960\">\n",
              "    <path d=\"M120-120v-720h720v720H120Zm60-500h600v-160H180v160Zm220 220h160v-160H400v160Zm0 220h160v-160H400v160ZM180-400h160v-160H180v160Zm440 0h160v-160H620v160ZM180-180h160v-160H180v160Zm440 0h160v-160H620v160Z\"/>\n",
              "  </svg>\n",
              "    </button>\n",
              "\n",
              "  <style>\n",
              "    .colab-df-container {\n",
              "      display:flex;\n",
              "      gap: 12px;\n",
              "    }\n",
              "\n",
              "    .colab-df-convert {\n",
              "      background-color: #E8F0FE;\n",
              "      border: none;\n",
              "      border-radius: 50%;\n",
              "      cursor: pointer;\n",
              "      display: none;\n",
              "      fill: #1967D2;\n",
              "      height: 32px;\n",
              "      padding: 0 0 0 0;\n",
              "      width: 32px;\n",
              "    }\n",
              "\n",
              "    .colab-df-convert:hover {\n",
              "      background-color: #E2EBFA;\n",
              "      box-shadow: 0px 1px 2px rgba(60, 64, 67, 0.3), 0px 1px 3px 1px rgba(60, 64, 67, 0.15);\n",
              "      fill: #174EA6;\n",
              "    }\n",
              "\n",
              "    .colab-df-buttons div {\n",
              "      margin-bottom: 4px;\n",
              "    }\n",
              "\n",
              "    [theme=dark] .colab-df-convert {\n",
              "      background-color: #3B4455;\n",
              "      fill: #D2E3FC;\n",
              "    }\n",
              "\n",
              "    [theme=dark] .colab-df-convert:hover {\n",
              "      background-color: #434B5C;\n",
              "      box-shadow: 0px 1px 3px 1px rgba(0, 0, 0, 0.15);\n",
              "      filter: drop-shadow(0px 1px 2px rgba(0, 0, 0, 0.3));\n",
              "      fill: #FFFFFF;\n",
              "    }\n",
              "  </style>\n",
              "\n",
              "    <script>\n",
              "      const buttonEl =\n",
              "        document.querySelector('#df-1358f5a8-e485-41f4-88c4-65842e513708 button.colab-df-convert');\n",
              "      buttonEl.style.display =\n",
              "        google.colab.kernel.accessAllowed ? 'block' : 'none';\n",
              "\n",
              "      async function convertToInteractive(key) {\n",
              "        const element = document.querySelector('#df-1358f5a8-e485-41f4-88c4-65842e513708');\n",
              "        const dataTable =\n",
              "          await google.colab.kernel.invokeFunction('convertToInteractive',\n",
              "                                                    [key], {});\n",
              "        if (!dataTable) return;\n",
              "\n",
              "        const docLinkHtml = 'Like what you see? Visit the ' +\n",
              "          '<a target=\"_blank\" href=https://colab.research.google.com/notebooks/data_table.ipynb>data table notebook</a>'\n",
              "          + ' to learn more about interactive tables.';\n",
              "        element.innerHTML = '';\n",
              "        dataTable['output_type'] = 'display_data';\n",
              "        await google.colab.output.renderOutput(dataTable, element);\n",
              "        const docLink = document.createElement('div');\n",
              "        docLink.innerHTML = docLinkHtml;\n",
              "        element.appendChild(docLink);\n",
              "      }\n",
              "    </script>\n",
              "  </div>\n",
              "\n",
              "\n",
              "<div id=\"df-9f0f93f0-fbcd-464b-a318-b56bb7bd0920\">\n",
              "  <button class=\"colab-df-quickchart\" onclick=\"quickchart('df-9f0f93f0-fbcd-464b-a318-b56bb7bd0920')\"\n",
              "            title=\"Suggest charts\"\n",
              "            style=\"display:none;\">\n",
              "\n",
              "<svg xmlns=\"http://www.w3.org/2000/svg\" height=\"24px\"viewBox=\"0 0 24 24\"\n",
              "     width=\"24px\">\n",
              "    <g>\n",
              "        <path d=\"M19 3H5c-1.1 0-2 .9-2 2v14c0 1.1.9 2 2 2h14c1.1 0 2-.9 2-2V5c0-1.1-.9-2-2-2zM9 17H7v-7h2v7zm4 0h-2V7h2v10zm4 0h-2v-4h2v4z\"/>\n",
              "    </g>\n",
              "</svg>\n",
              "  </button>\n",
              "\n",
              "<style>\n",
              "  .colab-df-quickchart {\n",
              "      --bg-color: #E8F0FE;\n",
              "      --fill-color: #1967D2;\n",
              "      --hover-bg-color: #E2EBFA;\n",
              "      --hover-fill-color: #174EA6;\n",
              "      --disabled-fill-color: #AAA;\n",
              "      --disabled-bg-color: #DDD;\n",
              "  }\n",
              "\n",
              "  [theme=dark] .colab-df-quickchart {\n",
              "      --bg-color: #3B4455;\n",
              "      --fill-color: #D2E3FC;\n",
              "      --hover-bg-color: #434B5C;\n",
              "      --hover-fill-color: #FFFFFF;\n",
              "      --disabled-bg-color: #3B4455;\n",
              "      --disabled-fill-color: #666;\n",
              "  }\n",
              "\n",
              "  .colab-df-quickchart {\n",
              "    background-color: var(--bg-color);\n",
              "    border: none;\n",
              "    border-radius: 50%;\n",
              "    cursor: pointer;\n",
              "    display: none;\n",
              "    fill: var(--fill-color);\n",
              "    height: 32px;\n",
              "    padding: 0;\n",
              "    width: 32px;\n",
              "  }\n",
              "\n",
              "  .colab-df-quickchart:hover {\n",
              "    background-color: var(--hover-bg-color);\n",
              "    box-shadow: 0 1px 2px rgba(60, 64, 67, 0.3), 0 1px 3px 1px rgba(60, 64, 67, 0.15);\n",
              "    fill: var(--button-hover-fill-color);\n",
              "  }\n",
              "\n",
              "  .colab-df-quickchart-complete:disabled,\n",
              "  .colab-df-quickchart-complete:disabled:hover {\n",
              "    background-color: var(--disabled-bg-color);\n",
              "    fill: var(--disabled-fill-color);\n",
              "    box-shadow: none;\n",
              "  }\n",
              "\n",
              "  .colab-df-spinner {\n",
              "    border: 2px solid var(--fill-color);\n",
              "    border-color: transparent;\n",
              "    border-bottom-color: var(--fill-color);\n",
              "    animation:\n",
              "      spin 1s steps(1) infinite;\n",
              "  }\n",
              "\n",
              "  @keyframes spin {\n",
              "    0% {\n",
              "      border-color: transparent;\n",
              "      border-bottom-color: var(--fill-color);\n",
              "      border-left-color: var(--fill-color);\n",
              "    }\n",
              "    20% {\n",
              "      border-color: transparent;\n",
              "      border-left-color: var(--fill-color);\n",
              "      border-top-color: var(--fill-color);\n",
              "    }\n",
              "    30% {\n",
              "      border-color: transparent;\n",
              "      border-left-color: var(--fill-color);\n",
              "      border-top-color: var(--fill-color);\n",
              "      border-right-color: var(--fill-color);\n",
              "    }\n",
              "    40% {\n",
              "      border-color: transparent;\n",
              "      border-right-color: var(--fill-color);\n",
              "      border-top-color: var(--fill-color);\n",
              "    }\n",
              "    60% {\n",
              "      border-color: transparent;\n",
              "      border-right-color: var(--fill-color);\n",
              "    }\n",
              "    80% {\n",
              "      border-color: transparent;\n",
              "      border-right-color: var(--fill-color);\n",
              "      border-bottom-color: var(--fill-color);\n",
              "    }\n",
              "    90% {\n",
              "      border-color: transparent;\n",
              "      border-bottom-color: var(--fill-color);\n",
              "    }\n",
              "  }\n",
              "</style>\n",
              "\n",
              "  <script>\n",
              "    async function quickchart(key) {\n",
              "      const quickchartButtonEl =\n",
              "        document.querySelector('#' + key + ' button');\n",
              "      quickchartButtonEl.disabled = true;  // To prevent multiple clicks.\n",
              "      quickchartButtonEl.classList.add('colab-df-spinner');\n",
              "      try {\n",
              "        const charts = await google.colab.kernel.invokeFunction(\n",
              "            'suggestCharts', [key], {});\n",
              "      } catch (error) {\n",
              "        console.error('Error during call to suggestCharts:', error);\n",
              "      }\n",
              "      quickchartButtonEl.classList.remove('colab-df-spinner');\n",
              "      quickchartButtonEl.classList.add('colab-df-quickchart-complete');\n",
              "    }\n",
              "    (() => {\n",
              "      let quickchartButtonEl =\n",
              "        document.querySelector('#df-9f0f93f0-fbcd-464b-a318-b56bb7bd0920 button');\n",
              "      quickchartButtonEl.style.display =\n",
              "        google.colab.kernel.accessAllowed ? 'block' : 'none';\n",
              "    })();\n",
              "  </script>\n",
              "</div>\n",
              "    </div>\n",
              "  </div>\n"
            ],
            "application/vnd.google.colaboratory.intrinsic+json": {
              "type": "dataframe",
              "variable_name": "val_results",
              "summary": "{\n  \"name\": \"val_results\",\n  \"rows\": 988,\n  \"fields\": [\n    {\n      \"column\": \"Val Predictions\",\n      \"properties\": {\n        \"dtype\": \"float32\",\n        \"samples\": [\n          3.2985055446624756,\n          18.16899299621582,\n          109.09215545654297\n        ],\n        \"num_unique_values\": 988,\n        \"semantic_type\": \"\",\n        \"description\": \"\"\n      }\n    },\n    {\n      \"column\": \"Actuals\",\n      \"properties\": {\n        \"dtype\": \"number\",\n        \"std\": 277.7989531566194,\n        \"min\": 0.0,\n        \"max\": 3373.14,\n        \"samples\": [\n          1356.297,\n          100.207,\n          11.402\n        ],\n        \"num_unique_values\": 965,\n        \"semantic_type\": \"\",\n        \"description\": \"\"\n      }\n    }\n  ]\n}"
            }
          },
          "metadata": {},
          "execution_count": 144
        }
      ]
    },
    {
      "cell_type": "code",
      "source": [
        "plt.plot(val_results['Val Predictions'][:])\n",
        "plt.plot(val_results['Actuals'][:])\n"
      ],
      "metadata": {
        "colab": {
          "base_uri": "https://localhost:8080/",
          "height": 449
        },
        "id": "FQp5aMnYRnJa",
        "outputId": "e294a702-4e08-42f7-f38f-da642a83c2da"
      },
      "execution_count": 145,
      "outputs": [
        {
          "output_type": "execute_result",
          "data": {
            "text/plain": [
              "[<matplotlib.lines.Line2D at 0x7e33efa893f0>]"
            ]
          },
          "metadata": {},
          "execution_count": 145
        },
        {
          "output_type": "display_data",
          "data": {
            "text/plain": [
              "<Figure size 640x480 with 1 Axes>"
            ],
            "image/png": "[encoded data removed]"
          },
          "metadata": {}
        }
      ]
    },
    {
      "cell_type": "code",
      "source": [
        "test_predictions = model1.predict(testX).flatten()\n",
        "test_results = pd.DataFrame(data={'Test Predictions':test_predictions, 'Actuals':testY})\n",
        "test_results"
      ],
      "metadata": {
        "colab": {
          "base_uri": "https://localhost:8080/",
          "height": 473
        },
        "id": "iMeOwoSdZyWM",
        "outputId": "0c56b24f-38d3-4d09-bcfc-775fb0b62086"
      },
      "execution_count": 146,
      "outputs": [
        {
          "output_type": "stream",
          "name": "stdout",
          "text": [
            "7/7 [==============================] - 0s 2ms/step\n"
          ]
        },
        {
          "output_type": "execute_result",
          "data": {
            "text/plain": [
              "            Test Predictions  Actuals\n",
              "날짜                                   \n",
              "2023-01-06          4.821567    7.096\n",
              "2023-01-07          2.655162    3.040\n",
              "2023-01-08          4.073339    6.152\n",
              "2023-01-13         25.921282   31.789\n",
              "2023-01-14         30.698061   36.020\n",
              "...                      ...      ...\n",
              "2023-12-20         36.462177   42.639\n",
              "2023-12-24         18.954266   24.665\n",
              "2023-12-25         20.497309   25.785\n",
              "2023-12-30         23.762396   29.183\n",
              "2023-12-31         21.301964   25.803\n",
              "\n",
              "[193 rows x 2 columns]"
            ],
            "text/html": [
              "\n",
              "  <div id=\"df-66fcf34c-9caa-4d0d-8286-b80f2f85815f\" class=\"colab-df-container\">\n",
              "    <div>\n",
              "<style scoped>\n",
              "    .dataframe tbody tr th:only-of-type {\n",
              "        vertical-align: middle;\n",
              "    }\n",
              "\n",
              "    .dataframe tbody tr th {\n",
              "        vertical-align: top;\n",
              "    }\n",
              "\n",
              "    .dataframe thead th {\n",
              "        text-align: right;\n",
              "    }\n",
              "</style>\n",
              "<table border=\"1\" class=\"dataframe\">\n",
              "  <thead>\n",
              "    <tr style=\"text-align: right;\">\n",
              "      <th></th>\n",
              "      <th>Test Predictions</th>\n",
              "      <th>Actuals</th>\n",
              "    </tr>\n",
              "    <tr>\n",
              "      <th>날짜</th>\n",
              "      <th></th>\n",
              "      <th></th>\n",
              "    </tr>\n",
              "  </thead>\n",
              "  <tbody>\n",
              "    <tr>\n",
              "      <th>2023-01-06</th>\n",
              "      <td>4.821567</td>\n",
              "      <td>7.096</td>\n",
              "    </tr>\n",
              "    <tr>\n",
              "      <th>2023-01-07</th>\n",
              "      <td>2.655162</td>\n",
              "      <td>3.040</td>\n",
              "    </tr>\n",
              "    <tr>\n",
              "      <th>2023-01-08</th>\n",
              "      <td>4.073339</td>\n",
              "      <td>6.152</td>\n",
              "    </tr>\n",
              "    <tr>\n",
              "      <th>2023-01-13</th>\n",
              "      <td>25.921282</td>\n",
              "      <td>31.789</td>\n",
              "    </tr>\n",
              "    <tr>\n",
              "      <th>2023-01-14</th>\n",
              "      <td>30.698061</td>\n",
              "      <td>36.020</td>\n",
              "    </tr>\n",
              "    <tr>\n",
              "      <th>...</th>\n",
              "      <td>...</td>\n",
              "      <td>...</td>\n",
              "    </tr>\n",
              "    <tr>\n",
              "      <th>2023-12-20</th>\n",
              "      <td>36.462177</td>\n",
              "      <td>42.639</td>\n",
              "    </tr>\n",
              "    <tr>\n",
              "      <th>2023-12-24</th>\n",
              "      <td>18.954266</td>\n",
              "      <td>24.665</td>\n",
              "    </tr>\n",
              "    <tr>\n",
              "      <th>2023-12-25</th>\n",
              "      <td>20.497309</td>\n",
              "      <td>25.785</td>\n",
              "    </tr>\n",
              "    <tr>\n",
              "      <th>2023-12-30</th>\n",
              "      <td>23.762396</td>\n",
              "      <td>29.183</td>\n",
              "    </tr>\n",
              "    <tr>\n",
              "      <th>2023-12-31</th>\n",
              "      <td>21.301964</td>\n",
              "      <td>25.803</td>\n",
              "    </tr>\n",
              "  </tbody>\n",
              "</table>\n",
              "<p>193 rows × 2 columns</p>\n",
              "</div>\n",
              "    <div class=\"colab-df-buttons\">\n",
              "\n",
              "  <div class=\"colab-df-container\">\n",
              "    <button class=\"colab-df-convert\" onclick=\"convertToInteractive('df-66fcf34c-9caa-4d0d-8286-b80f2f85815f')\"\n",
              "            title=\"Convert this dataframe to an interactive table.\"\n",
              "            style=\"display:none;\">\n",
              "\n",
              "  <svg xmlns=\"http://www.w3.org/2000/svg\" height=\"24px\" viewBox=\"0 -960 960 960\">\n",
              "    <path d=\"M120-120v-720h720v720H120Zm60-500h600v-160H180v160Zm220 220h160v-160H400v160Zm0 220h160v-160H400v160ZM180-400h160v-160H180v160Zm440 0h160v-160H620v160ZM180-180h160v-160H180v160Zm440 0h160v-160H620v160Z\"/>\n",
              "  </svg>\n",
              "    </button>\n",
              "\n",
              "  <style>\n",
              "    .colab-df-container {\n",
              "      display:flex;\n",
              "      gap: 12px;\n",
              "    }\n",
              "\n",
              "    .colab-df-convert {\n",
              "      background-color: #E8F0FE;\n",
              "      border: none;\n",
              "      border-radius: 50%;\n",
              "      cursor: pointer;\n",
              "      display: none;\n",
              "      fill: #1967D2;\n",
              "      height: 32px;\n",
              "      padding: 0 0 0 0;\n",
              "      width: 32px;\n",
              "    }\n",
              "\n",
              "    .colab-df-convert:hover {\n",
              "      background-color: #E2EBFA;\n",
              "      box-shadow: 0px 1px 2px rgba(60, 64, 67, 0.3), 0px 1px 3px 1px rgba(60, 64, 67, 0.15);\n",
              "      fill: #174EA6;\n",
              "    }\n",
              "\n",
              "    .colab-df-buttons div {\n",
              "      margin-bottom: 4px;\n",
              "    }\n",
              "\n",
              "    [theme=dark] .colab-df-convert {\n",
              "      background-color: #3B4455;\n",
              "      fill: #D2E3FC;\n",
              "    }\n",
              "\n",
              "    [theme=dark] .colab-df-convert:hover {\n",
              "      background-color: #434B5C;\n",
              "      box-shadow: 0px 1px 3px 1px rgba(0, 0, 0, 0.15);\n",
              "      filter: drop-shadow(0px 1px 2px rgba(0, 0, 0, 0.3));\n",
              "      fill: #FFFFFF;\n",
              "    }\n",
              "  </style>\n",
              "\n",
              "    <script>\n",
              "      const buttonEl =\n",
              "        document.querySelector('#df-66fcf34c-9caa-4d0d-8286-b80f2f85815f button.colab-df-convert');\n",
              "      buttonEl.style.display =\n",
              "        google.colab.kernel.accessAllowed ? 'block' : 'none';\n",
              "\n",
              "      async function convertToInteractive(key) {\n",
              "        const element = document.querySelector('#df-66fcf34c-9caa-4d0d-8286-b80f2f85815f');\n",
              "        const dataTable =\n",
              "          await google.colab.kernel.invokeFunction('convertToInteractive',\n",
              "                                                    [key], {});\n",
              "        if (!dataTable) return;\n",
              "\n",
              "        const docLinkHtml = 'Like what you see? Visit the ' +\n",
              "          '<a target=\"_blank\" href=https://colab.research.google.com/notebooks/data_table.ipynb>data table notebook</a>'\n",
              "          + ' to learn more about interactive tables.';\n",
              "        element.innerHTML = '';\n",
              "        dataTable['output_type'] = 'display_data';\n",
              "        await google.colab.output.renderOutput(dataTable, element);\n",
              "        const docLink = document.createElement('div');\n",
              "        docLink.innerHTML = docLinkHtml;\n",
              "        element.appendChild(docLink);\n",
              "      }\n",
              "    </script>\n",
              "  </div>\n",
              "\n",
              "\n",
              "<div id=\"df-1dbe130d-5de2-4fa6-aabf-07166ba54265\">\n",
              "  <button class=\"colab-df-quickchart\" onclick=\"quickchart('df-1dbe130d-5de2-4fa6-aabf-07166ba54265')\"\n",
              "            title=\"Suggest charts\"\n",
              "            style=\"display:none;\">\n",
              "\n",
              "<svg xmlns=\"http://www.w3.org/2000/svg\" height=\"24px\"viewBox=\"0 0 24 24\"\n",
              "     width=\"24px\">\n",
              "    <g>\n",
              "        <path d=\"M19 3H5c-1.1 0-2 .9-2 2v14c0 1.1.9 2 2 2h14c1.1 0 2-.9 2-2V5c0-1.1-.9-2-2-2zM9 17H7v-7h2v7zm4 0h-2V7h2v10zm4 0h-2v-4h2v4z\"/>\n",
              "    </g>\n",
              "</svg>\n",
              "  </button>\n",
              "\n",
              "<style>\n",
              "  .colab-df-quickchart {\n",
              "      --bg-color: #E8F0FE;\n",
              "      --fill-color: #1967D2;\n",
              "      --hover-bg-color: #E2EBFA;\n",
              "      --hover-fill-color: #174EA6;\n",
              "      --disabled-fill-color: #AAA;\n",
              "      --disabled-bg-color: #DDD;\n",
              "  }\n",
              "\n",
              "  [theme=dark] .colab-df-quickchart {\n",
              "      --bg-color: #3B4455;\n",
              "      --fill-color: #D2E3FC;\n",
              "      --hover-bg-color: #434B5C;\n",
              "      --hover-fill-color: #FFFFFF;\n",
              "      --disabled-bg-color: #3B4455;\n",
              "      --disabled-fill-color: #666;\n",
              "  }\n",
              "\n",
              "  .colab-df-quickchart {\n",
              "    background-color: var(--bg-color);\n",
              "    border: none;\n",
              "    border-radius: 50%;\n",
              "    cursor: pointer;\n",
              "    display: none;\n",
              "    fill: var(--fill-color);\n",
              "    height: 32px;\n",
              "    padding: 0;\n",
              "    width: 32px;\n",
              "  }\n",
              "\n",
              "  .colab-df-quickchart:hover {\n",
              "    background-color: var(--hover-bg-color);\n",
              "    box-shadow: 0 1px 2px rgba(60, 64, 67, 0.3), 0 1px 3px 1px rgba(60, 64, 67, 0.15);\n",
              "    fill: var(--button-hover-fill-color);\n",
              "  }\n",
              "\n",
              "  .colab-df-quickchart-complete:disabled,\n",
              "  .colab-df-quickchart-complete:disabled:hover {\n",
              "    background-color: var(--disabled-bg-color);\n",
              "    fill: var(--disabled-fill-color);\n",
              "    box-shadow: none;\n",
              "  }\n",
              "\n",
              "  .colab-df-spinner {\n",
              "    border: 2px solid var(--fill-color);\n",
              "    border-color: transparent;\n",
              "    border-bottom-color: var(--fill-color);\n",
              "    animation:\n",
              "      spin 1s steps(1) infinite;\n",
              "  }\n",
              "\n",
              "  @keyframes spin {\n",
              "    0% {\n",
              "      border-color: transparent;\n",
              "      border-bottom-color: var(--fill-color);\n",
              "      border-left-color: var(--fill-color);\n",
              "    }\n",
              "    20% {\n",
              "      border-color: transparent;\n",
              "      border-left-color: var(--fill-color);\n",
              "      border-top-color: var(--fill-color);\n",
              "    }\n",
              "    30% {\n",
              "      border-color: transparent;\n",
              "      border-left-color: var(--fill-color);\n",
              "      border-top-color: var(--fill-color);\n",
              "      border-right-color: var(--fill-color);\n",
              "    }\n",
              "    40% {\n",
              "      border-color: transparent;\n",
              "      border-right-color: var(--fill-color);\n",
              "      border-top-color: var(--fill-color);\n",
              "    }\n",
              "    60% {\n",
              "      border-color: transparent;\n",
              "      border-right-color: var(--fill-color);\n",
              "    }\n",
              "    80% {\n",
              "      border-color: transparent;\n",
              "      border-right-color: var(--fill-color);\n",
              "      border-bottom-color: var(--fill-color);\n",
              "    }\n",
              "    90% {\n",
              "      border-color: transparent;\n",
              "      border-bottom-color: var(--fill-color);\n",
              "    }\n",
              "  }\n",
              "</style>\n",
              "\n",
              "  <script>\n",
              "    async function quickchart(key) {\n",
              "      const quickchartButtonEl =\n",
              "        document.querySelector('#' + key + ' button');\n",
              "      quickchartButtonEl.disabled = true;  // To prevent multiple clicks.\n",
              "      quickchartButtonEl.classList.add('colab-df-spinner');\n",
              "      try {\n",
              "        const charts = await google.colab.kernel.invokeFunction(\n",
              "            'suggestCharts', [key], {});\n",
              "      } catch (error) {\n",
              "        console.error('Error during call to suggestCharts:', error);\n",
              "      }\n",
              "      quickchartButtonEl.classList.remove('colab-df-spinner');\n",
              "      quickchartButtonEl.classList.add('colab-df-quickchart-complete');\n",
              "    }\n",
              "    (() => {\n",
              "      let quickchartButtonEl =\n",
              "        document.querySelector('#df-1dbe130d-5de2-4fa6-aabf-07166ba54265 button');\n",
              "      quickchartButtonEl.style.display =\n",
              "        google.colab.kernel.accessAllowed ? 'block' : 'none';\n",
              "    })();\n",
              "  </script>\n",
              "</div>\n",
              "    </div>\n",
              "  </div>\n"
            ],
            "application/vnd.google.colaboratory.intrinsic+json": {
              "type": "dataframe",
              "variable_name": "test_results",
              "summary": "{\n  \"name\": \"test_results\",\n  \"rows\": 193,\n  \"fields\": [\n    {\n      \"column\": \"Test Predictions\",\n      \"properties\": {\n        \"dtype\": \"float32\",\n        \"samples\": [\n          19.073455810546875,\n          44.89280700683594,\n          23.46449089050293\n        ],\n        \"num_unique_values\": 193,\n        \"semantic_type\": \"\",\n        \"description\": \"\"\n      }\n    },\n    {\n      \"column\": \"Actuals\",\n      \"properties\": {\n        \"dtype\": \"number\",\n        \"std\": 112.53491776408448,\n        \"min\": 3.04,\n        \"max\": 767.145,\n        \"samples\": [\n          12.669,\n          51.88,\n          508.677\n        ],\n        \"num_unique_values\": 190,\n        \"semantic_type\": \"\",\n        \"description\": \"\"\n      }\n    }\n  ]\n}"
            }
          },
          "metadata": {},
          "execution_count": 146
        }
      ]
    },
    {
      "cell_type": "code",
      "source": [
        "plt.plot(test_results['Actuals'][:])\n",
        "plt.plot(test_results['Test Predictions'][:])\n",
        "plt.legend(['real', 'predict'])"
      ],
      "metadata": {
        "colab": {
          "base_uri": "https://localhost:8080/",
          "height": 448
        },
        "id": "gQTEU6IFZyTy",
        "outputId": "7f1000f1-442c-4b57-fc09-f39b9d8cf9d2"
      },
      "execution_count": 147,
      "outputs": [
        {
          "output_type": "execute_result",
          "data": {
            "text/plain": [
              "<matplotlib.legend.Legend at 0x7e340909fc10>"
            ]
          },
          "metadata": {},
          "execution_count": 147
        },
        {
          "output_type": "display_data",
          "data": {
            "text/plain": [
              "<Figure size 640x480 with 1 Axes>"
            ],
            "image/png": "[encoded data removed]"
          },
          "metadata": {}
        }
      ]
    },
    {
      "cell_type": "code",
      "source": [
        "from sklearn.metrics import r2_score\n",
        "from sklearn.metrics import mean_squared_error\n",
        "\n",
        "rmse = np.sqrt(mean_squared_error(testY, test_predictions))\n",
        "rsquared_score = r2_score(testY, test_predictions)\n",
        "print('R^2 Score : %f' %(rsquared_score))\n",
        "print('RMSE : %.2f' %(rmse))"
      ],
      "metadata": {
        "id": "ZFySh6u0ZyRh",
        "colab": {
          "base_uri": "https://localhost:8080/"
        },
        "outputId": "c488a2d7-3d7a-4ecf-e46d-bdeed2dcf290"
      },
      "execution_count": 148,
      "outputs": [
        {
          "output_type": "stream",
          "name": "stdout",
          "text": [
            "R^2 Score : 0.995283\n",
            "RMSE : 7.71\n"
          ]
        }
      ]
    },
    {
      "cell_type": "code",
      "source": [],
      "metadata": {
        "id": "TA95nJKIZyPF"
      },
      "execution_count": null,
      "outputs": []
    },
    {
      "cell_type": "code",
      "source": [],
      "metadata": {
        "id": "Oh-1dC1_ZyMv"
      },
      "execution_count": null,
      "outputs": []
    },
    {
      "cell_type": "code",
      "source": [],
      "metadata": {
        "id": "-5jqThn8ZyGf"
      },
      "execution_count": null,
      "outputs": []
    },
    {
      "cell_type": "code",
      "source": [],
      "metadata": {
        "id": "WdnxNSDnZx9H"
      },
      "execution_count": null,
      "outputs": []
    }
  ]
}