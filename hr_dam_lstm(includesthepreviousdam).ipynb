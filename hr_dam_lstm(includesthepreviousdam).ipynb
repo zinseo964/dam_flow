{
  "nbformat": 4,
  "nbformat_minor": 0,
  "metadata": {
    "colab": {
      "provenance": [],
      "authorship_tag": "ABX9TyOM95OGdel46WlTBNEmMxOc",
      "include_colab_link": true
    },
    "kernelspec": {
      "name": "python3",
      "display_name": "Python 3"
    },
    "language_info": {
      "name": "python"
    }
  },
  "cells": [
    {
      "cell_type": "markdown",
      "metadata": {
        "id": "view-in-github",
        "colab_type": "text"
      },
      "source": [
        "<a href=\"https://colab.research.google.com/github/zinseo964/dam_flow/blob/main/hr_dam_lstm(includesthepreviousdam).ipynb\" target=\"_parent\"><img src=\"https://colab.research.google.com/assets/colab-badge.svg\" alt=\"Open In Colab\"/></a>"
      ]
    },
    {
      "cell_type": "code",
      "execution_count": 1,
      "metadata": {
        "id": "GQo1Ioqzm9dq",
        "colab": {
          "base_uri": "https://localhost:8080/"
        },
        "outputId": "3aee7a6b-fb8e-45aa-a0f5-1c21c8266c37"
      },
      "outputs": [
        {
          "output_type": "stream",
          "name": "stdout",
          "text": [
            "Drive already mounted at /content/drive; to attempt to forcibly remount, call drive.mount(\"/content/drive\", force_remount=True).\n"
          ]
        }
      ],
      "source": [
        "\"\"\" LSTM prediction: stacked LSTM \"\"\"\n",
        "\n",
        "# import libraries\n",
        "import numpy as np\n",
        "import pandas as pd\n",
        "from tensorflow.keras.models import Sequential\n",
        "from tensorflow.keras.layers import LSTM, Dense\n",
        "from tensorflow.keras.optimizers import Adam\n",
        "from sklearn.preprocessing import StandardScaler, MinMaxScaler\n",
        "import matplotlib.pyplot as plt\n",
        "\n",
        "from google.colab import drive\n",
        "drive.mount('/content/drive')"
      ]
    },
    {
      "cell_type": "code",
      "source": [
        "data = pd.read_csv('/content/drive/MyDrive/240410/data_hr - data_hr.csv', encoding='utf-8')"
      ],
      "metadata": {
        "id": "NHfpFZhV1KrZ"
      },
      "execution_count": 106,
      "outputs": []
    },
    {
      "cell_type": "code",
      "source": [
        "print(data)"
      ],
      "metadata": {
        "colab": {
          "base_uri": "https://localhost:8080/"
        },
        "id": "8LCkdpxW4q0W",
        "outputId": "05c752c0-484c-4cc9-f88c-10e7adcef8a0"
      },
      "execution_count": 109,
      "outputs": [
        {
          "output_type": "stream",
          "name": "stdout",
          "text": [
            "                    date      dam   90  100  101  211  212\n",
            "0        2000-01-01 0:00   13.100  0.1  0.0  0.0  0.0  0.0\n",
            "1        2000-01-01 1:00    0.000  0.0  0.0  0.0  0.0  0.0\n",
            "2        2000-01-01 2:00    0.000  0.0  0.0  0.0  0.0  0.0\n",
            "3        2000-01-01 3:00  143.400  0.7  0.0  0.0  0.0  0.0\n",
            "4        2000-01-01 4:00    0.000  0.0  0.0  0.0  0.0  0.0\n",
            "...                  ...      ...  ...  ...  ...  ...  ...\n",
            "210379  2023-12-31 19:00  173.106  0.0  0.0  0.0  0.0  0.0\n",
            "210380  2023-12-31 20:00    0.000  0.0  0.0  0.0  0.0  0.0\n",
            "210381  2023-12-31 21:00  124.118  0.0  0.0  0.0  0.0  0.0\n",
            "210382  2023-12-31 22:00   15.417  0.0  0.0  0.0  0.0  0.0\n",
            "210383  2023-12-31 23:00    0.000  0.0  0.0  0.0  0.0  0.0\n",
            "\n",
            "[210384 rows x 7 columns]\n"
          ]
        }
      ]
    },
    {
      "cell_type": "code",
      "source": [
        "data = data.fillna(0)\n",
        "data = data[26280:]\n",
        "data = data.reset_index(drop=True, inplace=False)"
      ],
      "metadata": {
        "id": "bXv8dcE91KhZ"
      },
      "execution_count": 108,
      "outputs": []
    },
    {
      "cell_type": "code",
      "source": [
        "original_dam = data['dam']"
      ],
      "metadata": {
        "id": "36Yl3EaL1KfB"
      },
      "execution_count": 110,
      "outputs": []
    },
    {
      "cell_type": "code",
      "source": [
        "print(original_dam)"
      ],
      "metadata": {
        "colab": {
          "base_uri": "https://localhost:8080/"
        },
        "id": "OomSV-1RnNNc",
        "outputId": "6e8cad60-f7ad-4f7e-9d2a-fc1a9014be18"
      },
      "execution_count": 111,
      "outputs": [
        {
          "output_type": "stream",
          "name": "stdout",
          "text": [
            "0          13.100\n",
            "1           0.000\n",
            "2           0.000\n",
            "3         143.400\n",
            "4           0.000\n",
            "           ...   \n",
            "210379    173.106\n",
            "210380      0.000\n",
            "210381    124.118\n",
            "210382     15.417\n",
            "210383      0.000\n",
            "Name: dam, Length: 210384, dtype: float64\n"
          ]
        }
      ]
    },
    {
      "cell_type": "code",
      "source": [
        "# separate dates for future plotting\n",
        "dates = pd.to_datetime(data['date'])"
      ],
      "metadata": {
        "id": "bT8kYSbbnl3d"
      },
      "execution_count": 112,
      "outputs": []
    },
    {
      "cell_type": "code",
      "source": [],
      "metadata": {
        "id": "Y4QTgucjbDwY"
      },
      "execution_count": 50,
      "outputs": []
    },
    {
      "cell_type": "code",
      "source": [
        "# variables for training\n",
        "cols = list(data)[1:7]"
      ],
      "metadata": {
        "id": "ogA_xIwDnnZH"
      },
      "execution_count": 113,
      "outputs": []
    },
    {
      "cell_type": "code",
      "source": [
        "print(cols)"
      ],
      "metadata": {
        "colab": {
          "base_uri": "https://localhost:8080/"
        },
        "id": "UAxYrWfg_32w",
        "outputId": "894f188b-1343-4482-fda9-2d09d80808d8"
      },
      "execution_count": 114,
      "outputs": [
        {
          "output_type": "stream",
          "name": "stdout",
          "text": [
            "['dam', '90', '100', '101', '211', '212']\n"
          ]
        }
      ]
    },
    {
      "cell_type": "code",
      "source": [
        "data.dtypes"
      ],
      "metadata": {
        "colab": {
          "base_uri": "https://localhost:8080/"
        },
        "id": "GylCG3T_sxF4",
        "outputId": "061d4263-16a8-4862-96bb-7511deadaa0c"
      },
      "execution_count": 115,
      "outputs": [
        {
          "output_type": "execute_result",
          "data": {
            "text/plain": [
              "date     object\n",
              "dam     float64\n",
              "90      float64\n",
              "100     float64\n",
              "101     float64\n",
              "211     float64\n",
              "212     float64\n",
              "dtype: object"
            ]
          },
          "metadata": {},
          "execution_count": 115
        }
      ]
    },
    {
      "cell_type": "code",
      "source": [
        "# new dataframe with only training data - 6 columns\n",
        "data = data[cols].astype(float)"
      ],
      "metadata": {
        "id": "8Din6kzRnoen"
      },
      "execution_count": 116,
      "outputs": []
    },
    {
      "cell_type": "code",
      "source": [
        "# normalize the dataset\n",
        "scaler = MinMaxScaler(feature_range = (0,1))\n",
        "dam_data_scaled = scaler.fit_transform(data)"
      ],
      "metadata": {
        "id": "HRrDFZ_Gnpko"
      },
      "execution_count": 117,
      "outputs": []
    },
    {
      "cell_type": "code",
      "source": [
        "dam = data.drop(['90','100','101','211','212'], axis = 1)"
      ],
      "metadata": {
        "id": "qrdkeIePSL89"
      },
      "execution_count": 118,
      "outputs": []
    },
    {
      "cell_type": "code",
      "source": [
        "scaler_dam = MinMaxScaler(feature_range=(0,1))\n",
        "dam_scaled = scaler_dam.fit_transform(dam)"
      ],
      "metadata": {
        "id": "sC8fMiswut2i"
      },
      "execution_count": 119,
      "outputs": []
    },
    {
      "cell_type": "code",
      "source": [
        "print(dam_data_scaled)"
      ],
      "metadata": {
        "colab": {
          "base_uri": "https://localhost:8080/"
        },
        "id": "oszHWO0UEAiO",
        "outputId": "920a9dc9-4787-42e3-fede-775c5be69237"
      },
      "execution_count": 120,
      "outputs": [
        {
          "output_type": "stream",
          "name": "stdout",
          "text": [
            "[[0.00123644 0.0011274  0.         0.         0.         0.        ]\n",
            " [0.         0.         0.         0.         0.         0.        ]\n",
            " [0.         0.         0.         0.         0.         0.        ]\n",
            " ...\n",
            " [0.01171487 0.         0.         0.         0.         0.        ]\n",
            " [0.00145513 0.         0.         0.         0.         0.        ]\n",
            " [0.         0.         0.         0.         0.         0.        ]]\n"
          ]
        }
      ]
    },
    {
      "cell_type": "code",
      "source": [
        "print(dam_scaled)"
      ],
      "metadata": {
        "colab": {
          "base_uri": "https://localhost:8080/"
        },
        "id": "avdExgS4NcoR",
        "outputId": "32a3dde7-13e5-4a00-afcc-ea279da91351"
      },
      "execution_count": 121,
      "outputs": [
        {
          "output_type": "stream",
          "name": "stdout",
          "text": [
            "[[0.00123644]\n",
            " [0.        ]\n",
            " [0.        ]\n",
            " ...\n",
            " [0.01171487]\n",
            " [0.00145513]\n",
            " [0.        ]]\n"
          ]
        }
      ]
    },
    {
      "cell_type": "code",
      "source": [
        "# split to train data and test data\n",
        "n_train = int(0.9*dam_data_scaled.shape[0])\n",
        "train_data_scaled = dam_data_scaled[0: n_train]\n",
        "train_dates = dates[0: n_train]\n",
        "\n",
        "test_data_scaled = dam_data_scaled[n_train:]\n",
        "test_dates = dates[n_train:]\n",
        "print(test_dates)"
      ],
      "metadata": {
        "id": "1xSw2podnqir",
        "colab": {
          "base_uri": "https://localhost:8080/"
        },
        "outputId": "b9ff0546-868b-4d4d-a9e9-86168299aec4"
      },
      "execution_count": 122,
      "outputs": [
        {
          "output_type": "stream",
          "name": "stdout",
          "text": [
            "189345   2021-08-07 09:00:00\n",
            "189346   2021-08-07 10:00:00\n",
            "189347   2021-08-07 11:00:00\n",
            "189348   2021-08-07 12:00:00\n",
            "189349   2021-08-07 13:00:00\n",
            "                 ...        \n",
            "210379   2023-12-31 19:00:00\n",
            "210380   2023-12-31 20:00:00\n",
            "210381   2023-12-31 21:00:00\n",
            "210382   2023-12-31 22:00:00\n",
            "210383   2023-12-31 23:00:00\n",
            "Name: date, Length: 21039, dtype: datetime64[ns]\n"
          ]
        }
      ]
    },
    {
      "cell_type": "code",
      "source": [
        "print(train_data_scaled)"
      ],
      "metadata": {
        "colab": {
          "base_uri": "https://localhost:8080/"
        },
        "id": "ZUFo-ljhIzIm",
        "outputId": "a7a5d0b8-55c0-4ed8-cf60-dd9537e6ff84"
      },
      "execution_count": 123,
      "outputs": [
        {
          "output_type": "stream",
          "name": "stdout",
          "text": [
            "[[1.23644255e-03 1.12739572e-03 0.00000000e+00 0.00000000e+00\n",
            "  0.00000000e+00 0.00000000e+00]\n",
            " [0.00000000e+00 0.00000000e+00 0.00000000e+00 0.00000000e+00\n",
            "  0.00000000e+00 0.00000000e+00]\n",
            " [0.00000000e+00 0.00000000e+00 0.00000000e+00 0.00000000e+00\n",
            "  0.00000000e+00 0.00000000e+00]\n",
            " ...\n",
            " [4.71924637e-05 0.00000000e+00 0.00000000e+00 0.00000000e+00\n",
            "  0.00000000e+00 0.00000000e+00]\n",
            " [4.71924637e-05 0.00000000e+00 0.00000000e+00 0.00000000e+00\n",
            "  0.00000000e+00 0.00000000e+00]\n",
            " [4.71924637e-05 0.00000000e+00 0.00000000e+00 0.00000000e+00\n",
            "  0.00000000e+00 0.00000000e+00]]\n"
          ]
        }
      ]
    },
    {
      "cell_type": "code",
      "source": [
        "# data reformatting for LSTM\n",
        "pred_days = 1  # prediction period\n",
        "seq_len = 24   # sequence length = past days for future prediction.\n",
        "input_dim = 6  # input_dimension = ['dam', '90', '100', '101', '211', '212']\n",
        "\n",
        "trainX = []\n",
        "trainY = []\n",
        "testX = []\n",
        "testY = []\n",
        "\n",
        "for i in range(seq_len, n_train-pred_days +1):\n",
        "    trainX.append(train_data_scaled[i - seq_len:i, 0:train_data_scaled.shape[1]])\n",
        "    trainY.append(train_data_scaled[i + pred_days - 1:i + pred_days , 0])\n",
        "\n",
        "for i in range(seq_len, len(test_data_scaled)-pred_days +1):\n",
        "    testX.append(test_data_scaled[i - seq_len:i, 0:test_data_scaled.shape[1]])\n",
        "    testY.append(test_data_scaled[i + pred_days - 1:i + pred_days, 0])\n",
        "\n",
        "trainX, trainY = np.array(trainX), np.array(trainY)\n",
        "testX, testY = np.array(testX), np.array(testY)"
      ],
      "metadata": {
        "id": "iCOaHw2Cnsnz"
      },
      "execution_count": 124,
      "outputs": []
    },
    {
      "cell_type": "code",
      "source": [
        "print(trainX.shape, trainY.shape)\n",
        "print(testX.shape, testY.shape)"
      ],
      "metadata": {
        "id": "w6xCKBOanvvz",
        "colab": {
          "base_uri": "https://localhost:8080/"
        },
        "outputId": "c780ad14-d1d7-423a-9ff4-067c95287aca"
      },
      "execution_count": 125,
      "outputs": [
        {
          "output_type": "stream",
          "name": "stdout",
          "text": [
            "(189321, 24, 6) (189321, 1)\n",
            "(21015, 24, 6) (21015, 1)\n"
          ]
        }
      ]
    },
    {
      "cell_type": "code",
      "source": [
        "print(trainX[:2], trainY[0])"
      ],
      "metadata": {
        "colab": {
          "base_uri": "https://localhost:8080/"
        },
        "id": "ABV11yxg_fPk",
        "outputId": "870ee083-52d2-48fa-b477-3830e4f3840a"
      },
      "execution_count": 126,
      "outputs": [
        {
          "output_type": "stream",
          "name": "stdout",
          "text": [
            "[[[0.00123644 0.0011274  0.         0.         0.         0.        ]\n",
            "  [0.         0.         0.         0.         0.         0.        ]\n",
            "  [0.         0.         0.         0.         0.         0.        ]\n",
            "  [0.0135348  0.00789177 0.         0.         0.         0.        ]\n",
            "  [0.         0.         0.         0.         0.         0.        ]\n",
            "  [0.         0.         0.         0.         0.         0.        ]\n",
            "  [0.00631435 0.         0.00148588 0.         0.         0.        ]\n",
            "  [0.         0.         0.         0.         0.         0.        ]\n",
            "  [0.0076263  0.         0.         0.         0.         0.        ]\n",
            "  [0.         0.         0.00148588 0.         0.         0.        ]\n",
            "  [0.0013969  0.         0.         0.         0.         0.        ]\n",
            "  [0.00756023 0.         0.         0.         0.         0.        ]\n",
            "  [0.         0.         0.00594354 0.         0.         0.        ]\n",
            "  [0.         0.         0.         0.         0.         0.        ]\n",
            "  [0.         0.         0.         0.         0.         0.        ]\n",
            "  [0.         0.00450958 0.00445765 0.         0.         0.        ]\n",
            "  [0.         0.         0.         0.         0.         0.        ]\n",
            "  [0.00506847 0.         0.         0.         0.         0.        ]\n",
            "  [0.         0.         0.00148588 0.         0.         0.        ]\n",
            "  [0.02328476 0.         0.         0.         0.         0.        ]\n",
            "  [0.         0.         0.         0.         0.         0.        ]\n",
            "  [0.01293074 0.         0.         0.         0.         0.        ]\n",
            "  [0.         0.         0.         0.         0.         0.        ]\n",
            "  [0.00813598 0.         0.         0.         0.         0.        ]]\n",
            "\n",
            " [[0.         0.         0.         0.         0.         0.        ]\n",
            "  [0.         0.         0.         0.         0.         0.        ]\n",
            "  [0.0135348  0.00789177 0.         0.         0.         0.        ]\n",
            "  [0.         0.         0.         0.         0.         0.        ]\n",
            "  [0.         0.         0.         0.         0.         0.        ]\n",
            "  [0.00631435 0.         0.00148588 0.         0.         0.        ]\n",
            "  [0.         0.         0.         0.         0.         0.        ]\n",
            "  [0.0076263  0.         0.         0.         0.         0.        ]\n",
            "  [0.         0.         0.00148588 0.         0.         0.        ]\n",
            "  [0.0013969  0.         0.         0.         0.         0.        ]\n",
            "  [0.00756023 0.         0.         0.         0.         0.        ]\n",
            "  [0.         0.         0.00594354 0.         0.         0.        ]\n",
            "  [0.         0.         0.         0.         0.         0.        ]\n",
            "  [0.         0.         0.         0.         0.         0.        ]\n",
            "  [0.         0.00450958 0.00445765 0.         0.         0.        ]\n",
            "  [0.         0.         0.         0.         0.         0.        ]\n",
            "  [0.00506847 0.         0.         0.         0.         0.        ]\n",
            "  [0.         0.         0.00148588 0.         0.         0.        ]\n",
            "  [0.02328476 0.         0.         0.         0.         0.        ]\n",
            "  [0.         0.         0.         0.         0.         0.        ]\n",
            "  [0.01293074 0.         0.         0.         0.         0.        ]\n",
            "  [0.         0.         0.         0.         0.         0.        ]\n",
            "  [0.00813598 0.         0.         0.         0.         0.        ]\n",
            "  [0.00846633 0.         0.         0.         0.         0.        ]]] [0.00846633]\n"
          ]
        }
      ]
    },
    {
      "cell_type": "code",
      "source": [
        "# LSTM model\n",
        "model = Sequential()\n",
        "model.add(LSTM(64, input_shape=(trainX.shape[1], trainX.shape[2]), # (seq length, input dimension)\n",
        "               return_sequences=True))\n",
        "model.add(LSTM(32, return_sequences=False))\n",
        "model.add(Dense(trainY.shape[1]))\n",
        "\n",
        "model.summary()"
      ],
      "metadata": {
        "colab": {
          "base_uri": "https://localhost:8080/"
        },
        "id": "r0DxPNxbnwJ3",
        "outputId": "51c4d05e-9921-481f-c484-f7f0dcb4afd0"
      },
      "execution_count": 127,
      "outputs": [
        {
          "output_type": "stream",
          "name": "stdout",
          "text": [
            "Model: \"sequential_2\"\n",
            "_________________________________________________________________\n",
            " Layer (type)                Output Shape              Param #   \n",
            "=================================================================\n",
            " lstm_4 (LSTM)               (None, 24, 64)            18176     \n",
            "                                                                 \n",
            " lstm_5 (LSTM)               (None, 32)                12416     \n",
            "                                                                 \n",
            " dense_2 (Dense)             (None, 1)                 33        \n",
            "                                                                 \n",
            "=================================================================\n",
            "Total params: 30625 (119.63 KB)\n",
            "Trainable params: 30625 (119.63 KB)\n",
            "Non-trainable params: 0 (0.00 Byte)\n",
            "_________________________________________________________________\n"
          ]
        }
      ]
    },
    {
      "cell_type": "code",
      "source": [
        "# specify your learning rate\n",
        "learning_rate = 0.01\n",
        "# create an Adam optimizer with the specified learning rate\n",
        "optimizer = Adam(learning_rate=learning_rate)\n",
        "# compile your model using the custom optimizer\n",
        "model.compile(optimizer=optimizer, loss='mse')"
      ],
      "metadata": {
        "id": "XBbmyaHmnxML"
      },
      "execution_count": 128,
      "outputs": []
    },
    {
      "cell_type": "code",
      "source": [
        "# Try to load weights\n",
        "try:\n",
        "    model.load_weights('/content/drive/MyDrive/240410/hr_dam_lstm_weights.h5')\n",
        "    print(\"Loaded model weights from disk\")\n",
        "except:\n",
        "    print(\"No weights found, training model from scratch\")\n",
        "    # Fit the model\n",
        "    history = model.fit(trainX, trainY, epochs=30, batch_size=32,\n",
        "                    validation_split=0.1, verbose=1)\n",
        "    # Save model weights after training\n",
        "    model.save_weights('/content/drive/MyDrive/240410/hr_dam_lstm_weights.h5')\n",
        "\n",
        "    plt.plot(history.history['loss'], label='Training loss')\n",
        "    plt.plot(history.history['val_loss'], label='Validation loss')\n",
        "    plt.legend()\n",
        "    plt.show()"
      ],
      "metadata": {
        "colab": {
          "base_uri": "https://localhost:8080/"
        },
        "id": "ftq3t9DnnyIw",
        "outputId": "e221ccda-d34b-47a6-c695-444acea9db6d"
      },
      "execution_count": 129,
      "outputs": [
        {
          "output_type": "stream",
          "name": "stdout",
          "text": [
            "Loaded model weights from disk\n"
          ]
        }
      ]
    },
    {
      "cell_type": "code",
      "source": [
        "# prediction\n",
        "prediction = model.predict(testX)\n",
        "print(prediction.shape, testY.shape)\n",
        "\n",
        "# generate array filled with means for prediction\n",
        "# mean_values_pred = np.repeat(scaler.mean_[np.newaxis, :], prediction.shape[0], axis=0)\n",
        "\n",
        "# # substitute predictions into the first column\n",
        "# mean_values_pred[:, 0] = np.squeeze(prediction)\n",
        "\n",
        "# inverse transform\n",
        "y_pred = scaler_dam.inverse_transform(prediction)[:,0]\n",
        "\n",
        "# # generate array filled with means for testY\n",
        "# mean_values_testY = np.repeat(scaler.mean_[np.newaxis, :], testY.shape[0], axis=0)\n",
        "\n",
        "# # substitute testY into the first column\n",
        "# mean_values_testY[:, 0] = np.squeeze(testY)\n",
        "\n",
        "# inverse transform\n",
        "testY_original = scaler_dam.inverse_transform(testY)[:,0]\n",
        "print(testY_original.shape)\n",
        "\n",
        "# plotting\n",
        "plt.figure(figsize=(14, 5))\n",
        "\n",
        "# plot original 'Open' prices\n",
        "plt.plot(dates, original_dam, color='green', label='Original Dam Flow')\n",
        "\n",
        "# plot actual vs predicted\n",
        "plt.plot(test_dates[seq_len:], testY_original, color='blue', label='Actual Dam Flow')\n",
        "plt.plot(test_dates[seq_len:], y_pred, color='red', linestyle='--', label='Predicted Dam Flow')\n",
        "plt.xlabel('Date')\n",
        "plt.ylabel('Dam Flow')\n",
        "plt.title('Original, Actual and Predicted Dam Flow')\n",
        "plt.legend()\n",
        "plt.show()"
      ],
      "metadata": {
        "colab": {
          "base_uri": "https://localhost:8080/",
          "height": 537
        },
        "id": "WoP_IYSun8Vf",
        "outputId": "b6c2a2c1-ec88-46f4-8c7a-94bea37c04a7"
      },
      "execution_count": 130,
      "outputs": [
        {
          "output_type": "stream",
          "name": "stdout",
          "text": [
            "657/657 [==============================] - 7s 8ms/step\n",
            "(21015, 1) (21015, 1)\n",
            "(21015,)\n"
          ]
        },
        {
          "output_type": "display_data",
          "data": {
            "text/plain": [
              "<Figure size 1400x500 with 1 Axes>"
            ],
            "image/png": "[encoded data removed]"
          },
          "metadata": {}
        }
      ]
    },
    {
      "cell_type": "code",
      "source": [
        "test_dates"
      ],
      "metadata": {
        "colab": {
          "base_uri": "https://localhost:8080/"
        },
        "id": "T2wGEh7xEX_g",
        "outputId": "3e626c93-37b5-42bc-ee3a-153dc398c71d"
      },
      "execution_count": 131,
      "outputs": [
        {
          "output_type": "execute_result",
          "data": {
            "text/plain": [
              "189345   2021-08-07 09:00:00\n",
              "189346   2021-08-07 10:00:00\n",
              "189347   2021-08-07 11:00:00\n",
              "189348   2021-08-07 12:00:00\n",
              "189349   2021-08-07 13:00:00\n",
              "                 ...        \n",
              "210379   2023-12-31 19:00:00\n",
              "210380   2023-12-31 20:00:00\n",
              "210381   2023-12-31 21:00:00\n",
              "210382   2023-12-31 22:00:00\n",
              "210383   2023-12-31 23:00:00\n",
              "Name: date, Length: 21039, dtype: datetime64[ns]"
            ]
          },
          "metadata": {},
          "execution_count": 131
        }
      ]
    },
    {
      "cell_type": "code",
      "source": [],
      "metadata": {
        "id": "8ZKHmLJqsbN0"
      },
      "execution_count": 131,
      "outputs": []
    },
    {
      "cell_type": "code",
      "source": [
        "# testDates = []\n",
        "# for day in test_dates[14:]:\n",
        "#   testDates.append(day.strftime(\"%Y-%m-%d\"))\n",
        "\n",
        "testDates = pd.DataFrame(test_dates)\n",
        "pred_y = pd.DataFrame(y_pred)\n",
        "origin_y = pd.DataFrame(testY_original)\n",
        "\n",
        "print(len(testDates), len(pred_y), len(origin_y))\n",
        "\n",
        "lstm_include_dam = pd.concat([testDates, origin_y, pred_y], axis = 1)\n",
        "print(lstm_include_dam)\n",
        "\n",
        "lstm_include_dam = pd.DataFrame(lstm_include_dam)\n",
        "lstm_include_dam.to_csv(\"/content/drive/MyDrive/240410/compare_dam/hr_lstm_include_dam.csv\")"
      ],
      "metadata": {
        "colab": {
          "base_uri": "https://localhost:8080/"
        },
        "id": "3zvLqBTuDrSI",
        "outputId": "77561f51-9925-4769-a107-6168d51c3dc3"
      },
      "execution_count": 133,
      "outputs": [
        {
          "output_type": "stream",
          "name": "stdout",
          "text": [
            "21039 21015 21015\n",
            "                      date        0          0\n",
            "189345 2021-08-07 09:00:00      NaN        NaN\n",
            "189346 2021-08-07 10:00:00      NaN        NaN\n",
            "189347 2021-08-07 11:00:00      NaN        NaN\n",
            "189348 2021-08-07 12:00:00      NaN        NaN\n",
            "189349 2021-08-07 13:00:00      NaN        NaN\n",
            "...                    ...      ...        ...\n",
            "21010                  NaT  173.106  68.884674\n",
            "21011                  NaT    0.000  30.217560\n",
            "21012                  NaT  124.118  94.746101\n",
            "21013                  NaT   15.417  51.198082\n",
            "21014                  NaT    0.000  67.672180\n",
            "\n",
            "[42054 rows x 3 columns]\n"
          ]
        }
      ]
    },
    {
      "cell_type": "code",
      "source": [
        "testX_last = []\n",
        "\n",
        "for x in testX:\n",
        "  testX_last.append(x[-1])\n",
        "\n",
        "print(testX_last[0])\n",
        "\n",
        "testX_last = scaler.inverse_transform(testX_last)\n",
        "testX_last = pd.DataFrame(testX_last)\n",
        "\n",
        "print(testX_last)\n",
        "\n",
        "lstm_include_x = pd.concat([testDates, testX_last,origin_y,pred_y], axis = 1)\n",
        "lstm_include_x.to_csv(\"/content/drive/MyDrive/240410/compare_dam/hr_lstm_include_x.csv\")"
      ],
      "metadata": {
        "colab": {
          "base_uri": "https://localhost:8080/"
        },
        "id": "-5qlN7mbHZ6O",
        "outputId": "36554d8f-ccea-43d0-8ff1-aa5ec0a45f9b"
      },
      "execution_count": 84,
      "outputs": [
        {
          "output_type": "stream",
          "name": "stdout",
          "text": [
            "[4.71924637e-05 4.50958286e-02 0.00000000e+00 0.00000000e+00\n",
            " 0.00000000e+00 0.00000000e+00]\n",
            "             0    1    2    3    4    5\n",
            "0        0.500  4.0  0.0  0.0  0.0  0.0\n",
            "1        0.500  0.2  0.0  0.0  0.0  0.0\n",
            "2       68.522  0.0  0.0  0.0  0.0  0.0\n",
            "3       71.548  0.0  0.0  0.0  0.0  0.0\n",
            "4        0.000  2.3  0.0  0.0  0.0  0.0\n",
            "...        ...  ...  ...  ...  ...  ...\n",
            "21010   21.177  1.6  0.0  0.0  0.0  0.0\n",
            "21011  173.106  0.0  0.0  0.0  0.0  0.0\n",
            "21012    0.000  0.0  0.0  0.0  0.0  0.0\n",
            "21013  124.118  0.0  0.0  0.0  0.0  0.0\n",
            "21014   15.417  0.0  0.0  0.0  0.0  0.0\n",
            "\n",
            "[21015 rows x 6 columns]\n"
          ]
        }
      ]
    },
    {
      "cell_type": "code",
      "source": [
        "print(lstm_include_x)"
      ],
      "metadata": {
        "colab": {
          "base_uri": "https://localhost:8080/"
        },
        "id": "5BGZubPbNSLM",
        "outputId": "f9c6f448-f188-4b31-f892-cabdb91aa65b"
      },
      "execution_count": 85,
      "outputs": [
        {
          "output_type": "stream",
          "name": "stdout",
          "text": [
            "                      date        0    1    2    3    4    5        0  \\\n",
            "215649 2021-08-08 09:00:00      NaN  NaN  NaN  NaN  NaN  NaN      NaN   \n",
            "215650 2021-08-08 10:00:00      NaN  NaN  NaN  NaN  NaN  NaN      NaN   \n",
            "215651 2021-08-08 11:00:00      NaN  NaN  NaN  NaN  NaN  NaN      NaN   \n",
            "215652 2021-08-08 12:00:00      NaN  NaN  NaN  NaN  NaN  NaN      NaN   \n",
            "215653 2021-08-08 13:00:00      NaN  NaN  NaN  NaN  NaN  NaN      NaN   \n",
            "...                    ...      ...  ...  ...  ...  ...  ...      ...   \n",
            "21010                  NaT   21.177  1.6  0.0  0.0  0.0  0.0  173.106   \n",
            "21011                  NaT  173.106  0.0  0.0  0.0  0.0  0.0    0.000   \n",
            "21012                  NaT    0.000  0.0  0.0  0.0  0.0  0.0  124.118   \n",
            "21013                  NaT  124.118  0.0  0.0  0.0  0.0  0.0   15.417   \n",
            "21014                  NaT   15.417  0.0  0.0  0.0  0.0  0.0    0.000   \n",
            "\n",
            "                0  \n",
            "215649        NaN  \n",
            "215650        NaN  \n",
            "215651        NaN  \n",
            "215652        NaN  \n",
            "215653        NaN  \n",
            "...           ...  \n",
            "21010   68.884674  \n",
            "21011   30.217560  \n",
            "21012   94.746101  \n",
            "21013   51.198082  \n",
            "21014   67.672180  \n",
            "\n",
            "[42030 rows x 9 columns]\n"
          ]
        }
      ]
    },
    {
      "cell_type": "code",
      "source": [
        "# original_data = pd.DataFrame(testY_original)\n",
        "# prediction_data = pd.DataFrame(y_pred)\n",
        "\n",
        "# print(original_data)\n",
        "# print(prediction_data)\n",
        "\n",
        "# result = pd.concat([original_data,prediction_data],axis=1)\n",
        "# result.to_csv(\"/content/drive/MyDrive/240410/result.csv\")"
      ],
      "metadata": {
        "id": "sUD6rcP8X3eN"
      },
      "execution_count": 134,
      "outputs": []
    },
    {
      "cell_type": "code",
      "source": [],
      "metadata": {
        "id": "ZRKa_2xAYhQ-"
      },
      "execution_count": 134,
      "outputs": []
    },
    {
      "cell_type": "code",
      "source": [],
      "metadata": {
        "id": "DafNHljDGVgS"
      },
      "execution_count": 134,
      "outputs": []
    },
    {
      "cell_type": "code",
      "source": [
        "# Calculate the start and end indices for the zoomed plot\n",
        "zoom_start = len(test_dates) - 365*24*2\n",
        "zoom_end = len(test_dates)\n",
        "\n",
        "# Create the zoomed plot\n",
        "plt.figure(figsize=(14, 5))\n",
        "\n",
        "# Adjust the start index for the testY_original and y_pred arrays\n",
        "adjusted_start = zoom_start - seq_len\n",
        "\n",
        "plt.plot(test_dates[zoom_start:zoom_end],\n",
        "         testY_original[adjusted_start:zoom_end - zoom_start + adjusted_start],\n",
        "         color='blue',\n",
        "         label='Actual Dam Flow')\n",
        "\n",
        "plt.plot(test_dates[zoom_start:zoom_end],\n",
        "         y_pred[adjusted_start:zoom_end - zoom_start + adjusted_start ],\n",
        "         color='red',\n",
        "         linestyle='--',\n",
        "         label='Predicted Dam Flow')\n",
        "\n",
        "plt.xlabel('Date')\n",
        "plt.ylabel('Dam Flow')\n",
        "plt.title('Zoomed In Actual vs Predicted Dam Flow')\n",
        "plt.legend()\n",
        "plt.show()"
      ],
      "metadata": {
        "id": "fXGQtK4aoApN",
        "colab": {
          "base_uri": "https://localhost:8080/",
          "height": 485
        },
        "outputId": "099c917f-2baf-426e-a143-a04a512b6353"
      },
      "execution_count": 135,
      "outputs": [
        {
          "output_type": "display_data",
          "data": {
            "text/plain": [
              "<Figure size 1400x500 with 1 Axes>"
            ],
            "image/png": "[encoded data removed]"
          },
          "metadata": {}
        }
      ]
    },
    {
      "cell_type": "code",
      "source": [
        "# 일대일 그래프\n",
        "x = np.arange(0,max(max(testY_original), max(y_pred)))\n",
        "y = x\n",
        "plt.scatter(testY_original[:], y_pred[:], color = 'purple', alpha = 0.6)\n",
        "plt.plot(x,y, color = 'blue', alpha = 0.6, label = 'y = x')\n",
        "plt.xlabel('Actuals')\n",
        "plt.ylabel('Simulate')\n",
        "\n",
        "plt.legend()\n",
        "plt.show()"
      ],
      "metadata": {
        "id": "el4PPAciqI5b",
        "colab": {
          "base_uri": "https://localhost:8080/",
          "height": 449
        },
        "outputId": "681bbf39-677e-4384-f271-a9e4fb809d51"
      },
      "execution_count": 136,
      "outputs": [
        {
          "output_type": "display_data",
          "data": {
            "text/plain": [
              "<Figure size 640x480 with 1 Axes>"
            ],
            "image/png": "[encoded data removed]"
          },
          "metadata": {}
        }
      ]
    },
    {
      "cell_type": "code",
      "source": [],
      "metadata": {
        "id": "EA04WPeiWiGY"
      },
      "execution_count": 136,
      "outputs": []
    },
    {
      "cell_type": "code",
      "source": [
        "#RMSE\n",
        "from sklearn.metrics import r2_score\n",
        "from sklearn.metrics import mean_squared_error\n",
        "\n",
        "rmse = np.sqrt(mean_squared_error(testY_original, y_pred))\n",
        "print('RMSE : %.2f' %(rmse))"
      ],
      "metadata": {
        "id": "ntPIbgUHqIzJ",
        "colab": {
          "base_uri": "https://localhost:8080/"
        },
        "outputId": "adbe8a37-421d-4bf4-edea-cc0064943bd7"
      },
      "execution_count": 137,
      "outputs": [
        {
          "output_type": "stream",
          "name": "stdout",
          "text": [
            "RMSE : 70.60\n"
          ]
        }
      ]
    },
    {
      "cell_type": "code",
      "source": [
        "# NSE\n",
        "from numpy import mean\n",
        "num_sum1 = 0\n",
        "num_sum2 = 0\n",
        "num_avg = mean(testY_original[:])\n",
        "for i in range(len(testY_original)):\n",
        "  num1 = testY_original[i] - y_pred[i]\n",
        "  num_sum1 += num1**2\n",
        "  num2 = testY_original[i] - num_avg\n",
        "  num_sum2 += num2**2\n",
        "\n",
        "nse = 1 - (num_sum1 / num_sum2)\n",
        "print('NSE : %f' %nse)"
      ],
      "metadata": {
        "id": "XxZoV4xCqIvU",
        "colab": {
          "base_uri": "https://localhost:8080/"
        },
        "outputId": "86a97e70-8d1f-48da-b9de-dd2903eb0a93"
      },
      "execution_count": 138,
      "outputs": [
        {
          "output_type": "stream",
          "name": "stdout",
          "text": [
            "NSE : 0.892637\n"
          ]
        }
      ]
    },
    {
      "cell_type": "code",
      "source": [
        "# PBIAS\n",
        "num_sum1 = 0\n",
        "for i in range(len(testY_original)):\n",
        "  num1 = testY_original[i] - y_pred[i]\n",
        "  num_sum1 += num1\n",
        "\n",
        "pbias = (num_sum1 / np.sum(testY_original[:])) * 100\n",
        "print('PBIAS : %f' %pbias)"
      ],
      "metadata": {
        "id": "NO2tKNhrqIoA",
        "colab": {
          "base_uri": "https://localhost:8080/"
        },
        "outputId": "76b17b4b-d9c0-4f19-96f9-4a4ea5761c98"
      },
      "execution_count": 139,
      "outputs": [
        {
          "output_type": "stream",
          "name": "stdout",
          "text": [
            "PBIAS : -8.918811\n"
          ]
        }
      ]
    },
    {
      "cell_type": "code",
      "source": [
        "#R^2\n",
        "import math\n",
        "\n",
        "num_sum1 = 0\n",
        "num_sum2 = 0\n",
        "num_sum3 = 0\n",
        "act_avg = mean(testY_original[:])\n",
        "pred_avg = mean(y_pred[:])\n",
        "for i in range(len(testY_original)):\n",
        "  num1 = (testY_original[i] - act_avg) * (y_pred[i] - pred_avg)\n",
        "  num_sum1 += num1\n",
        "  num2 = testY_original[i] - pred_avg\n",
        "  num_sum2 += num2**2\n",
        "  num3 = y_pred[i] - pred_avg\n",
        "  num_sum3 += num3**2\n",
        "\n",
        "r_square = (num_sum1 / (math.sqrt(num_sum2)* math.sqrt(num_sum3)))**2\n",
        "print('R Square : %f' %r_square)"
      ],
      "metadata": {
        "id": "k9y4Gv5I8SEY",
        "colab": {
          "base_uri": "https://localhost:8080/"
        },
        "outputId": "5cc3351d-4477-48af-b39c-ea3f4f2e3ef4"
      },
      "execution_count": 140,
      "outputs": [
        {
          "output_type": "stream",
          "name": "stdout",
          "text": [
            "R Square : 0.893835\n"
          ]
        }
      ]
    },
    {
      "cell_type": "code",
      "source": [],
      "metadata": {
        "id": "3EEMNpCZxPta"
      },
      "execution_count": 79,
      "outputs": []
    }
  ]
}