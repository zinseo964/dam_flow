{
  "nbformat": 4,
  "nbformat_minor": 0,
  "metadata": {
    "colab": {
      "provenance": [],
      "authorship_tag": "ABX9TyN9K7oWtacbcRYGpJFkcXgs",
      "include_colab_link": true
    },
    "kernelspec": {
      "name": "python3",
      "display_name": "Python 3"
    },
    "language_info": {
      "name": "python"
    }
  },
  "cells": [
    {
      "cell_type": "markdown",
      "metadata": {
        "id": "view-in-github",
        "colab_type": "text"
      },
      "source": [
        "<a href=\"https://colab.research.google.com/github/zinseo964/dam_flow/blob/main/usingLSTM.ipynb\" target=\"_parent\"><img src=\"https://colab.research.google.com/assets/colab-badge.svg\" alt=\"Open In Colab\"/></a>"
      ]
    },
    {
      "cell_type": "code",
      "execution_count": 11,
      "metadata": {
        "id": "A___gXq9seUi"
      },
      "outputs": [],
      "source": [
        "import pandas as pd\n",
        "import numpy as np\n",
        "from sklearn.preprocessing import MinMaxScaler\n",
        "from keras.models import Sequential\n",
        "import tensorflow as tf\n",
        "from keras.layers import Dense, LSTM"
      ]
    },
    {
      "cell_type": "code",
      "source": [
        "from google.colab import drive\n",
        "drive.mount('/content/drive')\n",
        "\n",
        "rain_data211 = pd.read_csv('/content/drive/MyDrive/Colab Notebooks/dam_flow_csv/rn_20240130172151.csv',encoding='cp949')\n",
        "rain_data101 = pd.read_csv('/content/drive/MyDrive/Colab Notebooks/dam_flow_csv/rn_20240130172202.csv',encoding='cp949')\n",
        "rain_data100 = pd.read_csv('/content/drive/MyDrive/Colab Notebooks/dam_flow_csv/rn_20240130172215.csv',encoding='cp949')\n",
        "rain_data212 = pd.read_csv('/content/drive/MyDrive/Colab Notebooks/dam_flow_csv/rn_20240130172236.csv',encoding='cp949')\n",
        "rain_data90 = pd.read_csv('/content/drive/MyDrive/Colab Notebooks/dam_flow_csv/rn_20240130172245.csv',encoding='cp949')\n",
        "\n",
        "# rain_data = pd.merge(rain_data211, rain_data101, how='outer')\n",
        "from functools import reduce\n",
        "\n",
        "rain_data = reduce(lambda x,y : pd.merge(x,y, on='날짜', how='outer'),[rain_data211, rain_data101, rain_data100, rain_data212, rain_data90])\n",
        "\n",
        "rain_col = [i for i in rain_data.columns if '강수' in i]\n",
        "rain_data[rain_col] = rain_data[rain_col].fillna(0)"
      ],
      "metadata": {
        "colab": {
          "base_uri": "https://localhost:8080/"
        },
        "id": "5yOW5N7D4Zyr",
        "outputId": "765ded16-3d2d-4856-ec8b-eedead2ee568"
      },
      "execution_count": 12,
      "outputs": [
        {
          "output_type": "stream",
          "name": "stdout",
          "text": [
            "Drive already mounted at /content/drive; to attempt to forcibly remount, call drive.mount(\"/content/drive\", force_remount=True).\n"
          ]
        }
      ]
    },
    {
      "cell_type": "code",
      "source": [
        "dam_flow = pd.read_csv('/content/drive/MyDrive/Colab Notebooks/dam_flow_csv/only_dam_flow.csv',encoding='utf-8')\n",
        "\n",
        "df = reduce(lambda x,y : pd.merge(x,y, on='날짜', how='outer'),[rain_data, dam_flow])"
      ],
      "metadata": {
        "id": "I3xqgN_c7SRE"
      },
      "execution_count": 13,
      "outputs": []
    },
    {
      "cell_type": "code",
      "source": [
        "df['211강수량(mm)'] = df['211강수량(mm)'].astype(float)\n",
        "df['101강수량(mm)'] = df['101강수량(mm)'].astype(float)\n",
        "df['100강수량(mm)'] = df['100강수량(mm)'].astype(float)\n",
        "df['212강수량(mm)'] = df['212강수량(mm)'].astype(float)\n",
        "df['90강수량(mm)'] = df['90강수량(mm)'].astype(float)"
      ],
      "metadata": {
        "id": "5RReOR907etG"
      },
      "execution_count": 14,
      "outputs": []
    },
    {
      "cell_type": "code",
      "source": [
        "X = df[['날짜', '211강수량(mm)', '101강수량(mm)', '100강수량(mm)', '212강수량(mm)', '90강수량(mm)']]\n",
        "X['날짜'] = pd.to_datetime(X['날짜'])\n",
        "X['year'] = X['날짜'].dt.year\n",
        "X['month'] = X['날짜'].dt.month\n",
        "X['day'] = X['날짜'].dt.day\n",
        "X = X.drop('날짜', axis=1)"
      ],
      "metadata": {
        "colab": {
          "base_uri": "https://localhost:8080/"
        },
        "id": "XT6bRiPP8Tyt",
        "outputId": "538df0ce-ae28-4876-a39e-a265e9ffeb08"
      },
      "execution_count": 15,
      "outputs": [
        {
          "output_type": "stream",
          "name": "stderr",
          "text": [
            "<ipython-input-15-6537a5937448>:2: SettingWithCopyWarning: \n",
            "A value is trying to be set on a copy of a slice from a DataFrame.\n",
            "Try using .loc[row_indexer,col_indexer] = value instead\n",
            "\n",
            "See the caveats in the documentation: https://pandas.pydata.org/pandas-docs/stable/user_guide/indexing.html#returning-a-view-versus-a-copy\n",
            "  X['날짜'] = pd.to_datetime(X['날짜'])\n"
          ]
        }
      ]
    },
    {
      "cell_type": "code",
      "source": [
        "X_for_scaler = X.drop(['year', 'month', 'day'], axis=1)  # year, month, day, hour 열 제외\n",
        "scaler = MinMaxScaler(feature_range=(0, 1))\n",
        "X_for_scaler = scaler.fit_transform(X_for_scaler)"
      ],
      "metadata": {
        "id": "tXtqryZs8kz7"
      },
      "execution_count": 16,
      "outputs": []
    },
    {
      "cell_type": "code",
      "source": [
        "X[['211강수량(mm)', '101강수량(mm)', '100강수량(mm)', '212강수량(mm)', '90강수량(mm)']] = X_for_scaler\n",
        "Y = df[['유입량(㎥/s)']]\n",
        "\n",
        "print(X)"
      ],
      "metadata": {
        "colab": {
          "base_uri": "https://localhost:8080/"
        },
        "id": "xvfuUuQi8oTr",
        "outputId": "30b1d105-5b1d-45b0-b223-eef890cab299"
      },
      "execution_count": 17,
      "outputs": [
        {
          "output_type": "stream",
          "name": "stdout",
          "text": [
            "      211강수량(mm)  101강수량(mm)  100강수량(mm)  212강수량(mm)  90강수량(mm)  year  month  \\\n",
            "0       0.000000    0.000000    0.000000    0.000000   0.000000  2009      1   \n",
            "1       0.000000    0.000000    0.000000    0.000000   0.000000  2009      1   \n",
            "2       0.000000    0.000000    0.000000    0.000000   0.000000  2009      1   \n",
            "3       0.000000    0.000000    0.000000    0.000000   0.000000  2009      1   \n",
            "4       0.000000    0.000000    0.000000    0.000000   0.000000  2009      1   \n",
            "...          ...         ...         ...         ...        ...   ...    ...   \n",
            "5473    0.000000    0.000000    0.000000    0.000000   0.000000  2023     12   \n",
            "5474    0.000000    0.000000    0.000000    0.000000   0.000000  2023     12   \n",
            "5475    0.000000    0.000000    0.000000    0.000000   0.000000  2023     12   \n",
            "5476    0.026984    0.037714    0.011414    0.037037   0.001899  2023     12   \n",
            "5477    0.012302    0.020190    0.029777    0.021351   0.072688  2023     12   \n",
            "\n",
            "      day  \n",
            "0       1  \n",
            "1       2  \n",
            "2       3  \n",
            "3       4  \n",
            "4       5  \n",
            "...   ...  \n",
            "5473   27  \n",
            "5474   28  \n",
            "5475   29  \n",
            "5476   30  \n",
            "5477   31  \n",
            "\n",
            "[5478 rows x 8 columns]\n"
          ]
        }
      ]
    },
    {
      "cell_type": "code",
      "source": [
        "model = Sequential()\n",
        "model.add(LSTM(128, input_shape=(X.shape[1], 1)))\n",
        "model.add(Dense(1))"
      ],
      "metadata": {
        "id": "2_aoWzna8wmN"
      },
      "execution_count": 18,
      "outputs": []
    },
    {
      "cell_type": "code",
      "source": [
        "# 모델 컴파일\n",
        "model.compile(loss='mean_squared_error', optimizer='adam', metrics=['accuracy'])\n",
        "\n",
        "# 모델 학습\n",
        "model.fit(X, Y, epochs=50, batch_size=1, verbose=2)"
      ],
      "metadata": {
        "colab": {
          "base_uri": "https://localhost:8080/"
        },
        "id": "xRmjaiuK8yRt",
        "outputId": "5588e70b-c397-4839-d531-9a3891e8408d"
      },
      "execution_count": 19,
      "outputs": [
        {
          "output_type": "stream",
          "name": "stdout",
          "text": [
            "Epoch 1/50\n",
            "5478/5478 - 46s - loss: 40269.5391 - accuracy: 0.0000e+00 - 46s/epoch - 8ms/step\n",
            "Epoch 2/50\n",
            "5478/5478 - 36s - loss: 40065.0625 - accuracy: 0.0000e+00 - 36s/epoch - 6ms/step\n",
            "Epoch 3/50\n",
            "5478/5478 - 34s - loss: 39227.5703 - accuracy: 0.0000e+00 - 34s/epoch - 6ms/step\n",
            "Epoch 4/50\n",
            "5478/5478 - 36s - loss: 37175.9375 - accuracy: 1.8255e-04 - 36s/epoch - 7ms/step\n",
            "Epoch 5/50\n",
            "5478/5478 - 34s - loss: 35693.0000 - accuracy: 5.4765e-04 - 34s/epoch - 6ms/step\n",
            "Epoch 6/50\n",
            "5478/5478 - 34s - loss: 34600.8984 - accuracy: 3.6510e-04 - 34s/epoch - 6ms/step\n",
            "Epoch 7/50\n",
            "5478/5478 - 35s - loss: 33739.0586 - accuracy: 3.6510e-04 - 35s/epoch - 6ms/step\n",
            "Epoch 8/50\n",
            "5478/5478 - 34s - loss: 32930.6133 - accuracy: 0.0000e+00 - 34s/epoch - 6ms/step\n",
            "Epoch 9/50\n",
            "5478/5478 - 35s - loss: 32508.3672 - accuracy: 1.8255e-04 - 35s/epoch - 6ms/step\n",
            "Epoch 10/50\n",
            "5478/5478 - 33s - loss: 31860.1680 - accuracy: 5.4765e-04 - 33s/epoch - 6ms/step\n",
            "Epoch 11/50\n",
            "5478/5478 - 35s - loss: 31224.0762 - accuracy: 5.4765e-04 - 35s/epoch - 6ms/step\n",
            "Epoch 12/50\n",
            "5478/5478 - 33s - loss: 30798.1973 - accuracy: 3.6510e-04 - 33s/epoch - 6ms/step\n",
            "Epoch 13/50\n",
            "5478/5478 - 36s - loss: 30407.8281 - accuracy: 1.8255e-04 - 36s/epoch - 7ms/step\n",
            "Epoch 14/50\n",
            "5478/5478 - 37s - loss: 30125.7012 - accuracy: 1.8255e-04 - 37s/epoch - 7ms/step\n",
            "Epoch 15/50\n",
            "5478/5478 - 34s - loss: 29891.7441 - accuracy: 3.6510e-04 - 34s/epoch - 6ms/step\n",
            "Epoch 16/50\n",
            "5478/5478 - 36s - loss: 29338.6660 - accuracy: 5.4765e-04 - 36s/epoch - 6ms/step\n",
            "Epoch 17/50\n",
            "5478/5478 - 34s - loss: 29212.4824 - accuracy: 3.6510e-04 - 34s/epoch - 6ms/step\n",
            "Epoch 18/50\n",
            "5478/5478 - 35s - loss: 28575.2207 - accuracy: 0.0000e+00 - 35s/epoch - 6ms/step\n",
            "Epoch 19/50\n",
            "5478/5478 - 34s - loss: 28352.1719 - accuracy: 0.0000e+00 - 34s/epoch - 6ms/step\n",
            "Epoch 20/50\n",
            "5478/5478 - 35s - loss: 28477.4590 - accuracy: 7.3019e-04 - 35s/epoch - 6ms/step\n",
            "Epoch 21/50\n",
            "5478/5478 - 35s - loss: 28093.6875 - accuracy: 0.0000e+00 - 35s/epoch - 6ms/step\n",
            "Epoch 22/50\n",
            "5478/5478 - 35s - loss: 27711.4766 - accuracy: 3.6510e-04 - 35s/epoch - 6ms/step\n",
            "Epoch 23/50\n",
            "5478/5478 - 35s - loss: 27930.5293 - accuracy: 7.3019e-04 - 35s/epoch - 6ms/step\n",
            "Epoch 24/50\n",
            "5478/5478 - 34s - loss: 27656.8965 - accuracy: 0.0000e+00 - 34s/epoch - 6ms/step\n",
            "Epoch 25/50\n",
            "5478/5478 - 35s - loss: 27409.6738 - accuracy: 1.8255e-04 - 35s/epoch - 6ms/step\n",
            "Epoch 26/50\n",
            "5478/5478 - 34s - loss: 26829.3945 - accuracy: 1.8255e-04 - 34s/epoch - 6ms/step\n",
            "Epoch 27/50\n",
            "5478/5478 - 35s - loss: 27283.8398 - accuracy: 0.0000e+00 - 35s/epoch - 6ms/step\n",
            "Epoch 28/50\n",
            "5478/5478 - 34s - loss: 26928.8770 - accuracy: 3.6510e-04 - 34s/epoch - 6ms/step\n",
            "Epoch 29/50\n",
            "5478/5478 - 35s - loss: 26729.8086 - accuracy: 1.8255e-04 - 35s/epoch - 6ms/step\n",
            "Epoch 30/50\n",
            "5478/5478 - 35s - loss: 26136.1582 - accuracy: 0.0000e+00 - 35s/epoch - 6ms/step\n",
            "Epoch 31/50\n",
            "5478/5478 - 34s - loss: 26752.9492 - accuracy: 5.4765e-04 - 34s/epoch - 6ms/step\n",
            "Epoch 32/50\n",
            "5478/5478 - 35s - loss: 26484.0273 - accuracy: 1.8255e-04 - 35s/epoch - 6ms/step\n",
            "Epoch 33/50\n",
            "5478/5478 - 34s - loss: 25857.7559 - accuracy: 7.3019e-04 - 34s/epoch - 6ms/step\n",
            "Epoch 34/50\n",
            "5478/5478 - 35s - loss: 25848.1719 - accuracy: 0.0000e+00 - 35s/epoch - 6ms/step\n",
            "Epoch 35/50\n",
            "5478/5478 - 34s - loss: 25806.0117 - accuracy: 9.1274e-04 - 34s/epoch - 6ms/step\n",
            "Epoch 36/50\n",
            "5478/5478 - 36s - loss: 25409.2930 - accuracy: 0.0000e+00 - 36s/epoch - 6ms/step\n",
            "Epoch 37/50\n",
            "5478/5478 - 34s - loss: 25822.6133 - accuracy: 1.8255e-04 - 34s/epoch - 6ms/step\n",
            "Epoch 38/50\n",
            "5478/5478 - 34s - loss: 25325.9141 - accuracy: 0.0000e+00 - 34s/epoch - 6ms/step\n",
            "Epoch 39/50\n",
            "5478/5478 - 36s - loss: 25304.8906 - accuracy: 3.6510e-04 - 36s/epoch - 7ms/step\n",
            "Epoch 40/50\n",
            "5478/5478 - 34s - loss: 24856.3828 - accuracy: 7.3019e-04 - 34s/epoch - 6ms/step\n",
            "Epoch 41/50\n",
            "5478/5478 - 36s - loss: 25177.9414 - accuracy: 3.6510e-04 - 36s/epoch - 6ms/step\n",
            "Epoch 42/50\n",
            "5478/5478 - 34s - loss: 25314.1289 - accuracy: 0.0000e+00 - 34s/epoch - 6ms/step\n",
            "Epoch 43/50\n",
            "5478/5478 - 35s - loss: 24551.5176 - accuracy: 7.3019e-04 - 35s/epoch - 6ms/step\n",
            "Epoch 44/50\n",
            "5478/5478 - 34s - loss: 24984.5488 - accuracy: 7.3019e-04 - 34s/epoch - 6ms/step\n",
            "Epoch 45/50\n",
            "5478/5478 - 34s - loss: 24957.4473 - accuracy: 0.0000e+00 - 34s/epoch - 6ms/step\n",
            "Epoch 46/50\n",
            "5478/5478 - 35s - loss: 23943.9277 - accuracy: 0.0011 - 35s/epoch - 6ms/step\n",
            "Epoch 47/50\n",
            "5478/5478 - 33s - loss: 24387.9219 - accuracy: 7.3019e-04 - 33s/epoch - 6ms/step\n",
            "Epoch 48/50\n",
            "5478/5478 - 35s - loss: 24316.1875 - accuracy: 5.4765e-04 - 35s/epoch - 6ms/step\n",
            "Epoch 49/50\n",
            "5478/5478 - 34s - loss: 23623.3086 - accuracy: 3.6510e-04 - 34s/epoch - 6ms/step\n",
            "Epoch 50/50\n",
            "5478/5478 - 35s - loss: 24017.2988 - accuracy: 7.3019e-04 - 35s/epoch - 6ms/step\n"
          ]
        },
        {
          "output_type": "execute_result",
          "data": {
            "text/plain": [
              "<keras.src.callbacks.History at 0x787ac9421750>"
            ]
          },
          "metadata": {},
          "execution_count": 19
        }
      ]
    },
    {
      "cell_type": "code",
      "source": [
        "train_score = model.evaluate(X, Y, verbose=0)\n",
        "print('Train Score: %.2f MSE (%.2f RMSE)' % (train_score[0], np.sqrt(train_score[0] ** 2)))"
      ],
      "metadata": {
        "id": "IRfxKQQW81G-",
        "colab": {
          "base_uri": "https://localhost:8080/"
        },
        "outputId": "2e1ce986-678c-423a-80d5-ae05d66dcb9a"
      },
      "execution_count": 20,
      "outputs": [
        {
          "output_type": "stream",
          "name": "stdout",
          "text": [
            "Train Score: 23042.68 MSE (23042.68 RMSE)\n"
          ]
        }
      ]
    }
  ]
}