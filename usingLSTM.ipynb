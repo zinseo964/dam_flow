{
  "nbformat": 4,
  "nbformat_minor": 0,
  "metadata": {
    "colab": {
      "provenance": [],
      "authorship_tag": "ABX9TyMQ3BWkMaU2YIbb07E2KM6W",
      "include_colab_link": true
    },
    "kernelspec": {
      "name": "python3",
      "display_name": "Python 3"
    },
    "language_info": {
      "name": "python"
    }
  },
  "cells": [
    {
      "cell_type": "markdown",
      "metadata": {
        "id": "view-in-github",
        "colab_type": "text"
      },
      "source": [
        "<a href=\"https://colab.research.google.com/github/zinseo964/dam_flow/blob/main/usingLSTM.ipynb\" target=\"_parent\"><img src=\"https://colab.research.google.com/assets/colab-badge.svg\" alt=\"Open In Colab\"/></a>"
      ]
    },
    {
      "cell_type": "code",
      "execution_count": 10,
      "metadata": {
        "id": "A___gXq9seUi"
      },
      "outputs": [],
      "source": [
        "import pandas as pd\n",
        "import numpy as np\n",
        "from sklearn.preprocessing import MinMaxScaler\n",
        "from keras.models import Sequential\n",
        "import tensorflow as tf\n",
        "from keras.layers import Dense, LSTM"
      ]
    },
    {
      "cell_type": "code",
      "source": [
        "from google.colab import drive\n",
        "drive.mount('/content/drive')\n",
        "\n",
        "rain_data211 = pd.read_csv('/content/drive/MyDrive/Colab Notebooks/dam_flow_csv/rn_20240130172151.csv',encoding='cp949')\n",
        "rain_data101 = pd.read_csv('/content/drive/MyDrive/Colab Notebooks/dam_flow_csv/rn_20240130172202.csv',encoding='cp949')\n",
        "rain_data100 = pd.read_csv('/content/drive/MyDrive/Colab Notebooks/dam_flow_csv/rn_20240130172215.csv',encoding='cp949')\n",
        "rain_data212 = pd.read_csv('/content/drive/MyDrive/Colab Notebooks/dam_flow_csv/rn_20240130172236.csv',encoding='cp949')\n",
        "rain_data90 = pd.read_csv('/content/drive/MyDrive/Colab Notebooks/dam_flow_csv/rn_20240130172245.csv',encoding='cp949')\n",
        "\n",
        "# rain_data = pd.merge(rain_data211, rain_data101, how='outer')\n",
        "from functools import reduce\n",
        "\n",
        "rain_data = reduce(lambda x,y : pd.merge(x,y, on='날짜', how='outer'),[rain_data211, rain_data101, rain_data100, rain_data212, rain_data90])\n",
        "\n",
        "rain_col = [i for i in rain_data.columns if '강수' in i]\n",
        "rain_data[rain_col] = rain_data[rain_col].fillna(0)"
      ],
      "metadata": {
        "colab": {
          "base_uri": "https://localhost:8080/"
        },
        "id": "5yOW5N7D4Zyr",
        "outputId": "a09a662a-6b35-4a1d-e44e-2d8d8a8ed282"
      },
      "execution_count": 11,
      "outputs": [
        {
          "output_type": "stream",
          "name": "stdout",
          "text": [
            "Drive already mounted at /content/drive; to attempt to forcibly remount, call drive.mount(\"/content/drive\", force_remount=True).\n"
          ]
        }
      ]
    },
    {
      "cell_type": "code",
      "source": [
        "dam_flow = pd.read_csv('/content/drive/MyDrive/Colab Notebooks/dam_flow_csv/only_dam_flow.csv',encoding='utf-8')\n",
        "\n",
        "df = reduce(lambda x,y : pd.merge(x,y, on='날짜', how='outer'),[rain_data, dam_flow])"
      ],
      "metadata": {
        "id": "I3xqgN_c7SRE"
      },
      "execution_count": 12,
      "outputs": []
    },
    {
      "cell_type": "code",
      "source": [
        "df['211강수량(mm)'] = df['211강수량(mm)'].astype(float)\n",
        "df['101강수량(mm)'] = df['101강수량(mm)'].astype(float)\n",
        "df['100강수량(mm)'] = df['100강수량(mm)'].astype(float)\n",
        "df['212강수량(mm)'] = df['212강수량(mm)'].astype(float)\n",
        "df['90강수량(mm)'] = df['90강수량(mm)'].astype(float)"
      ],
      "metadata": {
        "id": "5RReOR907etG"
      },
      "execution_count": 13,
      "outputs": []
    },
    {
      "cell_type": "code",
      "source": [
        "X = df[['날짜', '211강수량(mm)', '101강수량(mm)', '100강수량(mm)', '212강수량(mm)', '90강수량(mm)']]\n",
        "X['날짜'] = pd.to_datetime(X['날짜'])\n",
        "X['year'] = X['날짜'].dt.year\n",
        "X['month'] = X['날짜'].dt.month\n",
        "X['day'] = X['날짜'].dt.day\n",
        "X = X.drop('날짜', axis=1)"
      ],
      "metadata": {
        "colab": {
          "base_uri": "https://localhost:8080/"
        },
        "id": "XT6bRiPP8Tyt",
        "outputId": "9eb9c0c8-3f3d-4160-a971-a523e1358124"
      },
      "execution_count": 14,
      "outputs": [
        {
          "output_type": "stream",
          "name": "stderr",
          "text": [
            "<ipython-input-14-6537a5937448>:2: SettingWithCopyWarning: \n",
            "A value is trying to be set on a copy of a slice from a DataFrame.\n",
            "Try using .loc[row_indexer,col_indexer] = value instead\n",
            "\n",
            "See the caveats in the documentation: https://pandas.pydata.org/pandas-docs/stable/user_guide/indexing.html#returning-a-view-versus-a-copy\n",
            "  X['날짜'] = pd.to_datetime(X['날짜'])\n"
          ]
        }
      ]
    },
    {
      "cell_type": "code",
      "source": [
        "X_for_scaler = X.drop(['year', 'month', 'day'], axis=1)  # year, month, day, hour 열 제외\n",
        "scaler = MinMaxScaler(feature_range=(0, 1))\n",
        "X_for_scaler = scaler.fit_transform(X_for_scaler)"
      ],
      "metadata": {
        "id": "tXtqryZs8kz7"
      },
      "execution_count": 15,
      "outputs": []
    },
    {
      "cell_type": "code",
      "source": [
        "X[['211강수량(mm)', '101강수량(mm)', '100강수량(mm)', '212강수량(mm)', '90강수량(mm)']] = X_for_scaler\n",
        "Y = df[['유입량(㎥/s)']]\n",
        "\n",
        "print(X)"
      ],
      "metadata": {
        "colab": {
          "base_uri": "https://localhost:8080/"
        },
        "id": "xvfuUuQi8oTr",
        "outputId": "f44ec7b4-b56b-4930-c63a-1399a16b1c92"
      },
      "execution_count": 16,
      "outputs": [
        {
          "output_type": "stream",
          "name": "stdout",
          "text": [
            "      211강수량(mm)  101강수량(mm)  100강수량(mm)  212강수량(mm)  90강수량(mm)  year  month  \\\n",
            "0       0.000000    0.000000    0.000000    0.000000   0.000000  2009      1   \n",
            "1       0.000000    0.000000    0.000000    0.000000   0.000000  2009      1   \n",
            "2       0.000000    0.000000    0.000000    0.000000   0.000000  2009      1   \n",
            "3       0.000000    0.000000    0.000000    0.000000   0.000000  2009      1   \n",
            "4       0.000000    0.000000    0.000000    0.000000   0.000000  2009      1   \n",
            "...          ...         ...         ...         ...        ...   ...    ...   \n",
            "5473    0.000000    0.000000    0.000000    0.000000   0.000000  2023     12   \n",
            "5474    0.000000    0.000000    0.000000    0.000000   0.000000  2023     12   \n",
            "5475    0.000000    0.000000    0.000000    0.000000   0.000000  2023     12   \n",
            "5476    0.026984    0.037714    0.011414    0.037037   0.001899  2023     12   \n",
            "5477    0.012302    0.020190    0.029777    0.021351   0.072688  2023     12   \n",
            "\n",
            "      day  \n",
            "0       1  \n",
            "1       2  \n",
            "2       3  \n",
            "3       4  \n",
            "4       5  \n",
            "...   ...  \n",
            "5473   27  \n",
            "5474   28  \n",
            "5475   29  \n",
            "5476   30  \n",
            "5477   31  \n",
            "\n",
            "[5478 rows x 8 columns]\n"
          ]
        }
      ]
    },
    {
      "cell_type": "code",
      "source": [
        "model = Sequential()\n",
        "model.add(LSTM(128, input_shape=(X.shape[1], 1)))\n",
        "model.add(Dense(8))\n",
        "model.add(Dense(1))"
      ],
      "metadata": {
        "id": "2_aoWzna8wmN"
      },
      "execution_count": 17,
      "outputs": []
    },
    {
      "cell_type": "code",
      "source": [
        "# 모델 컴파일\n",
        "model.compile(loss='mean_squared_error', optimizer='adam', metrics=['mse'])\n",
        "\n",
        "# 모델 학습\n",
        "model.fit(X, Y, epochs=50, batch_size=10, verbose=2)"
      ],
      "metadata": {
        "colab": {
          "base_uri": "https://localhost:8080/"
        },
        "id": "xRmjaiuK8yRt",
        "outputId": "5cab6bde-6f5c-4047-a3a4-e40f5f03e896"
      },
      "execution_count": 21,
      "outputs": [
        {
          "output_type": "stream",
          "name": "stdout",
          "text": [
            "Epoch 1/50\n",
            "548/548 - 7s - loss: 40162.5859 - mse: 40162.5859 - 7s/epoch - 13ms/step\n",
            "Epoch 2/50\n",
            "548/548 - 5s - loss: 36651.5938 - mse: 36651.5938 - 5s/epoch - 8ms/step\n",
            "Epoch 3/50\n",
            "548/548 - 5s - loss: 33040.8125 - mse: 33040.8125 - 5s/epoch - 10ms/step\n",
            "Epoch 4/50\n",
            "548/548 - 4s - loss: 30871.3086 - mse: 30871.3086 - 4s/epoch - 8ms/step\n",
            "Epoch 5/50\n",
            "548/548 - 5s - loss: 29569.3633 - mse: 29569.3633 - 5s/epoch - 9ms/step\n",
            "Epoch 6/50\n",
            "548/548 - 5s - loss: 27742.2656 - mse: 27742.2656 - 5s/epoch - 9ms/step\n",
            "Epoch 7/50\n",
            "548/548 - 4s - loss: 26748.6055 - mse: 26748.6055 - 4s/epoch - 8ms/step\n",
            "Epoch 8/50\n",
            "548/548 - 5s - loss: 25904.8027 - mse: 25904.8027 - 5s/epoch - 9ms/step\n",
            "Epoch 9/50\n",
            "548/548 - 5s - loss: 25620.4141 - mse: 25620.4141 - 5s/epoch - 9ms/step\n",
            "Epoch 10/50\n",
            "548/548 - 4s - loss: 24935.2695 - mse: 24935.2695 - 4s/epoch - 8ms/step\n",
            "Epoch 11/50\n",
            "548/548 - 7s - loss: 24573.2930 - mse: 24573.2930 - 7s/epoch - 12ms/step\n",
            "Epoch 12/50\n",
            "548/548 - 4s - loss: 24107.6055 - mse: 24107.6055 - 4s/epoch - 8ms/step\n",
            "Epoch 13/50\n",
            "548/548 - 4s - loss: 23795.4492 - mse: 23795.4492 - 4s/epoch - 8ms/step\n",
            "Epoch 14/50\n",
            "548/548 - 5s - loss: 23780.6445 - mse: 23780.6445 - 5s/epoch - 10ms/step\n",
            "Epoch 15/50\n",
            "548/548 - 4s - loss: 23661.3105 - mse: 23661.3105 - 4s/epoch - 8ms/step\n",
            "Epoch 16/50\n",
            "548/548 - 4s - loss: 22760.8691 - mse: 22760.8691 - 4s/epoch - 8ms/step\n",
            "Epoch 17/50\n",
            "548/548 - 5s - loss: 21816.6445 - mse: 21816.6445 - 5s/epoch - 10ms/step\n",
            "Epoch 18/50\n",
            "548/548 - 4s - loss: 23363.9902 - mse: 23363.9902 - 4s/epoch - 8ms/step\n",
            "Epoch 19/50\n",
            "548/548 - 4s - loss: 22491.6973 - mse: 22491.6992 - 4s/epoch - 8ms/step\n",
            "Epoch 20/50\n",
            "548/548 - 6s - loss: 21670.1074 - mse: 21670.1074 - 6s/epoch - 10ms/step\n",
            "Epoch 21/50\n",
            "548/548 - 4s - loss: 22390.7129 - mse: 22390.7129 - 4s/epoch - 8ms/step\n",
            "Epoch 22/50\n",
            "548/548 - 5s - loss: 21017.7090 - mse: 21017.7090 - 5s/epoch - 9ms/step\n",
            "Epoch 23/50\n",
            "548/548 - 5s - loss: 21530.6426 - mse: 21530.6426 - 5s/epoch - 10ms/step\n",
            "Epoch 24/50\n",
            "548/548 - 4s - loss: 21021.9043 - mse: 21021.9043 - 4s/epoch - 8ms/step\n",
            "Epoch 25/50\n",
            "548/548 - 5s - loss: 21218.6953 - mse: 21218.6953 - 5s/epoch - 9ms/step\n",
            "Epoch 26/50\n",
            "548/548 - 5s - loss: 19785.6562 - mse: 19785.6562 - 5s/epoch - 9ms/step\n",
            "Epoch 27/50\n",
            "548/548 - 4s - loss: 20999.1055 - mse: 20999.1055 - 4s/epoch - 8ms/step\n",
            "Epoch 28/50\n",
            "548/548 - 5s - loss: 20368.1211 - mse: 20368.1211 - 5s/epoch - 9ms/step\n",
            "Epoch 29/50\n",
            "548/548 - 5s - loss: 19631.8652 - mse: 19631.8652 - 5s/epoch - 9ms/step\n",
            "Epoch 30/50\n",
            "548/548 - 4s - loss: 20166.2734 - mse: 20166.2715 - 4s/epoch - 8ms/step\n",
            "Epoch 31/50\n",
            "548/548 - 5s - loss: 20012.7480 - mse: 20012.7480 - 5s/epoch - 10ms/step\n",
            "Epoch 32/50\n",
            "548/548 - 5s - loss: 20204.7539 - mse: 20204.7539 - 5s/epoch - 8ms/step\n",
            "Epoch 33/50\n",
            "548/548 - 4s - loss: 18950.8047 - mse: 18950.8047 - 4s/epoch - 8ms/step\n",
            "Epoch 34/50\n",
            "548/548 - 6s - loss: 19519.1387 - mse: 19519.1387 - 6s/epoch - 12ms/step\n",
            "Epoch 35/50\n",
            "548/548 - 4s - loss: 18315.4590 - mse: 18315.4609 - 4s/epoch - 8ms/step\n",
            "Epoch 36/50\n",
            "548/548 - 4s - loss: 18639.6836 - mse: 18639.6836 - 4s/epoch - 8ms/step\n",
            "Epoch 37/50\n",
            "548/548 - 6s - loss: 18795.8789 - mse: 18795.8789 - 6s/epoch - 10ms/step\n",
            "Epoch 38/50\n",
            "548/548 - 4s - loss: 18337.1211 - mse: 18337.1211 - 4s/epoch - 8ms/step\n",
            "Epoch 39/50\n",
            "548/548 - 4s - loss: 18369.7793 - mse: 18369.7793 - 4s/epoch - 8ms/step\n",
            "Epoch 40/50\n",
            "548/548 - 6s - loss: 18781.4258 - mse: 18781.4258 - 6s/epoch - 10ms/step\n",
            "Epoch 41/50\n",
            "548/548 - 4s - loss: 17969.1250 - mse: 17969.1250 - 4s/epoch - 8ms/step\n",
            "Epoch 42/50\n",
            "548/548 - 5s - loss: 17936.4492 - mse: 17936.4492 - 5s/epoch - 8ms/step\n",
            "Epoch 43/50\n",
            "548/548 - 5s - loss: 17845.3340 - mse: 17845.3340 - 5s/epoch - 10ms/step\n",
            "Epoch 44/50\n",
            "548/548 - 4s - loss: 17605.5957 - mse: 17605.5957 - 4s/epoch - 8ms/step\n",
            "Epoch 45/50\n",
            "548/548 - 5s - loss: 16917.2480 - mse: 16917.2480 - 5s/epoch - 9ms/step\n",
            "Epoch 46/50\n",
            "548/548 - 5s - loss: 16556.1309 - mse: 16556.1309 - 5s/epoch - 9ms/step\n",
            "Epoch 47/50\n",
            "548/548 - 4s - loss: 16539.8594 - mse: 16539.8594 - 4s/epoch - 8ms/step\n",
            "Epoch 48/50\n",
            "548/548 - 5s - loss: 16995.4648 - mse: 16995.4648 - 5s/epoch - 10ms/step\n",
            "Epoch 49/50\n",
            "548/548 - 5s - loss: 16607.0430 - mse: 16607.0430 - 5s/epoch - 8ms/step\n",
            "Epoch 50/50\n",
            "548/548 - 4s - loss: 17700.8008 - mse: 17700.8008 - 4s/epoch - 8ms/step\n"
          ]
        },
        {
          "output_type": "execute_result",
          "data": {
            "text/plain": [
              "<keras.src.callbacks.History at 0x7ab361535c30>"
            ]
          },
          "metadata": {},
          "execution_count": 21
        }
      ]
    },
    {
      "cell_type": "code",
      "source": [
        "train_score = model.evaluate(X, Y, verbose=0)\n",
        "print('Train Score: %.2f MSE (%.2f RMSE)' % (train_score[0], np.sqrt(train_score[0])))"
      ],
      "metadata": {
        "id": "IRfxKQQW81G-",
        "colab": {
          "base_uri": "https://localhost:8080/"
        },
        "outputId": "994a7ad6-1356-4c7c-f2a6-b30cd5eba1c5"
      },
      "execution_count": 23,
      "outputs": [
        {
          "output_type": "stream",
          "name": "stdout",
          "text": [
            "Train Score: 15131.21 MSE (123.01 RMSE)\n"
          ]
        }
      ]
    }
  ]
}